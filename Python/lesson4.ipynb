{
 "cells": [
  {
   "cell_type": "markdown",
   "metadata": {},
   "source": [
    "# 内置函数\n",
    "\n",
    "python提供的不需要定义的函数，可以直接使用\n",
    "\n",
    "- Python 内置函数（built-in）函数随着python解释器的运行而创建，可以随时调用，不需要定义\n",
    "\n",
    "[内置函数大全](https://www.runoob.com/python/python-built-in-functions.html)"
   ]
  },
  {
   "cell_type": "code",
   "execution_count": 1,
   "metadata": {},
   "outputs": [
    {
     "data": {
      "text/plain": [
       "['ArithmeticError',\n",
       " 'AssertionError',\n",
       " 'AttributeError',\n",
       " 'BaseException',\n",
       " 'BlockingIOError',\n",
       " 'BrokenPipeError',\n",
       " 'BufferError',\n",
       " 'BytesWarning',\n",
       " 'ChildProcessError',\n",
       " 'ConnectionAbortedError',\n",
       " 'ConnectionError',\n",
       " 'ConnectionRefusedError',\n",
       " 'ConnectionResetError',\n",
       " 'DeprecationWarning',\n",
       " 'EOFError',\n",
       " 'Ellipsis',\n",
       " 'EnvironmentError',\n",
       " 'Exception',\n",
       " 'False',\n",
       " 'FileExistsError',\n",
       " 'FileNotFoundError',\n",
       " 'FloatingPointError',\n",
       " 'FutureWarning',\n",
       " 'GeneratorExit',\n",
       " 'IOError',\n",
       " 'ImportError',\n",
       " 'ImportWarning',\n",
       " 'IndentationError',\n",
       " 'IndexError',\n",
       " 'InterruptedError',\n",
       " 'IsADirectoryError',\n",
       " 'KeyError',\n",
       " 'KeyboardInterrupt',\n",
       " 'LookupError',\n",
       " 'MemoryError',\n",
       " 'ModuleNotFoundError',\n",
       " 'NameError',\n",
       " 'None',\n",
       " 'NotADirectoryError',\n",
       " 'NotImplemented',\n",
       " 'NotImplementedError',\n",
       " 'OSError',\n",
       " 'OverflowError',\n",
       " 'PendingDeprecationWarning',\n",
       " 'PermissionError',\n",
       " 'ProcessLookupError',\n",
       " 'RecursionError',\n",
       " 'ReferenceError',\n",
       " 'ResourceWarning',\n",
       " 'RuntimeError',\n",
       " 'RuntimeWarning',\n",
       " 'StopAsyncIteration',\n",
       " 'StopIteration',\n",
       " 'SyntaxError',\n",
       " 'SyntaxWarning',\n",
       " 'SystemError',\n",
       " 'SystemExit',\n",
       " 'TabError',\n",
       " 'TimeoutError',\n",
       " 'True',\n",
       " 'TypeError',\n",
       " 'UnboundLocalError',\n",
       " 'UnicodeDecodeError',\n",
       " 'UnicodeEncodeError',\n",
       " 'UnicodeError',\n",
       " 'UnicodeTranslateError',\n",
       " 'UnicodeWarning',\n",
       " 'UserWarning',\n",
       " 'ValueError',\n",
       " 'Warning',\n",
       " 'WindowsError',\n",
       " 'ZeroDivisionError',\n",
       " '__IPYTHON__',\n",
       " '__build_class__',\n",
       " '__debug__',\n",
       " '__doc__',\n",
       " '__import__',\n",
       " '__loader__',\n",
       " '__name__',\n",
       " '__package__',\n",
       " '__spec__',\n",
       " 'abs',\n",
       " 'all',\n",
       " 'any',\n",
       " 'ascii',\n",
       " 'bin',\n",
       " 'bool',\n",
       " 'breakpoint',\n",
       " 'bytearray',\n",
       " 'bytes',\n",
       " 'callable',\n",
       " 'chr',\n",
       " 'classmethod',\n",
       " 'compile',\n",
       " 'complex',\n",
       " 'copyright',\n",
       " 'credits',\n",
       " 'delattr',\n",
       " 'dict',\n",
       " 'dir',\n",
       " 'display',\n",
       " 'divmod',\n",
       " 'enumerate',\n",
       " 'eval',\n",
       " 'exec',\n",
       " 'filter',\n",
       " 'float',\n",
       " 'format',\n",
       " 'frozenset',\n",
       " 'get_ipython',\n",
       " 'getattr',\n",
       " 'globals',\n",
       " 'hasattr',\n",
       " 'hash',\n",
       " 'help',\n",
       " 'hex',\n",
       " 'id',\n",
       " 'input',\n",
       " 'int',\n",
       " 'isinstance',\n",
       " 'issubclass',\n",
       " 'iter',\n",
       " 'len',\n",
       " 'license',\n",
       " 'list',\n",
       " 'locals',\n",
       " 'map',\n",
       " 'max',\n",
       " 'memoryview',\n",
       " 'min',\n",
       " 'next',\n",
       " 'object',\n",
       " 'oct',\n",
       " 'open',\n",
       " 'ord',\n",
       " 'pow',\n",
       " 'print',\n",
       " 'property',\n",
       " 'range',\n",
       " 'repr',\n",
       " 'reversed',\n",
       " 'round',\n",
       " 'set',\n",
       " 'setattr',\n",
       " 'slice',\n",
       " 'sorted',\n",
       " 'staticmethod',\n",
       " 'str',\n",
       " 'sum',\n",
       " 'super',\n",
       " 'tuple',\n",
       " 'type',\n",
       " 'vars',\n",
       " 'zip']"
      ]
     },
     "execution_count": 1,
     "metadata": {},
     "output_type": "execute_result"
    }
   ],
   "source": [
    "#查看built_in 函数\n",
    "import builtins\n",
    "dir(builtins)"
   ]
  },
  {
   "cell_type": "markdown",
   "metadata": {},
   "source": [
    "## 数值函数"
   ]
  },
  {
   "cell_type": "code",
   "execution_count": 2,
   "metadata": {},
   "outputs": [
    {
     "data": {
      "text/plain": [
       "2"
      ]
     },
     "execution_count": 2,
     "metadata": {},
     "output_type": "execute_result"
    }
   ],
   "source": [
    "# abs：求数值的绝对值\n",
    "abs(-2)"
   ]
  },
  {
   "cell_type": "code",
   "execution_count": 3,
   "metadata": {},
   "outputs": [
    {
     "data": {
      "text/plain": [
       "(2, 1)"
      ]
     },
     "execution_count": 3,
     "metadata": {},
     "output_type": "execute_result"
    }
   ],
   "source": [
    "# divmod：返回两个数值的商和余数\n",
    "# 5//2,5%2\n",
    "divmod(5,2)"
   ]
  },
  {
   "cell_type": "code",
   "execution_count": 9,
   "metadata": {},
   "outputs": [
    {
     "name": "stdout",
     "output_type": "stream",
     "text": [
      "3\n",
      "5\n",
      "d\n",
      "d\n"
     ]
    }
   ],
   "source": [
    "# max：返回可迭代对象中的元素中的最大值或者所有参数的最大值\n",
    "print(max(1,2,3))\n",
    "print(max([2,4,5]))\n",
    "print(max('abcd'))\n",
    "print(max(['a','b','c','d']))"
   ]
  },
  {
   "cell_type": "code",
   "execution_count": 5,
   "metadata": {},
   "outputs": [
    {
     "name": "stdout",
     "output_type": "stream",
     "text": [
      "1\n",
      "a\n"
     ]
    }
   ],
   "source": [
    "# min：返回可迭代对象中的元素中的最小值或者所有参数的最小值\n",
    "print(min(1,2,3))\n",
    "print(min('abcd'))"
   ]
  },
  {
   "cell_type": "code",
   "execution_count": 11,
   "metadata": {},
   "outputs": [
    {
     "name": "stdout",
     "output_type": "stream",
     "text": [
      "8\n",
      "2.0\n",
      "3\n"
     ]
    }
   ],
   "source": [
    "# pow：返回两个数值的幂运算值或其与指定整数的模值\n",
    "print(pow(2,3))\n",
    "print(pow(8,1/3))\n",
    "print(pow(2,3,5)) # 2**3%5"
   ]
  },
  {
   "cell_type": "code",
   "execution_count": 7,
   "metadata": {},
   "outputs": [
    {
     "name": "stdout",
     "output_type": "stream",
     "text": [
      "1.1\n",
      "1.13149\n"
     ]
    }
   ],
   "source": [
    "# round：对浮点数进行四舍五入求值\n",
    "print(round(1.1314926,1))\n",
    "print(round(1.1314926,5))"
   ]
  },
  {
   "cell_type": "code",
   "execution_count": 12,
   "metadata": {},
   "outputs": [
    {
     "name": "stdout",
     "output_type": "stream",
     "text": [
      "12.0\n",
      "10\n",
      "1\n"
     ]
    }
   ],
   "source": [
    "# sum：对元素类型是数值的可迭代对象中的每个元素求和\n",
    "print(sum((1.5,2.5,3.5,4.5)))\n",
    "print(sum((1,2,3,4)))\n",
    "print(sum((1,2,3,4),-9))"
   ]
  },
  {
   "cell_type": "markdown",
   "metadata": {},
   "source": [
    "## 序列操作"
   ]
  },
  {
   "cell_type": "code",
   "execution_count": 13,
   "metadata": {},
   "outputs": [
    {
     "data": {
      "text/plain": [
       "True"
      ]
     },
     "execution_count": 13,
     "metadata": {},
     "output_type": "execute_result"
    }
   ],
   "source": [
    "# all：判断可迭代对象的每个元素是否都为True值\n",
    "# print(bool(1 and 2))\n",
    "all([1,2]) #列表中每个元素逻辑值均为True，返回True"
   ]
  },
  {
   "cell_type": "code",
   "execution_count": 14,
   "metadata": {},
   "outputs": [
    {
     "data": {
      "text/plain": [
       "False"
      ]
     },
     "execution_count": 14,
     "metadata": {},
     "output_type": "execute_result"
    }
   ],
   "source": [
    "all([0,1,2]) #列表中0的逻辑值为False，返回False"
   ]
  },
  {
   "cell_type": "code",
   "execution_count": 15,
   "metadata": {},
   "outputs": [
    {
     "data": {
      "text/plain": [
       "True"
      ]
     },
     "execution_count": 15,
     "metadata": {},
     "output_type": "execute_result"
    }
   ],
   "source": [
    "# any：判断可迭代对象的元素是否有为True值的元素\n",
    "any([0,1,2]) #列表元素有一个为True，则返回True"
   ]
  },
  {
   "cell_type": "code",
   "execution_count": 16,
   "metadata": {},
   "outputs": [
    {
     "data": {
      "text/plain": [
       "False"
      ]
     },
     "execution_count": 16,
     "metadata": {},
     "output_type": "execute_result"
    }
   ],
   "source": [
    "any([0,0]) #列表元素全部为False，则返回False"
   ]
  },
  {
   "cell_type": "code",
   "execution_count": 17,
   "metadata": {},
   "outputs": [
    {
     "name": "stdout",
     "output_type": "stream",
     "text": [
      "[1, 2, 3, 4, 5, 6, 7, 8, 9]\n"
     ]
    },
    {
     "data": {
      "text/plain": [
       "[1, 3, 5, 7, 9]"
      ]
     },
     "execution_count": 17,
     "metadata": {},
     "output_type": "execute_result"
    }
   ],
   "source": [
    "# filter：使用指定方法过滤可迭代对象的元素 \n",
    "a = list(range(1,10)) #定义序列\n",
    "print(a)\n",
    "\n",
    "def if_odd(x): #定义奇数判断函数\n",
    "    return x%2==1\n",
    "\n",
    "list(filter(if_odd,a)) #筛选序列中的奇数"
   ]
  },
  {
   "cell_type": "code",
   "execution_count": 18,
   "metadata": {},
   "outputs": [
    {
     "name": "stdout",
     "output_type": "stream",
     "text": [
      "<map object at 0x000001F6BCCBE240>\n",
      "[97, 98, 99, 100]\n"
     ]
    }
   ],
   "source": [
    "# map：使用指定方法去作用传入的每个可迭代对象的元素，生成新的可迭代对象\n",
    "#ord()内置函数，返回字符的 ASCII 数值\n",
    "a = map(ord,'abcd')\n",
    "print(a)\n",
    "print(list(a))"
   ]
  },
  {
   "cell_type": "code",
   "execution_count": 20,
   "metadata": {},
   "outputs": [],
   "source": [
    "# next：返回可迭代对象中的下一个元素值\n",
    "a = iter('abcd')"
   ]
  },
  {
   "cell_type": "code",
   "execution_count": 21,
   "metadata": {},
   "outputs": [
    {
     "data": {
      "text/plain": [
       "'a'"
      ]
     },
     "execution_count": 21,
     "metadata": {},
     "output_type": "execute_result"
    }
   ],
   "source": [
    "next(a)"
   ]
  },
  {
   "cell_type": "code",
   "execution_count": 22,
   "metadata": {},
   "outputs": [
    {
     "data": {
      "text/plain": [
       "'d'"
      ]
     },
     "execution_count": 22,
     "metadata": {},
     "output_type": "execute_result"
    }
   ],
   "source": [
    "next(a);next(a);next(a)"
   ]
  },
  {
   "cell_type": "code",
   "execution_count": 25,
   "metadata": {},
   "outputs": [
    {
     "name": "stdout",
     "output_type": "stream",
     "text": [
      "<range_iterator object at 0x000001F6BCB6DA30>\n"
     ]
    }
   ],
   "source": [
    "# reversed：反转序列生成新的可迭代对象\n",
    "a = reversed(range(10)) # 传入range对象\n",
    "print(a)"
   ]
  },
  {
   "cell_type": "code",
   "execution_count": 24,
   "metadata": {},
   "outputs": [
    {
     "data": {
      "text/plain": [
       "[9, 8, 7, 6, 5, 4, 3, 2, 1, 0]"
      ]
     },
     "execution_count": 24,
     "metadata": {},
     "output_type": "execute_result"
    }
   ],
   "source": [
    "list(a)"
   ]
  },
  {
   "cell_type": "code",
   "execution_count": 27,
   "metadata": {},
   "outputs": [
    {
     "data": {
      "text/plain": [
       "['A', 'B', 'a', 'b', 'c', 'd']"
      ]
     },
     "execution_count": 27,
     "metadata": {},
     "output_type": "execute_result"
    }
   ],
   "source": [
    "# sorted：对可迭代对象进行排序，返回一个新的列表\n",
    "# sorted 按照ASCII进行排序\n",
    "a = ['a','b','d','c','B','A']\n",
    "sorted(a)"
   ]
  },
  {
   "cell_type": "code",
   "execution_count": 28,
   "metadata": {},
   "outputs": [
    {
     "data": {
      "text/plain": [
       "['a', 'A', 'b', 'B', 'c', 'd']"
      ]
     },
     "execution_count": 28,
     "metadata": {},
     "output_type": "execute_result"
    }
   ],
   "source": [
    "sorted(a,key = str.lower) \n",
    "# 转换成小写后再排序，'a'和'A'值一样，'b'和'B'值一样"
   ]
  },
  {
   "cell_type": "code",
   "execution_count": 29,
   "metadata": {},
   "outputs": [
    {
     "data": {
      "text/plain": [
       "[(1, 4), (2, 5), (3, 6)]"
      ]
     },
     "execution_count": 29,
     "metadata": {},
     "output_type": "execute_result"
    }
   ],
   "source": [
    "# zip：聚合传入的每个迭代器中相同位置的元素，返回一个新的元组类型迭代器\n",
    "x = [1,2,3] #长度3\n",
    "y = [4,5,6,7,8] #长度5\n",
    "list(zip(x,y)) # 取最小长度3"
   ]
  },
  {
   "cell_type": "code",
   "execution_count": 30,
   "metadata": {},
   "outputs": [
    {
     "name": "stdout",
     "output_type": "stream",
     "text": [
      "{1: 'a', 2: 'b', 3: 'c', 4: 'd'}\n"
     ]
    }
   ],
   "source": [
    "# 使用zip反相字典对象\n",
    "m ={\"a\":1,\"b\":2,\"c\":3,\"d\":4}\n",
    "print(dict(zip(m.values(), m.keys())))"
   ]
  },
  {
   "cell_type": "markdown",
   "metadata": {},
   "source": [
    "## 其他操作"
   ]
  },
  {
   "cell_type": "code",
   "execution_count": 31,
   "metadata": {},
   "outputs": [
    {
     "data": {
      "text/plain": [
       "3"
      ]
     },
     "execution_count": 31,
     "metadata": {},
     "output_type": "execute_result"
    }
   ],
   "source": [
    "# eval（表达式）求表达式的值\n",
    "eval('1+2')"
   ]
  },
  {
   "cell_type": "code",
   "execution_count": 32,
   "metadata": {},
   "outputs": [
    {
     "data": {
      "text/plain": [
       "8"
      ]
     },
     "execution_count": 32,
     "metadata": {},
     "output_type": "execute_result"
    }
   ],
   "source": [
    "eval('a+1', {'a':7})"
   ]
  },
  {
   "cell_type": "code",
   "execution_count": 33,
   "metadata": {},
   "outputs": [
    {
     "data": {
      "text/plain": [
       "3"
      ]
     },
     "execution_count": 33,
     "metadata": {},
     "output_type": "execute_result"
    }
   ],
   "source": [
    "# 创建python src文件\n",
    "fp = open('./data/example_code.py')\n",
    "eval(fp.read())"
   ]
  },
  {
   "cell_type": "code",
   "execution_count": 34,
   "metadata": {},
   "outputs": [],
   "source": [
    "#compile() 函数将一个字符串编译为字节代码。\n",
    "#compile(source, filename, mode[, flags[, dont_inherit]])\n",
    "#mode -- 指定编译代码的种类。可以指定为 exec, eval, single\n",
    "str = \"for i in range(0,10): print(i)\" \n",
    "c = compile(str,'','exec')"
   ]
  },
  {
   "cell_type": "code",
   "execution_count": 35,
   "metadata": {},
   "outputs": [
    {
     "data": {
      "text/plain": [
       "<code object <module> at 0x000001F6BCB2EC00, file \"\", line 1>"
      ]
     },
     "execution_count": 35,
     "metadata": {},
     "output_type": "execute_result"
    }
   ],
   "source": [
    "c"
   ]
  },
  {
   "cell_type": "code",
   "execution_count": 36,
   "metadata": {},
   "outputs": [
    {
     "name": "stdout",
     "output_type": "stream",
     "text": [
      "0\n",
      "1\n",
      "2\n",
      "3\n",
      "4\n",
      "5\n",
      "6\n",
      "7\n",
      "8\n",
      "9\n"
     ]
    }
   ],
   "source": [
    "exec(c)"
   ]
  },
  {
   "cell_type": "code",
   "execution_count": 37,
   "metadata": {},
   "outputs": [],
   "source": [
    "str = \"3 * 4 + 5\"\n",
    "a = compile(str,'','eval')"
   ]
  },
  {
   "cell_type": "code",
   "execution_count": 38,
   "metadata": {},
   "outputs": [
    {
     "data": {
      "text/plain": [
       "<code object <module> at 0x000001F6BCBE4C00, file \"\", line 1>"
      ]
     },
     "execution_count": 38,
     "metadata": {},
     "output_type": "execute_result"
    }
   ],
   "source": [
    "a"
   ]
  },
  {
   "cell_type": "code",
   "execution_count": 39,
   "metadata": {},
   "outputs": [
    {
     "data": {
      "text/plain": [
       "17"
      ]
     },
     "execution_count": 39,
     "metadata": {},
     "output_type": "execute_result"
    }
   ],
   "source": [
    "eval(a)"
   ]
  },
  {
   "cell_type": "markdown",
   "metadata": {},
   "source": [
    "# 闭包函数\n",
    "闭包的定义：\n",
    "- 闭包（closure）是函数式编程的重要的语法结构\n",
    "- 在一个外函数中定义了一个内函数，内函数里运用了外函数的临时变量，并且外函数的返回值是内函数的引用。这样就构成了一个闭包。\n",
    "\n",
    ">调用外层函数之后，返回一个内层函数对象，此时一般情况下（python中不是这样的）外层函数的变量会被释放掉，此时再进一步调用外层函数的返回值即内层函数，内层函数内又引用对外层函数的变量，如果按照常规操作，这种引用就会出问题。\n",
    "\n",
    ">一般情况下，在我们的认知中，如果一个函数结束，函数内部的所有东西都会释放掉，还给内存，局部变量都会消失。但是闭包是一种特殊情况，如果外函数在结束的时候发现有自己的临时变量将会在内部函数中用到，就把这个临时变量绑定给了内部函数，然后自己结束。\n",
    "\n",
    "\n",
    "\n",
    "闭包函数的实现：\n",
    "- 闭包函数必须要有内嵌函数\n",
    "- 内嵌函数需要引用该嵌套函数上一级namespace中的变量\n",
    "- 闭包函数必须返回内嵌函数\n",
    "    - > 注意返回值应该是内嵌函数对象，而非内嵌函数的调用：\n",
    "    `return inner` 而不是`return inner()`\n",
    "\n",
    "闭包函数都有`__closure__`属性，可依此判断一个函数是否为闭包函数\n",
    "\n",
    "- `__closure__`对象会返回闭包应用外作用域的变量信息\n",
    "- `f.__closure__`保存外围作用域的变量内存地址\n",
    "- `f.__closure__[0].cell_contents` 存放的是外围作用域的变量的值。\n",
    "- 对于那些不是闭包的函数对象来说， `__closure__`属性值为None。\n",
    "\n",
    "闭包函数的作用\n",
    "\n",
    "- 面向对象\n",
    " - 闭包也是面向对象的方法之一。\n",
    "- 装饰器\n",
    " - 用来实现装饰器"
   ]
  },
  {
   "cell_type": "code",
   "execution_count": 40,
   "metadata": {},
   "outputs": [],
   "source": [
    "#闭包函数的实例\n",
    "def outer( a ):\n",
    "    b = 10\n",
    "    def inner():\n",
    "        print(a+b) # 外函数把临时变量绑定给内函数\n",
    "    return inner # 外函数返回了内函数的引用"
   ]
  },
  {
   "cell_type": "code",
   "execution_count": 41,
   "metadata": {},
   "outputs": [
    {
     "name": "stdout",
     "output_type": "stream",
     "text": [
      "<function outer.<locals>.inner at 0x000001F6BCCB1D90>\n"
     ]
    }
   ],
   "source": [
    "demo = outer(5)\n",
    "print(demo)"
   ]
  },
  {
   "cell_type": "code",
   "execution_count": 42,
   "metadata": {},
   "outputs": [
    {
     "name": "stdout",
     "output_type": "stream",
     "text": [
      "15\n"
     ]
    }
   ],
   "source": [
    "demo()"
   ]
  },
  {
   "cell_type": "code",
   "execution_count": 43,
   "metadata": {},
   "outputs": [
    {
     "name": "stdout",
     "output_type": "stream",
     "text": [
      "<function outer.<locals>.inner at 0x000001F6BCCB1D08>\n"
     ]
    }
   ],
   "source": [
    "demo2 = outer(7)\n",
    "print(demo2)"
   ]
  },
  {
   "cell_type": "code",
   "execution_count": 44,
   "metadata": {},
   "outputs": [
    {
     "name": "stdout",
     "output_type": "stream",
     "text": [
      "17\n"
     ]
    }
   ],
   "source": [
    "demo2()"
   ]
  },
  {
   "cell_type": "markdown",
   "metadata": {},
   "source": [
    "## 闭包函数的属性"
   ]
  },
  {
   "cell_type": "code",
   "execution_count": 14,
   "metadata": {},
   "outputs": [
    {
     "name": "stdout",
     "output_type": "stream",
     "text": [
      "f():1000\n",
      "f.__closure__ : (<cell at 0x000001801726F9A8: int object at 0x00000180171F0550>, <cell at 0x000001801726F4F8: int object at 0x00007FF9A5BE9360>)\n",
      "f.__closure__[0]: <cell at 0x000001801726F9A8: int object at 0x00000180171F0550>\n",
      "1000\n",
      "<cell at 0x000001801726F4F8: int object at 0x00007FF9A5BE9360>\n",
      "2\n"
     ]
    }
   ],
   "source": [
    "x=1\n",
    "def f1():\n",
    "    x=1000\n",
    "    y=2\n",
    "    def f2():\n",
    "        y\n",
    "        print(x)\n",
    "    return f2\n",
    "f=f1()  #f ---> 内部的函数f2\n",
    "print('f():',end='')\n",
    "f()\n",
    "print('f.__closure__ :', f.__closure__)\n",
    "print('f.__closure__[0]:', f.__closure__[0])\n",
    "print(f.__closure__[0].cell_contents)\n",
    "print(f.__closure__[1])\n",
    "print(f.__closure__[1].cell_contents)"
   ]
  },
  {
   "cell_type": "code",
   "execution_count": 46,
   "metadata": {},
   "outputs": [
    {
     "name": "stdout",
     "output_type": "stream",
     "text": [
      "1\n",
      "None\n"
     ]
    }
   ],
   "source": [
    "# 非闭包函数\n",
    "x=1\n",
    "def f1():\n",
    "    def f2():\n",
    "        print(x)\n",
    "    return f2\n",
    "f = f1()\n",
    "f()\n",
    "print(f.__closure__)"
   ]
  },
  {
   "cell_type": "markdown",
   "metadata": {},
   "source": [
    "## 修改函数变量值\n",
    "如果再内层函数想修改外层函数变量的值（如 i = i + 1），需要使用`nonlocal` 关键字来声明该变量不属于内层函数，而属于外层函数。"
   ]
  },
  {
   "cell_type": "code",
   "execution_count": 1,
   "metadata": {},
   "outputs": [],
   "source": [
    "#修改闭包变量的实例\n",
    "'''\n",
    "注意：外层函数的c如果不是列表，在内层inner函数要修改c的值会报错，\n",
    "需要通过nonlocal关键字来声明，列表不需要声明的原因是，列表是传递引用。\n",
    "\n",
    "'''\n",
    "def outer( a ):\n",
    "    b = 10 \n",
    "    c = [a]\n",
    "    def inner():\n",
    "        #这里的b是内层函数重新定义的b，而非外层函数的变量\n",
    "        b = 1233\n",
    "        c[0] += 1\n",
    "        print(c[0])\n",
    "        print(b)\n",
    "    print(b)\n",
    "    return inner"
   ]
  },
  {
   "cell_type": "code",
   "execution_count": 2,
   "metadata": {},
   "outputs": [
    {
     "name": "stdout",
     "output_type": "stream",
     "text": [
      "10\n",
      "6\n",
      "1233\n"
     ]
    }
   ],
   "source": [
    "demo = outer(5)\n",
    "demo()"
   ]
  },
  {
   "cell_type": "code",
   "execution_count": 6,
   "metadata": {},
   "outputs": [],
   "source": [
    "#修改闭包变量的实例\n",
    "def outer( a ):\n",
    "    b = 10 \n",
    "    c = [a]\n",
    "    def inner():\n",
    "        nonlocal  b\n",
    "        b+=1\n",
    "        c[0] += 1\n",
    "        print(c[0])\n",
    "        print('inner b:', b)\n",
    "    print('outer b:', b)\n",
    "    return inner"
   ]
  },
  {
   "cell_type": "code",
   "execution_count": 9,
   "metadata": {},
   "outputs": [
    {
     "name": "stdout",
     "output_type": "stream",
     "text": [
      "outer b: 10\n",
      "6\n",
      "inner b: 11\n",
      "7\n",
      "inner b: 12\n",
      "8\n",
      "inner b: 13\n"
     ]
    }
   ],
   "source": [
    "demo = outer(5)\n",
    "demo()\n",
    "demo()\n",
    "demo()"
   ]
  },
  {
   "cell_type": "code",
   "execution_count": 10,
   "metadata": {},
   "outputs": [
    {
     "name": "stdout",
     "output_type": "stream",
     "text": [
      "11\n",
      "14\n"
     ]
    }
   ],
   "source": [
    "# 使用闭包的过程中，一旦外函数被调用一次返回了内函数的引用，\n",
    "# 虽然每次调用内函数，是开启一个函数执行过后消亡，\n",
    "# 但是闭包变量实际上只有一份，每次开启内函数都在使用同一份闭包变量\n",
    "def outer(x):\n",
    "    def inner(y):\n",
    "        nonlocal x\n",
    "        x+=y\n",
    "        return x\n",
    "    return inner\n",
    "\n",
    "\n",
    "a = outer(10)\n",
    "print(a(1)) \n",
    "print(a(3))"
   ]
  },
  {
   "cell_type": "markdown",
   "metadata": {},
   "source": [
    "# 装饰器函数\n",
    "\n",
    "装饰器的应用举例：\n",
    "我们写了一个登录功能，我们想统计这个功能执行花了多长时间，我们可以用装饰器装饰这个登录模块，装饰帮我们完成登录函数执行之前和之后取时间。\n",
    "\n",
    "装饰器模式（Decorator Pattern） 允许向一个现有的对象添加新的功能，同时又不改变其结构。这种模式创建了一个装饰类，用来包装原有的类，并在保持类方法签名完整性的前提下，提供额外的功能。装饰器模式作用在函数上，装饰器函数也是一个函数。\n",
    "\n",
    "装饰器是一个通用的概念，不止在python中存在，一般情况下，实现装饰器函数需要编程语言能实现两个功能：\n",
    "- 函数是一个对象\n",
    "- 闭包函数\n",
    "\n",
    "对于python，这两个条件都满足，所以可以实现装饰函数\n",
    "\n",
    "装饰器就是‘封装’，这意味着它可以让你在被它装饰的函数前面和后面执行一些代码，而不必改变被装饰的函数本身。\n",
    "\n",
    "装饰器的优缺点：\n",
    "- 缺点：\n",
    " - 装饰器会拖慢函数执行速度\n",
    " - 不能反装饰一个函数。一旦一个函数被装饰了，它对所有其他代码来说就都是被装饰了的。\n",
    " - 装饰器会封装函数，这会让它们变得更难调试。（可用functools解决）\n",
    "- 优点：\n",
    " - 再库以外的代码中扩展一个函数的行为\n",
    " - 装饰器最好的一点是你不需要重写，就可以几乎再任何东西上使用他们"
   ]
  },
  {
   "cell_type": "code",
   "execution_count": 38,
   "metadata": {},
   "outputs": [
    {
     "name": "stdout",
     "output_type": "stream",
     "text": [
      "Yes\n",
      "Yes\n"
     ]
    }
   ],
   "source": [
    "# 装饰器的基础 - 函数是一个对象(Python中一切皆为对象)\n",
    "def shout(word=\"yes\"):\n",
    "    return word.capitalize()\n",
    "\n",
    "print(shout())\n",
    "\n",
    "scream = shout\n",
    "\n",
    "print(scream())"
   ]
  },
  {
   "cell_type": "code",
   "execution_count": 42,
   "metadata": {},
   "outputs": [
    {
     "name": "stdout",
     "output_type": "stream",
     "text": [
      "Yes...\n"
     ]
    }
   ],
   "source": [
    "# 装饰器的基础 - 闭包函数\n",
    "# 此处为一个广义闭包函数\n",
    "\n",
    "def talk():\n",
    "    def whisper(word=\"yes\"):\n",
    "        return word.capitalize()+\"...\"\n",
    "        # 返回 字符串首字符大写\n",
    "    print(whisper())\n",
    "    \n",
    "talk()"
   ]
  },
  {
   "cell_type": "markdown",
   "metadata": {},
   "source": [
    "## return函数对象+闭包函数 "
   ]
  },
  {
   "cell_type": "code",
   "execution_count": 43,
   "metadata": {},
   "outputs": [
    {
     "name": "stdout",
     "output_type": "stream",
     "text": [
      "<function getTalk.<locals>.shout at 0x00000180172A57B8>\n",
      "Yes!\n",
      "yes...\n"
     ]
    }
   ],
   "source": [
    "def getTalk(kind=\"shout\"):\n",
    "\n",
    "    def shout(word=\"yes\"):\n",
    "        return word.capitalize()+\"!\"\n",
    "\n",
    "    def whisper(word=\"yes\") :\n",
    "        return word.lower()+\"...\";\n",
    "\n",
    "    if kind == \"shout\":\n",
    "        return shout  \n",
    "    else:\n",
    "        return whisper\n",
    "\n",
    "talk = getTalk()      \n",
    "print(talk)\n",
    "print(talk())\n",
    "print(getTalk(\"whisper\")())"
   ]
  },
  {
   "cell_type": "markdown",
   "metadata": {},
   "source": [
    "## 创建装饰器函数\n",
    "### 创建一个简单的装饰器，并使用装饰器"
   ]
  },
  {
   "cell_type": "code",
   "execution_count": 44,
   "metadata": {},
   "outputs": [
    {
     "name": "stdout",
     "output_type": "stream",
     "text": [
      "I am a stand alone function, don't you dare modify me\n",
      "Before the function runs\n",
      "I am a stand alone function, don't you dare modify me\n",
      "After the function runs\n"
     ]
    }
   ],
   "source": [
    "# 装饰是一个函数，该函数需要另一个函数作为它的参数\n",
    "def my_shiny_new_decorator(a_function_to_decorate):\n",
    "\n",
    "    def the_wrapper_around_the_original_function():\n",
    "        print(\"Before the function runs\")\n",
    "\n",
    "        # 调用原来的函数(使用圆括号)\n",
    "        a_function_to_decorate()\n",
    "\n",
    "        print(\"After the function runs\")\n",
    "\n",
    "    return the_wrapper_around_the_original_function\n",
    "\n",
    "# 以上便是一个装饰器的定义\n",
    "\n",
    "# 装饰器的一般调用方法：\n",
    "def a_stand_alone_function():\n",
    "    print(\"I am a stand alone function, don't you dare modify me\")\n",
    "\n",
    "a_stand_alone_function() \n",
    "\n",
    "a_stand_alone_function_decorated = my_shiny_new_decorator(a_stand_alone_function)\n",
    "a_stand_alone_function_decorated()"
   ]
  },
  {
   "cell_type": "code",
   "execution_count": 45,
   "metadata": {},
   "outputs": [
    {
     "name": "stdout",
     "output_type": "stream",
     "text": [
      "Before the function runs\n",
      "Leave me alone\n",
      "After the function runs\n"
     ]
    }
   ],
   "source": [
    "# python中给出了装饰函数的快捷方式：\n",
    "# 给另外的函数加上my_shiny_new_decorator装饰器\n",
    "@my_shiny_new_decorator\n",
    "def another_stand_alone_function():\n",
    "    print(\"Leave me alone\")\n",
    "\n",
    "another_stand_alone_function()"
   ]
  },
  {
   "cell_type": "markdown",
   "metadata": {},
   "source": [
    "### 多层装饰器"
   ]
  },
  {
   "cell_type": "code",
   "execution_count": 46,
   "metadata": {},
   "outputs": [
    {
     "name": "stdout",
     "output_type": "stream",
     "text": [
      "--ham--\n",
      "#################\n",
      "</''''''\\>\n",
      "#tomatoes#\n",
      "--ham--\n",
      "~salad~\n",
      "<\\______/>\n"
     ]
    }
   ],
   "source": [
    "def bread(func):\n",
    "    def wrapper():\n",
    "        print(\"</''''''\\>\")\n",
    "        func()\n",
    "        print(\"<\\______/>\")\n",
    "    return wrapper\n",
    "\n",
    "def ingredients(func):\n",
    "    def wrapper():\n",
    "        print(\"#tomatoes#\")\n",
    "        func()\n",
    "        print(\"~salad~\")\n",
    "    return wrapper\n",
    "\n",
    "def sandwich(food=\"--ham--\"):\n",
    "    print(food)\n",
    "\n",
    "sandwich()\n",
    "print('#################')\n",
    "sandwich = bread(ingredients(sandwich))\n",
    "sandwich()"
   ]
  },
  {
   "cell_type": "code",
   "execution_count": 47,
   "metadata": {},
   "outputs": [
    {
     "name": "stdout",
     "output_type": "stream",
     "text": [
      "</''''''\\>\n",
      "#tomatoes#\n",
      "--ham--\n",
      "~salad~\n",
      "<\\______/>\n"
     ]
    }
   ],
   "source": [
    "# 注意装饰器的顺序\n",
    "# 循序决定先用哪个装饰器函数\n",
    "@bread\n",
    "@ingredients\n",
    "def sandwich(food=\"--ham--\"):\n",
    "    print(food)\n",
    "\n",
    "sandwich()\n",
    "#outputs:\n",
    "#</''''''\\>\n",
    "# #tomatoes#\n",
    "# --ham--\n",
    "# ~salad~\n",
    "#<\\______/>"
   ]
  },
  {
   "cell_type": "markdown",
   "metadata": {},
   "source": [
    "### 装饰器的参数"
   ]
  },
  {
   "cell_type": "code",
   "execution_count": 54,
   "metadata": {},
   "outputs": [
    {
     "name": "stdout",
     "output_type": "stream",
     "text": [
      "I got args! Look: Peter Venkman\n",
      "My name is Peter Venkman\n"
     ]
    }
   ],
   "source": [
    "def a_decorator_passing_arguments(function_to_decorate):\n",
    "    def a_wrapper_accepting_arguments(arg1, arg2):\n",
    "        print(\"I got args! Look:\", arg1, arg2)\n",
    "        function_to_decorate(arg1, arg2)\n",
    "    return a_wrapper_accepting_arguments\n",
    "\n",
    "@a_decorator_passing_arguments\n",
    "def print_full_name(first_name, last_name):\n",
    "    print(\"My name is\", first_name, last_name)\n",
    "    \n",
    "print_full_name(\"Peter\", \"Venkman\")"
   ]
  },
  {
   "cell_type": "markdown",
   "metadata": {},
   "source": [
    "### 通用装饰器参数\n",
    "(\\*args,\\*\\*kwargs):通用参数\n",
    "\n",
    "`*args` 表示传入值参数\n",
    "\n",
    "`**kwargs`表示传入键值"
   ]
  },
  {
   "cell_type": "code",
   "execution_count": 12,
   "metadata": {},
   "outputs": [
    {
     "name": "stdout",
     "output_type": "stream",
     "text": [
      "()\n",
      "{}\n",
      "Python is cool, no argument here.\n"
     ]
    }
   ],
   "source": [
    "def a_decorator_passing_arbitrary_arguments(function_to_decorate):\n",
    "    def a_wrapper_accepting_arbitrary_arguments(*args, **kwargs):\n",
    "        print(args)\n",
    "        print(kwargs)\n",
    "        function_to_decorate(*args, **kwargs)\n",
    "    return a_wrapper_accepting_arbitrary_arguments\n",
    "\n",
    "@a_decorator_passing_arbitrary_arguments\n",
    "def function_with_no_argument():\n",
    "    print(\"Python is cool, no argument here.\")\n",
    "\n",
    "function_with_no_argument()"
   ]
  },
  {
   "cell_type": "code",
   "execution_count": 55,
   "metadata": {},
   "outputs": [
    {
     "name": "stdout",
     "output_type": "stream",
     "text": [
      "(1, 2, 3, {'key': 'value'})\n",
      "{}\n",
      "1 2 3 {'key': 'value'}\n"
     ]
    }
   ],
   "source": [
    "@a_decorator_passing_arbitrary_arguments\n",
    "def function_with_arguments(a, b, c, d):\n",
    "    print(a, b, c, d)\n",
    "    \n",
    "function_with_arguments(1,2,3,{'key':'value'})"
   ]
  },
  {
   "cell_type": "code",
   "execution_count": 30,
   "metadata": {},
   "outputs": [
    {
     "name": "stdout",
     "output_type": "stream",
     "text": [
      "(1, 2, 3, {'key': 'value'})\n",
      "{'key': 2, 'key2': 3}\n",
      "(1, 2, 3, {'key': 'value'}) {'key': 2, 'key2': 3}\n",
      "others:\n",
      "(1, 2, 3)\n",
      "{'key': 2, 'key2': 3}\n",
      "(1, 2, 3) {'key': 2, 'key2': 3}\n"
     ]
    }
   ],
   "source": [
    "@a_decorator_passing_arbitrary_arguments\n",
    "def function_with_arguments(*args,**kwargs):\n",
    "    print(args,kwargs)\n",
    "    \n",
    "function_with_arguments(1,2,3,{'key':'value'},key = 2, key2 = 3)\n",
    "\n",
    "print('others:')\n",
    "args_input = [1, 2, 3]\n",
    "kwargs_input = {'key': 2, 'key2': 3}\n",
    "# *对列表进行解包 ，**对字典进行解包\n",
    "function_with_arguments(*args_input, **kwargs_input)"
   ]
  },
  {
   "cell_type": "markdown",
   "metadata": {},
   "source": [
    "### 给装饰器传递参数"
   ]
  },
  {
   "cell_type": "code",
   "execution_count": 56,
   "metadata": {},
   "outputs": [
    {
     "name": "stdout",
     "output_type": "stream",
     "text": [
      "I make decorators! And I accept arguments: Leonard Sheldon\n",
      "I am the decorator. Somehow you passed me arguments: Leonard Sheldon\n",
      "I am the wrapper around the decorated function.\n",
      "I can access all the variables\n",
      "\t- from the decorator: Leonard Sheldon\n",
      "\t- from the function call: Rajesh Howard\n",
      "Then I can pass them to the decorated function\n",
      "I am the decorated function and only knows about my arguments: Rajesh Howard\n"
     ]
    }
   ],
   "source": [
    "def decorator_maker_with_arguments(decorator_arg1, decorator_arg2):\n",
    "    \n",
    "    print(\"I make decorators! And I accept arguments:\", decorator_arg1, decorator_arg2)\n",
    "            \n",
    "    def my_decorator(func):\n",
    "        print(\"I am the decorator. Somehow you passed me arguments:\", decorator_arg1, decorator_arg2)\n",
    "               \n",
    "        def wrapped(function_arg1, function_arg2) :\n",
    "            print (\"I am the wrapper around the decorated function.\\n\"\n",
    "                  \"I can access all the variables\\n\"\n",
    "                  \"\\t- from the decorator: {0} {1}\\n\"\n",
    "                  \"\\t- from the function call: {2} {3}\\n\"\n",
    "                  \"Then I can pass them to the decorated function\"\n",
    "                  .format(decorator_arg1, decorator_arg2,\n",
    "                          function_arg1, function_arg2))\n",
    "            return func(function_arg1, function_arg2)\n",
    "        \n",
    "        return wrapped\n",
    "    \n",
    "    return my_decorator\n",
    "\n",
    "@decorator_maker_with_arguments(\"Leonard\", \"Sheldon\")\n",
    "def decorated_function_with_arguments(function_arg1, function_arg2):\n",
    "    print (\"I am the decorated function and only knows about my arguments: {0}\"\n",
    "           \" {1}\".format(function_arg1, function_arg2))\n",
    "\n",
    "# 只调用自己的参数\n",
    "# 装饰器只会被调用一次。仅仅当Python载入(imports)这个脚本的时候调用。\n",
    "#print('只调用自己的参数')\n",
    "decorated_function_with_arguments(\"Rajesh\", \"Howard\")"
   ]
  },
  {
   "cell_type": "markdown",
   "metadata": {},
   "source": [
    "### 扩展作用"
   ]
  },
  {
   "cell_type": "code",
   "execution_count": 57,
   "metadata": {},
   "outputs": [
    {
     "name": "stdout",
     "output_type": "stream",
     "text": [
      "reverse_string ('Able was I ere I saw Elba',) {}\n",
      "wrapper 0.0005498999998962972\n",
      "wrapper has been used: 1x\n",
      "<reversed object at 0x0000018017351400>\n",
      "reverse_string ('A man, a plan, a canoe, pasta, heros, rajahs, a coloratura, maps, snipe, percale, macaroni, a gag, a banana bag, a tan, a tag, a banana bag again (or a camel), a crepe, pins, Spam, a rut, a Rolo, cash, a jar, sore hats, a peon, a canal: Panama!',) {}\n",
      "wrapper 3.809999907389283e-05\n",
      "wrapper has been used: 2x\n",
      "<reversed object at 0x000001801735D278>\n"
     ]
    },
    {
     "name": "stderr",
     "output_type": "stream",
     "text": [
      "C:\\ProgramData\\Anaconda3\\lib\\site-packages\\ipykernel_launcher.py:7: DeprecationWarning: time.clock has been deprecated in Python 3.3 and will be removed from Python 3.8: use time.perf_counter or time.process_time instead\n",
      "  import sys\n",
      "C:\\ProgramData\\Anaconda3\\lib\\site-packages\\ipykernel_launcher.py:9: DeprecationWarning: time.clock has been deprecated in Python 3.3 and will be removed from Python 3.8: use time.perf_counter or time.process_time instead\n",
      "  if __name__ == '__main__':\n"
     ]
    }
   ],
   "source": [
    "def benchmark(func):\n",
    "    \"\"\"\n",
    "    打印原函数调用时间的装饰器\n",
    "    \"\"\"\n",
    "    import time\n",
    "    def wrapper(*args, **kwargs):\n",
    "        t = time.clock()\n",
    "        res = func(*args, **kwargs)\n",
    "        print(func.__name__, time.clock()-t)\n",
    "        return res\n",
    "    return wrapper\n",
    "\n",
    "\n",
    "def logging(func):\n",
    "    \"\"\"\n",
    "    记录脚本行为日志的装饰器  \n",
    "    (这里只是打印它，但是也可以记录到日志里面！)\n",
    "    \"\"\"\n",
    "    def wrapper(*args, **kwargs):\n",
    "        res = func(*args, **kwargs)\n",
    "        print(func.__name__, args, kwargs)\n",
    "        return res\n",
    "    return wrapper\n",
    "\n",
    "\n",
    "def counter(func):\n",
    "    \"\"\"\n",
    "    记录并打印一个函数执行次数的装饰器\n",
    "    \"\"\"\n",
    "    def wrapper(*args, **kwargs):\n",
    "        wrapper.count = wrapper.count + 1\n",
    "        res = func(*args, **kwargs)\n",
    "        print(\"{0} has been used: {1}x\".format(func.__name__, wrapper.count))\n",
    "        return res\n",
    "    wrapper.count = 0\n",
    "    return wrapper\n",
    "\n",
    "@counter\n",
    "@benchmark\n",
    "@logging\n",
    "def reverse_string(string):\n",
    "    return reversed(string)\n",
    "\n",
    "print(reverse_string(\"Able was I ere I saw Elba\"))\n",
    "print(reverse_string(\"A man, a plan, a canoe, pasta, heros, rajahs, a coloratura, maps, snipe, percale, macaroni, a gag, a banana bag, a tan, a tag, a banana bag again (or a camel), a crepe, pins, Spam, a rut, a Rolo, cash, a jar, sore hats, a peon, a canal: Panama!\"))"
   ]
  },
  {
   "cell_type": "markdown",
   "metadata": {},
   "source": [
    "# 生成式函数\n",
    "\n",
    "可迭代对象：\n",
    "- 可迭代对象Iterable Object，简单的理解就是可以使用for循环历遍的对象。\n",
    "- 常见的可迭代对象有：list，set和dict\n",
    "- 可使用`__iter__`方法来查看对象是否为可迭代对象\n",
    "\n",
    "迭代器\n",
    "- 迭代器是基于可迭代对象的，是带状态的对象，记录了当前迭代所在的位置，以便下次迭代取得正确位置的元素。\n",
    "![](./res/Lesson4_iterator.jpg)\n",
    ">x = [1,2,3] 是可迭代对象，通过iter（） 函数拿到x的迭代器，迭代器是另外一个对象，通过next（）方法可以拿到x内部不同的对象\n",
    "\n",
    "生成器函数\n",
    "- 创建列表的时候，受到内存限制，容量肯定是有限的，而且不可能全部给他一次枚举出来\n",
    "- 如果使用列表生成式，但是它有一个致命的缺点就是定义即生成，非常的浪费空间和效率。所以，如果列表元素可以按照某种算法推算出来，可以再循环的过程中不断推算出后续的元素，这样就不必创建完整的list，从而节省大量的空间。\n",
    "\n",
    "- 再Python中，这种一边循环一边计算的机制，成为生成器：generator。\n",
    "\n",
    "生成器函数的使用方法：\n",
    "- **构造方法**\n",
    " - 改造列表生成式\n",
    " - 通过def定义函数，然后通过yield支持迭代器协议\n",
    "  - 常规函数定义，但是通过yield语句而不是return语句返回结果。 yield 语句一次返回一个结果，在每个结果中间，挂起函数的状态，以便下次从它离开的地方继续执行。\n",
    "  \n",
    "- **yield的功能**\n",
    " - 把函数的结果做成迭代器（以一种优雅的方式封装好`__iter__`,`__next__`）\n",
    " - 函数暂停与再继续运行的状态是由yield完成"
   ]
  },
  {
   "cell_type": "markdown",
   "metadata": {},
   "source": [
    "## 可迭代对象"
   ]
  },
  {
   "cell_type": "code",
   "execution_count": 60,
   "metadata": {},
   "outputs": [
    {
     "name": "stdout",
     "output_type": "stream",
     "text": [
      "<list_iterator object at 0x00000180172A1320>\n"
     ]
    }
   ],
   "source": [
    "# 可迭代对象\n",
    "lst = [1,2,3]\n",
    "print(lst.__iter__())"
   ]
  },
  {
   "cell_type": "code",
   "execution_count": 59,
   "metadata": {},
   "outputs": [
    {
     "name": "stdout",
     "output_type": "stream",
     "text": [
      "True\n"
     ]
    }
   ],
   "source": [
    "# 连一种判断方法\n",
    "from collections import Iterable\n",
    "print(isinstance([1,2,4],Iterable)) #判断是否为可迭代对象"
   ]
  },
  {
   "cell_type": "markdown",
   "metadata": {},
   "source": [
    "## 迭代器"
   ]
  },
  {
   "cell_type": "code",
   "execution_count": 88,
   "metadata": {},
   "outputs": [
    {
     "name": "stdout",
     "output_type": "stream",
     "text": [
      "dict_items([('a', 1), ('b', 2), ('c', 3)])\n"
     ]
    },
    {
     "data": {
      "text/plain": [
       "<dict_itemiterator at 0x18017379688>"
      ]
     },
     "execution_count": 88,
     "metadata": {},
     "output_type": "execute_result"
    }
   ],
   "source": [
    "# 迭代器\n",
    "d = {'a':1, 'b':2, 'c':3}\n",
    "print(d.items())\n",
    "d.items().__iter__()"
   ]
  },
  {
   "cell_type": "code",
   "execution_count": 89,
   "metadata": {},
   "outputs": [
    {
     "data": {
      "text/plain": [
       "True"
      ]
     },
     "execution_count": 89,
     "metadata": {},
     "output_type": "execute_result"
    }
   ],
   "source": [
    "# 判断是否为迭代器\n",
    "from collections import Iterator\n",
    "isinstance(d.items().__iter__(),Iterator)"
   ]
  },
  {
   "cell_type": "code",
   "execution_count": 90,
   "metadata": {},
   "outputs": [
    {
     "name": "stdout",
     "output_type": "stream",
     "text": [
      "<dict_itemiterator object at 0x00000180173790E8>\n"
     ]
    }
   ],
   "source": [
    "iter_dict = iter(d.items())\n",
    "print(iter_dict)"
   ]
  },
  {
   "cell_type": "code",
   "execution_count": 91,
   "metadata": {},
   "outputs": [
    {
     "data": {
      "text/plain": [
       "('a', 1)"
      ]
     },
     "execution_count": 91,
     "metadata": {},
     "output_type": "execute_result"
    }
   ],
   "source": [
    "next(iter_dict)"
   ]
  },
  {
   "cell_type": "code",
   "execution_count": 92,
   "metadata": {},
   "outputs": [
    {
     "data": {
      "text/plain": [
       "True"
      ]
     },
     "execution_count": 92,
     "metadata": {},
     "output_type": "execute_result"
    }
   ],
   "source": [
    "lst = [1, 2, 3]\n",
    "isinstance(lst.__iter__(),Iterator)"
   ]
  },
  {
   "cell_type": "code",
   "execution_count": 93,
   "metadata": {},
   "outputs": [
    {
     "data": {
      "text/plain": [
       "True"
      ]
     },
     "execution_count": 93,
     "metadata": {},
     "output_type": "execute_result"
    }
   ],
   "source": [
    "iter_lst = iter(lst) # iter取出迭代器对象\n",
    "isinstance(iter_lst,Iterator)"
   ]
  },
  {
   "cell_type": "code",
   "execution_count": 94,
   "metadata": {},
   "outputs": [
    {
     "data": {
      "text/plain": [
       "1"
      ]
     },
     "execution_count": 94,
     "metadata": {},
     "output_type": "execute_result"
    }
   ],
   "source": [
    "next(iter_lst)"
   ]
  },
  {
   "cell_type": "code",
   "execution_count": 95,
   "metadata": {},
   "outputs": [
    {
     "data": {
      "text/plain": [
       "3"
      ]
     },
     "execution_count": 95,
     "metadata": {},
     "output_type": "execute_result"
    }
   ],
   "source": [
    "next(iter_lst)\n",
    "next(iter_lst)"
   ]
  },
  {
   "cell_type": "code",
   "execution_count": 96,
   "metadata": {},
   "outputs": [
    {
     "ename": "StopIteration",
     "evalue": "",
     "output_type": "error",
     "traceback": [
      "\u001b[1;31m---------------------------------------------------------------------------\u001b[0m",
      "\u001b[1;31mStopIteration\u001b[0m                             Traceback (most recent call last)",
      "\u001b[1;32m<ipython-input-96-e5e8f3875d68>\u001b[0m in \u001b[0;36m<module>\u001b[1;34m\u001b[0m\n\u001b[1;32m----> 1\u001b[1;33m \u001b[0mnext\u001b[0m\u001b[1;33m(\u001b[0m\u001b[0miter_lst\u001b[0m\u001b[1;33m)\u001b[0m \u001b[1;31m# 异常\u001b[0m\u001b[1;33m\u001b[0m\u001b[1;33m\u001b[0m\u001b[0m\n\u001b[0m",
      "\u001b[1;31mStopIteration\u001b[0m: "
     ]
    }
   ],
   "source": [
    "next(iter_lst) # 异常"
   ]
  },
  {
   "cell_type": "markdown",
   "metadata": {},
   "source": [
    "## 生成器"
   ]
  },
  {
   "cell_type": "code",
   "execution_count": 97,
   "metadata": {},
   "outputs": [
    {
     "data": {
      "text/plain": [
       "[0, 1, 4, 9, 16, 25, 36, 49, 64, 81]"
      ]
     },
     "execution_count": 97,
     "metadata": {},
     "output_type": "execute_result"
    }
   ],
   "source": [
    "# 生成一个列表\n",
    "[x*x for x in range(10)]"
   ]
  },
  {
   "cell_type": "code",
   "execution_count": 98,
   "metadata": {},
   "outputs": [
    {
     "data": {
      "text/plain": [
       "<generator object <genexpr> at 0x000001801729EE58>"
      ]
     },
     "execution_count": 98,
     "metadata": {},
     "output_type": "execute_result"
    }
   ],
   "source": [
    "# 生成一个生成器对象\n",
    "(x*x for x in range(10))"
   ]
  },
  {
   "cell_type": "code",
   "execution_count": 99,
   "metadata": {},
   "outputs": [],
   "source": [
    "# yield 函数定义的形式\n",
    "def generator_seq():\n",
    "    yield 1\n",
    "    yield 2\n",
    "    yield 3"
   ]
  },
  {
   "cell_type": "code",
   "execution_count": 100,
   "metadata": {},
   "outputs": [
    {
     "data": {
      "text/plain": [
       "<function __main__.generator_seq()>"
      ]
     },
     "execution_count": 100,
     "metadata": {},
     "output_type": "execute_result"
    }
   ],
   "source": [
    "generator_seq"
   ]
  },
  {
   "cell_type": "code",
   "execution_count": 101,
   "metadata": {},
   "outputs": [
    {
     "data": {
      "text/plain": [
       "<generator object generator_seq at 0x000001801729EDE0>"
      ]
     },
     "execution_count": 101,
     "metadata": {},
     "output_type": "execute_result"
    }
   ],
   "source": [
    "# 通过函数生成一个 生成器对象\n",
    "iter(generator_seq())"
   ]
  },
  {
   "cell_type": "code",
   "execution_count": 102,
   "metadata": {},
   "outputs": [
    {
     "name": "stdout",
     "output_type": "stream",
     "text": [
      "1\n",
      "2\n",
      "3\n"
     ]
    }
   ],
   "source": [
    "# 使用生成器迭代\n",
    "for x in generator_seq():\n",
    "    print(x)"
   ]
  },
  {
   "cell_type": "markdown",
   "metadata": {},
   "source": [
    "# 输入输出流\n",
    "\n",
    "IO编程概念：\n",
    "\n",
    "- 在计算机中，IO是Input/Output的简写，也就是输入和输出\n",
    " - 输入输出是相对的，要考虑具体的对象是什么。一般，当我们写的程序需要读取磁盘文件时，相当于把磁盘的数据输入到程序中，对于程序来说，读取的数据就属于Input，但是对于磁盘来说，相当于把数据输出给程序，输出的数据属于Output。\n",
    "- IO编程就是控制程序的输入和输出\n",
    " - IO编程中，Stream（流）是一个很重要的概念，可以把流想象成一个水管，数据就是水管里的水，但是只能单向流动。InputStream就是数据从外面（磁盘、网络）流进内存，OutputStream就是数据从内存流到外面去。对于浏览网页来说，浏览器和服务器之间至少需要建立两根水管，才可以既能发数据，又能收数据。\n",
    " \n",
    " \n",
    "- 阻塞非阻塞\n",
    " - 阻塞：进程给CPU传达一个任务之后，一直等待CPU处理完成，然后才执行后面的操作。\n",
    " - 非阻塞：进程给CPU传达任我后，继续处理后续的操作，隔断时间再来询问之前的操作是否完成。这样的过程其实也叫轮询。\n",
    " \n",
    "- 同步异步\n",
    " - 同步：执行一个操作之后，进程触发操作并等待（也就是我们说的阻塞）或者轮询的去查看操作（也就是我们说的非阻塞）是否完成，等待结果，然后才继续执行后续的操作。\n",
    " - 异步：执行一个操作后，可以去执行其他的操作，然后等待通知再回来执行刚才没执行完的操作。\n",
    "\n",
    "\n",
    "## 控制台 IO\n",
    "控制台是一个用来提供字符模式IO的接口，比如cmd命令行窗口，IDE输出窗口\n",
    "\n",
    "基本命令:\n",
    "sys.stdin\n",
    "sys.stdout\n",
    "sys.stderr\n",
    "\n",
    "input：从键盘读入\n",
    "print：输出到控制台\n",
    "\n",
    "> 相关差别：\n",
    "- sys.stin 与 input\n",
    " - input 先把提示信息输出，然后捕获输入\n",
    "- sys.stdout 与 print\n",
    " - print将所需要的内容打印到控制台，然后追加一个换行符\n",
    "\n",
    "\n",
    "## 文件IO\n",
    "见Lesson3和ppt"
   ]
  },
  {
   "cell_type": "code",
   "execution_count": 113,
   "metadata": {},
   "outputs": [
    {
     "name": "stdout",
     "output_type": "stream",
     "text": [
      "\n"
     ]
    }
   ],
   "source": [
    "# 此处应该再终端或者cmd窗口运行\n",
    "#控制台输入\n",
    "import sys\n",
    "istring = sys.stdin.readline()\n",
    "print(istring)"
   ]
  },
  {
   "cell_type": "code",
   "execution_count": 114,
   "metadata": {},
   "outputs": [
    {
     "name": "stdout",
     "output_type": "stream",
     "text": [
      "input a number:abc\n"
     ]
    }
   ],
   "source": [
    "x = input('input a number:')"
   ]
  },
  {
   "cell_type": "code",
   "execution_count": 115,
   "metadata": {},
   "outputs": [
    {
     "name": "stdout",
     "output_type": "stream",
     "text": [
      "abc\n"
     ]
    }
   ],
   "source": [
    "print(x)"
   ]
  },
  {
   "cell_type": "code",
   "execution_count": 111,
   "metadata": {},
   "outputs": [
    {
     "name": "stdout",
     "output_type": "stream",
     "text": [
      "io output-1io output-2"
     ]
    }
   ],
   "source": [
    "#控制台输出\n",
    "sys.stdout.write('io output-1')\n",
    "sys.stdout.write('io output-2')"
   ]
  },
  {
   "cell_type": "code",
   "execution_count": 116,
   "metadata": {},
   "outputs": [
    {
     "name": "stdout",
     "output_type": "stream",
     "text": [
      "io output-1\n",
      "io output-2\n"
     ]
    }
   ],
   "source": [
    "print('io output-1')\n",
    "print('io output-2')"
   ]
  },
  {
   "cell_type": "markdown",
   "metadata": {},
   "source": [
    "## 基于内存的IO模式-StringIO&BytesIO\n",
    "\n",
    "含义： 在内存中读写str（字符串），在内存中读写bytes（二进制）\n",
    "- StringIO 经常被用来作字符串的缓存\n",
    "- BytesIO 经常被用来作二进制流的缓存\n",
    "\n",
    "行为: 基本与文件IO一致。 StingIO提供了一个方法，可以方便的获取其中的数据：StingIO.getvalue()。如果使用read方法获取其中的数据，必须通过seek先设置“文件指针”的位置。\n",
    "\n",
    "作用： 当你想**模拟**一个普通文件的时候StringIO 和 BytesIO 类是很有用的。比如，再单元测试中，你可以使用StringIO来创建一个包含测试数据的类文件对象，这个对象可以被传给某个参数为普通文件对象的函数。\n",
    "\n",
    "### StringIO"
   ]
  },
  {
   "cell_type": "code",
   "execution_count": 117,
   "metadata": {},
   "outputs": [
    {
     "name": "stdout",
     "output_type": "stream",
     "text": [
      "hello world!\n"
     ]
    }
   ],
   "source": [
    "from io import StringIO\n",
    "f = StringIO()\n",
    "f.write('hello')\n",
    "f.write(' ')\n",
    "f.write('world!')\n",
    "print(f.getvalue())"
   ]
  },
  {
   "cell_type": "code",
   "execution_count": 121,
   "metadata": {},
   "outputs": [
    {
     "name": "stdout",
     "output_type": "stream",
     "text": [
      "Hello!\n",
      "Hi!\n",
      "Goodbye!\n"
     ]
    }
   ],
   "source": [
    "from io import StringIO\n",
    "f = StringIO('Hello!\\nHi!\\nGoodbye!')\n",
    "while True:\n",
    "    s = f.readline()\n",
    "    if s == '':\n",
    "        break\n",
    "    #.strip 移除字符串头尾指定的字符（默认为空格或换行符）\n",
    "    print(s.strip())"
   ]
  },
  {
   "cell_type": "code",
   "execution_count": 123,
   "metadata": {},
   "outputs": [
    {
     "name": "stdout",
     "output_type": "stream",
     "text": [
      "水面细风生，\n",
      "菱歌慢慢声。\n",
      "客亭临小市，\n",
      "灯火夜妆明。\n"
     ]
    }
   ],
   "source": [
    "f = StringIO('水面细风生，\\n菱歌慢慢声。\\n客亭临小市，\\n灯火夜妆明。')\n",
    "while True:\n",
    "    s = f.readline()\n",
    "    if s == '':\n",
    "        break\n",
    "    print(s.strip())\n",
    "#print(f)"
   ]
  },
  {
   "cell_type": "code",
   "execution_count": 124,
   "metadata": {},
   "outputs": [
    {
     "name": "stdout",
     "output_type": "stream",
     "text": [
      "abcDEF\n",
      "cDEF\n",
      "DE\n",
      "abcDEFGH\n",
      "abcDEFGH\n"
     ]
    }
   ],
   "source": [
    "from io import StringIO\n",
    "\n",
    "# 生成一个StringIO对象，当前缓冲区内容为ABCDEF    \n",
    "s = StringIO('ABCDEF')  \n",
    "# 从开头写入，将会覆盖ABC  \n",
    "s.write('abc')  \n",
    "# 每次使用read()读取前，必须seek()  \n",
    "# 定位到开头  \n",
    "s.seek(0)  \n",
    "# 将输出abcDEF  \n",
    "print(s.read())  \n",
    "# 定位到第二个字符c  \n",
    "s.seek(2)  \n",
    "# 从当前位置一直读取到结束，将输出cDEF  \n",
    "print(s.read())  \n",
    "s.seek(3)  \n",
    "# 从第三个位置读取两个字符，将输出DE  \n",
    "print(s.read(2))  \n",
    "s.seek(6)  \n",
    "# 从指定位置写入  \n",
    "s.write('GH')  \n",
    "s.seek(0)  \n",
    "# 将输出abcDEFGH  \n",
    "print(s.read())\n",
    "# 如果读取所有内容，可以直接使用getvalue()  \n",
    "# 将输出abcDEFGH  \n",
    "print(s.getvalue())"
   ]
  },
  {
   "cell_type": "markdown",
   "metadata": {},
   "source": [
    "### BytesIO"
   ]
  },
  {
   "cell_type": "code",
   "execution_count": 126,
   "metadata": {},
   "outputs": [
    {
     "name": "stdout",
     "output_type": "stream",
     "text": [
      "b'\\xe4\\xb8\\xad\\xe6\\x96\\x87'\n"
     ]
    }
   ],
   "source": [
    "# encode() 方法以 encoding 指定的编码格式编码字符串。\n",
    "a = '中文'.encode('utf-8')\n",
    "print(a)"
   ]
  },
  {
   "cell_type": "code",
   "execution_count": 127,
   "metadata": {},
   "outputs": [
    {
     "name": "stdout",
     "output_type": "stream",
     "text": [
      "b'\\xe4\\xb8\\xad\\xe6\\x96\\x87'\n"
     ]
    }
   ],
   "source": [
    "from io import BytesIO\n",
    "f = BytesIO()\n",
    "f.write('中文'.encode('utf-8'))\n",
    "print(f.getvalue())"
   ]
  },
  {
   "cell_type": "code",
   "execution_count": 128,
   "metadata": {},
   "outputs": [
    {
     "data": {
      "text/plain": [
       "b'\\xe4\\xb8\\xad\\xe6\\x96\\x87'"
      ]
     },
     "execution_count": 128,
     "metadata": {},
     "output_type": "execute_result"
    }
   ],
   "source": [
    "from io import StringIO\n",
    "f = BytesIO(b'\\xe4\\xb8\\xad\\xe6\\x96\\x87')\n",
    "f.read()"
   ]
  },
  {
   "cell_type": "code",
   "execution_count": 129,
   "metadata": {},
   "outputs": [
    {
     "name": "stdout",
     "output_type": "stream",
     "text": [
      "b'\\xe4\\xba\\xba\\xe9\\x97\\xb2\\xe6\\xa1\\x82\\xe8\\x8a\\xb1\\xe8\\x90\\xbd\\xef\\xbc\\x8c\\xe5\\xa4\\x9c\\xe9\\x9d\\x99\\xe6\\x98\\xa5\\xe5\\xb1\\xb1\\xe7\\xa9\\xba\\xe3\\x80\\x82\\xe6\\x9c\\x88\\xe5\\x87\\xba\\xe6\\x83\\x8a\\xe5\\xb1\\xb1\\xe9\\xb8\\x9f\\xef\\xbc\\x8c\\xe6\\x97\\xb6\\xe9\\xb8\\xa3\\xe6\\x98\\xa5\\xe6\\xb6\\xa7\\xe4\\xb8\\xad\\xe3\\x80\\x82'\n"
     ]
    }
   ],
   "source": [
    "data = '人闲桂花落，夜静春山空。月出惊山鸟，时鸣春涧中。'.encode('utf-8')\n",
    "f = BytesIO(data)\n",
    "print(f.read())"
   ]
  },
  {
   "cell_type": "markdown",
   "metadata": {},
   "source": [
    "## 序列化与反序列化\n",
    "\n",
    "序列化定义：变量从内存中变成可存储或者可传输的过程称为序列化。 在Python中，序列化叫pickling\n",
    "\n",
    "反序列化定义：把变量内容从序列化的对象重新读取到内存里称之为反序列化，即unpickling\n",
    "\n",
    "为什么需要序列化和反序列化：\n",
    "- 便于储存。序列化过程将文本信息转变为二进制数据流。\n",
    "- 便于传输。当两个进程在进行远程通讯时，彼此可以发送各种类型的数据。"
   ]
  },
  {
   "cell_type": "markdown",
   "metadata": {},
   "source": [
    "序列化与反序列化的本质可以从下例中看出：\n",
    "\n",
    "这种形式只能对字符串进行操作，但是其他的比如字典，函数就不行"
   ]
  },
  {
   "cell_type": "code",
   "execution_count": 130,
   "metadata": {},
   "outputs": [],
   "source": [
    "x = 'helloworld'"
   ]
  },
  {
   "cell_type": "code",
   "execution_count": 133,
   "metadata": {},
   "outputs": [],
   "source": [
    "# 序列化\n",
    "fp = open('./data/seralize.txt', 'w')\n",
    "fp.write(x)\n",
    "fp.close()"
   ]
  },
  {
   "cell_type": "code",
   "execution_count": 135,
   "metadata": {},
   "outputs": [
    {
     "name": "stdout",
     "output_type": "stream",
     "text": [
      "helloworld\n"
     ]
    }
   ],
   "source": [
    "# 反序列化\n",
    "fp = open('./data/seralize.txt', 'r')\n",
    "x = fp.read()\n",
    "fp.close()\n",
    "print(x)"
   ]
  },
  {
   "cell_type": "markdown",
   "metadata": {},
   "source": [
    "### Pickle\n",
    "\n",
    "pickle是python语言的一个标准模块，实现了基本的数据序列化和反序列化。\n",
    "- 通过pickle 模块的序列化操作我们能够将程序中运行的对象信息保存到文件中去，永久储存；\n",
    "- 通过pickle 模块的反序列化操作，我们能够从文件中创建一个上一次程序保存的对象。\n",
    "\n",
    "pickle模块是以二进制的形式序列化后保存到文件中（保存文件的后缀为“.pkl”）,不能直接打开进行预览。\n",
    "\n",
    "pickle提供两个重要的接口：\n",
    "- dump：序列化\n",
    "- load：反序列化\n",
    "\n",
    "Pickle的问题和所有其他编程语言特有的序列化问题一样，就是它只能用于Python，并且可能不同版本的Python彼此都不兼容，因此，只能用Pickle保存那些不重要的数据，不能成功地反序列化也没关系。"
   ]
  },
  {
   "cell_type": "code",
   "execution_count": 145,
   "metadata": {},
   "outputs": [
    {
     "name": "stdout",
     "output_type": "stream",
     "text": [
      "{'name': 'hjc', 'age': 24, 'hobby': <function func at 0x0000018017361598>}\n",
      "hello tomorrow!!!\n"
     ]
    }
   ],
   "source": [
    "# 序列化\n",
    "import pickle\n",
    " \n",
    "def func():\n",
    "    print(\"hello tomorrow!!!\")\n",
    " \n",
    "info = {\n",
    "    \"name\" : \"hjc\",\n",
    "    \"age\" : 24,\n",
    "    \"hobby\" : func\n",
    "}\n",
    "f = open(\"./data/pickle_dict_func.txt\",\"wb\")\n",
    "f.write(pickle.dumps(info))\n",
    "\n",
    "# 调用字典内的函数对象\n",
    "print(info)\n",
    "info['hobby']()"
   ]
  },
  {
   "cell_type": "code",
   "execution_count": 147,
   "metadata": {},
   "outputs": [
    {
     "name": "stdout",
     "output_type": "stream",
     "text": [
      "{'name': 'hjc', 'age': 24, 'hobby': <function func at 0x0000018017361598>}\n",
      "hello tomorrow!!!\n"
     ]
    }
   ],
   "source": [
    "# 反序列化\n",
    "import pickle\n",
    " \n",
    "f = open(\"./data/pickle_dict_func.txt\",\"rb\")\n",
    "data = pickle.loads(f.read())\n",
    "print(data)\n",
    "data[\"hobby\"]()"
   ]
  },
  {
   "cell_type": "code",
   "execution_count": 148,
   "metadata": {},
   "outputs": [
    {
     "name": "stdout",
     "output_type": "stream",
     "text": [
      "[123, '中文', [456]]\n",
      "字符串\n",
      "123\n"
     ]
    }
   ],
   "source": [
    "# 综合的例子\n",
    "import pickle\n",
    "\n",
    "def demo():\n",
    "    # --- 序列化 ---\n",
    "    f = open(\"./data/pickle.txt\", \"wb+\")\n",
    "    lists = [123, \"中文\", [456]]\n",
    "    strs = \"字符串\"\n",
    "    num = 123\n",
    "\n",
    "    # 写入\n",
    "    pickle.dump(lists, f) # 序列化到文件\n",
    "    pickle.dump(strs, f)\n",
    "    pickle.dump(num, f)\n",
    "\n",
    "    # 关闭\n",
    "    f.close()\n",
    "\n",
    "\n",
    "    # --- 反序列化 ---\n",
    "    f = open(\"./data/pickle.txt\", \"rb+\")\n",
    "\n",
    "    # 读取\n",
    "    data = pickle.load(f) # 从文件反序列化\n",
    "    print (data)\n",
    "    data = pickle.load(f)\n",
    "    print(data)\n",
    "    data = pickle.load(f)\n",
    "    print(data)\n",
    "\n",
    "    f.close()\n",
    "\n",
    "\n",
    "\n",
    "demo()"
   ]
  },
  {
   "cell_type": "code",
   "execution_count": 149,
   "metadata": {},
   "outputs": [
    {
     "name": "stdout",
     "output_type": "stream",
     "text": [
      "[123, '中文', [456]]\n",
      "[123, '中文', [456]]\n"
     ]
    }
   ],
   "source": [
    "# 此示例可略过\n",
    "\n",
    "import pickle\n",
    "def pickle_funs():\n",
    "    lists = [123, \"中文\", [456]]\n",
    "    f = open(\"pickle.txt\", \"wb+\")\n",
    "\n",
    "    num = pickle.HIGHEST_PROTOCOL \n",
    "    num = pickle.DEFAULT_PROTOCOL\n",
    "\n",
    "    # --- 序列化 ---\n",
    "    # dump(obj, file, protocol=None, *, fix_imports=True) // 将obj写入文件\n",
    "    pickle.dump(lists, f)\n",
    "    # dumps(obj, protocol=None, *, fix_imports=True) // 将obj写入bytes\n",
    "    bytes_out = pickle.dumps(lists)\n",
    "\n",
    "    # --- 反序列化 ---\n",
    "    f.seek(0)\n",
    "    \n",
    "    lists = pickle.load(f)\n",
    "    print(lists)\n",
    "    lists = pickle.loads(bytes_out)\n",
    "    print(lists)\n",
    "\n",
    "pickle_funs()"
   ]
  },
  {
   "cell_type": "markdown",
   "metadata": {},
   "source": [
    "### JSON\n",
    "\n",
    "如果我们要在不同的编程语言之间传递对象，就必须把对象序列化为标准格式，比如XML，但更好的方法是序列化为JSON，因为JSON表示出来就是一个字符串，可以被所有语言读取，也可以方便地存储到磁盘或者通过网络传输。JSON不仅是标准格式，并且比XML更快，而且可以直接在Web页面中读取，非常方便。\n",
    "\n",
    "JSON表示的对象就是标准的JavaScript语言的对象，JSON和Python内置的数据类型对应如下：\n",
    "\n",
    "| JSON类型 | Python类型 |\n",
    "| ---------- | ---------- |\n",
    "| {}         | dict       |\n",
    "| []         | list       |\n",
    "| \"string\"   | str        |\n",
    "| 1234.56    | int或float |\n",
    "| true/false | True/False |\n",
    "| null       | None       |\n",
    "\n",
    "Python内置的json模块提供了非常完善的Python对象到JSON格式的转换。\n",
    "- `json.dumps()`: 对数据进行编码\n",
    "- `json.loads()`: 对数据进行解码\n",
    "\n",
    "由于JSON标准规定JSON编码是UTF-8，所以我们总是能正确地在Python的str与JSON的字符串之间转换。"
   ]
  },
  {
   "cell_type": "code",
   "execution_count": 150,
   "metadata": {},
   "outputs": [
    {
     "data": {
      "text/plain": [
       "'{\"name\": \"Bob\", \"age\": 20, \"score\": 88}'"
      ]
     },
     "execution_count": 150,
     "metadata": {},
     "output_type": "execute_result"
    }
   ],
   "source": [
    "# 编码\n",
    "import json\n",
    "d = dict(name='Bob', age=20, score=88)\n",
    "json.dumps(d)\n",
    "\n",
    "# dumps()方法返回一个str，内容就是标准的JSON。\n",
    "# 类似的，dump()方法可以直接把JSON写入一个file-like Object。"
   ]
  },
  {
   "cell_type": "code",
   "execution_count": 151,
   "metadata": {},
   "outputs": [
    {
     "data": {
      "text/plain": [
       "{'age': 20, 'score': 88, 'name': 'Bob'}"
      ]
     },
     "execution_count": 151,
     "metadata": {},
     "output_type": "execute_result"
    }
   ],
   "source": [
    "# 解码\n",
    "json_str = '{\"age\": 20, \"score\": 88, \"name\": \"Bob\"}'\n",
    "json.loads(json_str)"
   ]
  },
  {
   "cell_type": "code",
   "execution_count": 152,
   "metadata": {},
   "outputs": [],
   "source": [
    "# 序列化\n",
    "import json\n",
    "    \n",
    "info = {\n",
    "    \"name\":\"hjc\",\n",
    "    \"age\":22\n",
    "}\n",
    "f = open(\"./data/json.txt\",\"w\",encoding=\"utf-8\")\n",
    "f.write(json.dumps(info))\n",
    "f.close()"
   ]
  },
  {
   "cell_type": "code",
   "execution_count": 153,
   "metadata": {},
   "outputs": [
    {
     "name": "stdout",
     "output_type": "stream",
     "text": [
      "{'name': 'hjc', 'age': 22}\n",
      "22\n"
     ]
    }
   ],
   "source": [
    "# 反序列化\n",
    "import json\n",
    "f = open(\"./data/json.txt\",\"r\",encoding=\"utf-8\")\n",
    "data = json.loads(f.readline())\n",
    "print(data)\n",
    "print(data[\"age\"])\n",
    "f.close()"
   ]
  }
 ],
 "metadata": {
  "kernelspec": {
   "display_name": "Python 3",
   "language": "python",
   "name": "python3"
  },
  "language_info": {
   "codemirror_mode": {
    "name": "ipython",
    "version": 3
   },
   "file_extension": ".py",
   "mimetype": "text/x-python",
   "name": "python",
   "nbconvert_exporter": "python",
   "pygments_lexer": "ipython3",
   "version": "3.7.3"
  },
  "toc": {
   "base_numbering": 1,
   "nav_menu": {},
   "number_sections": true,
   "sideBar": true,
   "skip_h1_title": false,
   "title_cell": "Table of Contents",
   "title_sidebar": "Contents",
   "toc_cell": false,
   "toc_position": {
    "height": "calc(100% - 180px)",
    "left": "10px",
    "top": "150px",
    "width": "165px"
   },
   "toc_section_display": true,
   "toc_window_display": true
  }
 },
 "nbformat": 4,
 "nbformat_minor": 2
}
