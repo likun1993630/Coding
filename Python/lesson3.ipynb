{
 "cells": [
  {
   "cell_type": "markdown",
   "metadata": {},
   "source": [
    "# 函数"
   ]
  },
  {
   "cell_type": "markdown",
   "metadata": {},
   "source": [
    "## 函数定义\n",
    "\n",
    "- 函数的概念：\n",
    "    ![funtion](./res/def_function.jpg)\n",
    "\n",
    "- 函数的作用：\n",
    "    - 最大程度复用代码\n",
    "    - 分解系统的复杂度，减少代码的耦合\n",
    "\n",
    "- 函数的定义：\n",
    "    - 函数名称，函数参数\n",
    "    ```\n",
    "    def <function_name> (arg1, arg2, ...argN):\n",
    "        < statement >\n",
    "    ```\n",
    "    - 函数返回值：\n",
    "    ```\n",
    "        return <value>\n",
    "    ```\n",
    "    - 没有return的函数，默认返回了none对象"
   ]
  },
  {
   "cell_type": "code",
   "execution_count": 2,
   "metadata": {},
   "outputs": [],
   "source": [
    "a = 3; b = 2;"
   ]
  },
  {
   "cell_type": "code",
   "execution_count": 3,
   "metadata": {},
   "outputs": [
    {
     "name": "stdout",
     "output_type": "stream",
     "text": [
      "3\n"
     ]
    }
   ],
   "source": [
    "v = a if a > b else b\n",
    "print(v)"
   ]
  },
  {
   "cell_type": "code",
   "execution_count": 4,
   "metadata": {},
   "outputs": [
    {
     "name": "stdout",
     "output_type": "stream",
     "text": [
      "3\n"
     ]
    }
   ],
   "source": [
    "def max_value(x, y):\n",
    "    return x if x > y else y\n",
    "print(max_value(a, b))"
   ]
  },
  {
   "cell_type": "code",
   "execution_count": 5,
   "metadata": {},
   "outputs": [],
   "source": [
    "# 无return返回none\n",
    "def example():\n",
    "    pass"
   ]
  },
  {
   "cell_type": "code",
   "execution_count": 6,
   "metadata": {},
   "outputs": [
    {
     "name": "stdout",
     "output_type": "stream",
     "text": [
      "None\n"
     ]
    }
   ],
   "source": [
    "x = example()\n",
    "print(x)"
   ]
  },
  {
   "cell_type": "markdown",
   "metadata": {},
   "source": [
    "## 函数是实时执行"
   ]
  },
  {
   "cell_type": "code",
   "execution_count": 7,
   "metadata": {},
   "outputs": [
    {
     "name": "stdout",
     "output_type": "stream",
     "text": [
      "world\n"
     ]
    }
   ],
   "source": [
    "if False:\n",
    "    def func_test():\n",
    "        print('hello')\n",
    "else:\n",
    "    def func_test():\n",
    "        print('world')\n",
    "func_test()"
   ]
  },
  {
   "cell_type": "markdown",
   "metadata": {},
   "source": [
    "## 函数也是对象\n",
    "- 在python中一切皆为对象\n",
    "- 函数也是一个对象，具有属性（可以使用`dir()`查询）\n",
    "- 作为对象，它还可以赋值给其他对象名，或者作为参数传递\n",
    "- 函数作为参数传递：\n",
    "    - 例如map\n",
    "    \n",
    "**函数对象**\n",
    "- 函数自身存储在内存块中，可以跨程序自由地传递和间接调用\n",
    "- 间接函数调用\n",
    "    - 可以把函数对象赋值给其他的名称并且通过引用来调用\n",
    "- 函数内省\n",
    "    - 通用地检查属性\n",
    "    - 使用`dir()`等\n",
    "      > dir() 函数不带参数时，返回当前范围内的变量、方法和定义的类型列表；带参数时，返回参数的属性、方法列表。如果参数包含方法`__dir__()`，该方法将被调用。如果参数不包含`__dir__()`，该方法将最大限度地收集参数信息。可以用`dir()`函数查看当前模块有哪些变量。\n",
    "- 函数属性\n",
    "    - 附加任意用户定义的属性\n",
    "    > 如square.a = 1 ,就是定了a这个属性给square函数"
   ]
  },
  {
   "cell_type": "code",
   "execution_count": 8,
   "metadata": {},
   "outputs": [],
   "source": [
    "def square(x):\n",
    "    \"\"\"\n",
    "    return square x values\n",
    "    \"\"\"\n",
    "    return x**2"
   ]
  },
  {
   "cell_type": "code",
   "execution_count": 9,
   "metadata": {},
   "outputs": [
    {
     "data": {
      "text/plain": [
       "<function __main__.square(x)>"
      ]
     },
     "execution_count": 9,
     "metadata": {},
     "output_type": "execute_result"
    }
   ],
   "source": [
    "square"
   ]
  },
  {
   "cell_type": "code",
   "execution_count": 10,
   "metadata": {},
   "outputs": [
    {
     "data": {
      "text/plain": [
       "['__annotations__',\n",
       " '__call__',\n",
       " '__class__',\n",
       " '__closure__',\n",
       " '__code__',\n",
       " '__defaults__',\n",
       " '__delattr__',\n",
       " '__dict__',\n",
       " '__dir__',\n",
       " '__doc__',\n",
       " '__eq__',\n",
       " '__format__',\n",
       " '__ge__',\n",
       " '__get__',\n",
       " '__getattribute__',\n",
       " '__globals__',\n",
       " '__gt__',\n",
       " '__hash__',\n",
       " '__init__',\n",
       " '__init_subclass__',\n",
       " '__kwdefaults__',\n",
       " '__le__',\n",
       " '__lt__',\n",
       " '__module__',\n",
       " '__name__',\n",
       " '__ne__',\n",
       " '__new__',\n",
       " '__qualname__',\n",
       " '__reduce__',\n",
       " '__reduce_ex__',\n",
       " '__repr__',\n",
       " '__setattr__',\n",
       " '__sizeof__',\n",
       " '__str__',\n",
       " '__subclasshook__']"
      ]
     },
     "execution_count": 10,
     "metadata": {},
     "output_type": "execute_result"
    }
   ],
   "source": [
    "dir(square)\n",
    "# 双下划线为内置的默认属性"
   ]
  },
  {
   "cell_type": "code",
   "execution_count": 11,
   "metadata": {},
   "outputs": [
    {
     "data": {
      "text/plain": [
       "'\\n    return square x values\\n    '"
      ]
     },
     "execution_count": 11,
     "metadata": {},
     "output_type": "execute_result"
    }
   ],
   "source": [
    "#__doc__返回指定函数的文档字符串。\n",
    "square.__doc__"
   ]
  },
  {
   "cell_type": "code",
   "execution_count": 17,
   "metadata": {},
   "outputs": [
    {
     "data": {
      "text/plain": [
       "'square'"
      ]
     },
     "execution_count": 17,
     "metadata": {},
     "output_type": "execute_result"
    }
   ],
   "source": [
    "# __name__返回函数名字。\n",
    "square.__name__"
   ]
  },
  {
   "cell_type": "code",
   "execution_count": 16,
   "metadata": {},
   "outputs": [
    {
     "name": "stdout",
     "output_type": "stream",
     "text": [
      "1\n"
     ]
    },
    {
     "data": {
      "text/plain": [
       "['__annotations__',\n",
       " '__call__',\n",
       " '__class__',\n",
       " '__closure__',\n",
       " '__code__',\n",
       " '__defaults__',\n",
       " '__delattr__',\n",
       " '__dict__',\n",
       " '__dir__',\n",
       " '__doc__',\n",
       " '__eq__',\n",
       " '__format__',\n",
       " '__ge__',\n",
       " '__get__',\n",
       " '__getattribute__',\n",
       " '__globals__',\n",
       " '__gt__',\n",
       " '__hash__',\n",
       " '__init__',\n",
       " '__init_subclass__',\n",
       " '__kwdefaults__',\n",
       " '__le__',\n",
       " '__lt__',\n",
       " '__module__',\n",
       " '__name__',\n",
       " '__ne__',\n",
       " '__new__',\n",
       " '__qualname__',\n",
       " '__reduce__',\n",
       " '__reduce_ex__',\n",
       " '__repr__',\n",
       " '__setattr__',\n",
       " '__sizeof__',\n",
       " '__str__',\n",
       " '__subclasshook__',\n",
       " 'a']"
      ]
     },
     "execution_count": 16,
     "metadata": {},
     "output_type": "execute_result"
    }
   ],
   "source": [
    "# 函数可以动态的增加属性，a就是square的一个属性\n",
    "square.a=1\n",
    "print(square.a)\n",
    "dir(square)"
   ]
  },
  {
   "cell_type": "code",
   "execution_count": 19,
   "metadata": {},
   "outputs": [
    {
     "name": "stdout",
     "output_type": "stream",
     "text": [
      "[0, 1, 4, 9, 16, 25, 36, 49, 64, 81]\n"
     ]
    }
   ],
   "source": [
    "# 把函数当作一个参数（对象）进行传递：\n",
    "x = map(square, range(10))\n",
    "print(list(x))"
   ]
  },
  {
   "cell_type": "code",
   "execution_count": 33,
   "metadata": {},
   "outputs": [
    {
     "name": "stdout",
     "output_type": "stream",
     "text": [
      "<function func_a.<locals>.func_b at 0x0000021B57C247B8>\n"
     ]
    }
   ],
   "source": [
    "def func_a():\n",
    "    a = 10\n",
    "    def func_b():\n",
    "        b = 10\n",
    "        print(b)\n",
    "    return func_b\n",
    "\n",
    "x = func_a()\n",
    "print(x)\n",
    "# 这里调用一次func_a()，返回的时函数func_b，所以还得进一步调用func_b"
   ]
  },
  {
   "cell_type": "code",
   "execution_count": 34,
   "metadata": {},
   "outputs": [
    {
     "name": "stdout",
     "output_type": "stream",
     "text": [
      "10\n"
     ]
    }
   ],
   "source": [
    "x()"
   ]
  },
  {
   "cell_type": "code",
   "execution_count": 35,
   "metadata": {},
   "outputs": [
    {
     "name": "stdout",
     "output_type": "stream",
     "text": [
      "10\n"
     ]
    }
   ],
   "source": [
    "func_a()()\n",
    "# 与 x = func_a(); x(); 等效"
   ]
  },
  {
   "cell_type": "code",
   "execution_count": 23,
   "metadata": {},
   "outputs": [
    {
     "ename": "NameError",
     "evalue": "name 'func_b' is not defined",
     "output_type": "error",
     "traceback": [
      "\u001b[1;31m---------------------------------------------------------------------------\u001b[0m",
      "\u001b[1;31mNameError\u001b[0m                                 Traceback (most recent call last)",
      "\u001b[1;32m<ipython-input-23-933f7a4c3b14>\u001b[0m in \u001b[0;36m<module>\u001b[1;34m\u001b[0m\n\u001b[1;32m----> 1\u001b[1;33m \u001b[0mfunc_b\u001b[0m\u001b[1;33m(\u001b[0m\u001b[1;33m)\u001b[0m\u001b[1;33m\u001b[0m\u001b[1;33m\u001b[0m\u001b[0m\n\u001b[0m",
      "\u001b[1;31mNameError\u001b[0m: name 'func_b' is not defined"
     ]
    }
   ],
   "source": [
    "func_b()"
   ]
  },
  {
   "cell_type": "markdown",
   "metadata": {},
   "source": [
    "# 命名空间\n",
    "- 命名空间表示变量的可见范围\n",
    "- 一个变量名可以定义在多个不同的命名空间，相互之间并不冲突\n",
    "- 但同一个命名空间中不能有两个相同的变量名"
   ]
  },
  {
   "cell_type": "code",
   "execution_count": 1,
   "metadata": {},
   "outputs": [
    {
     "data": {
      "text/plain": [
       "['In',\n",
       " 'Out',\n",
       " '_',\n",
       " '__',\n",
       " '___',\n",
       " '__builtin__',\n",
       " '__builtins__',\n",
       " '__doc__',\n",
       " '__loader__',\n",
       " '__name__',\n",
       " '__package__',\n",
       " '__spec__',\n",
       " '_dh',\n",
       " '_i',\n",
       " '_i1',\n",
       " '_ih',\n",
       " '_ii',\n",
       " '_iii',\n",
       " '_oh',\n",
       " 'exit',\n",
       " 'get_ipython',\n",
       " 'quit']"
      ]
     },
     "execution_count": 1,
     "metadata": {},
     "output_type": "execute_result"
    }
   ],
   "source": [
    "# 获得当前模块的属性列表\n",
    "dir()"
   ]
  },
  {
   "cell_type": "code",
   "execution_count": 2,
   "metadata": {},
   "outputs": [
    {
     "name": "stdout",
     "output_type": "stream",
     "text": [
      "Namespace : K1 K2_inner K3 \n"
     ]
    }
   ],
   "source": [
    "# 举个例子\n",
    "# arg2 在不同命名空间分别定义了不同的值\n",
    "top_arg = \"Namespace : \"\n",
    "def func_top(arg1):\n",
    "    def func_bottom(arg3):\n",
    "        arg2= \"K2_inner \"\n",
    "        print(top_arg + arg1 + arg2 + arg3)\n",
    "    arg2 = \" K2 \"\n",
    "    func_bottom(\"K3 \");\n",
    " \n",
    "func_top(\"K1 \")"
   ]
  },
  {
   "cell_type": "markdown",
   "metadata": {},
   "source": [
    "# 变量作用域\n",
    "\n",
    "- locals & globals 的区别？\n",
    "\n",
    "- 作用域法则：\n",
    "    - 内置的模块是全局的作用域\n",
    "    - 全局作用域限制在单个文件\n",
    "- 变量可以归纳为本地，全局或者内置\n",
    "\n",
    "- 全局变量\n",
    "    - 位于模块内部（单个文件）顶层的变量名\n",
    "    - 在函数里面对全局变量赋值的时候，需要进行声明，声明完之后，对全局变量进行各种操作\n",
    "    - 在函数里不经过声明也可以被引用\n",
    "    - 声明格式： `global x, y, z`"
   ]
  },
  {
   "cell_type": "code",
   "execution_count": null,
   "metadata": {},
   "outputs": [],
   "source": [
    "### 错误Case"
   ]
  },
  {
   "cell_type": "code",
   "execution_count": 26,
   "metadata": {},
   "outputs": [
    {
     "ename": "UnboundLocalError",
     "evalue": "local variable 'i' referenced before assignment",
     "output_type": "error",
     "traceback": [
      "\u001b[1;31m---------------------------------------------------------------------------\u001b[0m",
      "\u001b[1;31mUnboundLocalError\u001b[0m                         Traceback (most recent call last)",
      "\u001b[1;32m<ipython-input-26-0cfc9fc2d6af>\u001b[0m in \u001b[0;36m<module>\u001b[1;34m\u001b[0m\n\u001b[0;32m      6\u001b[0m     \u001b[0mi\u001b[0m \u001b[1;33m=\u001b[0m \u001b[0mi\u001b[0m \u001b[1;33m+\u001b[0m \u001b[1;36m1\u001b[0m\u001b[1;33m\u001b[0m\u001b[1;33m\u001b[0m\u001b[0m\n\u001b[0;32m      7\u001b[0m \u001b[1;33m\u001b[0m\u001b[0m\n\u001b[1;32m----> 8\u001b[1;33m \u001b[0mfunc2\u001b[0m\u001b[1;33m(\u001b[0m\u001b[1;33m)\u001b[0m\u001b[1;33m\u001b[0m\u001b[1;33m\u001b[0m\u001b[0m\n\u001b[0m\u001b[0;32m      9\u001b[0m '''\n\u001b[0;32m     10\u001b[0m \u001b[0mfunc2\u001b[0m \u001b[0m函数内的声明了自己的i\u001b[0m\u001b[0;31m，\u001b[0m\u001b[0m此i作用域是locals\u001b[0m\u001b[0;31m，\u001b[0m\u001b[1;33m\u001b[0m\u001b[1;33m\u001b[0m\u001b[0m\n",
      "\u001b[1;32m<ipython-input-26-0cfc9fc2d6af>\u001b[0m in \u001b[0;36mfunc2\u001b[1;34m()\u001b[0m\n\u001b[0;32m      4\u001b[0m \u001b[1;32mdef\u001b[0m \u001b[0mfunc2\u001b[0m\u001b[1;33m(\u001b[0m\u001b[1;33m)\u001b[0m\u001b[1;33m:\u001b[0m\u001b[1;33m\u001b[0m\u001b[1;33m\u001b[0m\u001b[0m\n\u001b[0;32m      5\u001b[0m     \u001b[1;31m#global i\u001b[0m\u001b[1;33m\u001b[0m\u001b[1;33m\u001b[0m\u001b[1;33m\u001b[0m\u001b[0m\n\u001b[1;32m----> 6\u001b[1;33m     \u001b[0mi\u001b[0m \u001b[1;33m=\u001b[0m \u001b[0mi\u001b[0m \u001b[1;33m+\u001b[0m \u001b[1;36m1\u001b[0m\u001b[1;33m\u001b[0m\u001b[1;33m\u001b[0m\u001b[0m\n\u001b[0m\u001b[0;32m      7\u001b[0m \u001b[1;33m\u001b[0m\u001b[0m\n\u001b[0;32m      8\u001b[0m \u001b[0mfunc2\u001b[0m\u001b[1;33m(\u001b[0m\u001b[1;33m)\u001b[0m\u001b[1;33m\u001b[0m\u001b[1;33m\u001b[0m\u001b[0m\n",
      "\u001b[1;31mUnboundLocalError\u001b[0m: local variable 'i' referenced before assignment"
     ]
    }
   ],
   "source": [
    "# UnboundLocalError\n",
    "# 这里错误的原因是：在对global变量赋值前未声明\n",
    "i=1\n",
    "def func2():\n",
    "    #global i\n",
    "    i = i + 1\n",
    " \n",
    "func2()\n",
    "'''\n",
    "func2 函数内的声明了自己的i，此i作用域是locals，\n",
    "并且由于local内的声明，\n",
    "使globals中的i无法被引用，所以会报错。\n",
    "'''"
   ]
  },
  {
   "cell_type": "code",
   "execution_count": 27,
   "metadata": {},
   "outputs": [
    {
     "ename": "UnboundLocalError",
     "evalue": "local variable 'a' referenced before assignment",
     "output_type": "error",
     "traceback": [
      "\u001b[1;31m---------------------------------------------------------------------------\u001b[0m",
      "\u001b[1;31mUnboundLocalError\u001b[0m                         Traceback (most recent call last)",
      "\u001b[1;32m<ipython-input-27-3ff6775f32fe>\u001b[0m in \u001b[0;36m<module>\u001b[1;34m\u001b[0m\n\u001b[0;32m      3\u001b[0m     \u001b[1;32mdel\u001b[0m \u001b[0ma\u001b[0m\u001b[1;33m\u001b[0m\u001b[1;33m\u001b[0m\u001b[0m\n\u001b[0;32m      4\u001b[0m     \u001b[0mprint\u001b[0m\u001b[1;33m(\u001b[0m\u001b[0ma\u001b[0m\u001b[1;33m)\u001b[0m\u001b[1;33m\u001b[0m\u001b[1;33m\u001b[0m\u001b[0m\n\u001b[1;32m----> 5\u001b[1;33m \u001b[0mfunc3\u001b[0m\u001b[1;33m(\u001b[0m\u001b[1;33m)\u001b[0m\u001b[1;33m\u001b[0m\u001b[1;33m\u001b[0m\u001b[0m\n\u001b[0m",
      "\u001b[1;32m<ipython-input-27-3ff6775f32fe>\u001b[0m in \u001b[0;36mfunc3\u001b[1;34m()\u001b[0m\n\u001b[0;32m      2\u001b[0m     \u001b[0ma\u001b[0m \u001b[1;33m=\u001b[0m \u001b[1;36m123\u001b[0m\u001b[1;33m\u001b[0m\u001b[1;33m\u001b[0m\u001b[0m\n\u001b[0;32m      3\u001b[0m     \u001b[1;32mdel\u001b[0m \u001b[0ma\u001b[0m\u001b[1;33m\u001b[0m\u001b[1;33m\u001b[0m\u001b[0m\n\u001b[1;32m----> 4\u001b[1;33m     \u001b[0mprint\u001b[0m\u001b[1;33m(\u001b[0m\u001b[0ma\u001b[0m\u001b[1;33m)\u001b[0m\u001b[1;33m\u001b[0m\u001b[1;33m\u001b[0m\u001b[0m\n\u001b[0m\u001b[0;32m      5\u001b[0m \u001b[0mfunc3\u001b[0m\u001b[1;33m(\u001b[0m\u001b[1;33m)\u001b[0m\u001b[1;33m\u001b[0m\u001b[1;33m\u001b[0m\u001b[0m\n",
      "\u001b[1;31mUnboundLocalError\u001b[0m: local variable 'a' referenced before assignment"
     ]
    }
   ],
   "source": [
    "# a 在命名空间中被删除\n",
    "def func3():\n",
    "    a = 123\n",
    "    del a\n",
    "    print(a)\n",
    "func3()"
   ]
  },
  {
   "cell_type": "markdown",
   "metadata": {},
   "source": [
    "### Locals"
   ]
  },
  {
   "cell_type": "code",
   "execution_count": 30,
   "metadata": {},
   "outputs": [
    {
     "name": "stdout",
     "output_type": "stream",
     "text": [
      "{'i': 1, 'str': 'first', 'x': 12345}\n"
     ]
    }
   ],
   "source": [
    "#局部变量可以通过函数 locals() 查看\n",
    "def func1(i, str ):\n",
    "    x = 12345\n",
    "    print(locals())\n",
    " \n",
    "func1(1 , \"first\")"
   ]
  },
  {
   "cell_type": "markdown",
   "metadata": {},
   "source": [
    "### Globals"
   ]
  },
  {
   "cell_type": "code",
   "execution_count": 2,
   "metadata": {
    "scrolled": true
   },
   "outputs": [
    {
     "name": "stdout",
     "output_type": "stream",
     "text": [
      "the current scope's global variables:\n",
      "{'__name__': '__main__', '__doc__': 'Automatically created module for IPython interactive environment', '__package__': None, '__loader__': None, '__spec__': None, '__builtin__': <module 'builtins' (built-in)>, '__builtins__': <module 'builtins' (built-in)>, '_ih': ['', '# 查看当前命名空间内的所有变量\\ndir()', '# 全局 (模块级别)命名空间可以通过 globals() \\n# restart Kernel\\narg_test = \\'\\'\\nprint(\"the current scope\\'s global variables:\")\\ndictionary=globals()\\nprint(dictionary)\\n\\n# \\'__builtin__\\''], '_oh': {1: ['In', 'Out', '_', '__', '___', '__builtin__', '__builtins__', '__doc__', '__loader__', '__name__', '__package__', '__spec__', '_dh', '_i', '_i1', '_ih', '_ii', '_iii', '_oh', 'exit', 'get_ipython', 'quit']}, '_dh': ['C:\\\\Users\\\\likun\\\\OneDrive\\\\桌面\\\\Python\\\\code'], 'In': ['', '# 查看当前命名空间内的所有变量\\ndir()', '# 全局 (模块级别)命名空间可以通过 globals() \\n# restart Kernel\\narg_test = \\'\\'\\nprint(\"the current scope\\'s global variables:\")\\ndictionary=globals()\\nprint(dictionary)\\n\\n# \\'__builtin__\\''], 'Out': {1: ['In', 'Out', '_', '__', '___', '__builtin__', '__builtins__', '__doc__', '__loader__', '__name__', '__package__', '__spec__', '_dh', '_i', '_i1', '_ih', '_ii', '_iii', '_oh', 'exit', 'get_ipython', 'quit']}, 'get_ipython': <bound method InteractiveShell.get_ipython of <ipykernel.zmqshell.ZMQInteractiveShell object at 0x0000019DBFFFF588>>, 'exit': <IPython.core.autocall.ZMQExitAutocall object at 0x0000019DC006ADD8>, 'quit': <IPython.core.autocall.ZMQExitAutocall object at 0x0000019DC006ADD8>, '_': ['In', 'Out', '_', '__', '___', '__builtin__', '__builtins__', '__doc__', '__loader__', '__name__', '__package__', '__spec__', '_dh', '_i', '_i1', '_ih', '_ii', '_iii', '_oh', 'exit', 'get_ipython', 'quit'], '__': '', '___': '', '_i': '# 查看当前命名空间内的所有变量\\ndir()', '_ii': '', '_iii': '', '_i1': '# 查看当前命名空间内的所有变量\\ndir()', '_1': ['In', 'Out', '_', '__', '___', '__builtin__', '__builtins__', '__doc__', '__loader__', '__name__', '__package__', '__spec__', '_dh', '_i', '_i1', '_ih', '_ii', '_iii', '_oh', 'exit', 'get_ipython', 'quit'], '_i2': '# 全局 (模块级别)命名空间可以通过 globals() \\n# restart Kernel\\narg_test = \\'\\'\\nprint(\"the current scope\\'s global variables:\")\\ndictionary=globals()\\nprint(dictionary)\\n\\n# \\'__builtin__\\'', 'arg_test': '', 'dictionary': {...}}\n"
     ]
    }
   ],
   "source": [
    "# 全局 (模块级别)命名空间可以通过 globals() 函数查看\n",
    "# restart Kernel\n",
    "arg_test = ''\n",
    "# 定义全局变量arg_test\n",
    "print(\"the current scope's global variables:\")\n",
    "dictionary = globals()\n",
    "print(dictionary)\n",
    "\n",
    "# '__builtin__'"
   ]
  },
  {
   "cell_type": "markdown",
   "metadata": {
    "collapsed": true
   },
   "source": [
    "### 内置作用域"
   ]
  },
  {
   "cell_type": "code",
   "execution_count": 4,
   "metadata": {},
   "outputs": [
    {
     "data": {
      "text/plain": [
       "['ArithmeticError',\n",
       " 'AssertionError',\n",
       " 'AttributeError',\n",
       " 'BaseException',\n",
       " 'BlockingIOError',\n",
       " 'BrokenPipeError',\n",
       " 'BufferError',\n",
       " 'BytesWarning',\n",
       " 'ChildProcessError',\n",
       " 'ConnectionAbortedError',\n",
       " 'ConnectionError',\n",
       " 'ConnectionRefusedError',\n",
       " 'ConnectionResetError',\n",
       " 'DeprecationWarning',\n",
       " 'EOFError',\n",
       " 'Ellipsis',\n",
       " 'EnvironmentError',\n",
       " 'Exception',\n",
       " 'False',\n",
       " 'FileExistsError',\n",
       " 'FileNotFoundError',\n",
       " 'FloatingPointError',\n",
       " 'FutureWarning',\n",
       " 'GeneratorExit',\n",
       " 'IOError',\n",
       " 'ImportError',\n",
       " 'ImportWarning',\n",
       " 'IndentationError',\n",
       " 'IndexError',\n",
       " 'InterruptedError',\n",
       " 'IsADirectoryError',\n",
       " 'KeyError',\n",
       " 'KeyboardInterrupt',\n",
       " 'LookupError',\n",
       " 'MemoryError',\n",
       " 'ModuleNotFoundError',\n",
       " 'NameError',\n",
       " 'None',\n",
       " 'NotADirectoryError',\n",
       " 'NotImplemented',\n",
       " 'NotImplementedError',\n",
       " 'OSError',\n",
       " 'OverflowError',\n",
       " 'PendingDeprecationWarning',\n",
       " 'PermissionError',\n",
       " 'ProcessLookupError',\n",
       " 'RecursionError',\n",
       " 'ReferenceError',\n",
       " 'ResourceWarning',\n",
       " 'RuntimeError',\n",
       " 'RuntimeWarning',\n",
       " 'StopAsyncIteration',\n",
       " 'StopIteration',\n",
       " 'SyntaxError',\n",
       " 'SyntaxWarning',\n",
       " 'SystemError',\n",
       " 'SystemExit',\n",
       " 'TabError',\n",
       " 'TimeoutError',\n",
       " 'True',\n",
       " 'TypeError',\n",
       " 'UnboundLocalError',\n",
       " 'UnicodeDecodeError',\n",
       " 'UnicodeEncodeError',\n",
       " 'UnicodeError',\n",
       " 'UnicodeTranslateError',\n",
       " 'UnicodeWarning',\n",
       " 'UserWarning',\n",
       " 'ValueError',\n",
       " 'Warning',\n",
       " 'WindowsError',\n",
       " 'ZeroDivisionError',\n",
       " '__IPYTHON__',\n",
       " '__build_class__',\n",
       " '__debug__',\n",
       " '__doc__',\n",
       " '__import__',\n",
       " '__loader__',\n",
       " '__name__',\n",
       " '__package__',\n",
       " '__spec__',\n",
       " 'abs',\n",
       " 'all',\n",
       " 'any',\n",
       " 'ascii',\n",
       " 'bin',\n",
       " 'bool',\n",
       " 'breakpoint',\n",
       " 'bytearray',\n",
       " 'bytes',\n",
       " 'callable',\n",
       " 'chr',\n",
       " 'classmethod',\n",
       " 'compile',\n",
       " 'complex',\n",
       " 'copyright',\n",
       " 'credits',\n",
       " 'delattr',\n",
       " 'dict',\n",
       " 'dir',\n",
       " 'display',\n",
       " 'divmod',\n",
       " 'enumerate',\n",
       " 'eval',\n",
       " 'exec',\n",
       " 'filter',\n",
       " 'float',\n",
       " 'format',\n",
       " 'frozenset',\n",
       " 'get_ipython',\n",
       " 'getattr',\n",
       " 'globals',\n",
       " 'hasattr',\n",
       " 'hash',\n",
       " 'help',\n",
       " 'hex',\n",
       " 'id',\n",
       " 'input',\n",
       " 'int',\n",
       " 'isinstance',\n",
       " 'issubclass',\n",
       " 'iter',\n",
       " 'len',\n",
       " 'license',\n",
       " 'list',\n",
       " 'locals',\n",
       " 'map',\n",
       " 'max',\n",
       " 'memoryview',\n",
       " 'min',\n",
       " 'next',\n",
       " 'object',\n",
       " 'oct',\n",
       " 'open',\n",
       " 'ord',\n",
       " 'pow',\n",
       " 'print',\n",
       " 'property',\n",
       " 'range',\n",
       " 'repr',\n",
       " 'reversed',\n",
       " 'round',\n",
       " 'set',\n",
       " 'setattr',\n",
       " 'slice',\n",
       " 'sorted',\n",
       " 'staticmethod',\n",
       " 'str',\n",
       " 'sum',\n",
       " 'super',\n",
       " 'tuple',\n",
       " 'type',\n",
       " 'vars',\n",
       " 'zip']"
      ]
     },
     "execution_count": 4,
     "metadata": {},
     "output_type": "execute_result"
    }
   ],
   "source": [
    "import builtins\n",
    "dir(builtins)"
   ]
  },
  {
   "cell_type": "markdown",
   "metadata": {
    "collapsed": true
   },
   "source": [
    "# 变量名解析法则：LEGB\n",
    "查找规则-变量的作用域LEGB\n",
    "\n",
    "- Python 有很多命名空间，而LEGB则是命名空间的一种查找规则\n",
    "- LEGB 分别是：\n",
    "    - locals 是函数内的命名空间，包括局部变量和形参\n",
    "    - enclosing 外部嵌套函数的命名空间（闭包中常见）\n",
    "    - globals 全局变量，函数定义所在模块的命名空间\n",
    "    - builtins 内置模块的命名空间\n",
    "- 查找顺序：L >> E >> G >> B\n",
    "    ![namespace](./res/namespace_LEGB.jpg)"
   ]
  },
  {
   "cell_type": "code",
   "execution_count": 7,
   "metadata": {},
   "outputs": [],
   "source": [
    "v = \"G\" #global\n",
    "def test():\n",
    "    v = \"L\" #local\n",
    "    print(v, \"in locals\")"
   ]
  },
  {
   "cell_type": "code",
   "execution_count": 8,
   "metadata": {},
   "outputs": [
    {
     "name": "stdout",
     "output_type": "stream",
     "text": [
      "L in locals\n"
     ]
    }
   ],
   "source": [
    "test()"
   ]
  },
  {
   "cell_type": "code",
   "execution_count": 9,
   "metadata": {},
   "outputs": [
    {
     "name": "stdout",
     "output_type": "stream",
     "text": [
      "G in global\n"
     ]
    }
   ],
   "source": [
    "print(v, 'in global')"
   ]
  },
  {
   "cell_type": "code",
   "execution_count": 10,
   "metadata": {},
   "outputs": [
    {
     "name": "stdout",
     "output_type": "stream",
     "text": [
      "1\n",
      "2\n"
     ]
    }
   ],
   "source": [
    "a = 1\n",
    "\n",
    "def foo():\n",
    "    a = 2\n",
    "    print(a)\n",
    "print(a)\n",
    "\n",
    "foo()"
   ]
  },
  {
   "cell_type": "markdown",
   "metadata": {},
   "source": [
    "### Enclosed"
   ]
  },
  {
   "cell_type": "code",
   "execution_count": 39,
   "metadata": {},
   "outputs": [
    {
     "name": "stdout",
     "output_type": "stream",
     "text": [
      "2\n"
     ]
    }
   ],
   "source": [
    "a = 1\n",
    "def foo():\n",
    "    a = 2 # Enclosed\n",
    "    def bar():\n",
    "        #b = a + 2\n",
    "        #print(b)\n",
    "        print(a)\n",
    "    return bar    \n",
    "\n",
    "func = foo()\n",
    "func()\n"
   ]
  },
  {
   "cell_type": "markdown",
   "metadata": {},
   "source": [
    "### Global"
   ]
  },
  {
   "cell_type": "code",
   "execution_count": 40,
   "metadata": {},
   "outputs": [
    {
     "name": "stdout",
     "output_type": "stream",
     "text": [
      "111\n"
     ]
    }
   ],
   "source": [
    "x = 666 # global variable\n",
    "\n",
    "def func():\n",
    "    global x #这里声明使用的变量时全局中的x，所以会对全局中的x进行修改\n",
    "    x = 111\n",
    "\n",
    "func()\n",
    "print(x)"
   ]
  },
  {
   "cell_type": "code",
   "execution_count": 41,
   "metadata": {},
   "outputs": [
    {
     "name": "stdout",
     "output_type": "stream",
     "text": [
      "666\n"
     ]
    }
   ],
   "source": [
    "x = 666 # global variable\n",
    "\n",
    "def func():\n",
    "    x = 111\n",
    "\n",
    "func()\n",
    "print(x)"
   ]
  },
  {
   "cell_type": "code",
   "execution_count": 42,
   "metadata": {},
   "outputs": [
    {
     "name": "stdout",
     "output_type": "stream",
     "text": [
      "21\n"
     ]
    }
   ],
   "source": [
    "y, z = 10, 11 #global\n",
    "def ref_to_globals():\n",
    "    x2 = y + z\n",
    "    print(x2)\n",
    "ref_to_globals()"
   ]
  },
  {
   "cell_type": "code",
   "execution_count": 46,
   "metadata": {},
   "outputs": [
    {
     "name": "stdout",
     "output_type": "stream",
     "text": [
      "0\n",
      "10\n"
     ]
    }
   ],
   "source": [
    "x2 = 0\n",
    "y, z = 10, 11\n",
    "def ref_to_globals():\n",
    "    global x2\n",
    "    y = x2 + z\n",
    "ref_to_globals()\n",
    "print(x2)\n",
    "print(y)"
   ]
  },
  {
   "cell_type": "markdown",
   "metadata": {},
   "source": [
    "### Enclosed"
   ]
  },
  {
   "cell_type": "code",
   "execution_count": 47,
   "metadata": {},
   "outputs": [
    {
     "name": "stdout",
     "output_type": "stream",
     "text": [
      "9\n"
     ]
    }
   ],
   "source": [
    "# a = 9 比 a = 10 先被查找到\n",
    "a = 10\n",
    "def f1():\n",
    "    a = 9\n",
    "    def f2():\n",
    "        print(a)\n",
    "    f2()\n",
    "f1()"
   ]
  },
  {
   "cell_type": "markdown",
   "metadata": {},
   "source": [
    "### Enclosed-Lambda"
   ]
  },
  {
   "cell_type": "code",
   "execution_count": 48,
   "metadata": {},
   "outputs": [
    {
     "name": "stdout",
     "output_type": "stream",
     "text": [
      "16\n"
     ]
    }
   ],
   "source": [
    "# Lambda 匿名函数\n",
    "def func():\n",
    "    x = 4\n",
    "    l_func = lambda n:x**n\n",
    "    return l_func\n",
    "x = func()\n",
    "print(x(2))"
   ]
  },
  {
   "cell_type": "markdown",
   "metadata": {},
   "source": [
    "# 函数参数\n",
    "- 要点：\n",
    "    - 函数参数为不可变参数，通过值传递\n",
    "    - 函数参数为可变参数（list，dict），通引用传递\n",
    "    - 参数传递是通过自动将对象赋给本地变量？\n",
    "    - 函数内的参数名的赋值不会影响调用者？\n",
    "    - 改变函数可变对象的参数的值也许会影响调用者（比如list增加元素，就算影响调用者）\n",
    "    \n",
    "- 函数参数和共享引用\n",
    "    - 对可变参数的修改会影响其他引用了该对象的变量\n",
    "    - 对不可变参数的修改不会影响原参数\n",
    "    - 避免传引用导致的参数修改\n",
    "        - 避免方法 ：明确的创建可变对象的拷贝\n",
    "        \n",
    "- 参数匹配的五种模式：\n",
    "    - 根据位置匹配：从左到右\n",
    "    - 根据关键字参数进行匹配\n",
    "        - name = value\n",
    "    - 使用函数默认参数：就不传入值\n",
    "    - 可变参数： 如果字符以*开头，则可以传入任意多的额外参数\n",
    "    - 字典中的参数\n",
    "    "
   ]
  },
  {
   "cell_type": "code",
   "execution_count": 49,
   "metadata": {},
   "outputs": [
    {
     "name": "stdout",
     "output_type": "stream",
     "text": [
      "1\n"
     ]
    }
   ],
   "source": [
    "# 值传递\n",
    "def f(a):\n",
    "    a = 0\n",
    "\n",
    "b = 1\n",
    "f(b)\n",
    "print(b)"
   ]
  },
  {
   "cell_type": "code",
   "execution_count": 51,
   "metadata": {},
   "outputs": [],
   "source": [
    "# 位置匹配\n",
    "def record(name, age, email):\n",
    "    record_name = name\n",
    "    record_age  = age\n",
    "    record_email= email\n",
    "record('Joe', 20, 'Joe@email.com')"
   ]
  },
  {
   "cell_type": "code",
   "execution_count": 52,
   "metadata": {},
   "outputs": [],
   "source": [
    "# 对于动态语言，上例中第二种调用，并没有类型不匹配的问题。只是内容错误而已。由此也引出了关键字匹配\n",
    "record(20, 'Joe', 'Joe@email.com')"
   ]
  },
  {
   "cell_type": "code",
   "execution_count": 53,
   "metadata": {},
   "outputs": [],
   "source": [
    "#在上述例子中第二种调用方式之所以会出现问题，原因在于：\n",
    "#由于采用位置匹配，所以为了保证输入内容正确，调用时，必须知晓参数的位置（或者顺序）。\n",
    "#采用关键字匹配就不存在这种问题。\n",
    "\"\"\"\n",
    "可以看到，关键字匹配与位置匹配的最大区别在于：关键字匹配，在调用函数时，加入了实参与形参的对应信息。\n",
    "这样做的好处在于，调用者只需要知道调用时需要输入的参数名称即可，不用理会其顺序。\n",
    "另外，从语义的角度来看，这种方式在表达上也更加清晰，因为调用时，十分清楚的写明了：\n",
    "age = 20，name = 'Joe'，email = 'Joe@email.com'，\n",
    "程序的可读性非常高。\n",
    "\"\"\"\n",
    "record(name = 'Joe', age = 20, email = 'Joe@email.com')\n",
    "record(age = 20, name = 'Joe', email = 'Joe@email.com')"
   ]
  },
  {
   "cell_type": "markdown",
   "metadata": {},
   "source": [
    "### 默认值"
   ]
  },
  {
   "cell_type": "code",
   "execution_count": 54,
   "metadata": {},
   "outputs": [],
   "source": [
    " def record(name, age, email=\"xxx@email.com\"):\n",
    "    print(name, age, email)"
   ]
  },
  {
   "cell_type": "code",
   "execution_count": 55,
   "metadata": {},
   "outputs": [
    {
     "name": "stdout",
     "output_type": "stream",
     "text": [
      "Joe 20 Joe@gmail.com\n"
     ]
    }
   ],
   "source": [
    "record('Joe', 20, 'Joe@gmail.com')"
   ]
  },
  {
   "cell_type": "code",
   "execution_count": 56,
   "metadata": {},
   "outputs": [
    {
     "name": "stdout",
     "output_type": "stream",
     "text": [
      "Joe 20 xxx@email.com\n"
     ]
    }
   ],
   "source": [
    "record('Joe', 20)"
   ]
  },
  {
   "cell_type": "code",
   "execution_count": null,
   "metadata": {},
   "outputs": [],
   "source": [
    "# 只提供非缺省位置参数值。在本例中，缺省参数取默认值："
   ]
  },
  {
   "cell_type": "code",
   "execution_count": 57,
   "metadata": {},
   "outputs": [
    {
     "data": {
      "text/plain": [
       "'arg=tranquility, def_arg=1, def_arg2=2'"
      ]
     },
     "execution_count": 57,
     "metadata": {},
     "output_type": "execute_result"
    }
   ],
   "source": [
    "def show_args(arg, def_arg=1, def_arg2=2):\n",
    "      return \"arg={}, def_arg={}, def_arg2={}\".format(arg, def_arg, def_arg2)\n",
    "\n",
    "show_args(\"tranquility\")"
   ]
  },
  {
   "cell_type": "code",
   "execution_count": 58,
   "metadata": {},
   "outputs": [
    {
     "data": {
      "text/plain": [
       "'arg=tranquility, def_arg=to Houston, def_arg2=2'"
      ]
     },
     "execution_count": 58,
     "metadata": {},
     "output_type": "execute_result"
    }
   ],
   "source": [
    "# 用提供的值覆盖一些默认的参数值，包括非缺省位置参数：\n",
    "show_args(\"tranquility\", \"to Houston\")"
   ]
  },
  {
   "cell_type": "code",
   "execution_count": 59,
   "metadata": {},
   "outputs": [
    {
     "data": {
      "text/plain": [
       "'arg=tranquility, def_arg=to Houston, def_arg2=the eagle has landed'"
      ]
     },
     "execution_count": 59,
     "metadata": {},
     "output_type": "execute_result"
    }
   ],
   "source": [
    "# 为所有参数提供值，可以用这些值覆盖默认参数值\n",
    "show_args(\"tranquility\", \"to Houston\", \"the eagle has landed\")"
   ]
  },
  {
   "cell_type": "code",
   "execution_count": 4,
   "metadata": {},
   "outputs": [
    {
     "name": "stdout",
     "output_type": "stream",
     "text": [
      "{'arg': '1', 'def_arg': ['Hello World']}\n",
      "1630422106376\n",
      "arg=1, def_arg=['Hello World']\n",
      "{'arg': '2', 'def_arg': ['Hello World', 'Hello World']}\n",
      "1630422106376\n",
      "arg=2, def_arg=['Hello World', 'Hello World']\n"
     ]
    }
   ],
   "source": [
    "# special case\n",
    "a = 10\n",
    "# 特殊情况，deg_arg这个列表在函数执行完后没有在内存中被删除。\n",
    "# 猜测原因是：列表为可变参数。？？？？？\n",
    "def show_args_using_mutable_defaults(arg, def_arg=[]):\n",
    "    def_arg.append(\"Hello World\")\n",
    "    print(locals())\n",
    "    print(id(def_arg))\n",
    "    return \"arg={}, def_arg={}\".format(arg, def_arg)\n",
    "print(show_args_using_mutable_defaults('1'))\n",
    "print(show_args_using_mutable_defaults('2'))"
   ]
  },
  {
   "cell_type": "markdown",
   "metadata": {},
   "source": [
    "### 关键字参数"
   ]
  },
  {
   "cell_type": "code",
   "execution_count": 61,
   "metadata": {},
   "outputs": [],
   "source": [
    "def show_args(arg, def_arg=1):\n",
    "    return \"arg={}, def_arg={}\".format(arg, def_arg)"
   ]
  },
  {
   "cell_type": "code",
   "execution_count": 62,
   "metadata": {},
   "outputs": [
    {
     "data": {
      "text/plain": [
       "'arg=test, def_arg=3'"
      ]
     },
     "execution_count": 62,
     "metadata": {},
     "output_type": "execute_result"
    }
   ],
   "source": [
    "show_args(arg=\"test\", def_arg=3)"
   ]
  },
  {
   "cell_type": "code",
   "execution_count": 63,
   "metadata": {},
   "outputs": [
    {
     "data": {
      "text/plain": [
       "'arg=test, def_arg=1'"
      ]
     },
     "execution_count": 63,
     "metadata": {},
     "output_type": "execute_result"
    }
   ],
   "source": [
    "show_args('test')"
   ]
  },
  {
   "cell_type": "code",
   "execution_count": 64,
   "metadata": {},
   "outputs": [
    {
     "data": {
      "text/plain": [
       "'arg=test, def_arg=1'"
      ]
     },
     "execution_count": 64,
     "metadata": {},
     "output_type": "execute_result"
    }
   ],
   "source": [
    "show_args(arg=\"test\")"
   ]
  },
  {
   "cell_type": "code",
   "execution_count": 65,
   "metadata": {},
   "outputs": [
    {
     "data": {
      "text/plain": [
       "'arg=test, def_arg=3'"
      ]
     },
     "execution_count": 65,
     "metadata": {},
     "output_type": "execute_result"
    }
   ],
   "source": [
    "show_args(\"test\", 3)"
   ]
  },
  {
   "cell_type": "code",
   "execution_count": 66,
   "metadata": {},
   "outputs": [
    {
     "ename": "TypeError",
     "evalue": "show_args() missing 1 required positional argument: 'arg'",
     "output_type": "error",
     "traceback": [
      "\u001b[1;31m---------------------------------------------------------------------------\u001b[0m",
      "\u001b[1;31mTypeError\u001b[0m                                 Traceback (most recent call last)",
      "\u001b[1;32m<ipython-input-66-3c4068463043>\u001b[0m in \u001b[0;36m<module>\u001b[1;34m\u001b[0m\n\u001b[0;32m      1\u001b[0m \u001b[1;31m# 在函数调用中，关键字参数不得早于非关键字参数\u001b[0m\u001b[1;33m\u001b[0m\u001b[1;33m\u001b[0m\u001b[1;33m\u001b[0m\u001b[0m\n\u001b[1;32m----> 2\u001b[1;33m \u001b[0mshow_args\u001b[0m\u001b[1;33m(\u001b[0m\u001b[0mdef_arg\u001b[0m\u001b[1;33m=\u001b[0m\u001b[1;36m4\u001b[0m\u001b[1;33m)\u001b[0m\u001b[1;33m\u001b[0m\u001b[1;33m\u001b[0m\u001b[0m\n\u001b[0m",
      "\u001b[1;31mTypeError\u001b[0m: show_args() missing 1 required positional argument: 'arg'"
     ]
    }
   ],
   "source": [
    "# 在函数调用中，关键字参数不得早于非关键字参数\n",
    "show_args(def_arg=4)"
   ]
  },
  {
   "cell_type": "code",
   "execution_count": 67,
   "metadata": {},
   "outputs": [
    {
     "ename": "TypeError",
     "evalue": "show_args() got multiple values for argument 'arg'",
     "output_type": "error",
     "traceback": [
      "\u001b[1;31m---------------------------------------------------------------------------\u001b[0m",
      "\u001b[1;31mTypeError\u001b[0m                                 Traceback (most recent call last)",
      "\u001b[1;32m<ipython-input-67-d88b7e0adf03>\u001b[0m in \u001b[0;36m<module>\u001b[1;34m\u001b[0m\n\u001b[0;32m      1\u001b[0m \u001b[1;31m# 函数不能为一个参数提供重复值，所以下面的调用方法是非法的\u001b[0m\u001b[1;33m\u001b[0m\u001b[1;33m\u001b[0m\u001b[1;33m\u001b[0m\u001b[0m\n\u001b[1;32m----> 2\u001b[1;33m \u001b[0mshow_args\u001b[0m\u001b[1;33m(\u001b[0m\u001b[1;34m\"test\"\u001b[0m\u001b[1;33m,\u001b[0m \u001b[0marg\u001b[0m\u001b[1;33m=\u001b[0m\u001b[1;34m\"testing\"\u001b[0m\u001b[1;33m)\u001b[0m\u001b[1;33m\u001b[0m\u001b[1;33m\u001b[0m\u001b[0m\n\u001b[0m",
      "\u001b[1;31mTypeError\u001b[0m: show_args() got multiple values for argument 'arg'"
     ]
    }
   ],
   "source": [
    "# 函数不能为一个参数提供重复值，所以下面的调用方法是非法的\n",
    "show_args(\"test\", arg=\"testing\")"
   ]
  },
  {
   "cell_type": "code",
   "execution_count": 68,
   "metadata": {},
   "outputs": [
    {
     "data": {
      "text/plain": [
       "'arg=test, def_arg=testing'"
      ]
     },
     "execution_count": 68,
     "metadata": {},
     "output_type": "execute_result"
    }
   ],
   "source": [
    "# 调换了参数顺序的写法\n",
    "show_args(def_arg=\"testing\", arg=\"test\")"
   ]
  },
  {
   "cell_type": "markdown",
   "metadata": {},
   "source": [
    "### 任意的参数列表"
   ]
  },
  {
   "cell_type": "code",
   "execution_count": 69,
   "metadata": {},
   "outputs": [],
   "source": [
    "def show_multiple_items(line, separator, *args): \n",
    "    return \"line:{} is {}\".format(line, separator.join(args))\n",
    "# 将123 通过逗号连接起来"
   ]
  },
  {
   "cell_type": "code",
   "execution_count": 70,
   "metadata": {},
   "outputs": [
    {
     "data": {
      "text/plain": [
       "'line:start is 1,2,3'"
      ]
     },
     "execution_count": 70,
     "metadata": {},
     "output_type": "execute_result"
    }
   ],
   "source": [
    "show_multiple_items(\"start\", \",\", \"1\",\"2\",\"3\")"
   ]
  },
  {
   "cell_type": "markdown",
   "metadata": {
    "collapsed": true
   },
   "source": [
    "### 解包函数参数"
   ]
  },
  {
   "cell_type": "code",
   "execution_count": 71,
   "metadata": {},
   "outputs": [
    {
     "name": "stdout",
     "output_type": "stream",
     "text": [
      "1,2,3\n"
     ]
    }
   ],
   "source": [
    "def print_args(*args):\n",
    "    print(','.join(args))\n",
    "    \n",
    "in_args = [\"1\",\"2\",\"3\"]\n",
    "# 解包列表参数\n",
    "print_args(*in_args)"
   ]
  },
  {
   "cell_type": "code",
   "execution_count": 72,
   "metadata": {},
   "outputs": [
    {
     "name": "stdout",
     "output_type": "stream",
     "text": [
      "k1 k2 k3\n"
     ]
    }
   ],
   "source": [
    "def print_kwargs(arg1, arg2, arg3):\n",
    "    print(arg1, arg2, arg3)\n",
    "\n",
    "#解包字典参数\n",
    "in_kwargs = {'arg1':'k1', 'arg2':'k2', 'arg3':'k3'}\n",
    "print_kwargs(**in_kwargs)"
   ]
  },
  {
   "cell_type": "code",
   "execution_count": 6,
   "metadata": {},
   "outputs": [
    {
     "name": "stdout",
     "output_type": "stream",
     "text": [
      "westos\n",
      "(11, 12)\n",
      "{'hobbies': ['code', 'running'], 'study': ['math', 'geo']}\n",
      "westos\n",
      "(11, 12, 13)\n",
      "{'hobbies': ['code', 'running'], 'study': ['math', 'geo']}\n"
     ]
    }
   ],
   "source": [
    "def getStuInfo(name,*age,**kwargs):\n",
    "    print(name)\n",
    "    print(age)\n",
    "    print(kwargs)\n",
    "getStuInfo('westos',11,12,hobbies=['code','running'],study=['math','geo'])\n",
    "age_input = [11, 12, 13]\n",
    "kwargs_input = {'hobbies': ['code', 'running'], 'study': ['math', 'geo']}\n",
    "getStuInfo('westos',*age_input,**kwargs_input)"
   ]
  },
  {
   "cell_type": "markdown",
   "metadata": {},
   "source": [
    "## 递归函数\n",
    "- 含义：\n",
    "    - 如果一个函数在内部调用自己本身，这个函数就是递归函数\n",
    "        - 递归就是在过程或函数里调用自身\n",
    "        - 必须有一个明确的递归结束条件，称为递归出口\n",
    "- 既有优点又有缺点"
   ]
  },
  {
   "cell_type": "code",
   "execution_count": 73,
   "metadata": {},
   "outputs": [],
   "source": [
    "def factorial(n):\n",
    "    result = 1\n",
    "    for i in range(2, n+1):\n",
    "        result *= i\n",
    "    return result"
   ]
  },
  {
   "cell_type": "code",
   "execution_count": 74,
   "metadata": {},
   "outputs": [
    {
     "data": {
      "text/plain": [
       "120"
      ]
     },
     "execution_count": 74,
     "metadata": {},
     "output_type": "execute_result"
    }
   ],
   "source": [
    "factorial(5)"
   ]
  },
  {
   "cell_type": "code",
   "execution_count": null,
   "metadata": {},
   "outputs": [],
   "source": [
    "def factorial(n):\n",
    "    if n == 1:\n",
    "        return 1\n",
    "    else:\n",
    "        return n * factorial(n - 1)"
   ]
  },
  {
   "cell_type": "code",
   "execution_count": 75,
   "metadata": {},
   "outputs": [
    {
     "data": {
      "text/plain": [
       "120"
      ]
     },
     "execution_count": 75,
     "metadata": {},
     "output_type": "execute_result"
    }
   ],
   "source": [
    "factorial(5)"
   ]
  },
  {
   "cell_type": "code",
   "execution_count": 77,
   "metadata": {},
   "outputs": [
    {
     "data": {
      "text/plain": [
       "93326215443944152681699238856266700490715968264381621468592963895217599993229915608941463976156518286253697920827223758251185210916864000000000000000000000000"
      ]
     },
     "execution_count": 77,
     "metadata": {},
     "output_type": "execute_result"
    }
   ],
   "source": [
    "factorial(100)"
   ]
  },
  {
   "cell_type": "markdown",
   "metadata": {
    "collapsed": true
   },
   "source": [
    "## 匿名函数Lambda\n",
    "\n",
    "- 格式:\n",
    "`lambda:argument1,argument2,...:expression`\n",
    "\n",
    "- 是表达式，非语句\n",
    "- 单个表达式，而不是一个代码块\n",
    "- 为什么使用Lambda\n",
    "    - 为了代码简洁\n",
    "- 嵌套Lambda 与 作用域\n"
   ]
  },
  {
   "cell_type": "code",
   "execution_count": 78,
   "metadata": {},
   "outputs": [
    {
     "name": "stdout",
     "output_type": "stream",
     "text": [
      "2.0\n"
     ]
    }
   ],
   "source": [
    "import math\n",
    "def square_root(x): \n",
    "    return math.sqrt(x)\n",
    "print(square_root(4))"
   ]
  },
  {
   "cell_type": "code",
   "execution_count": null,
   "metadata": {},
   "outputs": [],
   "source": [
    "import math\n",
    "square_root = lambda x: math.sqrt(x)\n",
    "print(square_root(4))"
   ]
  },
  {
   "cell_type": "markdown",
   "metadata": {},
   "source": [
    "#### 嵌套lambda"
   ]
  },
  {
   "cell_type": "code",
   "execution_count": 7,
   "metadata": {},
   "outputs": [
    {
     "data": {
      "text/plain": [
       "101"
      ]
     },
     "execution_count": 7,
     "metadata": {},
     "output_type": "execute_result"
    }
   ],
   "source": [
    "def action(x):\n",
    "    return lambda y: x+y\n",
    "\n",
    "act = action(99)\n",
    "act(2)"
   ]
  },
  {
   "cell_type": "code",
   "execution_count": 9,
   "metadata": {},
   "outputs": [
    {
     "data": {
      "text/plain": [
       "102"
      ]
     },
     "execution_count": 9,
     "metadata": {},
     "output_type": "execute_result"
    }
   ],
   "source": [
    "action = (lambda x: (lambda y: x+y))\n",
    "act = action(99)\n",
    "act(3)"
   ]
  },
  {
   "cell_type": "markdown",
   "metadata": {},
   "source": [
    "# 函数式编程\n",
    "![Functional programming](./res/Functional_programming.jpg)"
   ]
  },
  {
   "cell_type": "code",
   "execution_count": 80,
   "metadata": {},
   "outputs": [],
   "source": [
    "def f1(x):\n",
    "    return x*2\n",
    "def f2(x):\n",
    "    if x!=2:\n",
    "        return x"
   ]
  },
  {
   "cell_type": "code",
   "execution_count": 81,
   "metadata": {},
   "outputs": [
    {
     "name": "stdout",
     "output_type": "stream",
     "text": [
      "[2, 4, 6]\n"
     ]
    }
   ],
   "source": [
    "r_f1 = map(f1, [1, 2, 3])\n",
    "print(list(r_f1))"
   ]
  },
  {
   "cell_type": "code",
   "execution_count": 82,
   "metadata": {},
   "outputs": [
    {
     "name": "stdout",
     "output_type": "stream",
     "text": [
      "[1, 3]\n"
     ]
    }
   ],
   "source": [
    "r_f2 = filter(f2, [1, 2, 3])\n",
    "print(list(r_f2))"
   ]
  },
  {
   "cell_type": "markdown",
   "metadata": {},
   "source": [
    "# Python中的模块\n",
    "\n",
    "## 模块是一种程序的组织单元\n",
    "   - 一个模块就是一个python文件，这个文件可以包含多个函数等\n",
    "   - 模块封装了代码和数据以便重用\n",
    "   - 模块实现了命名空间的划分\n",
    "       - 一个模块有自己的一个命名空间，不同模块中可以出现相同的变量\n",
    "   - **Python中每一个文件都是一个模块**\n",
    "   - **模块是一个对象**\n",
    "    - 可以通过dir()查看模块的属性\n",
    "    \n",
    "   - 模块示意图：\n",
    "   ![module](./res/Lesson3_module.jpg)\n",
    "\n",
    "## 模块的相关操作\n",
    "- 导入模块 `import`\n",
    "- form\n",
    "- reload 模块(重载模块)\n",
    "\n",
    "## 程序架构\n",
    "- 程序架构即如何组织一个程序\n",
    "\n",
    "- 示例：\n",
    "    一个module1文件加内包含三个模块（即三个python文件）\n",
    "    \n",
    "    如果想在main.py中导入module_one,通过命令： `import module_one`\n",
    "    ![three_module](./res/Lesson3_three_module.jpg)\n",
    "- 示例2：\n",
    "    一个python包\n",
    "    ![package_eg](./res/Lesson3_package_eg.jpg)\n",
    "\n",
    "## 导入模块的机制（import）\n",
    "- 搜索模块： 使用import命令之后python会搜索模块\n",
    "    - 模块搜索的路径有三种可能性\n",
    "        - 程序所在目录\n",
    "        - 标准库安装路径\n",
    "        - 操作系统环境变量PYTHONPATH指向的路径\n",
    "        \n",
    "- 注意：\n",
    "    - 导入只发生一次（见下例）：多次import不会多次执行模块，只会执行一次\n",
    "\n",
    "- 示例：\n",
    "    - 目录结构\n",
    "    > - `module4`\n",
    "        - a.py\n",
    "        - b.py\n",
    "        - main.py\n",
    "        - main_impoort.py\n",
    "\n",
    "a.py\n",
    "```python\n",
    "x = 100\n",
    "```\n",
    "\n",
    "b.py\n",
    "```python\n",
    "print('module loaded+')\n",
    "```\n",
    "main.py\n",
    "```python\n",
    "from a import x\n",
    "import a\n",
    "print(x)\n",
    "print(a.x)\n",
    "\n",
    "x = 99\n",
    "print(x)\n",
    "print(a.x)\n",
    "\n",
    "a.x = 101\n",
    "print(x)\n",
    "print(a.x)\n",
    "```\n",
    "\n",
    "main_import.py\n",
    "```python\n",
    "import b\n",
    "import b\n",
    "```\n",
    "\n",
    "   - main 运行结果：\n",
    "         100\n",
    "         100\n",
    "         99\n",
    "         100\n",
    "         99\n",
    "         101\n",
    "   - main_import 运行结果：\n",
    "         module loaded+\n",
    "\n",
    "## 模块命名空间\n",
    "- 当模块被导入时就会生成对应的命名空间，比如import a, a就是一个命名空间，可以通过a.x 对命名空间中的变量x进行访问。并且可以通过dir（a）来查看a属性。参照上例。\n",
    "- 各个模块的命名空间是相互隔离的\n",
    "- 模块就是命名空间\n",
    "- 模块的名字就是该模块命名空间的名字\n",
    "\n",
    "## 重载模块\n",
    "\n",
    "用途：当某一模块被导入之后，对该模块进行了修改，其他调用了这个模块的其他模块必不能使用修改后的模块，所以需要在使用这个模块的其他模块中重载该模块。在服务器应用中，可以不停机应用修改。\n",
    "- 方法 ：reload 函数\n",
    "    - reload 是内置函数，而不是语句\n",
    "    - reload函数的参数是模块对象，而不是变量名\n",
    "    - 模块必须已经成功导入过，否则无法重载"
   ]
  },
  {
   "cell_type": "markdown",
   "metadata": {},
   "source": [
    "## 包（模块包）\n",
    "\n",
    "- 定义： 包是一种带有特殊`__init__.py` 文件的python模块的文件目录\n",
    "\n",
    "- 创建： 确保每个目录都定义一个`__init__.py`文件\n",
    "    - 该文件的内容可以为空\n",
    "\n",
    "- 一个python包\n",
    "    ![package_eg](./res/Lesson3_package_eg.jpg)\n",
    "    \n",
    "---------\n",
    "---------\n",
    "### `__init__.py`\n",
    "- `__init__.py` 控制着包的导入行为,这个文件中也可以包含一些初始化代码或者为 `__all__`变量赋值。 在导入包的时候，程序会最先运行这个init文件\n",
    "    - 假如 `__init__.py` 为空，那么init文件在导入时什么都不做\n",
    "        > import PackageName\n",
    "    - `__init__.py` 中有一个重要的变量，是 `__all__`\n",
    "         > form PackageName import * ,这里的星代表了 `__all__` 里面所指定的对象\n",
    "\n",
    "示例，当`__init__.py`文件中有代码，该代码会被执行：\n",
    "\n",
    "文件目录结构：\n",
    "- test/\n",
    "    - package/\n",
    "        - `__init__.py`\n",
    "        - module.py\n",
    "    - run.py\n",
    "\n",
    "test文件夹中包含一个package包，run.py作为主程序运行。\n",
    "\n",
    "\\_\\_init\\_\\_.py\n",
    "```python\n",
    "print('Import is succeed')\n",
    "```\n",
    "moudle.py\n",
    "```python\n",
    "def pr():\n",
    "\tprint('print from module function')\n",
    "\n",
    "if __name__ == '__main__':\n",
    "\tpr()\n",
    "```\n",
    "\n",
    "run.py\n",
    "```python\n",
    "import package.module\n",
    "```\n",
    "\n",
    "结果：\n",
    "> Import is succeed\n",
    "\n",
    "--------\n",
    "--------\n",
    "\n",
    "## 模块隐藏数据与实例\n",
    "模块封装着数据和实例，python可以实现模块内的数据和实例的隐藏\n",
    "- 有两种实现方式：\n",
    "    - 模块私有变量， _x ，即变量名的第一个字符时下划线\n",
    "    - \\_\\_all\\_\\_ 变量\n",
    "        - 在 `from PackageName import * ` 语句中的 `*` 代表的是\\_\\_init\\_\\_.py文件中的 \\_\\_all\\_\\_ 变量，\n",
    "        - 此外当执行文件直接导入其他模块时（非包文件）， \\_\\_all\\_\\_ 也可以定义在该模块中\n",
    "        - \\_\\_all\\_\\_ 的定义形式：\\_\\_all\\_\\_ = \\[\"A\",\"B\",\"C\" \\]\n",
    "            - 在这种情况下，只能调用 A B C，如果调用其他会出出错\n",
    "            - 通过这种方法也可以导出`_x` 私有变量 \n",
    "            - 其中 ABC 可以是变量也可以是函数名\n",
    "\n",
    "实例：文件结构\n",
    "- test/\n",
    " - load_main.py\n",
    " - main.py\n",
    "\n",
    "\n",
    "- _city 模块私有变量：\n",
    "    - load_main.py\n",
    "        ```python\n",
    "        from main import *\n",
    "        print(city)\n",
    "        print(_city)\n",
    "        print(nation)\n",
    "\n",
    "        ```\n",
    "    - main.py\n",
    "        ```python\n",
    "         _city = 'beijing'\n",
    "         city = 'beijing'\n",
    "         nation = 'china'\n",
    "          \n",
    "        ```\n",
    "    - 结果：`NameError: name '_city' is not defined`\n",
    "\n",
    "- `__all__` 方法：\n",
    " - load_main.py\n",
    "```python\n",
    "from main import *\n",
    "print(city)\n",
    "print(_city)\n",
    "print(nation)\n",
    "```\n",
    "\n",
    " - main.py\n",
    "```python\n",
    "__all__ = ['nation','_city']\n",
    "_city = 'beijing'\n",
    "city = 'beijing'\n",
    "nation = 'china'\n",
    "```\n",
    " - 结果：`NameError: name 'city' is not defined`"
   ]
  },
  {
   "cell_type": "markdown",
   "metadata": {},
   "source": [
    "## `__name__`与`__main__`\n",
    "\n",
    "如果我们导入的模块除了定义函数之外还中有可以执行代码，那么Python解释器在导入这个模块时就会执行这些代码，事实上我们可能并不希望如此，因此如果我们在模块中编写了执行代码，最好是将这些执行代码放入`if __name__ == '__main__': `条件中，这样的话除非直接运行该模块，if条件下的这些代码是不会执行的，因为只有直接执行的模块(顶层文件)的名字才是“\\_\\_main\\_\\_”。\n",
    "\n",
    "每个模块都具有默认属性 `__name__`：\n",
    "   - 顶层文件（被直接执行的文件（模块））运行时,python默认设置其`__name__`为`__main__`\n",
    "   - 如果文件被导入，则模块本身的名字就是`__name__`的值\n",
    "\n",
    "### 例1：\n",
    "\n",
    "**顶层运行**：\n",
    "\n",
    "- 直接执行文件main.py\n",
    " - 可以通过cmd：`python main.py`\n",
    " - 也可以用IDE运行\n",
    "\n",
    "main.py\n",
    "\n",
    "```python\n",
    "def module(arg=0):\n",
    "\tprint('my name is:', __name__)\n",
    "\tprint('main:',arg)\n",
    "\n",
    "if __name__ == '__main__':\n",
    "\tmodule()\n",
    "```\n",
    "\n",
    "- 结果：\n",
    "\n",
    "my name is: \\_\\_main\\_\\_\n",
    "\n",
    "main: 0\n",
    "\n",
    "**通过其他函数调用main**：\n",
    "\n",
    "command.py\n",
    "\n",
    "```python\n",
    "import main\n",
    "import sys\n",
    "\n",
    "if __name__ == '__main__':\n",
    "\tmain.module(0)\n",
    "\n",
    "\tif len(sys.argv) > 2:\n",
    "\t\tprint('extra parameter:', sys.argv[2])\n",
    "```\n",
    "\n",
    "结果：\n",
    "\n",
    "my name is: main\n",
    "\n",
    "main: 0\n",
    "\n",
    "\n",
    "\n",
    "### 例2：\n",
    "文件目录结构：\n",
    "\n",
    "- test/\n",
    "    - package/\n",
    "        - `__init__.py`\n",
    "        - module.py\n",
    "    - run.py\n",
    "\n",
    "test文件夹中包含一个package包，run.py作为主程序运行。\n",
    "\n",
    "\\_\\_init\\_\\_.py\n",
    "```python\n",
    "#空\n",
    "```\n",
    "moudle.py\n",
    "```python\n",
    "def pr():\n",
    "\tprint('print from module function')\n",
    "\n",
    "print('print from module')\n",
    "\n",
    "# __name__是Python中一个隐含的变量它代表了模块的名字\n",
    "# 只有被Python解释器直接执行的模块的名字才是__main__\n",
    "if __name__ == '__main__':\n",
    "\tpr()\n",
    "\tprint('print from module')\n",
    "```\n",
    "\n",
    "run.py\n",
    "```python\n",
    "import package.module\n",
    "#与上述等效\n",
    "#from package import module\n",
    "\n",
    "# python中，一切皆为对象，对象具有属性，dir（）可以查看对象的属性\n",
    "# 通过 . 运算符调用该对象的属性。\n",
    "print('主函数所具有的属性: ' + str(dir()))\n",
    "print('module模块所具有的属性: ' + str(dir(package.module)))\n",
    "print('module 的.__name__属性值 : ' + package.module.__name__)\n",
    "print('run 函数的.__name__属性值： ' + __name__)\n",
    "```\n",
    "\n",
    "> output:\n",
    "    \n",
    ">` print from module\n",
    "主函数所具有的属性: ['In', 'Out', '_', '__', '___', '__builtin__', '__builtins__', '__doc__', '__file__', '__loader__', '__name__', '__package__', '__spec__', '_dh', '_exit_code', '_i', '_i1', '_i2', '_ih', '_ii', '_iii', '_oh', 'exit', 'get_ipython', 'package', 'quit']\n",
    "module模块所具有的属性: ['__builtins__', '__cached__', '__doc__', '__file__', '__loader__', '__name__', '__package__', '__spec__', 'pr']\n",
    "module 的.__name__属性值 : package.module\n",
    "run 函数的.__name__属性值： __main__`"
   ]
  },
  {
   "cell_type": "markdown",
   "metadata": {},
   "source": [
    "## 包的相对导入\n",
    "\n",
    "相对于当前模块的导入路径，可以使用.来表示， \n",
    "   - .表示为当前目录\n",
    "   - .. 表示上一级目录\n",
    "\n",
    "文件目录结构：\n",
    "- test/\n",
    "    test1.py\n",
    "    test2.py\n",
    "同一个目录下的两个模块。\n",
    "\n",
    "在test1中导入test2，采用相对导入的方法：\n",
    "\n",
    "test1.py:\n",
    "```python\n",
    "from . import test2\n",
    "```\n"
   ]
  }
 ],
 "metadata": {
  "kernelspec": {
   "display_name": "Python 3",
   "language": "python",
   "name": "python3"
  },
  "language_info": {
   "codemirror_mode": {
    "name": "ipython",
    "version": 3
   },
   "file_extension": ".py",
   "mimetype": "text/x-python",
   "name": "python",
   "nbconvert_exporter": "python",
   "pygments_lexer": "ipython3",
   "version": "3.7.3"
  },
  "toc": {
   "base_numbering": 1,
   "nav_menu": {},
   "number_sections": true,
   "sideBar": true,
   "skip_h1_title": false,
   "title_cell": "Table of Contents",
   "title_sidebar": "Contents",
   "toc_cell": false,
   "toc_position": {},
   "toc_section_display": true,
   "toc_window_display": true
  }
 },
 "nbformat": 4,
 "nbformat_minor": 2
}
