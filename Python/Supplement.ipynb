{
 "cells": [
  {
   "cell_type": "markdown",
   "metadata": {},
   "source": [
    "# `__new__()`方法\n",
    "\n",
    "我们首先得从`__new__(cls[,...])`的参数说说起，`__new__`方法的第一个参数是这个类，而其余的参数会在调用成功后全部传递给`__init__`方法初始化\n",
    "\n",
    "所以，`__new__`方法（第一个执行）先于`__init__`方法执行。\n",
    "\n",
    "我们比较两个方法的参数，可以发现`__new__`方法是传入类(cls)，而`__init__`方法传入类的实例化对象(self)，而有意思的是，`__new__`方法返回的值就是一个实例化对象（ps:如果`__new__`方法返回None，则`__init__`方法不会被执行，并且返回值只能调用父类中的`__new__`方法，而不能调用毫无关系的类的`__new__`方法）。我们可以这么理解它们之间的关系，`__new__`是开辟疆域的大将军，而`__init__`是在这片疆域上辛勤劳作的小老百姓，只有`__new__`执行完后，开辟好疆域后，`__init__`才能工作。\n",
    "\n",
    "绝大多数情况下，我们都不需要自己重写`__new__`方法，但在当继承一个不可变的类型（例如str类,int类等）时，它的特性就尤显重要了。\n",
    "\n",
    "我们可以根据上面的理论可以这样分析，我们知道字符串是不可改变的，所以第一个例子中，传入的字符串相当于已经被打下的疆域，而这块疆域除了将军其他谁也无法改变，`__init__`只能在这块领地上干瞪眼，此时这块疆域就是”I love China!“。而第二个例子中，`__new__`大将军重新去开辟了一块疆域，所以疆域上的内容也发生了变化，此时这块疆域变成了”I LOVE CHINA!“。\n",
    "\n",
    "小结：`__new__`和`__init__`想配合才是python中真正的类构造器。\n"
   ]
  },
  {
   "cell_type": "code",
   "execution_count": null,
   "metadata": {},
   "outputs": [],
   "source": [
    "# new 与 init 的先后执行顺序\n",
    "class A:\n",
    "    pass\n",
    " \n",
    "class B(A):\n",
    "    def __new__(cls):\n",
    "        print(\"__new__方法被执行\")\n",
    "        return super().__new__(cls)\n",
    "    def __init__(self):\n",
    "        print(\"__init__方法被执行\")\n",
    " \n",
    "b = B()"
   ]
  },
  {
   "cell_type": "code",
   "execution_count": null,
   "metadata": {},
   "outputs": [],
   "source": [
    "# 不可变类型继承会有问题\n",
    "class CapStr(str):\n",
    "    def __init__(self,string):\n",
    "        string = string.upper()\n",
    " \n",
    "a = CapStr(\"I love China!\")\n",
    "print(a)"
   ]
  },
  {
   "cell_type": "code",
   "execution_count": null,
   "metadata": {},
   "outputs": [],
   "source": [
    "# 不可变类的继承通过new实现\n",
    "class CapStr(str):\n",
    "    def __new__(cls,string):\n",
    "        string = string.upper()\n",
    "        return super().__new__(cls,string)\n",
    " \n",
    "a = CapStr(\"I love China!\")\n",
    "print(a)"
   ]
  },
  {
   "cell_type": "markdown",
   "metadata": {},
   "source": [
    "# 类继承中的`__init__`\n",
    "\n",
    "https://www.jianshu.com/p/452e0fadd144"
   ]
  },
  {
   "cell_type": "code",
   "execution_count": 34,
   "metadata": {},
   "outputs": [
    {
     "data": {
      "text/plain": [
       "\"\\ndog = CDog()\\ndog.SetVoice('I am a dog!') \\ndog.Say()\\ndog.Run() \\n\""
      ]
     },
     "execution_count": 34,
     "metadata": {},
     "output_type": "execute_result"
    }
   ],
   "source": [
    "# 稍微复杂\n",
    "class CAnimal:\n",
    "    def __init__(self,voice='hello'): # voice初始化默认为hello\n",
    "        self.voice = voice\n",
    "    def Say(self):\n",
    "        print(self.voice)\n",
    "    def Run(self):\n",
    "        pass    # 空操作语句（不做任何操作）\n",
    "\n",
    "class CDog(CAnimal):          # 继承类CAnimal\n",
    "    def SetVoice(self,voice): # 子类增加函数SetVoice\n",
    "        self.voice = voice\n",
    "    def Run(self):            # 子类重载函数Run\n",
    "        print('Running')\n",
    "\"\"\"\n",
    "dog = CDog()\n",
    "dog.SetVoice('I am a dog!') \n",
    "dog.Say()\n",
    "dog.Run() \n",
    "\"\"\""
   ]
  },
  {
   "cell_type": "code",
   "execution_count": 35,
   "metadata": {},
   "outputs": [
    {
     "name": "stdout",
     "output_type": "stream",
     "text": [
      "hello\n"
     ]
    }
   ],
   "source": [
    "# 基类\n",
    "dogf = CAnimal()\n",
    "dogf.Say()"
   ]
  },
  {
   "cell_type": "code",
   "execution_count": 2,
   "metadata": {},
   "outputs": [
    {
     "name": "stdout",
     "output_type": "stream",
     "text": [
      "hello\n"
     ]
    }
   ],
   "source": [
    "# 子类\n",
    "dofchild = CDog()\n",
    "dofchild.Say()"
   ]
  },
  {
   "cell_type": "code",
   "execution_count": 21,
   "metadata": {},
   "outputs": [],
   "source": [
    "# 稍微复杂\n",
    "class CAnimal:\n",
    "    def __init__(self,voice='hello'): # voice初始化默认为hello\n",
    "        self.voice = voice\n",
    "    def Say(self):\n",
    "        print(self.voice)\n",
    "    def Run(self):\n",
    "        pass    # 空操作语句（不做任何操作）\n",
    "\n",
    "class CDog(CAnimal):          # 继承类CAnimal\n",
    "    def __init__(self):\n",
    "        pass\n",
    "    def SetVoice(self,voice): # 子类增加函数SetVoice\n",
    "        self.voice = voice\n",
    "    def Run(self):            # 子类重载函数Run\n",
    "        print('Running')"
   ]
  },
  {
   "cell_type": "code",
   "execution_count": 22,
   "metadata": {},
   "outputs": [
    {
     "ename": "AttributeError",
     "evalue": "'CDog' object has no attribute 'voice'",
     "output_type": "error",
     "traceback": [
      "\u001b[1;31m---------------------------------------------------------------------------\u001b[0m",
      "\u001b[1;31mAttributeError\u001b[0m                            Traceback (most recent call last)",
      "\u001b[1;32m<ipython-input-22-f4392b102f00>\u001b[0m in \u001b[0;36m<module>\u001b[1;34m\u001b[0m\n\u001b[0;32m      1\u001b[0m \u001b[0mdofchild\u001b[0m \u001b[1;33m=\u001b[0m \u001b[0mCDog\u001b[0m\u001b[1;33m(\u001b[0m\u001b[1;33m)\u001b[0m\u001b[1;33m\u001b[0m\u001b[1;33m\u001b[0m\u001b[0m\n\u001b[0;32m      2\u001b[0m \u001b[1;31m##dofchild.SetVoice('I am a dog!')\u001b[0m\u001b[1;33m\u001b[0m\u001b[1;33m\u001b[0m\u001b[1;33m\u001b[0m\u001b[0m\n\u001b[1;32m----> 3\u001b[1;33m \u001b[0mdofchild\u001b[0m\u001b[1;33m.\u001b[0m\u001b[0mSay\u001b[0m\u001b[1;33m(\u001b[0m\u001b[1;33m)\u001b[0m\u001b[1;33m\u001b[0m\u001b[1;33m\u001b[0m\u001b[0m\n\u001b[0m",
      "\u001b[1;32m<ipython-input-21-333de0239c46>\u001b[0m in \u001b[0;36mSay\u001b[1;34m(self)\u001b[0m\n\u001b[0;32m      4\u001b[0m         \u001b[0mself\u001b[0m\u001b[1;33m.\u001b[0m\u001b[0mvoice\u001b[0m \u001b[1;33m=\u001b[0m \u001b[0mvoice\u001b[0m\u001b[1;33m\u001b[0m\u001b[1;33m\u001b[0m\u001b[0m\n\u001b[0;32m      5\u001b[0m     \u001b[1;32mdef\u001b[0m \u001b[0mSay\u001b[0m\u001b[1;33m(\u001b[0m\u001b[0mself\u001b[0m\u001b[1;33m)\u001b[0m\u001b[1;33m:\u001b[0m\u001b[1;33m\u001b[0m\u001b[1;33m\u001b[0m\u001b[0m\n\u001b[1;32m----> 6\u001b[1;33m         \u001b[0mprint\u001b[0m\u001b[1;33m(\u001b[0m\u001b[0mself\u001b[0m\u001b[1;33m.\u001b[0m\u001b[0mvoice\u001b[0m\u001b[1;33m)\u001b[0m\u001b[1;33m\u001b[0m\u001b[1;33m\u001b[0m\u001b[0m\n\u001b[0m\u001b[0;32m      7\u001b[0m     \u001b[1;32mdef\u001b[0m \u001b[0mRun\u001b[0m\u001b[1;33m(\u001b[0m\u001b[0mself\u001b[0m\u001b[1;33m)\u001b[0m\u001b[1;33m:\u001b[0m\u001b[1;33m\u001b[0m\u001b[1;33m\u001b[0m\u001b[0m\n\u001b[0;32m      8\u001b[0m         \u001b[1;32mpass\u001b[0m    \u001b[1;31m# 空操作语句（不做任何操作）\u001b[0m\u001b[1;33m\u001b[0m\u001b[1;33m\u001b[0m\u001b[0m\n",
      "\u001b[1;31mAttributeError\u001b[0m: 'CDog' object has no attribute 'voice'"
     ]
    }
   ],
   "source": [
    "dofchild = CDog()\n",
    "##dofchild.SetVoice('I am a dog!') \n",
    "dofchild.Say()"
   ]
  },
  {
   "cell_type": "code",
   "execution_count": 32,
   "metadata": {},
   "outputs": [],
   "source": [
    "# 稍微复杂\n",
    "class CAnimal:\n",
    "    def __init__(self,voice='hello',voice1='hello1'): # voice初始化默认为hello\n",
    "        self.voice = voice\n",
    "        self.voice1 = voice1\n",
    "    def Say(self):\n",
    "        print(self.voice)\n",
    "        print(self.voice1)\n",
    "    def Run(self):\n",
    "        pass    # 空操作语句（不做任何操作）\n",
    "\n",
    "class CDog(CAnimal):          # 继承类CAnimal\n",
    "    def __init__(self):\n",
    "        #super(CDog, self).__init__(voice='abd')\n",
    "        CAnimal.__init__(self,voice='efg')\n",
    "        pass\n",
    "    def SetVoice(self,voice): # 子类增加函数SetVoice\n",
    "        self.voice = voice\n",
    "    def Run(self):            # 子类重载函数Run\n",
    "        print('Running')"
   ]
  },
  {
   "cell_type": "code",
   "execution_count": 33,
   "metadata": {},
   "outputs": [
    {
     "name": "stdout",
     "output_type": "stream",
     "text": [
      "efg\n",
      "hello1\n"
     ]
    }
   ],
   "source": [
    "dog123 = CDog()\n",
    "dog123.Say()"
   ]
  },
  {
   "cell_type": "code",
   "execution_count": 28,
   "metadata": {},
   "outputs": [
    {
     "name": "stdout",
     "output_type": "stream",
     "text": [
      "Aaaah...\n",
      "No, thanks.\n"
     ]
    }
   ],
   "source": [
    "class Bird(object):\n",
    "    def __init__(self):\n",
    "        self.hungry = True\n",
    "    def eat(self):\n",
    "        if self.hungry:\n",
    "            print('Aaaah...')\n",
    "            self.hungry = False\n",
    "        else:\n",
    "            print('No, thanks.')\n",
    "\n",
    "if __name__ == '__main__':\n",
    "    b = Bird()\n",
    "    b.eat()\n",
    "    b.eat()"
   ]
  },
  {
   "cell_type": "code",
   "execution_count": 16,
   "metadata": {},
   "outputs": [
    {
     "name": "stdout",
     "output_type": "stream",
     "text": [
      "Squawk\n",
      "Aaaah...\n"
     ]
    }
   ],
   "source": [
    "class SongBird(Bird):\n",
    "    #def __init__(self):\n",
    "        #self.sound = 'Squawk'\n",
    "    def sing(self):\n",
    "        print('Squawk')\n",
    "\n",
    "if __name__ == '__main__':\n",
    "  sb = SongBird()\n",
    "  sb.sing()\n",
    "  # 下面我们调用父类继承来的方法\n",
    "  sb.eat()"
   ]
  }
 ],
 "metadata": {
  "kernelspec": {
   "display_name": "Python 3",
   "language": "python",
   "name": "python3"
  },
  "language_info": {
   "codemirror_mode": {
    "name": "ipython",
    "version": 3
   },
   "file_extension": ".py",
   "mimetype": "text/x-python",
   "name": "python",
   "nbconvert_exporter": "python",
   "pygments_lexer": "ipython3",
   "version": "3.7.3"
  },
  "toc": {
   "base_numbering": 1,
   "nav_menu": {},
   "number_sections": true,
   "sideBar": true,
   "skip_h1_title": false,
   "title_cell": "Table of Contents",
   "title_sidebar": "Contents",
   "toc_cell": false,
   "toc_position": {},
   "toc_section_display": true,
   "toc_window_display": false
  }
 },
 "nbformat": 4,
 "nbformat_minor": 2
}
