{
 "cells": [
  {
   "cell_type": "markdown",
   "metadata": {},
   "source": [
    "# Python Lesson 2"
   ]
  },
  {
   "cell_type": "markdown",
   "metadata": {},
   "source": [
    "# 语句和语法\n",
    "- 基本规则：\n",
    "    - 语句顺序执行\n",
    "\n",
    "- 分隔符：\n",
    "    - 代码使用缩进来检测分离\n",
    "    - 建议使用四个空格\n",
    "- 多行规则\n",
    "    - 使用括号对\n",
    "    - 使用反斜线\n",
    "    - 其他特殊： 字符串三个引号"
   ]
  },
  {
   "cell_type": "code",
   "execution_count": 1,
   "metadata": {},
   "outputs": [],
   "source": [
    "# 括号不是必须的\n",
    "# 建议不使用括号\n",
    "x = 2\n",
    "y = 1\n",
    "\"\"\"\n",
    "if (x > y) {\n",
    "    x = y\n",
    "}\n",
    "\"\"\"\n",
    "\n",
    "if (x > y):\n",
    "    x = y\n",
    "\n",
    "if x > y:\n",
    "    x = y "
   ]
  },
  {
   "cell_type": "code",
   "execution_count": 2,
   "metadata": {},
   "outputs": [
    {
     "data": {
      "text/plain": [
       "2"
      ]
     },
     "execution_count": 2,
     "metadata": {},
     "output_type": "execute_result"
    }
   ],
   "source": [
    "# 缩进的case BAD\n",
    "# if(x>y) if(x>y1) z=1; else z=2;\n",
    "#\n",
    "#\n",
    "# if(x>y)\n",
    "#     if(x>y1)\n",
    "#         z=1;\n",
    "# else\n",
    "# z=2;\n",
    "x=1\n",
    "y=2\n",
    "if x>y:\n",
    "    if x>y1:\n",
    "        z=1\n",
    "else:\n",
    "    z=2;\n",
    "z"
   ]
  },
  {
   "cell_type": "markdown",
   "metadata": {},
   "source": [
    "## 特殊情况"
   ]
  },
  {
   "cell_type": "code",
   "execution_count": 3,
   "metadata": {},
   "outputs": [
    {
     "name": "stdout",
     "output_type": "stream",
     "text": [
      "2\n"
     ]
    }
   ],
   "source": [
    "# 简单语句还是可以分号\n",
    "x=2;y=1;print(x);"
   ]
  },
  {
   "cell_type": "code",
   "execution_count": 4,
   "metadata": {},
   "outputs": [
    {
     "ename": "SyntaxError",
     "evalue": "invalid syntax (<ipython-input-4-647663494f90>, line 2)",
     "output_type": "error",
     "traceback": [
      "\u001b[1;36m  File \u001b[1;32m\"<ipython-input-4-647663494f90>\"\u001b[1;36m, line \u001b[1;32m2\u001b[0m\n\u001b[1;33m    x=2;y=1;if x>y: print('1')\u001b[0m\n\u001b[1;37m             ^\u001b[0m\n\u001b[1;31mSyntaxError\u001b[0m\u001b[1;31m:\u001b[0m invalid syntax\n"
     ]
    }
   ],
   "source": [
    "# 复合语句不可以,invalid syntax\n",
    "x=2;y=1;if x>y: print('1')"
   ]
  },
  {
   "cell_type": "code",
   "execution_count": 5,
   "metadata": {},
   "outputs": [
    {
     "data": {
      "text/plain": [
       "[1, 2, 3, 4]"
      ]
     },
     "execution_count": 5,
     "metadata": {},
     "output_type": "execute_result"
    }
   ],
   "source": [
    "# 可以换行的case\n",
    "a = [1,2,\n",
    "     3,\n",
    "     4]\n",
    "a"
   ]
  },
  {
   "cell_type": "code",
   "execution_count": 7,
   "metadata": {},
   "outputs": [
    {
     "data": {
      "text/plain": [
       "3"
      ]
     },
     "execution_count": 7,
     "metadata": {},
     "output_type": "execute_result"
    }
   ],
   "source": [
    "a = 1\n",
    "b = 2\n",
    "c = a + \\\n",
    "b\n",
    "c"
   ]
  },
  {
   "cell_type": "markdown",
   "metadata": {},
   "source": [
    "## 赋值\n",
    "\n",
    "**变量的命名规则**\n",
    "- 大小写敏感\n",
    "- 禁止使用保留字， 例如 class，False\n",
    "\n",
    "**Python不是强类型**\n",
    "- 不需要声明定义"
   ]
  },
  {
   "cell_type": "code",
   "execution_count": 8,
   "metadata": {},
   "outputs": [
    {
     "name": "stdout",
     "output_type": "stream",
     "text": [
      "china\n"
     ]
    }
   ],
   "source": [
    "x = 'china'\n",
    "print(x)"
   ]
  },
  {
   "cell_type": "code",
   "execution_count": 9,
   "metadata": {},
   "outputs": [
    {
     "name": "stdout",
     "output_type": "stream",
     "text": [
      "china\n",
      "beijing\n"
     ]
    }
   ],
   "source": [
    "x, y = 'china', 'beijing'\n",
    "print(x)\n",
    "print(y)"
   ]
  },
  {
   "cell_type": "code",
   "execution_count": 12,
   "metadata": {},
   "outputs": [
    {
     "name": "stdout",
     "output_type": "stream",
     "text": [
      "china beijing\n"
     ]
    }
   ],
   "source": [
    "[x, y] = ['china', 'beijing']\n",
    "print(x, y,)"
   ]
  },
  {
   "cell_type": "code",
   "execution_count": 13,
   "metadata": {},
   "outputs": [
    {
     "name": "stdout",
     "output_type": "stream",
     "text": [
      "1 2 3\n"
     ]
    }
   ],
   "source": [
    "x, y, z = ['1','2','3']\n",
    "print(x,y,z)"
   ]
  },
  {
   "cell_type": "code",
   "execution_count": 14,
   "metadata": {
    "scrolled": true
   },
   "outputs": [
    {
     "name": "stdout",
     "output_type": "stream",
     "text": [
      "china china\n"
     ]
    }
   ],
   "source": [
    "x = y = 'china'\n",
    "print(x, y,)"
   ]
  },
  {
   "cell_type": "code",
   "execution_count": 15,
   "metadata": {},
   "outputs": [
    {
     "name": "stdout",
     "output_type": "stream",
     "text": [
      "china beijing\n"
     ]
    }
   ],
   "source": [
    "x, y = ['china', 'beijing']\n",
    "print(x, y)"
   ]
  },
  {
   "cell_type": "code",
   "execution_count": 16,
   "metadata": {
    "scrolled": true
   },
   "outputs": [
    {
     "ename": "ValueError",
     "evalue": "too many values to unpack (expected 2)",
     "output_type": "error",
     "traceback": [
      "\u001b[1;31m---------------------------------------------------------------------------\u001b[0m",
      "\u001b[1;31mValueError\u001b[0m                                Traceback (most recent call last)",
      "\u001b[1;32m<ipython-input-16-faf0852bd0c1>\u001b[0m in \u001b[0;36m<module>\u001b[1;34m\u001b[0m\n\u001b[1;32m----> 1\u001b[1;33m \u001b[0mx\u001b[0m\u001b[1;33m,\u001b[0m \u001b[0my\u001b[0m \u001b[1;33m=\u001b[0m \u001b[1;33m[\u001b[0m\u001b[1;34m'china'\u001b[0m\u001b[1;33m,\u001b[0m \u001b[1;34m'beijing'\u001b[0m\u001b[1;33m,\u001b[0m \u001b[1;34m'shanghai'\u001b[0m\u001b[1;33m]\u001b[0m\u001b[1;33m\u001b[0m\u001b[1;33m\u001b[0m\u001b[0m\n\u001b[0m",
      "\u001b[1;31mValueError\u001b[0m: too many values to unpack (expected 2)"
     ]
    }
   ],
   "source": [
    "x, y = ['china', 'beijing', 'shanghai']"
   ]
  },
  {
   "cell_type": "code",
   "execution_count": 21,
   "metadata": {},
   "outputs": [
    {
     "name": "stdout",
     "output_type": "stream",
     "text": [
      "S L\n"
     ]
    }
   ],
   "source": [
    "# 高级\n",
    "x, y = 'SL'\n",
    "print(x, y)"
   ]
  },
  {
   "cell_type": "code",
   "execution_count": 22,
   "metadata": {},
   "outputs": [
    {
     "name": "stdout",
     "output_type": "stream",
     "text": [
      "S L XY\n"
     ]
    }
   ],
   "source": [
    "((x, y), z) = 'SL', 'XY'\n",
    "print(x, y, z)"
   ]
  },
  {
   "cell_type": "code",
   "execution_count": 23,
   "metadata": {},
   "outputs": [
    {
     "name": "stdout",
     "output_type": "stream",
     "text": [
      "140704361190240 140704361190240 140704361190240\n"
     ]
    }
   ],
   "source": [
    "# 多目标赋值，共享了引用：浅拷贝\n",
    "x = y = z =2\n",
    "print(id(x), id(y), id(z))"
   ]
  },
  {
   "cell_type": "code",
   "execution_count": 24,
   "metadata": {},
   "outputs": [
    {
     "name": "stdout",
     "output_type": "stream",
     "text": [
      "6\n",
      "5\n",
      "5\n"
     ]
    }
   ],
   "source": [
    "# 其他赋值\n",
    "a = 5\n",
    "b = 1\n",
    "a += b\n",
    "print(a)\n",
    "a -= b\n",
    "print(a)\n",
    "a *= b\n",
    "print(a)"
   ]
  },
  {
   "cell_type": "markdown",
   "metadata": {},
   "source": [
    "## 表达式\n",
    "\n",
    "- 常见的表达式形式：\n",
    "    - 函数调用 `check(x,y)`\n",
    "    - 方法调用 `obj.check(x,y)`\n",
    "- 最常见的打印操作\n",
    "    - print 与重定向\n",
    "         > 重定向：指的是，默认print是输出到屏幕，重新指定print函数的输出位置，比如打印到某个文件中"
   ]
  },
  {
   "cell_type": "code",
   "execution_count": 25,
   "metadata": {},
   "outputs": [],
   "source": [
    "def check(x, y):\n",
    "    pass"
   ]
  },
  {
   "cell_type": "code",
   "execution_count": 26,
   "metadata": {},
   "outputs": [],
   "source": [
    "check(1, 2)"
   ]
  },
  {
   "cell_type": "markdown",
   "metadata": {},
   "source": [
    "## 打印 Python2.x, 如果是3.x，略有不同"
   ]
  },
  {
   "cell_type": "code",
   "execution_count": null,
   "metadata": {},
   "outputs": [],
   "source": [
    "print 'welcome', 'to shenlanxueyuan'"
   ]
  },
  {
   "cell_type": "code",
   "execution_count": 27,
   "metadata": {},
   "outputs": [
    {
     "name": "stdout",
     "output_type": "stream",
     "text": [
      "welcome to shenlanxueyuan\n"
     ]
    }
   ],
   "source": [
    "print('welcome', 'to shenlanxueyuan',)"
   ]
  },
  {
   "cell_type": "code",
   "execution_count": 28,
   "metadata": {},
   "outputs": [
    {
     "name": "stdout",
     "output_type": "stream",
     "text": [
      "2 1\n"
     ]
    }
   ],
   "source": [
    "x = 2 \n",
    "y = 1\n",
    "print(x, y,)"
   ]
  },
  {
   "cell_type": "code",
   "execution_count": null,
   "metadata": {},
   "outputs": [],
   "source": [
    "# 输出到文件\n",
    "# print>> open('data/print_test.txt','w'), 'welcome', 'to shenlanxueyuan',"
   ]
  },
  {
   "cell_type": "markdown",
   "metadata": {},
   "source": [
    "### 打印流的重定向"
   ]
  },
  {
   "cell_type": "code",
   "execution_count": 29,
   "metadata": {},
   "outputs": [
    {
     "name": "stdout",
     "output_type": "stream",
     "text": [
      "welcome to shenlanxueyuan"
     ]
    }
   ],
   "source": [
    "import sys\n",
    "sys.stdout.write('welcome to shenlanxueyuan')"
   ]
  },
  {
   "cell_type": "code",
   "execution_count": 31,
   "metadata": {},
   "outputs": [],
   "source": [
    "import sys\n",
    "previous = sys.stdout\n",
    "sys.stdout = open('data/temp.txt', 'a')\n",
    "print('welcome')"
   ]
  },
  {
   "cell_type": "code",
   "execution_count": 32,
   "metadata": {},
   "outputs": [],
   "source": [
    "import sys\n",
    "sys.stdout = open('data/temp.txt', 'a')\n",
    "print('welcome')\n",
    "sys.stdout.close()\n",
    "sys.stdout = previous"
   ]
  },
  {
   "cell_type": "code",
   "execution_count": 33,
   "metadata": {},
   "outputs": [
    {
     "name": "stdout",
     "output_type": "stream",
     "text": [
      "to shenlanxueyuan\n"
     ]
    }
   ],
   "source": [
    "print('to shenlanxueyuan')"
   ]
  },
  {
   "cell_type": "markdown",
   "metadata": {},
   "source": [
    "### 在python2中如何写一个python3 的print"
   ]
  },
  {
   "cell_type": "code",
   "execution_count": 34,
   "metadata": {},
   "outputs": [
    {
     "name": "stdout",
     "output_type": "stream",
     "text": [
      "x y+++"
     ]
    }
   ],
   "source": [
    "from __future__ import print_function\n",
    "print('x', 'y', end='+++')"
   ]
  },
  {
   "cell_type": "markdown",
   "metadata": {},
   "source": [
    "# IF 语句"
   ]
  },
  {
   "cell_type": "code",
   "execution_count": 35,
   "metadata": {},
   "outputs": [
    {
     "name": "stdout",
     "output_type": "stream",
     "text": [
      "1\n"
     ]
    }
   ],
   "source": [
    "if True:\n",
    "    print(1)\n",
    "else:\n",
    "    print(0)"
   ]
  },
  {
   "cell_type": "markdown",
   "metadata": {},
   "source": [
    "## 多路分支\n",
    "\n",
    "- 可以实现 “Switch/case”\n",
    "- 依次执行每一个测试，即条件判断，只要一个满足就执行相应的语句注意，执行完这个一条件下的语句后就结束，跳出if语句"
   ]
  },
  {
   "cell_type": "code",
   "execution_count": 38,
   "metadata": {},
   "outputs": [
    {
     "name": "stdout",
     "output_type": "stream",
     "text": [
      "3\n"
     ]
    }
   ],
   "source": [
    "x = 'china'\n",
    "if x == 'us':\n",
    "    print(1)\n",
    "elif x == 'india':\n",
    "    print(2)\n",
    "elif x == 'china':\n",
    "    print(3)\n",
    "else:\n",
    "    print(4)"
   ]
  },
  {
   "cell_type": "code",
   "execution_count": 39,
   "metadata": {},
   "outputs": [
    {
     "name": "stdout",
     "output_type": "stream",
     "text": [
      "2\n"
     ]
    }
   ],
   "source": [
    "# 满足第一个条件之后就结束\n",
    "x = 'china'\n",
    "if x == 'us':\n",
    "    print(1)\n",
    "elif x == 'china':\n",
    "    print(2)\n",
    "elif x == 'china':\n",
    "    print(3)\n",
    "else:\n",
    "    print(4)"
   ]
  },
  {
   "cell_type": "markdown",
   "metadata": {},
   "source": [
    "## 真值测试\n",
    "- 非0和数字和非空对象都是 True\n",
    "- 数字0，空对象，以及特殊的对象None都是False\n",
    "\n",
    "> 注意，布尔操(and or not)作找到第一个真值就结束，短路操作.\n",
    "\n",
    "> 操作顺序是从左到右"
   ]
  },
  {
   "cell_type": "code",
   "execution_count": 41,
   "metadata": {},
   "outputs": [
    {
     "data": {
      "text/plain": [
       "2"
      ]
     },
     "execution_count": 41,
     "metadata": {},
     "output_type": "execute_result"
    }
   ],
   "source": [
    "x = 2 or 3\n",
    "x"
   ]
  },
  {
   "cell_type": "code",
   "execution_count": 42,
   "metadata": {},
   "outputs": [
    {
     "data": {
      "text/plain": [
       "2"
      ]
     },
     "execution_count": 42,
     "metadata": {},
     "output_type": "execute_result"
    }
   ],
   "source": [
    "x = None or 2\n",
    "x"
   ]
  },
  {
   "cell_type": "code",
   "execution_count": 40,
   "metadata": {},
   "outputs": [
    {
     "data": {
      "text/plain": [
       "()"
      ]
     },
     "execution_count": 40,
     "metadata": {},
     "output_type": "execute_result"
    }
   ],
   "source": [
    "# 短路操作\n",
    "# [] 空列表， （） 空元组\n",
    "x = [] or ()\n",
    "x"
   ]
  },
  {
   "cell_type": "code",
   "execution_count": 43,
   "metadata": {},
   "outputs": [
    {
     "data": {
      "text/plain": [
       "[]"
      ]
     },
     "execution_count": 43,
     "metadata": {},
     "output_type": "execute_result"
    }
   ],
   "source": [
    "x = 3 and []\n",
    "x"
   ]
  },
  {
   "cell_type": "markdown",
   "metadata": {},
   "source": [
    "## 三元表达式\n",
    "\n",
    "**语法** ： `<statement> if <condition> else <statement>`\n",
    "\n",
    "另一种写法：\n",
    "\n",
    "**语法** ： `[F,T][bool(condition)]`"
   ]
  },
  {
   "cell_type": "code",
   "execution_count": 44,
   "metadata": {},
   "outputs": [
    {
     "data": {
      "text/plain": [
       "1"
      ]
     },
     "execution_count": 44,
     "metadata": {},
     "output_type": "execute_result"
    }
   ],
   "source": [
    "x = 1 if True else 0\n",
    "x"
   ]
  },
  {
   "cell_type": "code",
   "execution_count": 45,
   "metadata": {},
   "outputs": [
    {
     "data": {
      "text/plain": [
       "1"
      ]
     },
     "execution_count": 45,
     "metadata": {},
     "output_type": "execute_result"
    }
   ],
   "source": [
    "# 对等的策略\n",
    "if True:\n",
    "    x = 1\n",
    "else:\n",
    "    x = 0\n",
    "x"
   ]
  },
  {
   "cell_type": "code",
   "execution_count": 46,
   "metadata": {},
   "outputs": [
    {
     "data": {
      "text/plain": [
       "0"
      ]
     },
     "execution_count": 46,
     "metadata": {},
     "output_type": "execute_result"
    }
   ],
   "source": [
    "x = [1, 0][bool(1==1)]\n",
    "x"
   ]
  },
  {
   "cell_type": "markdown",
   "metadata": {},
   "source": [
    "## While\n",
    "- 一般不使用else\n",
    "\n",
    "- break\n",
    "    - 跳出所属的最近的循环\n",
    "- contine\n",
    "    - 跳出此次循环，继续下一次\n",
    "- pass\n",
    "    - 空位占位符，什么事情也不做"
   ]
  },
  {
   "cell_type": "code",
   "execution_count": 47,
   "metadata": {},
   "outputs": [
    {
     "name": "stdout",
     "output_type": "stream",
     "text": [
      "1\n",
      "2\n",
      "3\n",
      "4\n",
      "5\n",
      "0\n"
     ]
    }
   ],
   "source": [
    "i = 0\n",
    "while i < 5:\n",
    "    i += 1\n",
    "    print(i)\n",
    "else:\n",
    "    print(0)"
   ]
  },
  {
   "cell_type": "code",
   "execution_count": 1,
   "metadata": {},
   "outputs": [
    {
     "name": "stdout",
     "output_type": "stream",
     "text": [
      "1\n",
      "2\n",
      "3\n",
      "4\n",
      "5\n"
     ]
    }
   ],
   "source": [
    "# 同样的结果，多种写法\n",
    "i = 0\n",
    "while True:\n",
    "    if i > 4:\n",
    "        break\n",
    "    i += 1\n",
    "    print(i)"
   ]
  },
  {
   "cell_type": "code",
   "execution_count": 2,
   "metadata": {},
   "outputs": [
    {
     "name": "stdout",
     "output_type": "stream",
     "text": [
      "1\n",
      "2\n",
      "3\n",
      "4\n",
      "5\n"
     ]
    }
   ],
   "source": [
    "i = 0\n",
    "while i < 10:\n",
    "    i += 1\n",
    "    if i < 6:\n",
    "        print(i)\n",
    "    else:\n",
    "        pass"
   ]
  },
  {
   "cell_type": "code",
   "execution_count": 4,
   "metadata": {},
   "outputs": [
    {
     "name": "stdout",
     "output_type": "stream",
     "text": [
      "1\n",
      "2\n",
      "3\n",
      "4\n",
      "5\n",
      "10\n"
     ]
    }
   ],
   "source": [
    "i = 0\n",
    "while i < 10:\n",
    "    i += 1\n",
    "    if i < 6:\n",
    "        print(i)\n",
    "    else:\n",
    "        continue\n",
    "print(i)"
   ]
  },
  {
   "cell_type": "markdown",
   "metadata": {},
   "source": [
    "### do ... until"
   ]
  },
  {
   "cell_type": "code",
   "execution_count": 5,
   "metadata": {},
   "outputs": [
    {
     "name": "stdout",
     "output_type": "stream",
     "text": [
      "1\n",
      "2\n",
      "3\n",
      "4\n",
      "5\n",
      "6\n"
     ]
    }
   ],
   "source": [
    "x = 0\n",
    "while True:\n",
    "    x += 1\n",
    "    print(x)\n",
    "    if x > 5:\n",
    "        break"
   ]
  },
  {
   "cell_type": "markdown",
   "metadata": {},
   "source": [
    "### pass  为了占位，防止语法错误。"
   ]
  },
  {
   "cell_type": "code",
   "execution_count": 6,
   "metadata": {},
   "outputs": [
    {
     "ename": "SyntaxError",
     "evalue": "unexpected EOF while parsing (<ipython-input-6-aa82eeb25f1e>, line 1)",
     "output_type": "error",
     "traceback": [
      "\u001b[1;36m  File \u001b[1;32m\"<ipython-input-6-aa82eeb25f1e>\"\u001b[1;36m, line \u001b[1;32m1\u001b[0m\n\u001b[1;33m    for i in range(5):\u001b[0m\n\u001b[1;37m                      ^\u001b[0m\n\u001b[1;31mSyntaxError\u001b[0m\u001b[1;31m:\u001b[0m unexpected EOF while parsing\n"
     ]
    }
   ],
   "source": [
    "for i in range(5):"
   ]
  },
  {
   "cell_type": "code",
   "execution_count": 7,
   "metadata": {},
   "outputs": [],
   "source": [
    "for i in range(5):\n",
    "    1"
   ]
  },
  {
   "cell_type": "code",
   "execution_count": 8,
   "metadata": {},
   "outputs": [],
   "source": [
    "for i in range(5):\n",
    "    pass"
   ]
  },
  {
   "cell_type": "markdown",
   "metadata": {},
   "source": [
    "### continue 再看一个例子"
   ]
  },
  {
   "cell_type": "code",
   "execution_count": 9,
   "metadata": {},
   "outputs": [
    {
     "name": "stdout",
     "output_type": "stream",
     "text": [
      "1\n",
      "3\n",
      "5\n",
      "7\n",
      "9\n"
     ]
    }
   ],
   "source": [
    "n = 0\n",
    "while n < 10:\n",
    "    n = n + 1\n",
    "    if n % 2 == 0:      # 如果n是偶数，执行continue语句\n",
    "        continue        # continue语句会直接继续下一轮循环，后续的print()语句不会执行\n",
    "    print(n)\n"
   ]
  },
  {
   "cell_type": "markdown",
   "metadata": {},
   "source": [
    "## FOR\n",
    "\n",
    "- 通用的序列迭代器\n",
    "    - 可以历遍任何有序的序列对象内的元素\n",
    "- 使用对象\n",
    "    - 字符串，列表，元组，字典，其他可迭代内置对象"
   ]
  },
  {
   "cell_type": "code",
   "execution_count": 10,
   "metadata": {},
   "outputs": [
    {
     "name": "stdout",
     "output_type": "stream",
     "text": [
      "x\n",
      "y\n",
      "z\n"
     ]
    }
   ],
   "source": [
    "for i in ['x','y','z']:\n",
    "    print(i)"
   ]
  },
  {
   "cell_type": "code",
   "execution_count": 11,
   "metadata": {},
   "outputs": [
    {
     "name": "stdout",
     "output_type": "stream",
     "text": [
      "s\n",
      "h\n",
      "e\n",
      "n\n",
      "l\n",
      "a\n",
      "n\n",
      "x\n",
      "u\n",
      "e\n",
      "y\n",
      "u\n",
      "a\n",
      "n\n"
     ]
    }
   ],
   "source": [
    "for i in 'shenlanxueyuan':\n",
    "    print(i)"
   ]
  },
  {
   "cell_type": "code",
   "execution_count": 12,
   "metadata": {},
   "outputs": [
    {
     "name": "stdout",
     "output_type": "stream",
     "text": [
      "1\n",
      "2\n",
      "3\n"
     ]
    }
   ],
   "source": [
    "for x in (1, 2, 3):\n",
    "    print(x)"
   ]
  },
  {
   "cell_type": "code",
   "execution_count": 13,
   "metadata": {},
   "outputs": [
    {
     "name": "stdout",
     "output_type": "stream",
     "text": [
      "1\n",
      "2\n"
     ]
    }
   ],
   "source": [
    "for x in {1:'key1', 2:'key2'}:\n",
    "    print(x)"
   ]
  },
  {
   "cell_type": "code",
   "execution_count": 14,
   "metadata": {},
   "outputs": [
    {
     "name": "stdout",
     "output_type": "stream",
     "text": [
      "(1, 'key1')\n",
      "(2, 'key2')\n"
     ]
    }
   ],
   "source": [
    "for x in {1:'key1', 2:'key2'}.items():\n",
    "    print(x, )"
   ]
  },
  {
   "cell_type": "code",
   "execution_count": 15,
   "metadata": {},
   "outputs": [
    {
     "name": "stdout",
     "output_type": "stream",
     "text": [
      "2\n",
      "3\n",
      "4\n",
      "6\n"
     ]
    }
   ],
   "source": [
    "for i in [1,2]:\n",
    "    for j in [2,3]:\n",
    "        print(i*j)"
   ]
  },
  {
   "cell_type": "code",
   "execution_count": 16,
   "metadata": {},
   "outputs": [
    {
     "name": "stdout",
     "output_type": "stream",
     "text": [
      "1\n",
      "3\n",
      "5\n",
      "7\n",
      "9\n"
     ]
    }
   ],
   "source": [
    "for i in range(1, 10, 2):\n",
    "    print(i)"
   ]
  },
  {
   "cell_type": "markdown",
   "metadata": {},
   "source": [
    "## 内置迭代器"
   ]
  },
  {
   "cell_type": "code",
   "execution_count": 17,
   "metadata": {},
   "outputs": [
    {
     "data": {
      "text/plain": [
       "True"
      ]
     },
     "execution_count": 17,
     "metadata": {},
     "output_type": "execute_result"
    }
   ],
   "source": [
    "from collections import Iterable\n",
    "isinstance([], Iterable)"
   ]
  },
  {
   "cell_type": "markdown",
   "metadata": {},
   "source": [
    "### 列表"
   ]
  },
  {
   "cell_type": "code",
   "execution_count": 18,
   "metadata": {
    "scrolled": true
   },
   "outputs": [
    {
     "name": "stdout",
     "output_type": "stream",
     "text": [
      "2\n",
      "4\n",
      "6\n",
      "8\n",
      "10\n",
      "12\n"
     ]
    }
   ],
   "source": [
    "# 列表\n",
    "for i in [1,2,3,4,5,6]:\n",
    "    print(i*2,)"
   ]
  },
  {
   "cell_type": "markdown",
   "metadata": {},
   "source": [
    "### 字典"
   ]
  },
  {
   "cell_type": "code",
   "execution_count": 19,
   "metadata": {},
   "outputs": [
    {
     "name": "stdout",
     "output_type": "stream",
     "text": [
      "john\n",
      "claire\n"
     ]
    }
   ],
   "source": [
    "for item in {'john':'male','claire':'female'}:\n",
    "    print(item)"
   ]
  },
  {
   "cell_type": "code",
   "execution_count": 20,
   "metadata": {},
   "outputs": [
    {
     "name": "stdout",
     "output_type": "stream",
     "text": [
      "male\n",
      "female\n"
     ]
    }
   ],
   "source": [
    "for item in {'john':'male','claire':'female'}.values():\n",
    "    print(item)"
   ]
  },
  {
   "cell_type": "code",
   "execution_count": 21,
   "metadata": {
    "scrolled": false
   },
   "outputs": [
    {
     "name": "stdout",
     "output_type": "stream",
     "text": [
      "('john', 'male')\n",
      "('claire', 'female')\n"
     ]
    }
   ],
   "source": [
    "for item in {'john':'male','claire':'female'}.items():\n",
    "    print(item)"
   ]
  },
  {
   "cell_type": "markdown",
   "metadata": {},
   "source": [
    "### 迭代器方法"
   ]
  },
  {
   "cell_type": "markdown",
   "metadata": {},
   "source": [
    "#### range"
   ]
  },
  {
   "cell_type": "code",
   "execution_count": 22,
   "metadata": {},
   "outputs": [
    {
     "name": "stdout",
     "output_type": "stream",
     "text": [
      "0\n",
      "1\n",
      "2\n",
      "3\n",
      "4\n"
     ]
    }
   ],
   "source": [
    "for i in range(5):\n",
    "    print(i)"
   ]
  },
  {
   "cell_type": "markdown",
   "metadata": {},
   "source": [
    "#### enumrate\n",
    "\n",
    "- 枚举，同时拿到元素和index"
   ]
  },
  {
   "cell_type": "code",
   "execution_count": 24,
   "metadata": {
    "scrolled": true
   },
   "outputs": [
    {
     "name": "stdout",
     "output_type": "stream",
     "text": [
      "(0, 5)\n",
      "(1, 6)\n",
      "(2, 7)\n",
      "(3, 8)\n",
      "(4, 9)\n"
     ]
    }
   ],
   "source": [
    "for i in enumerate(range(5, 10)):\n",
    "    print(i)"
   ]
  },
  {
   "cell_type": "code",
   "execution_count": 25,
   "metadata": {},
   "outputs": [
    {
     "name": "stdout",
     "output_type": "stream",
     "text": [
      "index=0 => 5\n",
      "index=1 => 6\n",
      "index=2 => 7\n",
      "index=3 => 8\n",
      "index=4 => 9\n"
     ]
    }
   ],
   "source": [
    "for index, value in enumerate(range(5, 10)):\n",
    "    print('index=%d => %d' % (index, value))"
   ]
  },
  {
   "cell_type": "markdown",
   "metadata": {},
   "source": [
    "#### map\n",
    "\n",
    "- 映射\n",
    "\n",
    "- 格式： y = map(映射函数，x)\n",
    "    - 预设函数：\n",
    "        - str ：字符串\n",
    "        - int ：整型\n",
    "    - 自定义函数\n",
    "\n",
    "![map](./res/Lesson2_map.jpg)"
   ]
  },
  {
   "cell_type": "code",
   "execution_count": 23,
   "metadata": {},
   "outputs": [
    {
     "name": "stdout",
     "output_type": "stream",
     "text": [
      "['1', '2', '3']\n"
     ]
    }
   ],
   "source": [
    "x = [1, 2, 3]\n",
    "y = map(str, x)\n",
    "print(list(y))"
   ]
  },
  {
   "cell_type": "code",
   "execution_count": 26,
   "metadata": {},
   "outputs": [
    {
     "name": "stdout",
     "output_type": "stream",
     "text": [
      "[1, 2, 3]\n"
     ]
    }
   ],
   "source": [
    "x = ['1', '2', '3']\n",
    "y = map(int, x)\n",
    "print(list(y))"
   ]
  },
  {
   "cell_type": "code",
   "execution_count": 27,
   "metadata": {},
   "outputs": [
    {
     "name": "stdout",
     "output_type": "stream",
     "text": [
      "[6, 24, 60]\n"
     ]
    }
   ],
   "source": [
    "def func(a,b,c):\n",
    "    return a*b*c\n",
    "x1 = [1,2,3]\n",
    "x2 = [2,3,4]\n",
    "x3 = [3,4,5]\n",
    "x4 = map(func, x1, x2, x3)\n",
    "print(list(x4))"
   ]
  },
  {
   "cell_type": "markdown",
   "metadata": {},
   "source": [
    "#### zip\n",
    "![zip](./res/Lesson2_zip.jpg)"
   ]
  },
  {
   "cell_type": "code",
   "execution_count": 31,
   "metadata": {},
   "outputs": [
    {
     "name": "stdout",
     "output_type": "stream",
     "text": [
      "[(1, 4), (2, 5), (3, 6)]\n"
     ]
    }
   ],
   "source": [
    "x1 = (1,2,3)\n",
    "x2 = (4,5,6)\n",
    "print(list(zip(x1, x2)))"
   ]
  },
  {
   "cell_type": "code",
   "execution_count": 32,
   "metadata": {},
   "outputs": [
    {
     "name": "stdout",
     "output_type": "stream",
     "text": [
      "[(1, 4, 7), (2, 5, 8), (3, 6, 9)]\n"
     ]
    }
   ],
   "source": [
    "x1 = (1,2,3)\n",
    "x2 = (4,5,6)\n",
    "x3 = (7,8,9)\n",
    "print(list(zip(x1, x2, x3)))"
   ]
  },
  {
   "cell_type": "code",
   "execution_count": 33,
   "metadata": {},
   "outputs": [
    {
     "name": "stdout",
     "output_type": "stream",
     "text": [
      "<zip object at 0x00000251D7964BC8>\n",
      "{1: 4, 2: 5, 3: 6}\n"
     ]
    }
   ],
   "source": [
    "x1 = (1,2,3)\n",
    "x2 = (4,5,6)\n",
    "print(zip(x1, x2))\n",
    "print(dict(zip(x1,x2)))"
   ]
  },
  {
   "cell_type": "code",
   "execution_count": 37,
   "metadata": {},
   "outputs": [
    {
     "name": "stdout",
     "output_type": "stream",
     "text": [
      "3 1 |\n",
      "5 2 |\n",
      "6 3 |\n",
      "8 4 |\n",
      "10 5 |\n"
     ]
    }
   ],
   "source": [
    "X = [3, 5, 6, 8, 10]\n",
    "Y = [1, 2, 3, 4, 5]\n",
    "for x, y in zip(X, Y):\n",
    "    print(x, y, '|')"
   ]
  },
  {
   "cell_type": "markdown",
   "metadata": {},
   "source": [
    "#### sum/max/min"
   ]
  },
  {
   "cell_type": "code",
   "execution_count": 28,
   "metadata": {},
   "outputs": [
    {
     "name": "stdout",
     "output_type": "stream",
     "text": [
      "32\n",
      "3\n",
      "10\n"
     ]
    }
   ],
   "source": [
    "D = [3, 5, 6, 8, 10]\n",
    "print(sum(D))\n",
    "print(min(D))\n",
    "print(max(D))"
   ]
  },
  {
   "cell_type": "markdown",
   "metadata": {},
   "source": [
    "#### sorted \n",
    "- 排序"
   ]
  },
  {
   "cell_type": "code",
   "execution_count": null,
   "metadata": {},
   "outputs": [],
   "source": [
    "sorted([36, 5, -12, 9, -21])"
   ]
  },
  {
   "cell_type": "code",
   "execution_count": null,
   "metadata": {},
   "outputs": [],
   "source": [
    "sorted(['cde', 'tx', 'zuy', 'abc'], key=str.lower)"
   ]
  },
  {
   "cell_type": "markdown",
   "metadata": {},
   "source": [
    "### 列表解析\n",
    "- 常见操作：如何从一个列表生成另一个列表，例如x to x*2\n",
    "\n",
    "- 更简洁的方法：oneline\n",
    "\n",
    "> x to x*2 可以使用map的方法实现，这里列表解析的方法也可以"
   ]
  },
  {
   "cell_type": "code",
   "execution_count": 34,
   "metadata": {},
   "outputs": [],
   "source": [
    "D = [3, 5, 6, 8, 10]"
   ]
  },
  {
   "cell_type": "code",
   "execution_count": 35,
   "metadata": {},
   "outputs": [
    {
     "name": "stdout",
     "output_type": "stream",
     "text": [
      "[6, 10, 12, 16, 20]\n"
     ]
    }
   ],
   "source": [
    "D1 = []\n",
    "for item in D:\n",
    "    D1.append(item * 2)\n",
    "print(D1)"
   ]
  },
  {
   "cell_type": "code",
   "execution_count": 36,
   "metadata": {
    "scrolled": true
   },
   "outputs": [
    {
     "name": "stdout",
     "output_type": "stream",
     "text": [
      "[6, 10, 12, 16, 20]\n"
     ]
    }
   ],
   "source": [
    "D1 = [item * 2 for item in D]\n",
    "print(D1)"
   ]
  },
  {
   "cell_type": "markdown",
   "metadata": {},
   "source": [
    "## 文件迭代器\n",
    "- 按行读取文件内容，使用for读取\n",
    "- 迭代器返回空字符串"
   ]
  },
  {
   "cell_type": "code",
   "execution_count": 38,
   "metadata": {},
   "outputs": [],
   "source": [
    "fp = open('./data/example.txt')"
   ]
  },
  {
   "cell_type": "code",
   "execution_count": 39,
   "metadata": {},
   "outputs": [
    {
     "data": {
      "text/plain": [
       "'第一行\\n'"
      ]
     },
     "execution_count": 39,
     "metadata": {},
     "output_type": "execute_result"
    }
   ],
   "source": [
    "fp.readline()"
   ]
  },
  {
   "cell_type": "code",
   "execution_count": 40,
   "metadata": {},
   "outputs": [
    {
     "data": {
      "text/plain": [
       "'第二行\\n'"
      ]
     },
     "execution_count": 40,
     "metadata": {},
     "output_type": "execute_result"
    }
   ],
   "source": [
    "fp.readline()"
   ]
  },
  {
   "cell_type": "code",
   "execution_count": 41,
   "metadata": {},
   "outputs": [
    {
     "data": {
      "text/plain": [
       "'第三行\\n'"
      ]
     },
     "execution_count": 41,
     "metadata": {},
     "output_type": "execute_result"
    }
   ],
   "source": [
    "fp.readline()"
   ]
  },
  {
   "cell_type": "code",
   "execution_count": 42,
   "metadata": {},
   "outputs": [
    {
     "data": {
      "text/plain": [
       "'第四行\\n'"
      ]
     },
     "execution_count": 42,
     "metadata": {},
     "output_type": "execute_result"
    }
   ],
   "source": [
    "fp.readline()"
   ]
  },
  {
   "cell_type": "code",
   "execution_count": 43,
   "metadata": {},
   "outputs": [
    {
     "data": {
      "text/plain": [
       "'第五行\\n'"
      ]
     },
     "execution_count": 43,
     "metadata": {},
     "output_type": "execute_result"
    }
   ],
   "source": [
    "fp.readline()"
   ]
  },
  {
   "cell_type": "code",
   "execution_count": 44,
   "metadata": {},
   "outputs": [
    {
     "name": "stdout",
     "output_type": "stream",
     "text": [
      "第一行\n",
      "\n",
      "第二行\n",
      "\n",
      "第三行\n",
      "\n",
      "第四行\n",
      "\n",
      "第五行\n",
      "\n",
      "第六行\n",
      "\n",
      "第七行\n",
      "\n",
      "第八行\n",
      "\n",
      "第九行\n"
     ]
    }
   ],
   "source": [
    "fp = open('data/example.txt')\n",
    "for line in fp:\n",
    "    print(line)"
   ]
  },
  {
   "cell_type": "code",
   "execution_count": 45,
   "metadata": {},
   "outputs": [
    {
     "name": "stdout",
     "output_type": "stream",
     "text": [
      "['_CHUNK_SIZE', '__class__', '__del__', '__delattr__', '__dict__', '__dir__', '__doc__', '__enter__', '__eq__', '__exit__', '__format__', '__ge__', '__getattribute__', '__getstate__', '__gt__', '__hash__', '__init__', '__init_subclass__', '__iter__', '__le__', '__lt__', '__ne__', '__new__', '__next__', '__reduce__', '__reduce_ex__', '__repr__', '__setattr__', '__sizeof__', '__str__', '__subclasshook__', '_checkClosed', '_checkReadable', '_checkSeekable', '_checkWritable', '_finalizing', 'buffer', 'close', 'closed', 'detach', 'encoding', 'errors', 'fileno', 'flush', 'isatty', 'line_buffering', 'mode', 'name', 'newlines', 'read', 'readable', 'readline', 'readlines', 'reconfigure', 'seek', 'seekable', 'tell', 'truncate', 'writable', 'write', 'write_through', 'writelines']\n"
     ]
    }
   ],
   "source": [
    "fp = open('data/example.txt')\n",
    "print(dir(fp))"
   ]
  },
  {
   "cell_type": "markdown",
   "metadata": {},
   "source": [
    "# 文档\n",
    "Python的文档资源：\n",
    "- 注释\n",
    "- dir函数 ： 用来查看对象，模块等的属性\n",
    "- 文档字符串`__doc__` ：用来查看方法的用法\n",
    "- 标准手册： [链接](https://docs.python.org/2/library/index.html)"
   ]
  },
  {
   "cell_type": "markdown",
   "metadata": {},
   "source": [
    "## 注释"
   ]
  },
  {
   "cell_type": "code",
   "execution_count": 46,
   "metadata": {},
   "outputs": [],
   "source": [
    "# print '我是单行注释'\n",
    "pass"
   ]
  },
  {
   "cell_type": "code",
   "execution_count": 47,
   "metadata": {},
   "outputs": [],
   "source": [
    "# print '我是多行注释'\n",
    "# print '我是多行注释 - 1'\n",
    "# print '我是多行注释 - 2'\n",
    "pass"
   ]
  },
  {
   "cell_type": "code",
   "execution_count": null,
   "metadata": {},
   "outputs": [],
   "source": [
    "\"\"\"\n",
    "我是多行注释\n",
    "我是多行注释 - 1\n",
    "我是多行注释 - 2\n",
    "\"\"\"\n",
    "pass"
   ]
  },
  {
   "cell_type": "markdown",
   "metadata": {},
   "source": [
    "## DIR函数\n",
    "用来查看对象，模块等属性"
   ]
  },
  {
   "cell_type": "code",
   "execution_count": 2,
   "metadata": {},
   "outputs": [
    {
     "name": "stdout",
     "output_type": "stream",
     "text": [
      "['__add__', '__class__', '__contains__', '__delattr__', '__delitem__', '__dir__', '__doc__', '__eq__', '__format__', '__ge__', '__getattribute__', '__getitem__', '__gt__', '__hash__', '__iadd__', '__imul__', '__init__', '__init_subclass__', '__iter__', '__le__', '__len__', '__lt__', '__mul__', '__ne__', '__new__', '__reduce__', '__reduce_ex__', '__repr__', '__reversed__', '__rmul__', '__setattr__', '__setitem__', '__sizeof__', '__str__', '__subclasshook__', 'append', 'clear', 'copy', 'count', 'extend', 'index', 'insert', 'pop', 'remove', 'reverse', 'sort']\n"
     ]
    }
   ],
   "source": [
    "print(dir(list))"
   ]
  },
  {
   "cell_type": "code",
   "execution_count": 3,
   "metadata": {},
   "outputs": [
    {
     "name": "stdout",
     "output_type": "stream",
     "text": [
      "['__add__', '__class__', '__contains__', '__delattr__', '__dir__', '__doc__', '__eq__', '__format__', '__ge__', '__getattribute__', '__getitem__', '__getnewargs__', '__gt__', '__hash__', '__init__', '__init_subclass__', '__iter__', '__le__', '__len__', '__lt__', '__mod__', '__mul__', '__ne__', '__new__', '__reduce__', '__reduce_ex__', '__repr__', '__rmod__', '__rmul__', '__setattr__', '__sizeof__', '__str__', '__subclasshook__', 'capitalize', 'casefold', 'center', 'count', 'encode', 'endswith', 'expandtabs', 'find', 'format', 'format_map', 'index', 'isalnum', 'isalpha', 'isascii', 'isdecimal', 'isdigit', 'isidentifier', 'islower', 'isnumeric', 'isprintable', 'isspace', 'istitle', 'isupper', 'join', 'ljust', 'lower', 'lstrip', 'maketrans', 'partition', 'replace', 'rfind', 'rindex', 'rjust', 'rpartition', 'rsplit', 'rstrip', 'split', 'splitlines', 'startswith', 'strip', 'swapcase', 'title', 'translate', 'upper', 'zfill']\n"
     ]
    }
   ],
   "source": [
    "print(dir(str))"
   ]
  },
  {
   "cell_type": "code",
   "execution_count": 4,
   "metadata": {},
   "outputs": [
    {
     "name": "stdout",
     "output_type": "stream",
     "text": [
      "['__add__', '__class__', '__contains__', '__delattr__', '__dir__', '__doc__', '__eq__', '__format__', '__ge__', '__getattribute__', '__getitem__', '__getnewargs__', '__gt__', '__hash__', '__init__', '__init_subclass__', '__iter__', '__le__', '__len__', '__lt__', '__mod__', '__mul__', '__ne__', '__new__', '__reduce__', '__reduce_ex__', '__repr__', '__rmod__', '__rmul__', '__setattr__', '__sizeof__', '__str__', '__subclasshook__', 'capitalize', 'casefold', 'center', 'count', 'encode', 'endswith', 'expandtabs', 'find', 'format', 'format_map', 'index', 'isalnum', 'isalpha', 'isascii', 'isdecimal', 'isdigit', 'isidentifier', 'islower', 'isnumeric', 'isprintable', 'isspace', 'istitle', 'isupper', 'join', 'ljust', 'lower', 'lstrip', 'maketrans', 'partition', 'replace', 'rfind', 'rindex', 'rjust', 'rpartition', 'rsplit', 'rstrip', 'split', 'splitlines', 'startswith', 'strip', 'swapcase', 'title', 'translate', 'upper', 'zfill']\n"
     ]
    }
   ],
   "source": [
    "# 直接给定某一个具体的对象，这里是str对象\n",
    "print(dir(''))"
   ]
  },
  {
   "cell_type": "code",
   "execution_count": 5,
   "metadata": {},
   "outputs": [
    {
     "data": {
      "text/plain": [
       "['In',\n",
       " 'Out',\n",
       " '_',\n",
       " '__',\n",
       " '___',\n",
       " '__builtin__',\n",
       " '__builtins__',\n",
       " '__doc__',\n",
       " '__loader__',\n",
       " '__name__',\n",
       " '__package__',\n",
       " '__spec__',\n",
       " '_dh',\n",
       " '_i',\n",
       " '_i1',\n",
       " '_i2',\n",
       " '_i3',\n",
       " '_i4',\n",
       " '_i5',\n",
       " '_ih',\n",
       " '_ii',\n",
       " '_iii',\n",
       " '_oh',\n",
       " 'exit',\n",
       " 'get_ipython',\n",
       " 'quit']"
      ]
     },
     "execution_count": 5,
     "metadata": {},
     "output_type": "execute_result"
    }
   ],
   "source": [
    "# 查看所有变量\n",
    "dir()"
   ]
  },
  {
   "cell_type": "code",
   "execution_count": 6,
   "metadata": {},
   "outputs": [
    {
     "data": {
      "text/plain": [
       "['In',\n",
       " 'Out',\n",
       " '_',\n",
       " '_5',\n",
       " '__',\n",
       " '___',\n",
       " '__builtin__',\n",
       " '__builtins__',\n",
       " '__doc__',\n",
       " '__loader__',\n",
       " '__name__',\n",
       " '__package__',\n",
       " '__spec__',\n",
       " '_dh',\n",
       " '_i',\n",
       " '_i1',\n",
       " '_i2',\n",
       " '_i3',\n",
       " '_i4',\n",
       " '_i5',\n",
       " '_i6',\n",
       " '_ih',\n",
       " '_ii',\n",
       " '_iii',\n",
       " '_oh',\n",
       " 'exit',\n",
       " 'get_ipython',\n",
       " 'quit',\n",
       " 'x']"
      ]
     },
     "execution_count": 6,
     "metadata": {},
     "output_type": "execute_result"
    }
   ],
   "source": [
    "x = 8\n",
    "dir()"
   ]
  },
  {
   "cell_type": "code",
   "execution_count": 7,
   "metadata": {},
   "outputs": [
    {
     "data": {
      "text/plain": [
       "['In',\n",
       " 'Out',\n",
       " '_',\n",
       " '_5',\n",
       " '_6',\n",
       " '__',\n",
       " '___',\n",
       " '__builtin__',\n",
       " '__builtins__',\n",
       " '__doc__',\n",
       " '__loader__',\n",
       " '__name__',\n",
       " '__package__',\n",
       " '__spec__',\n",
       " '_dh',\n",
       " '_i',\n",
       " '_i1',\n",
       " '_i2',\n",
       " '_i3',\n",
       " '_i4',\n",
       " '_i5',\n",
       " '_i6',\n",
       " '_i7',\n",
       " '_ih',\n",
       " '_ii',\n",
       " '_iii',\n",
       " '_oh',\n",
       " 'exit',\n",
       " 'get_ipython',\n",
       " 'quit']"
      ]
     },
     "execution_count": 7,
     "metadata": {},
     "output_type": "execute_result"
    }
   ],
   "source": [
    "del x\n",
    "dir()"
   ]
  },
  {
   "cell_type": "markdown",
   "metadata": {},
   "source": [
    "## 文档字符串：\n",
    "dir方法只是告诉你有哪些方法，具体有什么用，需要通过文档字符串`__doc__`查看"
   ]
  },
  {
   "cell_type": "code",
   "execution_count": 55,
   "metadata": {},
   "outputs": [
    {
     "name": "stdout",
     "output_type": "stream",
     "text": [
      "Append object to the end of the list.\n"
     ]
    }
   ],
   "source": [
    "print(list.append.__doc__)"
   ]
  },
  {
   "cell_type": "code",
   "execution_count": 56,
   "metadata": {},
   "outputs": [
    {
     "name": "stdout",
     "output_type": "stream",
     "text": [
      "Return True if the string is a whitespace string, False otherwise.\n",
      "\n",
      "A string is whitespace if all characters in the string are whitespace and there\n",
      "is at least one character in the string.\n"
     ]
    }
   ],
   "source": [
    "print(str.isspace.__doc__)"
   ]
  },
  {
   "cell_type": "markdown",
   "metadata": {},
   "source": [
    "## 自定义文档字符串：docstring\n",
    "文档字符串应放在函数，类，模块头部"
   ]
  },
  {
   "cell_type": "code",
   "execution_count": 57,
   "metadata": {},
   "outputs": [],
   "source": [
    "def cluster():\n",
    "    \"\"\"\n",
    "    cluster is a method to get many nodes information\n",
    "    \"\"\"\n",
    "    pass"
   ]
  },
  {
   "cell_type": "code",
   "execution_count": 58,
   "metadata": {},
   "outputs": [
    {
     "name": "stdout",
     "output_type": "stream",
     "text": [
      "\n",
      "    cluster is a method to get many nodes information\n",
      "    \n"
     ]
    }
   ],
   "source": [
    "print(cluster.__doc__)"
   ]
  },
  {
   "cell_type": "code",
   "execution_count": 59,
   "metadata": {},
   "outputs": [
    {
     "name": "stdout",
     "output_type": "stream",
     "text": [
      "Help on function cluster in module __main__:\n",
      "\n",
      "cluster()\n",
      "    cluster is a method to get many nodes information\n",
      "\n"
     ]
    }
   ],
   "source": [
    "help(cluster)"
   ]
  },
  {
   "cell_type": "code",
   "execution_count": 61,
   "metadata": {},
   "outputs": [
    {
     "data": {
      "text/plain": [
       "'\\nurllib3 - Thread-safe connection pooling and re-using.\\n'"
      ]
     },
     "execution_count": 61,
     "metadata": {},
     "output_type": "execute_result"
    }
   ],
   "source": [
    "import urllib3\n",
    "urllib3.__doc__"
   ]
  },
  {
   "cell_type": "code",
   "execution_count": 62,
   "metadata": {},
   "outputs": [
    {
     "name": "stdout",
     "output_type": "stream",
     "text": [
      "Help on package urllib3:\n",
      "\n",
      "NAME\n",
      "    urllib3 - urllib3 - Thread-safe connection pooling and re-using.\n",
      "\n",
      "PACKAGE CONTENTS\n",
      "    _collections\n",
      "    connection\n",
      "    connectionpool\n",
      "    contrib (package)\n",
      "    exceptions\n",
      "    fields\n",
      "    filepost\n",
      "    packages (package)\n",
      "    poolmanager\n",
      "    request\n",
      "    response\n",
      "    util (package)\n",
      "\n",
      "CLASSES\n",
      "    builtins.object\n",
      "        urllib3.util.retry.Retry\n",
      "        urllib3.util.timeout.Timeout\n",
      "    io.IOBase(_io._IOBase)\n",
      "        urllib3.response.HTTPResponse\n",
      "    urllib3.connectionpool.ConnectionPool(builtins.object)\n",
      "        urllib3.connectionpool.HTTPConnectionPool(urllib3.connectionpool.ConnectionPool, urllib3.request.RequestMethods)\n",
      "            urllib3.connectionpool.HTTPSConnectionPool\n",
      "    urllib3.request.RequestMethods(builtins.object)\n",
      "        urllib3.connectionpool.HTTPConnectionPool(urllib3.connectionpool.ConnectionPool, urllib3.request.RequestMethods)\n",
      "            urllib3.connectionpool.HTTPSConnectionPool\n",
      "        urllib3.poolmanager.PoolManager\n",
      "            urllib3.poolmanager.ProxyManager\n",
      "    \n",
      "    class HTTPConnectionPool(ConnectionPool, urllib3.request.RequestMethods)\n",
      "     |  HTTPConnectionPool(host, port=None, strict=False, timeout=<object object at 0x00000251D44DE6A0>, maxsize=1, block=False, headers=None, retries=None, _proxy=None, _proxy_headers=None, **conn_kw)\n",
      "     |  \n",
      "     |  Thread-safe connection pool for one host.\n",
      "     |  \n",
      "     |  :param host:\n",
      "     |      Host used for this HTTP Connection (e.g. \"localhost\"), passed into\n",
      "     |      :class:`httplib.HTTPConnection`.\n",
      "     |  \n",
      "     |  :param port:\n",
      "     |      Port used for this HTTP Connection (None is equivalent to 80), passed\n",
      "     |      into :class:`httplib.HTTPConnection`.\n",
      "     |  \n",
      "     |  :param strict:\n",
      "     |      Causes BadStatusLine to be raised if the status line can't be parsed\n",
      "     |      as a valid HTTP/1.0 or 1.1 status line, passed into\n",
      "     |      :class:`httplib.HTTPConnection`.\n",
      "     |  \n",
      "     |      .. note::\n",
      "     |         Only works in Python 2. This parameter is ignored in Python 3.\n",
      "     |  \n",
      "     |  :param timeout:\n",
      "     |      Socket timeout in seconds for each individual connection. This can\n",
      "     |      be a float or integer, which sets the timeout for the HTTP request,\n",
      "     |      or an instance of :class:`urllib3.util.Timeout` which gives you more\n",
      "     |      fine-grained control over request timeouts. After the constructor has\n",
      "     |      been parsed, this is always a `urllib3.util.Timeout` object.\n",
      "     |  \n",
      "     |  :param maxsize:\n",
      "     |      Number of connections to save that can be reused. More than 1 is useful\n",
      "     |      in multithreaded situations. If ``block`` is set to False, more\n",
      "     |      connections will be created but they will not be saved once they've\n",
      "     |      been used.\n",
      "     |  \n",
      "     |  :param block:\n",
      "     |      If set to True, no more than ``maxsize`` connections will be used at\n",
      "     |      a time. When no free connections are available, the call will block\n",
      "     |      until a connection has been released. This is a useful side effect for\n",
      "     |      particular multithreaded situations where one does not want to use more\n",
      "     |      than maxsize connections per host to prevent flooding.\n",
      "     |  \n",
      "     |  :param headers:\n",
      "     |      Headers to include with all requests, unless other headers are given\n",
      "     |      explicitly.\n",
      "     |  \n",
      "     |  :param retries:\n",
      "     |      Retry configuration to use by default with requests in this pool.\n",
      "     |  \n",
      "     |  :param _proxy:\n",
      "     |      Parsed proxy URL, should not be used directly, instead, see\n",
      "     |      :class:`urllib3.connectionpool.ProxyManager`\"\n",
      "     |  \n",
      "     |  :param _proxy_headers:\n",
      "     |      A dictionary with proxy headers, should not be used directly,\n",
      "     |      instead, see :class:`urllib3.connectionpool.ProxyManager`\"\n",
      "     |  \n",
      "     |  :param \\**conn_kw:\n",
      "     |      Additional parameters are used to create fresh :class:`urllib3.connection.HTTPConnection`,\n",
      "     |      :class:`urllib3.connection.HTTPSConnection` instances.\n",
      "     |  \n",
      "     |  Method resolution order:\n",
      "     |      HTTPConnectionPool\n",
      "     |      ConnectionPool\n",
      "     |      urllib3.request.RequestMethods\n",
      "     |      builtins.object\n",
      "     |  \n",
      "     |  Methods defined here:\n",
      "     |  \n",
      "     |  __init__(self, host, port=None, strict=False, timeout=<object object at 0x00000251D44DE6A0>, maxsize=1, block=False, headers=None, retries=None, _proxy=None, _proxy_headers=None, **conn_kw)\n",
      "     |      Initialize self.  See help(type(self)) for accurate signature.\n",
      "     |  \n",
      "     |  close(self)\n",
      "     |      Close all pooled connections and disable the pool.\n",
      "     |  \n",
      "     |  is_same_host(self, url)\n",
      "     |      Check if the given ``url`` is a member of the same host as this\n",
      "     |      connection pool.\n",
      "     |  \n",
      "     |  urlopen(self, method, url, body=None, headers=None, retries=None, redirect=True, assert_same_host=True, timeout=<object object at 0x00000251D76211F0>, pool_timeout=None, release_conn=None, chunked=False, body_pos=None, **response_kw)\n",
      "     |      Get a connection from the pool and perform an HTTP request. This is the\n",
      "     |      lowest level call for making a request, so you'll need to specify all\n",
      "     |      the raw details.\n",
      "     |      \n",
      "     |      .. note::\n",
      "     |      \n",
      "     |         More commonly, it's appropriate to use a convenience method provided\n",
      "     |         by :class:`.RequestMethods`, such as :meth:`request`.\n",
      "     |      \n",
      "     |      .. note::\n",
      "     |      \n",
      "     |         `release_conn` will only behave as expected if\n",
      "     |         `preload_content=False` because we want to make\n",
      "     |         `preload_content=False` the default behaviour someday soon without\n",
      "     |         breaking backwards compatibility.\n",
      "     |      \n",
      "     |      :param method:\n",
      "     |          HTTP request method (such as GET, POST, PUT, etc.)\n",
      "     |      \n",
      "     |      :param body:\n",
      "     |          Data to send in the request body (useful for creating\n",
      "     |          POST requests, see HTTPConnectionPool.post_url for\n",
      "     |          more convenience).\n",
      "     |      \n",
      "     |      :param headers:\n",
      "     |          Dictionary of custom headers to send, such as User-Agent,\n",
      "     |          If-None-Match, etc. If None, pool headers are used. If provided,\n",
      "     |          these headers completely replace any pool-specific headers.\n",
      "     |      \n",
      "     |      :param retries:\n",
      "     |          Configure the number of retries to allow before raising a\n",
      "     |          :class:`~urllib3.exceptions.MaxRetryError` exception.\n",
      "     |      \n",
      "     |          Pass ``None`` to retry until you receive a response. Pass a\n",
      "     |          :class:`~urllib3.util.retry.Retry` object for fine-grained control\n",
      "     |          over different types of retries.\n",
      "     |          Pass an integer number to retry connection errors that many times,\n",
      "     |          but no other types of errors. Pass zero to never retry.\n",
      "     |      \n",
      "     |          If ``False``, then retries are disabled and any exception is raised\n",
      "     |          immediately. Also, instead of raising a MaxRetryError on redirects,\n",
      "     |          the redirect response will be returned.\n",
      "     |      \n",
      "     |      :type retries: :class:`~urllib3.util.retry.Retry`, False, or an int.\n",
      "     |      \n",
      "     |      :param redirect:\n",
      "     |          If True, automatically handle redirects (status codes 301, 302,\n",
      "     |          303, 307, 308). Each redirect counts as a retry. Disabling retries\n",
      "     |          will disable redirect, too.\n",
      "     |      \n",
      "     |      :param assert_same_host:\n",
      "     |          If ``True``, will make sure that the host of the pool requests is\n",
      "     |          consistent else will raise HostChangedError. When False, you can\n",
      "     |          use the pool on an HTTP proxy and request foreign hosts.\n",
      "     |      \n",
      "     |      :param timeout:\n",
      "     |          If specified, overrides the default timeout for this one\n",
      "     |          request. It may be a float (in seconds) or an instance of\n",
      "     |          :class:`urllib3.util.Timeout`.\n",
      "     |      \n",
      "     |      :param pool_timeout:\n",
      "     |          If set and the pool is set to block=True, then this method will\n",
      "     |          block for ``pool_timeout`` seconds and raise EmptyPoolError if no\n",
      "     |          connection is available within the time period.\n",
      "     |      \n",
      "     |      :param release_conn:\n",
      "     |          If False, then the urlopen call will not release the connection\n",
      "     |          back into the pool once a response is received (but will release if\n",
      "     |          you read the entire contents of the response such as when\n",
      "     |          `preload_content=True`). This is useful if you're not preloading\n",
      "     |          the response's content immediately. You will need to call\n",
      "     |          ``r.release_conn()`` on the response ``r`` to return the connection\n",
      "     |          back into the pool. If None, it takes the value of\n",
      "     |          ``response_kw.get('preload_content', True)``.\n",
      "     |      \n",
      "     |      :param chunked:\n",
      "     |          If True, urllib3 will send the body using chunked transfer\n",
      "     |          encoding. Otherwise, urllib3 will send the body using the standard\n",
      "     |          content-length form. Defaults to False.\n",
      "     |      \n",
      "     |      :param int body_pos:\n",
      "     |          Position to seek to in file-like body in the event of a retry or\n",
      "     |          redirect. Typically this won't need to be set because urllib3 will\n",
      "     |          auto-populate the value when needed.\n",
      "     |      \n",
      "     |      :param \\**response_kw:\n",
      "     |          Additional parameters are passed to\n",
      "     |          :meth:`urllib3.response.HTTPResponse.from_httplib`\n",
      "     |  \n",
      "     |  ----------------------------------------------------------------------\n",
      "     |  Data and other attributes defined here:\n",
      "     |  \n",
      "     |  ConnectionCls = <class 'urllib3.connection.HTTPConnection'>\n",
      "     |      Based on httplib.HTTPConnection but provides an extra constructor\n",
      "     |      backwards-compatibility layer between older and newer Pythons.\n",
      "     |      \n",
      "     |      Additional keyword parameters are used to configure attributes of the connection.\n",
      "     |      Accepted parameters include:\n",
      "     |      \n",
      "     |        - ``strict``: See the documentation on :class:`urllib3.connectionpool.HTTPConnectionPool`\n",
      "     |        - ``source_address``: Set the source address for the current connection.\n",
      "     |        - ``socket_options``: Set specific options on the underlying socket. If not specified, then\n",
      "     |          defaults are loaded from ``HTTPConnection.default_socket_options`` which includes disabling\n",
      "     |          Nagle's algorithm (sets TCP_NODELAY to 1) unless the connection is behind a proxy.\n",
      "     |      \n",
      "     |          For example, if you wish to enable TCP Keep Alive in addition to the defaults,\n",
      "     |          you might pass::\n",
      "     |      \n",
      "     |              HTTPConnection.default_socket_options + [\n",
      "     |                  (socket.SOL_SOCKET, socket.SO_KEEPALIVE, 1),\n",
      "     |              ]\n",
      "     |      \n",
      "     |          Or you may want to disable the defaults by passing an empty list (e.g., ``[]``).\n",
      "     |  \n",
      "     |  ResponseCls = <class 'urllib3.response.HTTPResponse'>\n",
      "     |      HTTP Response container.\n",
      "     |      \n",
      "     |      Backwards-compatible to httplib's HTTPResponse but the response ``body`` is\n",
      "     |      loaded and decoded on-demand when the ``data`` property is accessed.  This\n",
      "     |      class is also compatible with the Python standard library's :mod:`io`\n",
      "     |      module, and can hence be treated as a readable object in the context of that\n",
      "     |      framework.\n",
      "     |      \n",
      "     |      Extra parameters for behaviour not present in httplib.HTTPResponse:\n",
      "     |      \n",
      "     |      :param preload_content:\n",
      "     |          If True, the response's body will be preloaded during construction.\n",
      "     |      \n",
      "     |      :param decode_content:\n",
      "     |          If True, will attempt to decode the body based on the\n",
      "     |          'content-encoding' header.\n",
      "     |      \n",
      "     |      :param original_response:\n",
      "     |          When this HTTPResponse wrapper is generated from an httplib.HTTPResponse\n",
      "     |          object, it's convenient to include the original for debug purposes. It's\n",
      "     |          otherwise unused.\n",
      "     |      \n",
      "     |      :param retries:\n",
      "     |          The retries contains the last :class:`~urllib3.util.retry.Retry` that\n",
      "     |          was used during the request.\n",
      "     |      \n",
      "     |      :param enforce_content_length:\n",
      "     |          Enforce content length checking. Body returned by server must match\n",
      "     |          value of Content-Length header, if present. Otherwise, raise error.\n",
      "     |  \n",
      "     |  scheme = 'http'\n",
      "     |  \n",
      "     |  ----------------------------------------------------------------------\n",
      "     |  Methods inherited from ConnectionPool:\n",
      "     |  \n",
      "     |  __enter__(self)\n",
      "     |  \n",
      "     |  __exit__(self, exc_type, exc_val, exc_tb)\n",
      "     |  \n",
      "     |  __str__(self)\n",
      "     |      Return str(self).\n",
      "     |  \n",
      "     |  ----------------------------------------------------------------------\n",
      "     |  Data descriptors inherited from ConnectionPool:\n",
      "     |  \n",
      "     |  __dict__\n",
      "     |      dictionary for instance variables (if defined)\n",
      "     |  \n",
      "     |  __weakref__\n",
      "     |      list of weak references to the object (if defined)\n",
      "     |  \n",
      "     |  ----------------------------------------------------------------------\n",
      "     |  Data and other attributes inherited from ConnectionPool:\n",
      "     |  \n",
      "     |  QueueCls = <class 'urllib3.util.queue.LifoQueue'>\n",
      "     |      Create a queue object with a given maximum size.\n",
      "     |      \n",
      "     |      If maxsize is <= 0, the queue size is infinite.\n",
      "     |  \n",
      "     |  ----------------------------------------------------------------------\n",
      "     |  Methods inherited from urllib3.request.RequestMethods:\n",
      "     |  \n",
      "     |  request(self, method, url, fields=None, headers=None, **urlopen_kw)\n",
      "     |      Make a request using :meth:`urlopen` with the appropriate encoding of\n",
      "     |      ``fields`` based on the ``method`` used.\n",
      "     |      \n",
      "     |      This is a convenience method that requires the least amount of manual\n",
      "     |      effort. It can be used in most situations, while still having the\n",
      "     |      option to drop down to more specific methods when necessary, such as\n",
      "     |      :meth:`request_encode_url`, :meth:`request_encode_body`,\n",
      "     |      or even the lowest level :meth:`urlopen`.\n",
      "     |  \n",
      "     |  request_encode_body(self, method, url, fields=None, headers=None, encode_multipart=True, multipart_boundary=None, **urlopen_kw)\n",
      "     |      Make a request using :meth:`urlopen` with the ``fields`` encoded in\n",
      "     |      the body. This is useful for request methods like POST, PUT, PATCH, etc.\n",
      "     |      \n",
      "     |      When ``encode_multipart=True`` (default), then\n",
      "     |      :meth:`urllib3.filepost.encode_multipart_formdata` is used to encode\n",
      "     |      the payload with the appropriate content type. Otherwise\n",
      "     |      :meth:`urllib.urlencode` is used with the\n",
      "     |      'application/x-www-form-urlencoded' content type.\n",
      "     |      \n",
      "     |      Multipart encoding must be used when posting files, and it's reasonably\n",
      "     |      safe to use it in other times too. However, it may break request\n",
      "     |      signing, such as with OAuth.\n",
      "     |      \n",
      "     |      Supports an optional ``fields`` parameter of key/value strings AND\n",
      "     |      key/filetuple. A filetuple is a (filename, data, MIME type) tuple where\n",
      "     |      the MIME type is optional. For example::\n",
      "     |      \n",
      "     |          fields = {\n",
      "     |              'foo': 'bar',\n",
      "     |              'fakefile': ('foofile.txt', 'contents of foofile'),\n",
      "     |              'realfile': ('barfile.txt', open('realfile').read()),\n",
      "     |              'typedfile': ('bazfile.bin', open('bazfile').read(),\n",
      "     |                            'image/jpeg'),\n",
      "     |              'nonamefile': 'contents of nonamefile field',\n",
      "     |          }\n",
      "     |      \n",
      "     |      When uploading a file, providing a filename (the first parameter of the\n",
      "     |      tuple) is optional but recommended to best mimic behavior of browsers.\n",
      "     |      \n",
      "     |      Note that if ``headers`` are supplied, the 'Content-Type' header will\n",
      "     |      be overwritten because it depends on the dynamic random boundary string\n",
      "     |      which is used to compose the body of the request. The random boundary\n",
      "     |      string can be explicitly set with the ``multipart_boundary`` parameter.\n",
      "     |  \n",
      "     |  request_encode_url(self, method, url, fields=None, headers=None, **urlopen_kw)\n",
      "     |      Make a request using :meth:`urlopen` with the ``fields`` encoded in\n",
      "     |      the url. This is useful for request methods like GET, HEAD, DELETE, etc.\n",
      "    \n",
      "    class HTTPResponse(io.IOBase)\n",
      "     |  HTTPResponse(body='', headers=None, status=0, version=0, reason=None, strict=0, preload_content=True, decode_content=True, original_response=None, pool=None, connection=None, msg=None, retries=None, enforce_content_length=False, request_method=None, request_url=None)\n",
      "     |  \n",
      "     |  HTTP Response container.\n",
      "     |  \n",
      "     |  Backwards-compatible to httplib's HTTPResponse but the response ``body`` is\n",
      "     |  loaded and decoded on-demand when the ``data`` property is accessed.  This\n",
      "     |  class is also compatible with the Python standard library's :mod:`io`\n",
      "     |  module, and can hence be treated as a readable object in the context of that\n",
      "     |  framework.\n",
      "     |  \n",
      "     |  Extra parameters for behaviour not present in httplib.HTTPResponse:\n",
      "     |  \n",
      "     |  :param preload_content:\n",
      "     |      If True, the response's body will be preloaded during construction.\n",
      "     |  \n",
      "     |  :param decode_content:\n",
      "     |      If True, will attempt to decode the body based on the\n",
      "     |      'content-encoding' header.\n",
      "     |  \n",
      "     |  :param original_response:\n",
      "     |      When this HTTPResponse wrapper is generated from an httplib.HTTPResponse\n",
      "     |      object, it's convenient to include the original for debug purposes. It's\n",
      "     |      otherwise unused.\n",
      "     |  \n",
      "     |  :param retries:\n",
      "     |      The retries contains the last :class:`~urllib3.util.retry.Retry` that\n",
      "     |      was used during the request.\n",
      "     |  \n",
      "     |  :param enforce_content_length:\n",
      "     |      Enforce content length checking. Body returned by server must match\n",
      "     |      value of Content-Length header, if present. Otherwise, raise error.\n",
      "     |  \n",
      "     |  Method resolution order:\n",
      "     |      HTTPResponse\n",
      "     |      io.IOBase\n",
      "     |      _io._IOBase\n",
      "     |      builtins.object\n",
      "     |  \n",
      "     |  Methods defined here:\n",
      "     |  \n",
      "     |  __init__(self, body='', headers=None, status=0, version=0, reason=None, strict=0, preload_content=True, decode_content=True, original_response=None, pool=None, connection=None, msg=None, retries=None, enforce_content_length=False, request_method=None, request_url=None)\n",
      "     |      Initialize self.  See help(type(self)) for accurate signature.\n",
      "     |  \n",
      "     |  close(self)\n",
      "     |      Flush and close the IO object.\n",
      "     |      \n",
      "     |      This method has no effect if the file is already closed.\n",
      "     |  \n",
      "     |  fileno(self)\n",
      "     |      Returns underlying file descriptor if one exists.\n",
      "     |      \n",
      "     |      OSError is raised if the IO object does not use a file descriptor.\n",
      "     |  \n",
      "     |  flush(self)\n",
      "     |      Flush write buffers, if applicable.\n",
      "     |      \n",
      "     |      This is not implemented for read-only and non-blocking streams.\n",
      "     |  \n",
      "     |  get_redirect_location(self)\n",
      "     |      Should we redirect and where to?\n",
      "     |      \n",
      "     |      :returns: Truthy redirect location string if we got a redirect status\n",
      "     |          code and valid location. ``None`` if redirect status and no\n",
      "     |          location. ``False`` if not a redirect status code.\n",
      "     |  \n",
      "     |  getheader(self, name, default=None)\n",
      "     |  \n",
      "     |  getheaders(self)\n",
      "     |      # Backwards-compatibility methods for httplib.HTTPResponse\n",
      "     |  \n",
      "     |  geturl(self)\n",
      "     |      Returns the URL that was the source of this response.\n",
      "     |      If the request that generated this response redirected, this method\n",
      "     |      will return the final redirect location.\n",
      "     |  \n",
      "     |  info(self)\n",
      "     |      # Backwards compatibility for http.cookiejar\n",
      "     |  \n",
      "     |  isclosed(self)\n",
      "     |  \n",
      "     |  read(self, amt=None, decode_content=None, cache_content=False)\n",
      "     |      Similar to :meth:`httplib.HTTPResponse.read`, but with two additional\n",
      "     |      parameters: ``decode_content`` and ``cache_content``.\n",
      "     |      \n",
      "     |      :param amt:\n",
      "     |          How much of the content to read. If specified, caching is skipped\n",
      "     |          because it doesn't make sense to cache partial content as the full\n",
      "     |          response.\n",
      "     |      \n",
      "     |      :param decode_content:\n",
      "     |          If True, will attempt to decode the body based on the\n",
      "     |          'content-encoding' header.\n",
      "     |      \n",
      "     |      :param cache_content:\n",
      "     |          If True, will save the returned data such that the same result is\n",
      "     |          returned despite of the state of the underlying file object. This\n",
      "     |          is useful if you want the ``.data`` property to continue working\n",
      "     |          after having ``.read()`` the file object. (Overridden if ``amt`` is\n",
      "     |          set.)\n",
      "     |  \n",
      "     |  read_chunked(self, amt=None, decode_content=None)\n",
      "     |      Similar to :meth:`HTTPResponse.read`, but with an additional\n",
      "     |      parameter: ``decode_content``.\n",
      "     |      \n",
      "     |      :param amt:\n",
      "     |          How much of the content to read. If specified, caching is skipped\n",
      "     |          because it doesn't make sense to cache partial content as the full\n",
      "     |          response.\n",
      "     |      \n",
      "     |      :param decode_content:\n",
      "     |          If True, will attempt to decode the body based on the\n",
      "     |          'content-encoding' header.\n",
      "     |  \n",
      "     |  readable(self)\n",
      "     |      Return whether object was opened for reading.\n",
      "     |      \n",
      "     |      If False, read() will raise OSError.\n",
      "     |  \n",
      "     |  readinto(self, b)\n",
      "     |  \n",
      "     |  release_conn(self)\n",
      "     |  \n",
      "     |  stream(self, amt=65536, decode_content=None)\n",
      "     |      A generator wrapper for the read() method. A call will block until\n",
      "     |      ``amt`` bytes have been read from the connection or until the\n",
      "     |      connection is closed.\n",
      "     |      \n",
      "     |      :param amt:\n",
      "     |          How much of the content to read. The generator will return up to\n",
      "     |          much data per iteration, but may return less. This is particularly\n",
      "     |          likely when using compressed data. However, the empty string will\n",
      "     |          never be returned.\n",
      "     |      \n",
      "     |      :param decode_content:\n",
      "     |          If True, will attempt to decode the body based on the\n",
      "     |          'content-encoding' header.\n",
      "     |  \n",
      "     |  supports_chunked_reads(self)\n",
      "     |      Checks if the underlying file-like object looks like a\n",
      "     |      httplib.HTTPResponse object. We do this by testing for the fp\n",
      "     |      attribute. If it is present we assume it returns raw chunks as\n",
      "     |      processed by read_chunked().\n",
      "     |  \n",
      "     |  tell(self)\n",
      "     |      Obtain the number of bytes pulled over the wire so far. May differ from\n",
      "     |      the amount of content returned by :meth:``HTTPResponse.read`` if bytes\n",
      "     |      are encoded on the wire (e.g, compressed).\n",
      "     |  \n",
      "     |  ----------------------------------------------------------------------\n",
      "     |  Class methods defined here:\n",
      "     |  \n",
      "     |  from_httplib(r, **response_kw) from abc.ABCMeta\n",
      "     |      Given an :class:`httplib.HTTPResponse` instance ``r``, return a\n",
      "     |      corresponding :class:`urllib3.response.HTTPResponse` object.\n",
      "     |      \n",
      "     |      Remaining parameters are passed to the HTTPResponse constructor, along\n",
      "     |      with ``original_response=r``.\n",
      "     |  \n",
      "     |  ----------------------------------------------------------------------\n",
      "     |  Data descriptors defined here:\n",
      "     |  \n",
      "     |  closed\n",
      "     |  \n",
      "     |  connection\n",
      "     |  \n",
      "     |  data\n",
      "     |  \n",
      "     |  ----------------------------------------------------------------------\n",
      "     |  Data and other attributes defined here:\n",
      "     |  \n",
      "     |  CONTENT_DECODERS = ['gzip', 'deflate']\n",
      "     |  \n",
      "     |  REDIRECT_STATUSES = [301, 302, 303, 307, 308]\n",
      "     |  \n",
      "     |  __abstractmethods__ = frozenset()\n",
      "     |  \n",
      "     |  ----------------------------------------------------------------------\n",
      "     |  Methods inherited from _io._IOBase:\n",
      "     |  \n",
      "     |  __del__(...)\n",
      "     |  \n",
      "     |  __enter__(...)\n",
      "     |  \n",
      "     |  __exit__(...)\n",
      "     |  \n",
      "     |  __iter__(self, /)\n",
      "     |      Implement iter(self).\n",
      "     |  \n",
      "     |  __next__(self, /)\n",
      "     |      Implement next(self).\n",
      "     |  \n",
      "     |  isatty(self, /)\n",
      "     |      Return whether this is an 'interactive' stream.\n",
      "     |      \n",
      "     |      Return False if it can't be determined.\n",
      "     |  \n",
      "     |  readline(self, size=-1, /)\n",
      "     |      Read and return a line from the stream.\n",
      "     |      \n",
      "     |      If size is specified, at most size bytes will be read.\n",
      "     |      \n",
      "     |      The line terminator is always b'\\n' for binary files; for text\n",
      "     |      files, the newlines argument to open can be used to select the line\n",
      "     |      terminator(s) recognized.\n",
      "     |  \n",
      "     |  readlines(self, hint=-1, /)\n",
      "     |      Return a list of lines from the stream.\n",
      "     |      \n",
      "     |      hint can be specified to control the number of lines read: no more\n",
      "     |      lines will be read if the total size (in bytes/characters) of all\n",
      "     |      lines so far exceeds hint.\n",
      "     |  \n",
      "     |  seek(...)\n",
      "     |      Change stream position.\n",
      "     |      \n",
      "     |      Change the stream position to the given byte offset. The offset is\n",
      "     |      interpreted relative to the position indicated by whence.  Values\n",
      "     |      for whence are:\n",
      "     |      \n",
      "     |      * 0 -- start of stream (the default); offset should be zero or positive\n",
      "     |      * 1 -- current stream position; offset may be negative\n",
      "     |      * 2 -- end of stream; offset is usually negative\n",
      "     |      \n",
      "     |      Return the new absolute position.\n",
      "     |  \n",
      "     |  seekable(self, /)\n",
      "     |      Return whether object supports random access.\n",
      "     |      \n",
      "     |      If False, seek(), tell() and truncate() will raise OSError.\n",
      "     |      This method may need to do a test seek().\n",
      "     |  \n",
      "     |  truncate(...)\n",
      "     |      Truncate file to size bytes.\n",
      "     |      \n",
      "     |      File pointer is left unchanged.  Size defaults to the current IO\n",
      "     |      position as reported by tell().  Returns the new size.\n",
      "     |  \n",
      "     |  writable(self, /)\n",
      "     |      Return whether object was opened for writing.\n",
      "     |      \n",
      "     |      If False, write() will raise OSError.\n",
      "     |  \n",
      "     |  writelines(self, lines, /)\n",
      "     |  \n",
      "     |  ----------------------------------------------------------------------\n",
      "     |  Static methods inherited from _io._IOBase:\n",
      "     |  \n",
      "     |  __new__(*args, **kwargs) from builtins.type\n",
      "     |      Create and return a new object.  See help(type) for accurate signature.\n",
      "     |  \n",
      "     |  ----------------------------------------------------------------------\n",
      "     |  Data descriptors inherited from _io._IOBase:\n",
      "     |  \n",
      "     |  __dict__\n",
      "    \n",
      "    class HTTPSConnectionPool(HTTPConnectionPool)\n",
      "     |  HTTPSConnectionPool(host, port=None, strict=False, timeout=<object object at 0x00000251D44DE6A0>, maxsize=1, block=False, headers=None, retries=None, _proxy=None, _proxy_headers=None, key_file=None, cert_file=None, cert_reqs=None, ca_certs=None, ssl_version=None, assert_hostname=None, assert_fingerprint=None, ca_cert_dir=None, **conn_kw)\n",
      "     |  \n",
      "     |  Same as :class:`.HTTPConnectionPool`, but HTTPS.\n",
      "     |  \n",
      "     |  When Python is compiled with the :mod:`ssl` module, then\n",
      "     |  :class:`.VerifiedHTTPSConnection` is used, which *can* verify certificates,\n",
      "     |  instead of :class:`.HTTPSConnection`.\n",
      "     |  \n",
      "     |  :class:`.VerifiedHTTPSConnection` uses one of ``assert_fingerprint``,\n",
      "     |  ``assert_hostname`` and ``host`` in this order to verify connections.\n",
      "     |  If ``assert_hostname`` is False, no verification is done.\n",
      "     |  \n",
      "     |  The ``key_file``, ``cert_file``, ``cert_reqs``, ``ca_certs``,\n",
      "     |  ``ca_cert_dir``, and ``ssl_version`` are only used if :mod:`ssl` is\n",
      "     |  available and are fed into :meth:`urllib3.util.ssl_wrap_socket` to upgrade\n",
      "     |  the connection socket into an SSL socket.\n",
      "     |  \n",
      "     |  Method resolution order:\n",
      "     |      HTTPSConnectionPool\n",
      "     |      HTTPConnectionPool\n",
      "     |      ConnectionPool\n",
      "     |      urllib3.request.RequestMethods\n",
      "     |      builtins.object\n",
      "     |  \n",
      "     |  Methods defined here:\n",
      "     |  \n",
      "     |  __init__(self, host, port=None, strict=False, timeout=<object object at 0x00000251D44DE6A0>, maxsize=1, block=False, headers=None, retries=None, _proxy=None, _proxy_headers=None, key_file=None, cert_file=None, cert_reqs=None, ca_certs=None, ssl_version=None, assert_hostname=None, assert_fingerprint=None, ca_cert_dir=None, **conn_kw)\n",
      "     |      Initialize self.  See help(type(self)) for accurate signature.\n",
      "     |  \n",
      "     |  ----------------------------------------------------------------------\n",
      "     |  Data and other attributes defined here:\n",
      "     |  \n",
      "     |  ConnectionCls = <class 'urllib3.connection.VerifiedHTTPSConnection'>\n",
      "     |      Based on httplib.HTTPSConnection but wraps the socket with\n",
      "     |      SSL certification.\n",
      "     |  \n",
      "     |  scheme = 'https'\n",
      "     |  \n",
      "     |  ----------------------------------------------------------------------\n",
      "     |  Methods inherited from HTTPConnectionPool:\n",
      "     |  \n",
      "     |  close(self)\n",
      "     |      Close all pooled connections and disable the pool.\n",
      "     |  \n",
      "     |  is_same_host(self, url)\n",
      "     |      Check if the given ``url`` is a member of the same host as this\n",
      "     |      connection pool.\n",
      "     |  \n",
      "     |  urlopen(self, method, url, body=None, headers=None, retries=None, redirect=True, assert_same_host=True, timeout=<object object at 0x00000251D76211F0>, pool_timeout=None, release_conn=None, chunked=False, body_pos=None, **response_kw)\n",
      "     |      Get a connection from the pool and perform an HTTP request. This is the\n",
      "     |      lowest level call for making a request, so you'll need to specify all\n",
      "     |      the raw details.\n",
      "     |      \n",
      "     |      .. note::\n",
      "     |      \n",
      "     |         More commonly, it's appropriate to use a convenience method provided\n",
      "     |         by :class:`.RequestMethods`, such as :meth:`request`.\n",
      "     |      \n",
      "     |      .. note::\n",
      "     |      \n",
      "     |         `release_conn` will only behave as expected if\n",
      "     |         `preload_content=False` because we want to make\n",
      "     |         `preload_content=False` the default behaviour someday soon without\n",
      "     |         breaking backwards compatibility.\n",
      "     |      \n",
      "     |      :param method:\n",
      "     |          HTTP request method (such as GET, POST, PUT, etc.)\n",
      "     |      \n",
      "     |      :param body:\n",
      "     |          Data to send in the request body (useful for creating\n",
      "     |          POST requests, see HTTPConnectionPool.post_url for\n",
      "     |          more convenience).\n",
      "     |      \n",
      "     |      :param headers:\n",
      "     |          Dictionary of custom headers to send, such as User-Agent,\n",
      "     |          If-None-Match, etc. If None, pool headers are used. If provided,\n",
      "     |          these headers completely replace any pool-specific headers.\n",
      "     |      \n",
      "     |      :param retries:\n",
      "     |          Configure the number of retries to allow before raising a\n",
      "     |          :class:`~urllib3.exceptions.MaxRetryError` exception.\n",
      "     |      \n",
      "     |          Pass ``None`` to retry until you receive a response. Pass a\n",
      "     |          :class:`~urllib3.util.retry.Retry` object for fine-grained control\n",
      "     |          over different types of retries.\n",
      "     |          Pass an integer number to retry connection errors that many times,\n",
      "     |          but no other types of errors. Pass zero to never retry.\n",
      "     |      \n",
      "     |          If ``False``, then retries are disabled and any exception is raised\n",
      "     |          immediately. Also, instead of raising a MaxRetryError on redirects,\n",
      "     |          the redirect response will be returned.\n",
      "     |      \n",
      "     |      :type retries: :class:`~urllib3.util.retry.Retry`, False, or an int.\n",
      "     |      \n",
      "     |      :param redirect:\n",
      "     |          If True, automatically handle redirects (status codes 301, 302,\n",
      "     |          303, 307, 308). Each redirect counts as a retry. Disabling retries\n",
      "     |          will disable redirect, too.\n",
      "     |      \n",
      "     |      :param assert_same_host:\n",
      "     |          If ``True``, will make sure that the host of the pool requests is\n",
      "     |          consistent else will raise HostChangedError. When False, you can\n",
      "     |          use the pool on an HTTP proxy and request foreign hosts.\n",
      "     |      \n",
      "     |      :param timeout:\n",
      "     |          If specified, overrides the default timeout for this one\n",
      "     |          request. It may be a float (in seconds) or an instance of\n",
      "     |          :class:`urllib3.util.Timeout`.\n",
      "     |      \n",
      "     |      :param pool_timeout:\n",
      "     |          If set and the pool is set to block=True, then this method will\n",
      "     |          block for ``pool_timeout`` seconds and raise EmptyPoolError if no\n",
      "     |          connection is available within the time period.\n",
      "     |      \n",
      "     |      :param release_conn:\n",
      "     |          If False, then the urlopen call will not release the connection\n",
      "     |          back into the pool once a response is received (but will release if\n",
      "     |          you read the entire contents of the response such as when\n",
      "     |          `preload_content=True`). This is useful if you're not preloading\n",
      "     |          the response's content immediately. You will need to call\n",
      "     |          ``r.release_conn()`` on the response ``r`` to return the connection\n",
      "     |          back into the pool. If None, it takes the value of\n",
      "     |          ``response_kw.get('preload_content', True)``.\n",
      "     |      \n",
      "     |      :param chunked:\n",
      "     |          If True, urllib3 will send the body using chunked transfer\n",
      "     |          encoding. Otherwise, urllib3 will send the body using the standard\n",
      "     |          content-length form. Defaults to False.\n",
      "     |      \n",
      "     |      :param int body_pos:\n",
      "     |          Position to seek to in file-like body in the event of a retry or\n",
      "     |          redirect. Typically this won't need to be set because urllib3 will\n",
      "     |          auto-populate the value when needed.\n",
      "     |      \n",
      "     |      :param \\**response_kw:\n",
      "     |          Additional parameters are passed to\n",
      "     |          :meth:`urllib3.response.HTTPResponse.from_httplib`\n",
      "     |  \n",
      "     |  ----------------------------------------------------------------------\n",
      "     |  Data and other attributes inherited from HTTPConnectionPool:\n",
      "     |  \n",
      "     |  ResponseCls = <class 'urllib3.response.HTTPResponse'>\n",
      "     |      HTTP Response container.\n",
      "     |      \n",
      "     |      Backwards-compatible to httplib's HTTPResponse but the response ``body`` is\n",
      "     |      loaded and decoded on-demand when the ``data`` property is accessed.  This\n",
      "     |      class is also compatible with the Python standard library's :mod:`io`\n",
      "     |      module, and can hence be treated as a readable object in the context of that\n",
      "     |      framework.\n",
      "     |      \n",
      "     |      Extra parameters for behaviour not present in httplib.HTTPResponse:\n",
      "     |      \n",
      "     |      :param preload_content:\n",
      "     |          If True, the response's body will be preloaded during construction.\n",
      "     |      \n",
      "     |      :param decode_content:\n",
      "     |          If True, will attempt to decode the body based on the\n",
      "     |          'content-encoding' header.\n",
      "     |      \n",
      "     |      :param original_response:\n",
      "     |          When this HTTPResponse wrapper is generated from an httplib.HTTPResponse\n",
      "     |          object, it's convenient to include the original for debug purposes. It's\n",
      "     |          otherwise unused.\n",
      "     |      \n",
      "     |      :param retries:\n",
      "     |          The retries contains the last :class:`~urllib3.util.retry.Retry` that\n",
      "     |          was used during the request.\n",
      "     |      \n",
      "     |      :param enforce_content_length:\n",
      "     |          Enforce content length checking. Body returned by server must match\n",
      "     |          value of Content-Length header, if present. Otherwise, raise error.\n",
      "     |  \n",
      "     |  ----------------------------------------------------------------------\n",
      "     |  Methods inherited from ConnectionPool:\n",
      "     |  \n",
      "     |  __enter__(self)\n",
      "     |  \n",
      "     |  __exit__(self, exc_type, exc_val, exc_tb)\n",
      "     |  \n",
      "     |  __str__(self)\n",
      "     |      Return str(self).\n",
      "     |  \n",
      "     |  ----------------------------------------------------------------------\n",
      "     |  Data descriptors inherited from ConnectionPool:\n",
      "     |  \n",
      "     |  __dict__\n",
      "     |      dictionary for instance variables (if defined)\n",
      "     |  \n",
      "     |  __weakref__\n",
      "     |      list of weak references to the object (if defined)\n",
      "     |  \n",
      "     |  ----------------------------------------------------------------------\n",
      "     |  Data and other attributes inherited from ConnectionPool:\n",
      "     |  \n",
      "     |  QueueCls = <class 'urllib3.util.queue.LifoQueue'>\n",
      "     |      Create a queue object with a given maximum size.\n",
      "     |      \n",
      "     |      If maxsize is <= 0, the queue size is infinite.\n",
      "     |  \n",
      "     |  ----------------------------------------------------------------------\n",
      "     |  Methods inherited from urllib3.request.RequestMethods:\n",
      "     |  \n",
      "     |  request(self, method, url, fields=None, headers=None, **urlopen_kw)\n",
      "     |      Make a request using :meth:`urlopen` with the appropriate encoding of\n",
      "     |      ``fields`` based on the ``method`` used.\n",
      "     |      \n",
      "     |      This is a convenience method that requires the least amount of manual\n",
      "     |      effort. It can be used in most situations, while still having the\n",
      "     |      option to drop down to more specific methods when necessary, such as\n",
      "     |      :meth:`request_encode_url`, :meth:`request_encode_body`,\n",
      "     |      or even the lowest level :meth:`urlopen`.\n",
      "     |  \n",
      "     |  request_encode_body(self, method, url, fields=None, headers=None, encode_multipart=True, multipart_boundary=None, **urlopen_kw)\n",
      "     |      Make a request using :meth:`urlopen` with the ``fields`` encoded in\n",
      "     |      the body. This is useful for request methods like POST, PUT, PATCH, etc.\n",
      "     |      \n",
      "     |      When ``encode_multipart=True`` (default), then\n",
      "     |      :meth:`urllib3.filepost.encode_multipart_formdata` is used to encode\n",
      "     |      the payload with the appropriate content type. Otherwise\n",
      "     |      :meth:`urllib.urlencode` is used with the\n",
      "     |      'application/x-www-form-urlencoded' content type.\n",
      "     |      \n",
      "     |      Multipart encoding must be used when posting files, and it's reasonably\n",
      "     |      safe to use it in other times too. However, it may break request\n",
      "     |      signing, such as with OAuth.\n",
      "     |      \n",
      "     |      Supports an optional ``fields`` parameter of key/value strings AND\n",
      "     |      key/filetuple. A filetuple is a (filename, data, MIME type) tuple where\n",
      "     |      the MIME type is optional. For example::\n",
      "     |      \n",
      "     |          fields = {\n",
      "     |              'foo': 'bar',\n",
      "     |              'fakefile': ('foofile.txt', 'contents of foofile'),\n",
      "     |              'realfile': ('barfile.txt', open('realfile').read()),\n",
      "     |              'typedfile': ('bazfile.bin', open('bazfile').read(),\n",
      "     |                            'image/jpeg'),\n",
      "     |              'nonamefile': 'contents of nonamefile field',\n",
      "     |          }\n",
      "     |      \n",
      "     |      When uploading a file, providing a filename (the first parameter of the\n",
      "     |      tuple) is optional but recommended to best mimic behavior of browsers.\n",
      "     |      \n",
      "     |      Note that if ``headers`` are supplied, the 'Content-Type' header will\n",
      "     |      be overwritten because it depends on the dynamic random boundary string\n",
      "     |      which is used to compose the body of the request. The random boundary\n",
      "     |      string can be explicitly set with the ``multipart_boundary`` parameter.\n",
      "     |  \n",
      "     |  request_encode_url(self, method, url, fields=None, headers=None, **urlopen_kw)\n",
      "     |      Make a request using :meth:`urlopen` with the ``fields`` encoded in\n",
      "     |      the url. This is useful for request methods like GET, HEAD, DELETE, etc.\n",
      "    \n",
      "    class PoolManager(urllib3.request.RequestMethods)\n",
      "     |  PoolManager(num_pools=10, headers=None, **connection_pool_kw)\n",
      "     |  \n",
      "     |  Allows for arbitrary requests while transparently keeping track of\n",
      "     |  necessary connection pools for you.\n",
      "     |  \n",
      "     |  :param num_pools:\n",
      "     |      Number of connection pools to cache before discarding the least\n",
      "     |      recently used pool.\n",
      "     |  \n",
      "     |  :param headers:\n",
      "     |      Headers to include with all requests, unless other headers are given\n",
      "     |      explicitly.\n",
      "     |  \n",
      "     |  :param \\**connection_pool_kw:\n",
      "     |      Additional parameters are used to create fresh\n",
      "     |      :class:`urllib3.connectionpool.ConnectionPool` instances.\n",
      "     |  \n",
      "     |  Example::\n",
      "     |  \n",
      "     |      >>> manager = PoolManager(num_pools=2)\n",
      "     |      >>> r = manager.request('GET', 'http://google.com/')\n",
      "     |      >>> r = manager.request('GET', 'http://google.com/mail')\n",
      "     |      >>> r = manager.request('GET', 'http://yahoo.com/')\n",
      "     |      >>> len(manager.pools)\n",
      "     |      2\n",
      "     |  \n",
      "     |  Method resolution order:\n",
      "     |      PoolManager\n",
      "     |      urllib3.request.RequestMethods\n",
      "     |      builtins.object\n",
      "     |  \n",
      "     |  Methods defined here:\n",
      "     |  \n",
      "     |  __enter__(self)\n",
      "     |  \n",
      "     |  __exit__(self, exc_type, exc_val, exc_tb)\n",
      "     |  \n",
      "     |  __init__(self, num_pools=10, headers=None, **connection_pool_kw)\n",
      "     |      Initialize self.  See help(type(self)) for accurate signature.\n",
      "     |  \n",
      "     |  clear(self)\n",
      "     |      Empty our store of pools and direct them all to close.\n",
      "     |      \n",
      "     |      This will not affect in-flight connections, but they will not be\n",
      "     |      re-used after completion.\n",
      "     |  \n",
      "     |  connection_from_context(self, request_context)\n",
      "     |      Get a :class:`ConnectionPool` based on the request context.\n",
      "     |      \n",
      "     |      ``request_context`` must at least contain the ``scheme`` key and its\n",
      "     |      value must be a key in ``key_fn_by_scheme`` instance variable.\n",
      "     |  \n",
      "     |  connection_from_host(self, host, port=None, scheme='http', pool_kwargs=None)\n",
      "     |      Get a :class:`ConnectionPool` based on the host, port, and scheme.\n",
      "     |      \n",
      "     |      If ``port`` isn't given, it will be derived from the ``scheme`` using\n",
      "     |      ``urllib3.connectionpool.port_by_scheme``. If ``pool_kwargs`` is\n",
      "     |      provided, it is merged with the instance's ``connection_pool_kw``\n",
      "     |      variable and used to create the new connection pool, if one is\n",
      "     |      needed.\n",
      "     |  \n",
      "     |  connection_from_pool_key(self, pool_key, request_context=None)\n",
      "     |      Get a :class:`ConnectionPool` based on the provided pool key.\n",
      "     |      \n",
      "     |      ``pool_key`` should be a namedtuple that only contains immutable\n",
      "     |      objects. At a minimum it must have the ``scheme``, ``host``, and\n",
      "     |      ``port`` fields.\n",
      "     |  \n",
      "     |  connection_from_url(self, url, pool_kwargs=None)\n",
      "     |      Similar to :func:`urllib3.connectionpool.connection_from_url`.\n",
      "     |      \n",
      "     |      If ``pool_kwargs`` is not provided and a new pool needs to be\n",
      "     |      constructed, ``self.connection_pool_kw`` is used to initialize\n",
      "     |      the :class:`urllib3.connectionpool.ConnectionPool`. If ``pool_kwargs``\n",
      "     |      is provided, it is used instead. Note that if a new pool does not\n",
      "     |      need to be created for the request, the provided ``pool_kwargs`` are\n",
      "     |      not used.\n",
      "     |  \n",
      "     |  urlopen(self, method, url, redirect=True, **kw)\n",
      "     |      Same as :meth:`urllib3.connectionpool.HTTPConnectionPool.urlopen`\n",
      "     |      with custom cross-host redirect logic and only sends the request-uri\n",
      "     |      portion of the ``url``.\n",
      "     |      \n",
      "     |      The given ``url`` parameter must be absolute, such that an appropriate\n",
      "     |      :class:`urllib3.connectionpool.ConnectionPool` can be chosen for it.\n",
      "     |  \n",
      "     |  ----------------------------------------------------------------------\n",
      "     |  Data and other attributes defined here:\n",
      "     |  \n",
      "     |  proxy = None\n",
      "     |  \n",
      "     |  ----------------------------------------------------------------------\n",
      "     |  Methods inherited from urllib3.request.RequestMethods:\n",
      "     |  \n",
      "     |  request(self, method, url, fields=None, headers=None, **urlopen_kw)\n",
      "     |      Make a request using :meth:`urlopen` with the appropriate encoding of\n",
      "     |      ``fields`` based on the ``method`` used.\n",
      "     |      \n",
      "     |      This is a convenience method that requires the least amount of manual\n",
      "     |      effort. It can be used in most situations, while still having the\n",
      "     |      option to drop down to more specific methods when necessary, such as\n",
      "     |      :meth:`request_encode_url`, :meth:`request_encode_body`,\n",
      "     |      or even the lowest level :meth:`urlopen`.\n",
      "     |  \n",
      "     |  request_encode_body(self, method, url, fields=None, headers=None, encode_multipart=True, multipart_boundary=None, **urlopen_kw)\n",
      "     |      Make a request using :meth:`urlopen` with the ``fields`` encoded in\n",
      "     |      the body. This is useful for request methods like POST, PUT, PATCH, etc.\n",
      "     |      \n",
      "     |      When ``encode_multipart=True`` (default), then\n",
      "     |      :meth:`urllib3.filepost.encode_multipart_formdata` is used to encode\n",
      "     |      the payload with the appropriate content type. Otherwise\n",
      "     |      :meth:`urllib.urlencode` is used with the\n",
      "     |      'application/x-www-form-urlencoded' content type.\n",
      "     |      \n",
      "     |      Multipart encoding must be used when posting files, and it's reasonably\n",
      "     |      safe to use it in other times too. However, it may break request\n",
      "     |      signing, such as with OAuth.\n",
      "     |      \n",
      "     |      Supports an optional ``fields`` parameter of key/value strings AND\n",
      "     |      key/filetuple. A filetuple is a (filename, data, MIME type) tuple where\n",
      "     |      the MIME type is optional. For example::\n",
      "     |      \n",
      "     |          fields = {\n",
      "     |              'foo': 'bar',\n",
      "     |              'fakefile': ('foofile.txt', 'contents of foofile'),\n",
      "     |              'realfile': ('barfile.txt', open('realfile').read()),\n",
      "     |              'typedfile': ('bazfile.bin', open('bazfile').read(),\n",
      "     |                            'image/jpeg'),\n",
      "     |              'nonamefile': 'contents of nonamefile field',\n",
      "     |          }\n",
      "     |      \n",
      "     |      When uploading a file, providing a filename (the first parameter of the\n",
      "     |      tuple) is optional but recommended to best mimic behavior of browsers.\n",
      "     |      \n",
      "     |      Note that if ``headers`` are supplied, the 'Content-Type' header will\n",
      "     |      be overwritten because it depends on the dynamic random boundary string\n",
      "     |      which is used to compose the body of the request. The random boundary\n",
      "     |      string can be explicitly set with the ``multipart_boundary`` parameter.\n",
      "     |  \n",
      "     |  request_encode_url(self, method, url, fields=None, headers=None, **urlopen_kw)\n",
      "     |      Make a request using :meth:`urlopen` with the ``fields`` encoded in\n",
      "     |      the url. This is useful for request methods like GET, HEAD, DELETE, etc.\n",
      "     |  \n",
      "     |  ----------------------------------------------------------------------\n",
      "     |  Data descriptors inherited from urllib3.request.RequestMethods:\n",
      "     |  \n",
      "     |  __dict__\n",
      "     |      dictionary for instance variables (if defined)\n",
      "     |  \n",
      "     |  __weakref__\n",
      "     |      list of weak references to the object (if defined)\n",
      "    \n",
      "    class ProxyManager(PoolManager)\n",
      "     |  ProxyManager(proxy_url, num_pools=10, headers=None, proxy_headers=None, **connection_pool_kw)\n",
      "     |  \n",
      "     |  Behaves just like :class:`PoolManager`, but sends all requests through\n",
      "     |  the defined proxy, using the CONNECT method for HTTPS URLs.\n",
      "     |  \n",
      "     |  :param proxy_url:\n",
      "     |      The URL of the proxy to be used.\n",
      "     |  \n",
      "     |  :param proxy_headers:\n",
      "     |      A dictionary containing headers that will be sent to the proxy. In case\n",
      "     |      of HTTP they are being sent with each request, while in the\n",
      "     |      HTTPS/CONNECT case they are sent only once. Could be used for proxy\n",
      "     |      authentication.\n",
      "     |  \n",
      "     |  Example:\n",
      "     |      >>> proxy = urllib3.ProxyManager('http://localhost:3128/')\n",
      "     |      >>> r1 = proxy.request('GET', 'http://google.com/')\n",
      "     |      >>> r2 = proxy.request('GET', 'http://httpbin.org/')\n",
      "     |      >>> len(proxy.pools)\n",
      "     |      1\n",
      "     |      >>> r3 = proxy.request('GET', 'https://httpbin.org/')\n",
      "     |      >>> r4 = proxy.request('GET', 'https://twitter.com/')\n",
      "     |      >>> len(proxy.pools)\n",
      "     |      3\n",
      "     |  \n",
      "     |  Method resolution order:\n",
      "     |      ProxyManager\n",
      "     |      PoolManager\n",
      "     |      urllib3.request.RequestMethods\n",
      "     |      builtins.object\n",
      "     |  \n",
      "     |  Methods defined here:\n",
      "     |  \n",
      "     |  __init__(self, proxy_url, num_pools=10, headers=None, proxy_headers=None, **connection_pool_kw)\n",
      "     |      Initialize self.  See help(type(self)) for accurate signature.\n",
      "     |  \n",
      "     |  connection_from_host(self, host, port=None, scheme='http', pool_kwargs=None)\n",
      "     |      Get a :class:`ConnectionPool` based on the host, port, and scheme.\n",
      "     |      \n",
      "     |      If ``port`` isn't given, it will be derived from the ``scheme`` using\n",
      "     |      ``urllib3.connectionpool.port_by_scheme``. If ``pool_kwargs`` is\n",
      "     |      provided, it is merged with the instance's ``connection_pool_kw``\n",
      "     |      variable and used to create the new connection pool, if one is\n",
      "     |      needed.\n",
      "     |  \n",
      "     |  urlopen(self, method, url, redirect=True, **kw)\n",
      "     |      Same as HTTP(S)ConnectionPool.urlopen, ``url`` must be absolute.\n",
      "     |  \n",
      "     |  ----------------------------------------------------------------------\n",
      "     |  Methods inherited from PoolManager:\n",
      "     |  \n",
      "     |  __enter__(self)\n",
      "     |  \n",
      "     |  __exit__(self, exc_type, exc_val, exc_tb)\n",
      "     |  \n",
      "     |  clear(self)\n",
      "     |      Empty our store of pools and direct them all to close.\n",
      "     |      \n",
      "     |      This will not affect in-flight connections, but they will not be\n",
      "     |      re-used after completion.\n",
      "     |  \n",
      "     |  connection_from_context(self, request_context)\n",
      "     |      Get a :class:`ConnectionPool` based on the request context.\n",
      "     |      \n",
      "     |      ``request_context`` must at least contain the ``scheme`` key and its\n",
      "     |      value must be a key in ``key_fn_by_scheme`` instance variable.\n",
      "     |  \n",
      "     |  connection_from_pool_key(self, pool_key, request_context=None)\n",
      "     |      Get a :class:`ConnectionPool` based on the provided pool key.\n",
      "     |      \n",
      "     |      ``pool_key`` should be a namedtuple that only contains immutable\n",
      "     |      objects. At a minimum it must have the ``scheme``, ``host``, and\n",
      "     |      ``port`` fields.\n",
      "     |  \n",
      "     |  connection_from_url(self, url, pool_kwargs=None)\n",
      "     |      Similar to :func:`urllib3.connectionpool.connection_from_url`.\n",
      "     |      \n",
      "     |      If ``pool_kwargs`` is not provided and a new pool needs to be\n",
      "     |      constructed, ``self.connection_pool_kw`` is used to initialize\n",
      "     |      the :class:`urllib3.connectionpool.ConnectionPool`. If ``pool_kwargs``\n",
      "     |      is provided, it is used instead. Note that if a new pool does not\n",
      "     |      need to be created for the request, the provided ``pool_kwargs`` are\n",
      "     |      not used.\n",
      "     |  \n",
      "     |  ----------------------------------------------------------------------\n",
      "     |  Data and other attributes inherited from PoolManager:\n",
      "     |  \n",
      "     |  proxy = None\n",
      "     |  \n",
      "     |  ----------------------------------------------------------------------\n",
      "     |  Methods inherited from urllib3.request.RequestMethods:\n",
      "     |  \n",
      "     |  request(self, method, url, fields=None, headers=None, **urlopen_kw)\n",
      "     |      Make a request using :meth:`urlopen` with the appropriate encoding of\n",
      "     |      ``fields`` based on the ``method`` used.\n",
      "     |      \n",
      "     |      This is a convenience method that requires the least amount of manual\n",
      "     |      effort. It can be used in most situations, while still having the\n",
      "     |      option to drop down to more specific methods when necessary, such as\n",
      "     |      :meth:`request_encode_url`, :meth:`request_encode_body`,\n",
      "     |      or even the lowest level :meth:`urlopen`.\n",
      "     |  \n",
      "     |  request_encode_body(self, method, url, fields=None, headers=None, encode_multipart=True, multipart_boundary=None, **urlopen_kw)\n",
      "     |      Make a request using :meth:`urlopen` with the ``fields`` encoded in\n",
      "     |      the body. This is useful for request methods like POST, PUT, PATCH, etc.\n",
      "     |      \n",
      "     |      When ``encode_multipart=True`` (default), then\n",
      "     |      :meth:`urllib3.filepost.encode_multipart_formdata` is used to encode\n",
      "     |      the payload with the appropriate content type. Otherwise\n",
      "     |      :meth:`urllib.urlencode` is used with the\n",
      "     |      'application/x-www-form-urlencoded' content type.\n",
      "     |      \n",
      "     |      Multipart encoding must be used when posting files, and it's reasonably\n",
      "     |      safe to use it in other times too. However, it may break request\n",
      "     |      signing, such as with OAuth.\n",
      "     |      \n",
      "     |      Supports an optional ``fields`` parameter of key/value strings AND\n",
      "     |      key/filetuple. A filetuple is a (filename, data, MIME type) tuple where\n",
      "     |      the MIME type is optional. For example::\n",
      "     |      \n",
      "     |          fields = {\n",
      "     |              'foo': 'bar',\n",
      "     |              'fakefile': ('foofile.txt', 'contents of foofile'),\n",
      "     |              'realfile': ('barfile.txt', open('realfile').read()),\n",
      "     |              'typedfile': ('bazfile.bin', open('bazfile').read(),\n",
      "     |                            'image/jpeg'),\n",
      "     |              'nonamefile': 'contents of nonamefile field',\n",
      "     |          }\n",
      "     |      \n",
      "     |      When uploading a file, providing a filename (the first parameter of the\n",
      "     |      tuple) is optional but recommended to best mimic behavior of browsers.\n",
      "     |      \n",
      "     |      Note that if ``headers`` are supplied, the 'Content-Type' header will\n",
      "     |      be overwritten because it depends on the dynamic random boundary string\n",
      "     |      which is used to compose the body of the request. The random boundary\n",
      "     |      string can be explicitly set with the ``multipart_boundary`` parameter.\n",
      "     |  \n",
      "     |  request_encode_url(self, method, url, fields=None, headers=None, **urlopen_kw)\n",
      "     |      Make a request using :meth:`urlopen` with the ``fields`` encoded in\n",
      "     |      the url. This is useful for request methods like GET, HEAD, DELETE, etc.\n",
      "     |  \n",
      "     |  ----------------------------------------------------------------------\n",
      "     |  Data descriptors inherited from urllib3.request.RequestMethods:\n",
      "     |  \n",
      "     |  __dict__\n",
      "     |      dictionary for instance variables (if defined)\n",
      "     |  \n",
      "     |  __weakref__\n",
      "     |      list of weak references to the object (if defined)\n",
      "    \n",
      "    class Retry(builtins.object)\n",
      "     |  Retry(total=10, connect=None, read=None, redirect=None, status=None, method_whitelist=frozenset({'PUT', 'TRACE', 'HEAD', 'OPTIONS', 'DELETE', 'GET'}), status_forcelist=None, backoff_factor=0, raise_on_redirect=True, raise_on_status=True, history=None, respect_retry_after_header=True, remove_headers_on_redirect=frozenset({'Authorization'}))\n",
      "     |  \n",
      "     |  Retry configuration.\n",
      "     |  \n",
      "     |  Each retry attempt will create a new Retry object with updated values, so\n",
      "     |  they can be safely reused.\n",
      "     |  \n",
      "     |  Retries can be defined as a default for a pool::\n",
      "     |  \n",
      "     |      retries = Retry(connect=5, read=2, redirect=5)\n",
      "     |      http = PoolManager(retries=retries)\n",
      "     |      response = http.request('GET', 'http://example.com/')\n",
      "     |  \n",
      "     |  Or per-request (which overrides the default for the pool)::\n",
      "     |  \n",
      "     |      response = http.request('GET', 'http://example.com/', retries=Retry(10))\n",
      "     |  \n",
      "     |  Retries can be disabled by passing ``False``::\n",
      "     |  \n",
      "     |      response = http.request('GET', 'http://example.com/', retries=False)\n",
      "     |  \n",
      "     |  Errors will be wrapped in :class:`~urllib3.exceptions.MaxRetryError` unless\n",
      "     |  retries are disabled, in which case the causing exception will be raised.\n",
      "     |  \n",
      "     |  :param int total:\n",
      "     |      Total number of retries to allow. Takes precedence over other counts.\n",
      "     |  \n",
      "     |      Set to ``None`` to remove this constraint and fall back on other\n",
      "     |      counts. It's a good idea to set this to some sensibly-high value to\n",
      "     |      account for unexpected edge cases and avoid infinite retry loops.\n",
      "     |  \n",
      "     |      Set to ``0`` to fail on the first retry.\n",
      "     |  \n",
      "     |      Set to ``False`` to disable and imply ``raise_on_redirect=False``.\n",
      "     |  \n",
      "     |  :param int connect:\n",
      "     |      How many connection-related errors to retry on.\n",
      "     |  \n",
      "     |      These are errors raised before the request is sent to the remote server,\n",
      "     |      which we assume has not triggered the server to process the request.\n",
      "     |  \n",
      "     |      Set to ``0`` to fail on the first retry of this type.\n",
      "     |  \n",
      "     |  :param int read:\n",
      "     |      How many times to retry on read errors.\n",
      "     |  \n",
      "     |      These errors are raised after the request was sent to the server, so the\n",
      "     |      request may have side-effects.\n",
      "     |  \n",
      "     |      Set to ``0`` to fail on the first retry of this type.\n",
      "     |  \n",
      "     |  :param int redirect:\n",
      "     |      How many redirects to perform. Limit this to avoid infinite redirect\n",
      "     |      loops.\n",
      "     |  \n",
      "     |      A redirect is a HTTP response with a status code 301, 302, 303, 307 or\n",
      "     |      308.\n",
      "     |  \n",
      "     |      Set to ``0`` to fail on the first retry of this type.\n",
      "     |  \n",
      "     |      Set to ``False`` to disable and imply ``raise_on_redirect=False``.\n",
      "     |  \n",
      "     |  :param int status:\n",
      "     |      How many times to retry on bad status codes.\n",
      "     |  \n",
      "     |      These are retries made on responses, where status code matches\n",
      "     |      ``status_forcelist``.\n",
      "     |  \n",
      "     |      Set to ``0`` to fail on the first retry of this type.\n",
      "     |  \n",
      "     |  :param iterable method_whitelist:\n",
      "     |      Set of uppercased HTTP method verbs that we should retry on.\n",
      "     |  \n",
      "     |      By default, we only retry on methods which are considered to be\n",
      "     |      idempotent (multiple requests with the same parameters end with the\n",
      "     |      same state). See :attr:`Retry.DEFAULT_METHOD_WHITELIST`.\n",
      "     |  \n",
      "     |      Set to a ``False`` value to retry on any verb.\n",
      "     |  \n",
      "     |  :param iterable status_forcelist:\n",
      "     |      A set of integer HTTP status codes that we should force a retry on.\n",
      "     |      A retry is initiated if the request method is in ``method_whitelist``\n",
      "     |      and the response status code is in ``status_forcelist``.\n",
      "     |  \n",
      "     |      By default, this is disabled with ``None``.\n",
      "     |  \n",
      "     |  :param float backoff_factor:\n",
      "     |      A backoff factor to apply between attempts after the second try\n",
      "     |      (most errors are resolved immediately by a second try without a\n",
      "     |      delay). urllib3 will sleep for::\n",
      "     |  \n",
      "     |          {backoff factor} * (2 ** ({number of total retries} - 1))\n",
      "     |  \n",
      "     |      seconds. If the backoff_factor is 0.1, then :func:`.sleep` will sleep\n",
      "     |      for [0.0s, 0.2s, 0.4s, ...] between retries. It will never be longer\n",
      "     |      than :attr:`Retry.BACKOFF_MAX`.\n",
      "     |  \n",
      "     |      By default, backoff is disabled (set to 0).\n",
      "     |  \n",
      "     |  :param bool raise_on_redirect: Whether, if the number of redirects is\n",
      "     |      exhausted, to raise a MaxRetryError, or to return a response with a\n",
      "     |      response code in the 3xx range.\n",
      "     |  \n",
      "     |  :param bool raise_on_status: Similar meaning to ``raise_on_redirect``:\n",
      "     |      whether we should raise an exception, or return a response,\n",
      "     |      if status falls in ``status_forcelist`` range and retries have\n",
      "     |      been exhausted.\n",
      "     |  \n",
      "     |  :param tuple history: The history of the request encountered during\n",
      "     |      each call to :meth:`~Retry.increment`. The list is in the order\n",
      "     |      the requests occurred. Each list item is of class :class:`RequestHistory`.\n",
      "     |  \n",
      "     |  :param bool respect_retry_after_header:\n",
      "     |      Whether to respect Retry-After header on status codes defined as\n",
      "     |      :attr:`Retry.RETRY_AFTER_STATUS_CODES` or not.\n",
      "     |  \n",
      "     |  :param iterable remove_headers_on_redirect:\n",
      "     |      Sequence of headers to remove from the request when a response\n",
      "     |      indicating a redirect is returned before firing off the redirected\n",
      "     |      request.\n",
      "     |  \n",
      "     |  Methods defined here:\n",
      "     |  \n",
      "     |  __init__(self, total=10, connect=None, read=None, redirect=None, status=None, method_whitelist=frozenset({'PUT', 'TRACE', 'HEAD', 'OPTIONS', 'DELETE', 'GET'}), status_forcelist=None, backoff_factor=0, raise_on_redirect=True, raise_on_status=True, history=None, respect_retry_after_header=True, remove_headers_on_redirect=frozenset({'Authorization'}))\n",
      "     |      Initialize self.  See help(type(self)) for accurate signature.\n",
      "     |  \n",
      "     |  __repr__(self)\n",
      "     |      Return repr(self).\n",
      "     |  \n",
      "     |  get_backoff_time(self)\n",
      "     |      Formula for computing the current backoff\n",
      "     |      \n",
      "     |      :rtype: float\n",
      "     |  \n",
      "     |  get_retry_after(self, response)\n",
      "     |      Get the value of Retry-After in seconds.\n",
      "     |  \n",
      "     |  increment(self, method=None, url=None, response=None, error=None, _pool=None, _stacktrace=None)\n",
      "     |      Return a new Retry object with incremented retry counters.\n",
      "     |      \n",
      "     |      :param response: A response object, or None, if the server did not\n",
      "     |          return a response.\n",
      "     |      :type response: :class:`~urllib3.response.HTTPResponse`\n",
      "     |      :param Exception error: An error encountered during the request, or\n",
      "     |          None if the response was received successfully.\n",
      "     |      \n",
      "     |      :return: A new ``Retry`` object.\n",
      "     |  \n",
      "     |  is_exhausted(self)\n",
      "     |      Are we out of retries?\n",
      "     |  \n",
      "     |  is_retry(self, method, status_code, has_retry_after=False)\n",
      "     |      Is this method/status code retryable? (Based on whitelists and control\n",
      "     |      variables such as the number of total retries to allow, whether to\n",
      "     |      respect the Retry-After header, whether this header is present, and\n",
      "     |      whether the returned status code is on the list of status codes to\n",
      "     |      be retried upon on the presence of the aforementioned header)\n",
      "     |  \n",
      "     |  new(self, **kw)\n",
      "     |  \n",
      "     |  parse_retry_after(self, retry_after)\n",
      "     |  \n",
      "     |  sleep(self, response=None)\n",
      "     |      Sleep between retry attempts.\n",
      "     |      \n",
      "     |      This method will respect a server's ``Retry-After`` response header\n",
      "     |      and sleep the duration of the time requested. If that is not present, it\n",
      "     |      will use an exponential backoff. By default, the backoff factor is 0 and\n",
      "     |      this method will return immediately.\n",
      "     |  \n",
      "     |  sleep_for_retry(self, response=None)\n",
      "     |  \n",
      "     |  ----------------------------------------------------------------------\n",
      "     |  Class methods defined here:\n",
      "     |  \n",
      "     |  from_int(retries, redirect=True, default=None) from builtins.type\n",
      "     |      Backwards-compatibility for the old retries format.\n",
      "     |  \n",
      "     |  ----------------------------------------------------------------------\n",
      "     |  Data descriptors defined here:\n",
      "     |  \n",
      "     |  __dict__\n",
      "     |      dictionary for instance variables (if defined)\n",
      "     |  \n",
      "     |  __weakref__\n",
      "     |      list of weak references to the object (if defined)\n",
      "     |  \n",
      "     |  ----------------------------------------------------------------------\n",
      "     |  Data and other attributes defined here:\n",
      "     |  \n",
      "     |  BACKOFF_MAX = 120\n",
      "     |  \n",
      "     |  DEFAULT = Retry(total=3, connect=None, read=None, redirect=None, statu...\n",
      "     |  \n",
      "     |  DEFAULT_METHOD_WHITELIST = frozenset({'DELETE', 'GET', 'HEAD', 'OPTION...\n",
      "     |  \n",
      "     |  DEFAULT_REDIRECT_HEADERS_BLACKLIST = frozenset({'Authorization'})\n",
      "     |  \n",
      "     |  RETRY_AFTER_STATUS_CODES = frozenset({413, 429, 503})\n",
      "    \n",
      "    class Timeout(builtins.object)\n",
      "     |  Timeout(total=None, connect=<object object at 0x00000251D76211A0>, read=<object object at 0x00000251D76211A0>)\n",
      "     |  \n",
      "     |  Timeout configuration.\n",
      "     |  \n",
      "     |  Timeouts can be defined as a default for a pool::\n",
      "     |  \n",
      "     |      timeout = Timeout(connect=2.0, read=7.0)\n",
      "     |      http = PoolManager(timeout=timeout)\n",
      "     |      response = http.request('GET', 'http://example.com/')\n",
      "     |  \n",
      "     |  Or per-request (which overrides the default for the pool)::\n",
      "     |  \n",
      "     |      response = http.request('GET', 'http://example.com/', timeout=Timeout(10))\n",
      "     |  \n",
      "     |  Timeouts can be disabled by setting all the parameters to ``None``::\n",
      "     |  \n",
      "     |      no_timeout = Timeout(connect=None, read=None)\n",
      "     |      response = http.request('GET', 'http://example.com/, timeout=no_timeout)\n",
      "     |  \n",
      "     |  \n",
      "     |  :param total:\n",
      "     |      This combines the connect and read timeouts into one; the read timeout\n",
      "     |      will be set to the time leftover from the connect attempt. In the\n",
      "     |      event that both a connect timeout and a total are specified, or a read\n",
      "     |      timeout and a total are specified, the shorter timeout will be applied.\n",
      "     |  \n",
      "     |      Defaults to None.\n",
      "     |  \n",
      "     |  :type total: integer, float, or None\n",
      "     |  \n",
      "     |  :param connect:\n",
      "     |      The maximum amount of time to wait for a connection attempt to a server\n",
      "     |      to succeed. Omitting the parameter will default the connect timeout to\n",
      "     |      the system default, probably `the global default timeout in socket.py\n",
      "     |      <http://hg.python.org/cpython/file/603b4d593758/Lib/socket.py#l535>`_.\n",
      "     |      None will set an infinite timeout for connection attempts.\n",
      "     |  \n",
      "     |  :type connect: integer, float, or None\n",
      "     |  \n",
      "     |  :param read:\n",
      "     |      The maximum amount of time to wait between consecutive\n",
      "     |      read operations for a response from the server. Omitting\n",
      "     |      the parameter will default the read timeout to the system\n",
      "     |      default, probably `the global default timeout in socket.py\n",
      "     |      <http://hg.python.org/cpython/file/603b4d593758/Lib/socket.py#l535>`_.\n",
      "     |      None will set an infinite timeout.\n",
      "     |  \n",
      "     |  :type read: integer, float, or None\n",
      "     |  \n",
      "     |  .. note::\n",
      "     |  \n",
      "     |      Many factors can affect the total amount of time for urllib3 to return\n",
      "     |      an HTTP response.\n",
      "     |  \n",
      "     |      For example, Python's DNS resolver does not obey the timeout specified\n",
      "     |      on the socket. Other factors that can affect total request time include\n",
      "     |      high CPU load, high swap, the program running at a low priority level,\n",
      "     |      or other behaviors.\n",
      "     |  \n",
      "     |      In addition, the read and total timeouts only measure the time between\n",
      "     |      read operations on the socket connecting the client and the server,\n",
      "     |      not the total amount of time for the request to return a complete\n",
      "     |      response. For most requests, the timeout is raised because the server\n",
      "     |      has not sent the first byte in the specified time. This is not always\n",
      "     |      the case; if a server streams one byte every fifteen seconds, a timeout\n",
      "     |      of 20 seconds will not trigger, even though the request will take\n",
      "     |      several minutes to complete.\n",
      "     |  \n",
      "     |      If your goal is to cut off any request after a set amount of wall clock\n",
      "     |      time, consider having a second \"watcher\" thread to cut off a slow\n",
      "     |      request.\n",
      "     |  \n",
      "     |  Methods defined here:\n",
      "     |  \n",
      "     |  __init__(self, total=None, connect=<object object at 0x00000251D76211A0>, read=<object object at 0x00000251D76211A0>)\n",
      "     |      Initialize self.  See help(type(self)) for accurate signature.\n",
      "     |  \n",
      "     |  __str__(self)\n",
      "     |      Return str(self).\n",
      "     |  \n",
      "     |  clone(self)\n",
      "     |      Create a copy of the timeout object\n",
      "     |      \n",
      "     |      Timeout properties are stored per-pool but each request needs a fresh\n",
      "     |      Timeout object to ensure each one has its own start/stop configured.\n",
      "     |      \n",
      "     |      :return: a copy of the timeout object\n",
      "     |      :rtype: :class:`Timeout`\n",
      "     |  \n",
      "     |  get_connect_duration(self)\n",
      "     |      Gets the time elapsed since the call to :meth:`start_connect`.\n",
      "     |      \n",
      "     |      :return: Elapsed time.\n",
      "     |      :rtype: float\n",
      "     |      :raises urllib3.exceptions.TimeoutStateError: if you attempt\n",
      "     |          to get duration for a timer that hasn't been started.\n",
      "     |  \n",
      "     |  start_connect(self)\n",
      "     |      Start the timeout clock, used during a connect() attempt\n",
      "     |      \n",
      "     |      :raises urllib3.exceptions.TimeoutStateError: if you attempt\n",
      "     |          to start a timer that has been started already.\n",
      "     |  \n",
      "     |  ----------------------------------------------------------------------\n",
      "     |  Class methods defined here:\n",
      "     |  \n",
      "     |  from_float(timeout) from builtins.type\n",
      "     |      Create a new Timeout from a legacy timeout value.\n",
      "     |      \n",
      "     |      The timeout value used by httplib.py sets the same timeout on the\n",
      "     |      connect(), and recv() socket requests. This creates a :class:`Timeout`\n",
      "     |      object that sets the individual timeouts to the ``timeout`` value\n",
      "     |      passed to this function.\n",
      "     |      \n",
      "     |      :param timeout: The legacy timeout value.\n",
      "     |      :type timeout: integer, float, sentinel default object, or None\n",
      "     |      :return: Timeout object\n",
      "     |      :rtype: :class:`Timeout`\n",
      "     |  \n",
      "     |  ----------------------------------------------------------------------\n",
      "     |  Data descriptors defined here:\n",
      "     |  \n",
      "     |  __dict__\n",
      "     |      dictionary for instance variables (if defined)\n",
      "     |  \n",
      "     |  __weakref__\n",
      "     |      list of weak references to the object (if defined)\n",
      "     |  \n",
      "     |  connect_timeout\n",
      "     |      Get the value to use when setting a connection timeout.\n",
      "     |      \n",
      "     |      This will be a positive float or integer, the value None\n",
      "     |      (never timeout), or the default system timeout.\n",
      "     |      \n",
      "     |      :return: Connect timeout.\n",
      "     |      :rtype: int, float, :attr:`Timeout.DEFAULT_TIMEOUT` or None\n",
      "     |  \n",
      "     |  read_timeout\n",
      "     |      Get the value for the read timeout.\n",
      "     |      \n",
      "     |      This assumes some time has elapsed in the connection timeout and\n",
      "     |      computes the read timeout appropriately.\n",
      "     |      \n",
      "     |      If self.total is set, the read timeout is dependent on the amount of\n",
      "     |      time taken by the connect timeout. If the connection time has not been\n",
      "     |      established, a :exc:`~urllib3.exceptions.TimeoutStateError` will be\n",
      "     |      raised.\n",
      "     |      \n",
      "     |      :return: Value to use for the read timeout.\n",
      "     |      :rtype: int, float, :attr:`Timeout.DEFAULT_TIMEOUT` or None\n",
      "     |      :raises urllib3.exceptions.TimeoutStateError: If :meth:`start_connect`\n",
      "     |          has not yet been called on this object.\n",
      "     |  \n",
      "     |  ----------------------------------------------------------------------\n",
      "     |  Data and other attributes defined here:\n",
      "     |  \n",
      "     |  DEFAULT_TIMEOUT = <object object>\n",
      "\n",
      "FUNCTIONS\n",
      "    add_stderr_logger(level=10)\n",
      "        Helper for quickly adding a StreamHandler to the logger. Useful for\n",
      "        debugging.\n",
      "        \n",
      "        Returns the handler after adding it.\n",
      "    \n",
      "    connection_from_url(url, **kw)\n",
      "        Given a url, return an :class:`.ConnectionPool` instance of its host.\n",
      "        \n",
      "        This is a shortcut for not having to parse out the scheme, host, and port\n",
      "        of the url before creating an :class:`.ConnectionPool` instance.\n",
      "        \n",
      "        :param url:\n",
      "            Absolute URL string that must include the scheme. Port is optional.\n",
      "        \n",
      "        :param \\**kw:\n",
      "            Passes additional parameters to the constructor of the appropriate\n",
      "            :class:`.ConnectionPool`. Useful for specifying things like\n",
      "            timeout, maxsize, headers, etc.\n",
      "        \n",
      "        Example::\n",
      "        \n",
      "            >>> conn = connection_from_url('http://google.com/')\n",
      "            >>> r = conn.request('GET', '/')\n",
      "    \n",
      "    disable_warnings(category=<class 'urllib3.exceptions.HTTPWarning'>)\n",
      "        Helper for quickly disabling all urllib3 warnings.\n",
      "    \n",
      "    encode_multipart_formdata(fields, boundary=None)\n",
      "        Encode a dictionary of ``fields`` using the multipart/form-data MIME format.\n",
      "        \n",
      "        :param fields:\n",
      "            Dictionary of fields or list of (key, :class:`~urllib3.fields.RequestField`).\n",
      "        \n",
      "        :param boundary:\n",
      "            If not specified, then a random boundary will be generated using\n",
      "            :func:`urllib3.filepost.choose_boundary`.\n",
      "    \n",
      "    get_host(url)\n",
      "        Deprecated. Use :func:`parse_url` instead.\n",
      "    \n",
      "    make_headers(keep_alive=None, accept_encoding=None, user_agent=None, basic_auth=None, proxy_basic_auth=None, disable_cache=None)\n",
      "        Shortcuts for generating request headers.\n",
      "        \n",
      "        :param keep_alive:\n",
      "            If ``True``, adds 'connection: keep-alive' header.\n",
      "        \n",
      "        :param accept_encoding:\n",
      "            Can be a boolean, list, or string.\n",
      "            ``True`` translates to 'gzip,deflate'.\n",
      "            List will get joined by comma.\n",
      "            String will be used as provided.\n",
      "        \n",
      "        :param user_agent:\n",
      "            String representing the user-agent you want, such as\n",
      "            \"python-urllib3/0.6\"\n",
      "        \n",
      "        :param basic_auth:\n",
      "            Colon-separated username:password string for 'authorization: basic ...'\n",
      "            auth header.\n",
      "        \n",
      "        :param proxy_basic_auth:\n",
      "            Colon-separated username:password string for 'proxy-authorization: basic ...'\n",
      "            auth header.\n",
      "        \n",
      "        :param disable_cache:\n",
      "            If ``True``, adds 'cache-control: no-cache' header.\n",
      "        \n",
      "        Example::\n",
      "        \n",
      "            >>> make_headers(keep_alive=True, user_agent=\"Batman/1.0\")\n",
      "            {'connection': 'keep-alive', 'user-agent': 'Batman/1.0'}\n",
      "            >>> make_headers(accept_encoding=True)\n",
      "            {'accept-encoding': 'gzip,deflate'}\n",
      "    \n",
      "    proxy_from_url(url, **kw)\n",
      "\n",
      "DATA\n",
      "    __all__ = ('HTTPConnectionPool', 'HTTPSConnectionPool', 'PoolManager',...\n",
      "    __license__ = 'MIT'\n",
      "\n",
      "VERSION\n",
      "    1.24.1\n",
      "\n",
      "AUTHOR\n",
      "    Andrey Petrov (andrey.petrov@shazow.net)\n",
      "\n",
      "FILE\n",
      "    c:\\programdata\\anaconda3\\lib\\site-packages\\urllib3\\__init__.py\n",
      "\n",
      "\n",
      "None\n"
     ]
    }
   ],
   "source": [
    "print(help(urllib3))"
   ]
  },
  {
   "cell_type": "markdown",
   "metadata": {
    "collapsed": true
   },
   "source": [
    "# 文件处理实践\n",
    "\n",
    "- 文件打开：`open(文件, 模式)`\n",
    "- 关闭文件：`file.close()`\n",
    "    - 文件打开主要模式：r, w, a, b\n",
    "    ![文件打开模式](./res/openfile.jpg)\n",
    "\n",
    "\n",
    "| 模式| 描述 |\n",
    "| ----------- | ------------------------------------------------------------------------------------------------------------- |\n",
    "| t    | 文本模式 (默认)。|\n",
    "| x    | 写模式，新建一个文件，如果该文件已存在则会报错。|\n",
    "| b    | 二进制模式。|\n",
    "| +    | 打开一个文件进行更新(可读可写)。|\n",
    "| U    | 通用换行模式（不推荐）。|\n",
    "| r    | 以只读方式打开文件。文件的指针将会放在文件的开头。这是默认模式。|\n",
    "| rb   | 以二进制格式打开一个文件用于只读。文件指针将会放在文件的开头。这是默认模式。一般用于非文本文件如图片等。|\n",
    "| r+   | 打开一个文件用于读写。文件指针将会放在文件的开头。|\n",
    "| rb+  | 以二进制格式打开一个文件用于读写。文件指针将会放在文件的开头。一般用于非文本文件如图片等。|\n",
    "| w    | 打开一个文件只用于写入。如果该文件已存在则打开文件，并从开头开始编辑，即原有内容会被删除。如果该文件不存在，创建新文件。 |\n",
    "| wb   | 以二进制格式打开一个文件只用于写入。如果该文件已存在则打开文件，并从开头开始编辑，即原有内容会被删除。如果该文件不存在，创建新文件。一般用于非文本文件如图片等。 |\n",
    "| w+   | 打开一个文件用于读写。如果该文件已存在则打开文件，并从开头开始编辑，即原有内容会被删除。如果该文件不存在，创建新文件。 |\n",
    "| wb+  | 以二进制格式打开一个文件用于读写。如果该文件已存在则打开文件，并从开头开始编辑，即原有内容会被删除。如果该文件不存在，创建新文件。一般用于非文本文件如图片等。 |\n",
    "| a    | 打开一个文件用于追加。如果该文件已存在，文件指针将会放在文件的结尾。也就是说，新的内容将会被写入到已有内容之后。如果该文件不存在，创建新文件进行写入。 |\n",
    "| ab   | 以二进制格式打开一个文件用于追加。如果该文件已存在，文件指针将会放在文件的结尾。也就是说，新的内容将会被写入到已有内容之后。如果该文件不存在，创建新文件进行写入。 |\n",
    "| a+   | 打开一个文件用于读写。如果该文件已存在，文件指针将会放在文件的结尾。文件打开时会是追加模式。如果该文件不存在，创建新文件用于读写。 |\n",
    "| ab+  | 以二进制格式打开一个文件用于追加。如果该文件已存在，文件指针将会放在文件的结尾。如果该文件不存在，创建新文件用于读写。 |\n",
    "\n",
    "\n",
    "| 模式      | r  | r+  | w  | w+  | a  | a+ |\n",
    "| ----------- | -- | --- | -- | --- | -- | -- |\n",
    "| 读         | +  | +   | -  | +   | -  | +  |\n",
    "| 写         | -  | +   | +  | +   | +  | +  |\n",
    "| 创建      | -  | -   | +  | +   | +  | +  |\n",
    "| 覆盖      | -  | -   | +  | +   | -  | -  |\n",
    "| 指针在开始  | +  | +   | +  | +   | -  | -  |\n",
    "| 指针在结尾  | -  | -   | -  | -   | +  | +  |\n",
    "\n",
    "\n",
    "- 文件对象属性\n",
    "\n",
    "| 文件对象属性 | 描述                              |\n",
    "| ------------- | ----------------------------------- |\n",
    "| file.closed   | 文件已被关闭返回True，否则返回False |\n",
    "| file.mode     | Access文件打开时使用的访问模式 |\n",
    "| file.encoding | 文件所使用的编码            |\n",
    "| file.name     | 文件名                           |\n",
    "\n",
    "- 文件操作-读\n",
    "     - `read()` : 所有内容\n",
    "     - `read(size)` ：读取指定bytes\n",
    "     - `readline()` ： 读取一行\n",
    "     - `readlines()` ： 读取所有行\n",
    "     \n",
    "- 文件操作-写\n",
    "    - `write()` ：写入内容\n",
    "    - `writelines()` ： 按行写入内容\n",
    "    - `seek()` ：定位文件指针位置\n",
    "    \n",
    "> byte为字节，bit为位，1byte=8bit,一个字符是1byte,对于汉字，utf-8的话是用了3个字节，GBK的话是用了2个\n",
    "- 汉'.encode('utf-8')"
   ]
  },
  {
   "cell_type": "markdown",
   "metadata": {},
   "source": [
    "## 读"
   ]
  },
  {
   "cell_type": "code",
   "execution_count": 1,
   "metadata": {},
   "outputs": [
    {
     "ename": "FileNotFoundError",
     "evalue": "[Errno 2] No such file or directory: 'data/example_not_exist.txt'",
     "output_type": "error",
     "traceback": [
      "\u001b[1;31m---------------------------------------------------------------------------\u001b[0m",
      "\u001b[1;31mFileNotFoundError\u001b[0m                         Traceback (most recent call last)",
      "\u001b[1;32m<ipython-input-1-b4531703de7f>\u001b[0m in \u001b[0;36m<module>\u001b[1;34m\u001b[0m\n\u001b[0;32m      1\u001b[0m \u001b[1;31m# 如果文件不存在会报错\u001b[0m\u001b[1;33m\u001b[0m\u001b[1;33m\u001b[0m\u001b[1;33m\u001b[0m\u001b[0m\n\u001b[1;32m----> 2\u001b[1;33m \u001b[0mfp\u001b[0m \u001b[1;33m=\u001b[0m \u001b[0mopen\u001b[0m\u001b[1;33m(\u001b[0m\u001b[1;34m'data/example_not_exist.txt'\u001b[0m\u001b[1;33m,\u001b[0m \u001b[1;34m'r'\u001b[0m\u001b[1;33m)\u001b[0m\u001b[1;33m\u001b[0m\u001b[1;33m\u001b[0m\u001b[0m\n\u001b[0m",
      "\u001b[1;31mFileNotFoundError\u001b[0m: [Errno 2] No such file or directory: 'data/example_not_exist.txt'"
     ]
    }
   ],
   "source": [
    "# 如果文件不存在会报错\n",
    "fp = open('data/example_not_exist.txt', 'r')"
   ]
  },
  {
   "cell_type": "code",
   "execution_count": 2,
   "metadata": {},
   "outputs": [
    {
     "name": "stdout",
     "output_type": "stream",
     "text": [
      "data/example.txt\n"
     ]
    }
   ],
   "source": [
    "fp = open('data/example.txt', 'r')\n",
    "print(fp.name)\n",
    "fp.close()"
   ]
  },
  {
   "cell_type": "code",
   "execution_count": 3,
   "metadata": {},
   "outputs": [
    {
     "name": "stdout",
     "output_type": "stream",
     "text": [
      "第一行\n",
      "第二行\n",
      "第三行\n",
      "第四行\n",
      "第五行\n",
      "第六行\n",
      "第七行\n",
      "第八行\n",
      "第九行\n"
     ]
    }
   ],
   "source": [
    "fp = open('data/example.txt', 'r')\n",
    "print(fp.read())\n",
    "fp.close()"
   ]
  },
  {
   "cell_type": "code",
   "execution_count": 6,
   "metadata": {
    "scrolled": true
   },
   "outputs": [
    {
     "name": "stdout",
     "output_type": "stream",
     "text": [
      "第一行四五六七八12\n"
     ]
    }
   ],
   "source": [
    "fp = open('data/example.txt', 'r')\n",
    "print(fp.read(10))\n",
    "fp.close()"
   ]
  },
  {
   "cell_type": "code",
   "execution_count": 7,
   "metadata": {},
   "outputs": [
    {
     "name": "stdout",
     "output_type": "stream",
     "text": [
      "第一行四五六七八123456\n",
      "\n"
     ]
    }
   ],
   "source": [
    "fp = open('data/example.txt', 'r')\n",
    "print(fp.readline())\n",
    "fp.close()"
   ]
  },
  {
   "cell_type": "code",
   "execution_count": 8,
   "metadata": {},
   "outputs": [
    {
     "name": "stdout",
     "output_type": "stream",
     "text": [
      "['第一行四五六七八123456\\n', '第二行\\n', '第三行\\n', '第四行\\n', '第五行\\n', '第六行\\n', '第七行\\n', '第八行\\n', '第九行']\n"
     ]
    }
   ],
   "source": [
    "fp = open('data/example.txt', 'r')\n",
    "print(fp.readlines())\n",
    "fp.close()"
   ]
  },
  {
   "cell_type": "markdown",
   "metadata": {},
   "source": [
    "## 二进制"
   ]
  },
  {
   "cell_type": "code",
   "execution_count": 70,
   "metadata": {},
   "outputs": [
    {
     "ename": "UnicodeDecodeError",
     "evalue": "'gbk' codec can't decode byte 0xff in position 0: illegal multibyte sequence",
     "output_type": "error",
     "traceback": [
      "\u001b[1;31m---------------------------------------------------------------------------\u001b[0m",
      "\u001b[1;31mUnicodeDecodeError\u001b[0m                        Traceback (most recent call last)",
      "\u001b[1;32m<ipython-input-70-63d5091ba667>\u001b[0m in \u001b[0;36m<module>\u001b[1;34m\u001b[0m\n\u001b[0;32m      1\u001b[0m \u001b[1;31m# 图片必须使用二进制读取，否则会报错\u001b[0m\u001b[1;33m\u001b[0m\u001b[1;33m\u001b[0m\u001b[1;33m\u001b[0m\u001b[0m\n\u001b[0;32m      2\u001b[0m \u001b[0mfp\u001b[0m \u001b[1;33m=\u001b[0m \u001b[0mopen\u001b[0m\u001b[1;33m(\u001b[0m\u001b[1;34m'data/example.jpeg'\u001b[0m\u001b[1;33m,\u001b[0m \u001b[1;34m'r'\u001b[0m\u001b[1;33m)\u001b[0m\u001b[1;33m\u001b[0m\u001b[1;33m\u001b[0m\u001b[0m\n\u001b[1;32m----> 3\u001b[1;33m \u001b[0mprint\u001b[0m\u001b[1;33m(\u001b[0m\u001b[0mfp\u001b[0m\u001b[1;33m.\u001b[0m\u001b[0mreadline\u001b[0m\u001b[1;33m(\u001b[0m\u001b[1;33m)\u001b[0m\u001b[1;33m)\u001b[0m\u001b[1;33m\u001b[0m\u001b[1;33m\u001b[0m\u001b[0m\n\u001b[0m\u001b[0;32m      4\u001b[0m \u001b[0mfp\u001b[0m\u001b[1;33m.\u001b[0m\u001b[0mclose\u001b[0m\u001b[1;33m(\u001b[0m\u001b[1;33m)\u001b[0m\u001b[1;33m\u001b[0m\u001b[1;33m\u001b[0m\u001b[0m\n",
      "\u001b[1;31mUnicodeDecodeError\u001b[0m: 'gbk' codec can't decode byte 0xff in position 0: illegal multibyte sequence"
     ]
    }
   ],
   "source": [
    "# 图片必须使用二进制打开，否则会报错\n",
    "fp = open('data/example.jpeg', 'r')\n",
    "print(fp.readline())\n",
    "fp.close()"
   ]
  },
  {
   "cell_type": "code",
   "execution_count": 9,
   "metadata": {},
   "outputs": [
    {
     "name": "stdout",
     "output_type": "stream",
     "text": [
      "b'\\xff\\xd8\\xff\\xe0\\x00\\x10JFIF'\n"
     ]
    }
   ],
   "source": [
    "fp = open('data/example.jpeg', 'rb')\n",
    "print(fp.read(10))\n",
    "fp.close()"
   ]
  },
  {
   "cell_type": "code",
   "execution_count": 72,
   "metadata": {},
   "outputs": [
    {
     "ename": "FileNotFoundError",
     "evalue": "[Errno 2] No such file or directory: 'data/example_codecs.txt'",
     "output_type": "error",
     "traceback": [
      "\u001b[1;31m---------------------------------------------------------------------------\u001b[0m",
      "\u001b[1;31mFileNotFoundError\u001b[0m                         Traceback (most recent call last)",
      "\u001b[1;32m<ipython-input-72-9a994c914682>\u001b[0m in \u001b[0;36m<module>\u001b[1;34m\u001b[0m\n\u001b[1;32m----> 1\u001b[1;33m \u001b[0mfp\u001b[0m \u001b[1;33m=\u001b[0m \u001b[0mopen\u001b[0m\u001b[1;33m(\u001b[0m\u001b[1;34m'data/example_codecs.txt'\u001b[0m\u001b[1;33m,\u001b[0m \u001b[1;34m'r'\u001b[0m\u001b[1;33m)\u001b[0m\u001b[1;33m\u001b[0m\u001b[1;33m\u001b[0m\u001b[0m\n\u001b[0m\u001b[0;32m      2\u001b[0m \u001b[0mprint\u001b[0m\u001b[1;33m(\u001b[0m\u001b[0mfp\u001b[0m\u001b[1;33m.\u001b[0m\u001b[0mreadline\u001b[0m\u001b[1;33m(\u001b[0m\u001b[1;33m)\u001b[0m\u001b[1;33m)\u001b[0m\u001b[1;33m\u001b[0m\u001b[1;33m\u001b[0m\u001b[0m\n\u001b[0;32m      3\u001b[0m \u001b[0mfp\u001b[0m\u001b[1;33m.\u001b[0m\u001b[0mclose\u001b[0m\u001b[1;33m(\u001b[0m\u001b[1;33m)\u001b[0m\u001b[1;33m\u001b[0m\u001b[1;33m\u001b[0m\u001b[0m\n",
      "\u001b[1;31mFileNotFoundError\u001b[0m: [Errno 2] No such file or directory: 'data/example_codecs.txt'"
     ]
    }
   ],
   "source": [
    "fp = open('data/example_codecs.txt', 'r')\n",
    "print(fp.readline())\n",
    "fp.close()"
   ]
  },
  {
   "cell_type": "code",
   "execution_count": 10,
   "metadata": {},
   "outputs": [
    {
     "ename": "FileNotFoundError",
     "evalue": "[Errno 2] No such file or directory: 'data/example_codecs.txt'",
     "output_type": "error",
     "traceback": [
      "\u001b[1;31m---------------------------------------------------------------------------\u001b[0m",
      "\u001b[1;31mFileNotFoundError\u001b[0m                         Traceback (most recent call last)",
      "\u001b[1;32m<ipython-input-10-d2030e87b52b>\u001b[0m in \u001b[0;36m<module>\u001b[1;34m\u001b[0m\n\u001b[1;32m----> 1\u001b[1;33m \u001b[0mfp\u001b[0m \u001b[1;33m=\u001b[0m \u001b[0mopen\u001b[0m\u001b[1;33m(\u001b[0m\u001b[1;34m'data/example_codecs.txt'\u001b[0m\u001b[1;33m,\u001b[0m \u001b[1;34m'r'\u001b[0m\u001b[1;33m,\u001b[0m \u001b[0mencoding\u001b[0m\u001b[1;33m=\u001b[0m\u001b[1;34m'gbk'\u001b[0m\u001b[1;33m)\u001b[0m\u001b[1;33m\u001b[0m\u001b[1;33m\u001b[0m\u001b[0m\n\u001b[0m\u001b[0;32m      2\u001b[0m \u001b[0mx\u001b[0m \u001b[1;33m=\u001b[0m \u001b[0mfp\u001b[0m\u001b[1;33m.\u001b[0m\u001b[0mreadline\u001b[0m\u001b[1;33m(\u001b[0m\u001b[1;33m)\u001b[0m\u001b[1;33m\u001b[0m\u001b[1;33m\u001b[0m\u001b[0m\n\u001b[0;32m      3\u001b[0m \u001b[0mx\u001b[0m \u001b[1;33m=\u001b[0m \u001b[0mx\u001b[0m\u001b[1;33m\u001b[0m\u001b[1;33m\u001b[0m\u001b[0m\n\u001b[0;32m      4\u001b[0m \u001b[0mprint\u001b[0m\u001b[1;33m(\u001b[0m\u001b[0mx\u001b[0m\u001b[1;33m)\u001b[0m\u001b[1;33m\u001b[0m\u001b[1;33m\u001b[0m\u001b[0m\n\u001b[0;32m      5\u001b[0m \u001b[0mfp\u001b[0m\u001b[1;33m.\u001b[0m\u001b[0mclose\u001b[0m\u001b[1;33m(\u001b[0m\u001b[1;33m)\u001b[0m\u001b[1;33m\u001b[0m\u001b[1;33m\u001b[0m\u001b[0m\n",
      "\u001b[1;31mFileNotFoundError\u001b[0m: [Errno 2] No such file or directory: 'data/example_codecs.txt'"
     ]
    }
   ],
   "source": [
    "fp = open('data/example_codecs.txt', 'r', encoding='gbk')\n",
    "x = fp.readline()\n",
    "x = x\n",
    "print(x)\n",
    "fp.close()"
   ]
  },
  {
   "cell_type": "markdown",
   "metadata": {},
   "source": [
    "## 写"
   ]
  },
  {
   "cell_type": "code",
   "execution_count": 75,
   "metadata": {},
   "outputs": [
    {
     "name": "stdout",
     "output_type": "stream",
     "text": [
      "hello\n"
     ]
    }
   ],
   "source": [
    "fp = open('data/example_out.txt', 'w+')\n",
    "fp.write('hello')\n",
    "fp.seek(0)\n",
    "print(fp.read())\n",
    "fp.close()"
   ]
  },
  {
   "cell_type": "code",
   "execution_count": 11,
   "metadata": {},
   "outputs": [
    {
     "name": "stdout",
     "output_type": "stream",
     "text": [
      "hello\n",
      "world\n",
      "\n"
     ]
    }
   ],
   "source": [
    "fp = open('data/example_out.txt', 'w+')\n",
    "fp.writelines(['hello\\n', 'world\\n'])\n",
    "fp.seek(0)\n",
    "print(fp.read())\n",
    "fp.close()"
   ]
  }
 ],
 "metadata": {
  "kernelspec": {
   "display_name": "Python 3",
   "language": "python",
   "name": "python3"
  },
  "language_info": {
   "codemirror_mode": {
    "name": "ipython",
    "version": 3
   },
   "file_extension": ".py",
   "mimetype": "text/x-python",
   "name": "python",
   "nbconvert_exporter": "python",
   "pygments_lexer": "ipython3",
   "version": "3.7.3"
  },
  "toc": {
   "base_numbering": 1,
   "nav_menu": {},
   "number_sections": true,
   "sideBar": true,
   "skip_h1_title": false,
   "title_cell": "Table of Contents",
   "title_sidebar": "Contents",
   "toc_cell": false,
   "toc_position": {},
   "toc_section_display": true,
   "toc_window_display": true
  }
 },
 "nbformat": 4,
 "nbformat_minor": 2
}
