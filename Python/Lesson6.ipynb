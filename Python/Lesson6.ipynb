{
 "cells": [
  {
   "cell_type": "markdown",
   "metadata": {},
   "source": [
    "# 模块与标准库\n",
    "\n",
    "Python代码按照模块划分，一个模块可以是只有一个函数的单个文件，也可以是包含一个或者多个子函数的文件夹。包与模块之间的区别非常小，每个模块同时可以视作一个包。\n",
    "\n",
    "模块与包的区别：\n",
    "- 模块：单个的模块，一般是单个（偶尔为多个）python文件\n",
    "- 包：多个相关的模块的组合。肯定是多个，相关的，python文件的组合。包是用来把相关的模块组织在一起，成为一个整体。\n",
    "\n",
    "包检索路径：\n",
    "- sys.path\n",
    "- PYTHONPATH\n",
    "\n",
    "## 第三方包\n",
    "\n",
    "常见安装第三方包的方法：\n",
    "- 通过社区开发的类似pip，easy_install等多种工具\n",
    " > 会分析包的依赖，首先自动安装依赖\n",
    "- 从源文件安装\n",
    "\n",
    "包安装的过程：\n",
    "- 安装依赖包，视情况编译代码，然后把包中模块复制到标准包检索路径。\n",
    "\n",
    "第三方包在哪里：\n",
    "- python 包索引（也被称为PyPI） [PyPI](https://pypi.org/search/)\n",
    "- [国内镜像](https://mirrors.tuna.tsinghua.edu.cn/help/pypi/)\n",
    "\n",
    "## pip使用方法\n",
    "\n",
    "- pip install ***\n",
    "- pip list\n",
    "- pip freeze\n",
    "- pip install -r requirements.txt\n",
    " - 通过requirements文件安装各种包\n",
    "- pip show ***\n",
    " - 查看已安装包信息\n",
    "- pip unistall ***\n",
    " - 卸载包\n",
    "- pip install *** --upgrade\n",
    " - 更新包\n",
    "- pip install *** -i url\n",
    " - pip 镜像源的设置与使用\n"
   ]
  },
  {
   "cell_type": "code",
   "execution_count": 1,
   "metadata": {},
   "outputs": [
    {
     "name": "stdout",
     "output_type": "stream",
     "text": [
      "Collecting hsw2v\n",
      "  Using cached https://files.pythonhosted.org/packages/70/f4/54830e0571b14b0e212af1e3c89d305b1b033d3afc8b4f33d80f34b9a28e/hsw2v-1.0a5.tar.gz\n",
      "Collecting torch (from hsw2v)\n",
      "  Using cached https://files.pythonhosted.org/packages/5f/e9/bac4204fe9cb1a002ec6140b47f51affda1655379fe302a1caef421f9846/torch-0.1.2.post1.tar.gz\n",
      "    Complete output from command python setup.py egg_info:\n",
      "    Traceback (most recent call last):\n",
      "      File \"<string>\", line 1, in <module>\n",
      "      File \"C:\\Users\\likun\\AppData\\Local\\Temp\\pip-install-nbyo1juk\\torch\\setup.py\", line 11, in <module>\n",
      "        raise RuntimeError(README)\n",
      "    RuntimeError: PyTorch does not currently provide packages for PyPI (see status at https://github.com/pytorch/pytorch/issues/566).\n",
      "    \n",
      "    Please follow the instructions at http://pytorch.org/ to install with miniconda instead.\n",
      "    \n",
      "    \n",
      "    ----------------------------------------\n"
     ]
    },
    {
     "name": "stderr",
     "output_type": "stream",
     "text": [
      "Command \"python setup.py egg_info\" failed with error code 1 in C:\\Users\\likun\\AppData\\Local\\Temp\\pip-install-nbyo1juk\\torch\\\n"
     ]
    }
   ],
   "source": [
    "!pip install hsw2v"
   ]
  },
  {
   "cell_type": "code",
   "execution_count": null,
   "metadata": {
    "scrolled": true
   },
   "outputs": [],
   "source": [
    "# 通过国内镜像\n",
    "!pip install -i https://pypi.tuna.tsinghua.edu.cn/simple torch"
   ]
  },
  {
   "cell_type": "code",
   "execution_count": null,
   "metadata": {
    "scrolled": true
   },
   "outputs": [],
   "source": [
    "# 查看已安装包\n",
    "!pip list"
   ]
  },
  {
   "cell_type": "code",
   "execution_count": null,
   "metadata": {
    "scrolled": true
   },
   "outputs": [],
   "source": [
    "# 查看已安装包的另有一种形式\n",
    "!pip freeze"
   ]
  },
  {
   "cell_type": "code",
   "execution_count": null,
   "metadata": {},
   "outputs": [],
   "source": [
    "!pip show pip "
   ]
  },
  {
   "cell_type": "code",
   "execution_count": null,
   "metadata": {
    "scrolled": true
   },
   "outputs": [],
   "source": [
    "!pip uninstall hsw2v"
   ]
  },
  {
   "cell_type": "code",
   "execution_count": null,
   "metadata": {},
   "outputs": [],
   "source": [
    "!pip install hsw2v --upgrade"
   ]
  },
  {
   "attachments": {},
   "cell_type": "markdown",
   "metadata": {},
   "source": [
    "# Python 标准库\n",
    "\n",
    "Python Standard Library\n",
    "\n",
    "常见模块分类：\n",
    "- 通用文本处理(string，re)\n",
    "- 二进制数据处理(struct，codces)\n",
    "- **数据类型扩展(datetime，collections，copy)**\n",
    "- **数字以及科学计算(math，random)**\n",
    "- 函数式编程(functools，itertools,operator)\n",
    "- **文件以及目录(glob，shutil)**\n",
    "- 持久化（pickle，shelve，sqlite3)\n",
    "- 文件类型(CSV，configparser)\n",
    "- **加密算法（哈希）(hashlib)**\n",
    "- **通用操作系统服务（os，time，argparse，logging)**\n",
    "- 并发模块(threading，multiprocessing)\n",
    "- 进程通信以及网络模块(socket，asyncio)\n",
    "- 网络数据处理(email,json)\n",
    "- 结构化数据处理(html,xml)\n",
    "- 互联网协议处理(urllib，ftplib，poplib...)\n",
    "- 多媒体处理(audioop)\n",
    "- 国际化(gettext，locale)\n",
    "- 程序框架(turtle，cmd，shlex)\n",
    "- TK图形化模块(tkinter)\n",
    "- **开发工具(doctest，unittest)**\n",
    "- **调试以及性能(pdb，timeit)**\n",
    "- 软件打包(distutils)\n",
    "- **实时服务模块(sys，—future.)**\n",
    "- 通用解析器、模块导入、Phon语言服务、Win服务，Unix服务、其他作废模块"
   ]
  },
  {
   "attachments": {},
   "cell_type": "markdown",
   "metadata": {},
   "source": [
    "## Datetime模块\n",
    "\n",
    "datetime主要用来处理时间日期\n",
    "- time类\n",
    " - time类表示时间，由时，分，秒以及微妙组成\n",
    " - `datetime.time(hour[,minute[,second[,microsecond[,tzinfo]]]])`\n",
    " \n",
    "- date类\n",
    " - date类表示一个日期。日期由年月日组成\n",
    " - `datetime.date(year,month,day)`\n",
    "\n",
    "- datetime类\n",
    " - datetime是date与time的结合体，包括date与time的所有信息\n",
    " - `datetime.datetime(year,month,day[,hour[,minute[second[,microsecond[,tzinfo]]]]])`\n",
    "\n",
    "- timedelta 类"
   ]
  },
  {
   "cell_type": "markdown",
   "metadata": {},
   "source": [
    "### Time"
   ]
  },
  {
   "cell_type": "code",
   "execution_count": 2,
   "metadata": {},
   "outputs": [
    {
     "name": "stdout",
     "output_type": "stream",
     "text": [
      "01:02:03\n",
      "hour       : 1\n",
      "minute     : 2\n",
      "second     : 3\n",
      "microsecond: 0\n",
      "tzinfo     : None\n"
     ]
    }
   ],
   "source": [
    "import datetime\n",
    "\n",
    "t = datetime.time(1, 2, 3)\n",
    "print(t)\n",
    "print('hour       :', t.hour)\n",
    "print('minute     :', t.minute)\n",
    "print('second     :', t.second)\n",
    "print('microsecond:', t.microsecond)\n",
    "print('tzinfo     :', t.tzinfo)"
   ]
  },
  {
   "cell_type": "code",
   "execution_count": 3,
   "metadata": {},
   "outputs": [
    {
     "name": "stdout",
     "output_type": "stream",
     "text": [
      "Earliest  : 00:00:00\n",
      "Latest    : 23:59:59.999999\n",
      "Resolution: 0:00:00.000001\n"
     ]
    }
   ],
   "source": [
    "import datetime\n",
    "\n",
    "print('Earliest  :', datetime.time.min)\n",
    "print('Latest    :', datetime.time.max)\n",
    "print('Resolution:', datetime.time.resolution)"
   ]
  },
  {
   "cell_type": "markdown",
   "metadata": {},
   "source": [
    "### Dates"
   ]
  },
  {
   "cell_type": "code",
   "execution_count": 4,
   "metadata": {
    "scrolled": true
   },
   "outputs": [
    {
     "name": "stdout",
     "output_type": "stream",
     "text": [
      "2019-06-16\n",
      "ctime  : Sun Jun 16 00:00:00 2019\n",
      "tuple  : tm_year  = 2019\n",
      "         tm_mon   = 6\n",
      "         tm_mday  = 16\n",
      "         tm_hour  = 0\n",
      "         tm_min   = 0\n",
      "         tm_sec   = 0\n",
      "         tm_wday  = 6\n",
      "         tm_yday  = 167\n",
      "         tm_isdst = -1\n",
      "ordinal: 737226\n",
      "Year   : 2019\n",
      "Mon    : 6\n",
      "Day    : 16\n"
     ]
    }
   ],
   "source": [
    "import datetime\n",
    "\n",
    "today = datetime.date.today()\n",
    "print(today)\n",
    "print('ctime  :', today.ctime())\n",
    "tt = today.timetuple()\n",
    "print('tuple  : tm_year  =', tt.tm_year)\n",
    "print('         tm_mon   =', tt.tm_mon)\n",
    "print('         tm_mday  =', tt.tm_mday)\n",
    "print('         tm_hour  =', tt.tm_hour)\n",
    "print('         tm_min   =', tt.tm_min)\n",
    "print('         tm_sec   =', tt.tm_sec)\n",
    "print('         tm_wday  =', tt.tm_wday)\n",
    "print('         tm_yday  =', tt.tm_yday)\n",
    "print('         tm_isdst =', tt.tm_isdst)\n",
    "print('ordinal:', today.toordinal())\n",
    "print('Year   :', today.year)\n",
    "print('Mon    :', today.month)\n",
    "print('Day    :', today.day)\n"
   ]
  },
  {
   "cell_type": "code",
   "execution_count": 5,
   "metadata": {},
   "outputs": [
    {
     "name": "stdout",
     "output_type": "stream",
     "text": [
      "o               : 733114\n",
      "fromordinal(o)  : 2008-03-13\n",
      "t               : 1560679622.3787894\n",
      "fromtimestamp(t): 2019-06-16\n"
     ]
    }
   ],
   "source": [
    "import datetime\n",
    "import time\n",
    "\n",
    "o = 733114\n",
    "print('o               :', o)\n",
    "print('fromordinal(o)  :', datetime.date.fromordinal(o))\n",
    "\n",
    "t = time.time()\n",
    "print('t               :', t)\n",
    "print('fromtimestamp(t):', datetime.date.fromtimestamp(t))"
   ]
  },
  {
   "cell_type": "code",
   "execution_count": 6,
   "metadata": {},
   "outputs": [
    {
     "name": "stdout",
     "output_type": "stream",
     "text": [
      "Earliest  : 0001-01-01\n",
      "Latest    : 9999-12-31\n",
      "Resolution: 1 day, 0:00:00\n"
     ]
    }
   ],
   "source": [
    "import datetime\n",
    "\n",
    "print('Earliest  :', datetime.date.min)\n",
    "print('Latest    :', datetime.date.max)\n",
    "print('Resolution:', datetime.date.resolution)"
   ]
  },
  {
   "cell_type": "code",
   "execution_count": 7,
   "metadata": {},
   "outputs": [
    {
     "name": "stdout",
     "output_type": "stream",
     "text": [
      "d1: Sat Mar 29 00:00:00 2008\n",
      "d2: Sun Mar 29 00:00:00 2009\n"
     ]
    }
   ],
   "source": [
    "import datetime\n",
    "\n",
    "d1 = datetime.date(2008, 3, 29)\n",
    "print('d1:', d1.ctime())\n",
    "\n",
    "d2 = d1.replace(year=2009)\n",
    "print('d2:', d2.ctime())"
   ]
  },
  {
   "cell_type": "markdown",
   "metadata": {},
   "source": [
    "### Datetime"
   ]
  },
  {
   "cell_type": "code",
   "execution_count": 10,
   "metadata": {},
   "outputs": [
    {
     "name": "stdout",
     "output_type": "stream",
     "text": [
      "Now    : 2019-06-16 12:09:42.693988\n",
      "Today  : 2019-06-16 12:09:42.694989\n",
      "UTC Now: 2019-06-16 10:09:42.695086\n",
      "\n",
      "year           : 2019\n",
      "month          : 6\n",
      "day            : 16\n",
      "hour           : 12\n",
      "minute         : 9\n",
      "second         : 42\n",
      "microsecond    : 695086\n"
     ]
    }
   ],
   "source": [
    "import datetime\n",
    "\n",
    "print('Now    :', datetime.datetime.now())\n",
    "print('Today  :', datetime.datetime.today())\n",
    "print('UTC Now:', datetime.datetime.utcnow())\n",
    "print()\n",
    "\n",
    "FIELDS = [\n",
    "    'year', 'month', 'day',\n",
    "    'hour', 'minute', 'second',\n",
    "    'microsecond',\n",
    "]\n",
    "\n",
    "d = datetime.datetime.now()\n",
    "for attr in FIELDS:\n",
    "    print('{:15}: {}'.format(attr, getattr(d, attr)))\n"
   ]
  },
  {
   "cell_type": "code",
   "execution_count": 11,
   "metadata": {},
   "outputs": [
    {
     "name": "stdout",
     "output_type": "stream",
     "text": [
      "t : 01:02:03\n",
      "d : 2019-06-16\n",
      "dt: 2019-06-16 01:02:03\n"
     ]
    }
   ],
   "source": [
    "import datetime\n",
    "\n",
    "t = datetime.time(1, 2, 3)\n",
    "print('t :', t)\n",
    "\n",
    "d = datetime.date.today()\n",
    "print('d :', d)\n",
    "\n",
    "dt = datetime.datetime.combine(d, t)\n",
    "print('dt:', dt)"
   ]
  },
  {
   "cell_type": "markdown",
   "metadata": {},
   "source": [
    "### Timedeltas"
   ]
  },
  {
   "cell_type": "code",
   "execution_count": 12,
   "metadata": {},
   "outputs": [
    {
     "name": "stdout",
     "output_type": "stream",
     "text": [
      "microseconds: 0:00:00.000001\n",
      "milliseconds: 0:00:00.001000\n",
      "seconds     : 0:00:01\n",
      "minutes     : 0:01:00\n",
      "hours       : 1:00:00\n",
      "days        : 1 day, 0:00:00\n",
      "weeks       : 7 days, 0:00:00\n"
     ]
    }
   ],
   "source": [
    "import datetime\n",
    "\n",
    "print('microseconds:', datetime.timedelta(microseconds=1))\n",
    "print('milliseconds:', datetime.timedelta(milliseconds=1))\n",
    "print('seconds     :', datetime.timedelta(seconds=1))\n",
    "print('minutes     :', datetime.timedelta(minutes=1))\n",
    "print('hours       :', datetime.timedelta(hours=1))\n",
    "print('days        :', datetime.timedelta(days=1))\n",
    "print('weeks       :', datetime.timedelta(weeks=1))"
   ]
  },
  {
   "cell_type": "code",
   "execution_count": 13,
   "metadata": {},
   "outputs": [
    {
     "name": "stdout",
     "output_type": "stream",
     "text": [
      "0:00:00.000001  =    1e-06 seconds\n",
      "0:00:00.001000  =    0.001 seconds\n",
      "0:00:01         =      1.0 seconds\n",
      "0:01:00         =     60.0 seconds\n",
      "1:00:00         =   3600.0 seconds\n",
      "1 day, 0:00:00  =  86400.0 seconds\n",
      "7 days, 0:00:00 = 604800.0 seconds\n"
     ]
    }
   ],
   "source": [
    "import datetime\n",
    "\n",
    "for delta in [datetime.timedelta(microseconds=1),\n",
    "              datetime.timedelta(milliseconds=1),\n",
    "              datetime.timedelta(seconds=1),\n",
    "              datetime.timedelta(minutes=1),\n",
    "              datetime.timedelta(hours=1),\n",
    "              datetime.timedelta(days=1),\n",
    "              datetime.timedelta(weeks=1),\n",
    "              ]:\n",
    "    print('{:15} = {:8} seconds'.format(\n",
    "        str(delta), delta.total_seconds())\n",
    "    )"
   ]
  },
  {
   "cell_type": "markdown",
   "metadata": {},
   "source": [
    "### 日期计算"
   ]
  },
  {
   "cell_type": "code",
   "execution_count": 14,
   "metadata": {},
   "outputs": [
    {
     "name": "stdout",
     "output_type": "stream",
     "text": [
      "Today    : 2019-06-16\n",
      "One day  : 1 day, 0:00:00\n",
      "Yesterday: 2019-06-15\n",
      "Tomorrow : 2019-06-17\n",
      "\n",
      "tomorrow - yesterday: 2 days, 0:00:00\n",
      "yesterday - tomorrow: -2 days, 0:00:00\n"
     ]
    }
   ],
   "source": [
    "import datetime\n",
    "\n",
    "today = datetime.date.today()\n",
    "print('Today    :', today)\n",
    "\n",
    "one_day = datetime.timedelta(days=1)\n",
    "print('One day  :', one_day)\n",
    "\n",
    "yesterday = today - one_day\n",
    "print('Yesterday:', yesterday)\n",
    "\n",
    "tomorrow = today + one_day\n",
    "print('Tomorrow :', tomorrow)\n",
    "\n",
    "print()\n",
    "print('tomorrow - yesterday:', tomorrow - yesterday)\n",
    "print('yesterday - tomorrow:', yesterday - tomorrow)"
   ]
  },
  {
   "cell_type": "code",
   "execution_count": 15,
   "metadata": {},
   "outputs": [
    {
     "name": "stdout",
     "output_type": "stream",
     "text": [
      "1 day    : 1 day, 0:00:00\n",
      "5 days   : 5 days, 0:00:00\n",
      "1.5 days : 1 day, 12:00:00\n",
      "1/4 day  : 6:00:00\n",
      "meetings per day : 7.0\n"
     ]
    }
   ],
   "source": [
    "import datetime\n",
    "\n",
    "one_day = datetime.timedelta(days=1)\n",
    "print('1 day    :', one_day)\n",
    "print('5 days   :', one_day * 5)\n",
    "print('1.5 days :', one_day * 1.5)\n",
    "print('1/4 day  :', one_day / 4)\n",
    "\n",
    "# assume an hour for lunch\n",
    "work_day = datetime.timedelta(hours=7)\n",
    "meeting_length = datetime.timedelta(hours=1)\n",
    "print('meetings per day :', work_day / meeting_length)"
   ]
  },
  {
   "cell_type": "code",
   "execution_count": null,
   "metadata": {},
   "outputs": [],
   "source": [
    "# 日期比较\n",
    "\n",
    "import datetime\n",
    "import time\n",
    "\n",
    "print('Times:')\n",
    "t1 = datetime.time(12, 55, 0)\n",
    "print('  t1:', t1)\n",
    "t2 = datetime.time(13, 5, 0)\n",
    "print('  t2:', t2)\n",
    "print('  t1 < t2:', t1 < t2)\n",
    "\n",
    "print()\n",
    "print('Dates:')\n",
    "d1 = datetime.date.today()\n",
    "print('  d1:', d1)\n",
    "d2 = datetime.date.today() + datetime.timedelta(days=1)\n",
    "print('  d2:', d2)\n",
    "print('  d1 > d2:', d1 > d2)\n"
   ]
  },
  {
   "cell_type": "markdown",
   "metadata": {},
   "source": [
    "### 日期与格式化"
   ]
  },
  {
   "cell_type": "code",
   "execution_count": 16,
   "metadata": {},
   "outputs": [
    {
     "name": "stdout",
     "output_type": "stream",
     "text": [
      "ISO     : 2019-06-16 12:15:01.148124\n",
      "strftime: Sun Jun 16 12:15:01 2019\n",
      "strptime: Sun Jun 16 12:15:01 2019\n"
     ]
    }
   ],
   "source": [
    "#  ISO-8601 format (YYYY-MM-DDTHH:MM:SS.mmmmmm)\n",
    "\n",
    "import datetime\n",
    "\n",
    "format = \"%a %b %d %H:%M:%S %Y\"\n",
    "\n",
    "today = datetime.datetime.today()\n",
    "print('ISO     :', today)\n",
    "\n",
    "s = today.strftime(format)\n",
    "print('strftime:', s)\n",
    "\n",
    "d = datetime.datetime.strptime(s, format)\n",
    "print('strptime:', d.strftime(format))"
   ]
  },
  {
   "cell_type": "code",
   "execution_count": 17,
   "metadata": {},
   "outputs": [
    {
     "name": "stdout",
     "output_type": "stream",
     "text": [
      "ISO     : 2019-06-16 12:15:49.943759\n",
      "format(): Sun Jun 16 12:15:49 2019\n"
     ]
    }
   ],
   "source": [
    "import datetime\n",
    "\n",
    "today = datetime.datetime.today()\n",
    "print('ISO     :', today)\n",
    "print('format(): {:%a %b %d %H:%M:%S %Y}'.format(today))"
   ]
  },
  {
   "cell_type": "markdown",
   "metadata": {},
   "source": [
    "### 时区"
   ]
  },
  {
   "cell_type": "code",
   "execution_count": 18,
   "metadata": {},
   "outputs": [
    {
     "name": "stdout",
     "output_type": "stream",
     "text": [
      "UTC-06:00 : 2019-06-16 04:16:15.490099-06:00\n",
      "UTC : 2019-06-16 10:16:15.490099+00:00\n",
      "UTC+06:00 : 2019-06-16 16:16:15.490099+06:00\n",
      "?¡Â?¡¤??¨¢?¨º¡À       : 2019-06-16 12:16:15.490099+02:00\n"
     ]
    }
   ],
   "source": [
    "import datetime\n",
    "\n",
    "min6 = datetime.timezone(datetime.timedelta(hours=-6))\n",
    "plus6 = datetime.timezone(datetime.timedelta(hours=6))\n",
    "d = datetime.datetime.now(min6)\n",
    "\n",
    "print(min6, ':', d)\n",
    "print(datetime.timezone.utc, ':',\n",
    "      d.astimezone(datetime.timezone.utc))\n",
    "print(plus6, ':', d.astimezone(plus6))\n",
    "\n",
    "# convert to the current system timezone\n",
    "d_system = d.astimezone()\n",
    "print(d_system.tzinfo, '      :', d_system)"
   ]
  },
  {
   "attachments": {},
   "cell_type": "markdown",
   "metadata": {},
   "source": [
    "## Collections — Container Data Types\n",
    "\n",
    "- ChainMap — Search Multiple Dictionaries\n",
    "- Counter — Count Hashable Objects\n",
    "- defaultdict — Missing Keys Return a Default Value\n",
    "- deque — Double-Ended Queue\n",
    "- namedtuple — Tuple Subclass with Named Fields\n",
    "- OrderedDict — Remember the Order Keys are Added to a Dictionary\n",
    "- collections.abc — Abstract Base Classes for Containers\n",
    "\n",
    "Python拥有一些内置的数据类型，比如str，int，list，tuple,dict等，\n",
    "- collections模块在这些内置数据类型的基础上，提供了几个额外的数据类型\n",
    "- namedtuple():生成可以使用名字来访问元素内容的tuple子类\n",
    "- deque:双端队列，可以快速的从另外一侧追加和推出对象\n",
    "- Counter:计数器，主要用来计数\n",
    "- OrderedDict:有序字典\n",
    "- defaultdict:带有默认值的字典\n"
   ]
  },
  {
   "cell_type": "markdown",
   "metadata": {},
   "source": [
    "### NamedTuple"
   ]
  },
  {
   "cell_type": "code",
   "execution_count": 22,
   "metadata": {},
   "outputs": [
    {
     "name": "stdout",
     "output_type": "stream",
     "text": [
      "Representation: ('Bob', 30, 'male')\n",
      "\n",
      "Field by index: Jane\n",
      "\n",
      "Fields by index:\n",
      "Bob is a 30 year old male\n",
      "Jane is a 29 year old female\n"
     ]
    }
   ],
   "source": [
    "bob = ('Bob', 30, 'male')\n",
    "print('Representation:', bob)\n",
    "\n",
    "jane = ('Jane', 29, 'female')\n",
    "print('\\nField by index:', jane[0])\n",
    "\n",
    "print('\\nFields by index:')\n",
    "for p in [bob, jane]:\n",
    "    print('{} is a {} year old {}'.format(*p))\n",
    "    \n",
    "# *p 将元组解包"
   ]
  },
  {
   "cell_type": "code",
   "execution_count": 21,
   "metadata": {},
   "outputs": [
    {
     "name": "stdout",
     "output_type": "stream",
     "text": [
      "\n",
      "Representation: Person(name='Bob', age=30)\n",
      "\n",
      "Field by name: Jane\n",
      "\n",
      "Fields by index:\n",
      "Bob is 30 years old\n",
      "Jane is 29 years old\n"
     ]
    }
   ],
   "source": [
    "# defining\n",
    "import collections\n",
    "\n",
    "Person = collections.namedtuple('Person', 'name age')\n",
    "\n",
    "bob = Person(name='Bob', age=30)\n",
    "print('\\nRepresentation:', bob)\n",
    "\n",
    "jane = Person(name='Jane', age=29)\n",
    "print('\\nField by name:', jane.name)\n",
    "\n",
    "print('\\nFields by index:')\n",
    "for p in [bob, jane]:\n",
    "    print('{} is {} years old'.format(*p))"
   ]
  },
  {
   "cell_type": "code",
   "execution_count": 23,
   "metadata": {},
   "outputs": [
    {
     "name": "stdout",
     "output_type": "stream",
     "text": [
      "\n",
      "Representation: Person(name='Pat', age=12)\n"
     ]
    },
    {
     "ename": "AttributeError",
     "evalue": "can't set attribute",
     "output_type": "error",
     "traceback": [
      "\u001b[1;31m---------------------------------------------------------------------------\u001b[0m",
      "\u001b[1;31mAttributeError\u001b[0m                            Traceback (most recent call last)",
      "\u001b[1;32m<ipython-input-23-f1bf997aff73>\u001b[0m in \u001b[0;36m<module>\u001b[1;34m\u001b[0m\n\u001b[0;32m      8\u001b[0m \u001b[0mprint\u001b[0m\u001b[1;33m(\u001b[0m\u001b[1;34m'\\nRepresentation:'\u001b[0m\u001b[1;33m,\u001b[0m \u001b[0mpat\u001b[0m\u001b[1;33m)\u001b[0m\u001b[1;33m\u001b[0m\u001b[1;33m\u001b[0m\u001b[0m\n\u001b[0;32m      9\u001b[0m \u001b[1;33m\u001b[0m\u001b[0m\n\u001b[1;32m---> 10\u001b[1;33m \u001b[0mpat\u001b[0m\u001b[1;33m.\u001b[0m\u001b[0mage\u001b[0m \u001b[1;33m=\u001b[0m \u001b[1;36m21\u001b[0m\u001b[1;33m\u001b[0m\u001b[1;33m\u001b[0m\u001b[0m\n\u001b[0m",
      "\u001b[1;31mAttributeError\u001b[0m: can't set attribute"
     ]
    }
   ],
   "source": [
    "# change will trigger AttributeError\n",
    "\n",
    "import collections\n",
    "\n",
    "Person = collections.namedtuple('Person', 'name age')\n",
    "\n",
    "pat = Person(name='Pat', age=12)\n",
    "print('\\nRepresentation:', pat)\n",
    "\n",
    "pat.age = 21"
   ]
  },
  {
   "cell_type": "code",
   "execution_count": 24,
   "metadata": {},
   "outputs": [
    {
     "name": "stdout",
     "output_type": "stream",
     "text": [
      "Type names and field names cannot be a keyword: 'class'\n",
      "Encountered duplicate field name: 'age'\n"
     ]
    }
   ],
   "source": [
    "import collections\n",
    "\n",
    "try:\n",
    "    collections.namedtuple('Person', 'name class age')\n",
    "except ValueError as err:\n",
    "    print(err)\n",
    "\n",
    "try:\n",
    "    collections.namedtuple('Person', 'name age age')\n",
    "except ValueError as err:\n",
    "    print(err)"
   ]
  },
  {
   "cell_type": "code",
   "execution_count": 25,
   "metadata": {},
   "outputs": [
    {
     "name": "stdout",
     "output_type": "stream",
     "text": [
      "Representation: Person(name='Bob', age=30)\n",
      "Fields: ('name', 'age')\n"
     ]
    }
   ],
   "source": [
    "# 特殊属性\n",
    "import collections\n",
    "\n",
    "Person = collections.namedtuple('Person', 'name age')\n",
    "\n",
    "bob = Person(name='Bob', age=30)\n",
    "print('Representation:', bob)\n",
    "print('Fields:', bob._fields)"
   ]
  },
  {
   "cell_type": "code",
   "execution_count": 26,
   "metadata": {},
   "outputs": [
    {
     "name": "stdout",
     "output_type": "stream",
     "text": [
      "Representation: Person(name='Bob', age=30)\n",
      "As Dictionary: OrderedDict([('name', 'Bob'), ('age', 30)])\n"
     ]
    }
   ],
   "source": [
    "import collections\n",
    "\n",
    "Person = collections.namedtuple('Person', 'name age')\n",
    "\n",
    "bob = Person(name='Bob', age=30)\n",
    "print('Representation:', bob)\n",
    "print('As Dictionary:', bob._asdict())"
   ]
  },
  {
   "cell_type": "markdown",
   "metadata": {},
   "source": [
    "### deque"
   ]
  },
  {
   "cell_type": "code",
   "execution_count": 27,
   "metadata": {},
   "outputs": [
    {
     "name": "stdout",
     "output_type": "stream",
     "text": [
      "Deque: deque(['a', 'b', 'c', 'd', 'e', 'f', 'g'])\n",
      "Length: 7\n",
      "Left end: a\n",
      "Right end: g\n",
      "remove(c): deque(['a', 'b', 'd', 'e', 'f', 'g'])\n"
     ]
    }
   ],
   "source": [
    "import collections\n",
    "\n",
    "d = collections.deque('abcdefg')\n",
    "print('Deque:', d)\n",
    "print('Length:', len(d))\n",
    "print('Left end:', d[0])\n",
    "print('Right end:', d[-1])\n",
    "\n",
    "d.remove('c')\n",
    "print('remove(c):', d)"
   ]
  },
  {
   "cell_type": "code",
   "execution_count": 28,
   "metadata": {},
   "outputs": [
    {
     "name": "stdout",
     "output_type": "stream",
     "text": [
      "extend    : deque(['a', 'b', 'c', 'd', 'e', 'f', 'g'])\n",
      "append    : deque(['a', 'b', 'c', 'd', 'e', 'f', 'g', 'h'])\n",
      "extendleft: deque([5, 4, 3, 2, 1, 0])\n",
      "appendleft: deque([6, 5, 4, 3, 2, 1, 0])\n"
     ]
    }
   ],
   "source": [
    "# pop\n",
    "import collections\n",
    "\n",
    "# Add to the right\n",
    "d1 = collections.deque()\n",
    "d1.extend('abcdefg')\n",
    "print('extend    :', d1)\n",
    "d1.append('h')\n",
    "print('append    :', d1)\n",
    "\n",
    "# Add to the left\n",
    "d2 = collections.deque()\n",
    "d2.extendleft(range(6))\n",
    "print('extendleft:', d2)\n",
    "d2.appendleft(6)\n",
    "print('appendleft:', d2)"
   ]
  },
  {
   "cell_type": "code",
   "execution_count": 29,
   "metadata": {},
   "outputs": [
    {
     "name": "stdout",
     "output_type": "stream",
     "text": [
      "From the right:\n",
      "gfedcba\n",
      "\n",
      "From the left:\n",
      "012345\n"
     ]
    }
   ],
   "source": [
    "import collections\n",
    "\n",
    "print('From the right:')\n",
    "d = collections.deque('abcdefg')\n",
    "while True:\n",
    "    try:\n",
    "        print(d.pop(), end='')\n",
    "    except IndexError:\n",
    "        break\n",
    "print()\n",
    "\n",
    "print('\\nFrom the left:')\n",
    "d = collections.deque(range(6))\n",
    "while True:\n",
    "    try:\n",
    "        print(d.popleft(), end='')\n",
    "    except IndexError:\n",
    "        break\n",
    "print()"
   ]
  },
  {
   "cell_type": "code",
   "execution_count": 30,
   "metadata": {},
   "outputs": [
    {
     "name": "stdout",
     "output_type": "stream",
     "text": [
      "Normal        : deque([0, 1, 2, 3, 4, 5, 6, 7, 8, 9])\n",
      "Right rotation: deque([8, 9, 0, 1, 2, 3, 4, 5, 6, 7])\n",
      "Left rotation : deque([2, 3, 4, 5, 6, 7, 8, 9, 0, 1])\n"
     ]
    }
   ],
   "source": [
    "# rotate\n",
    "import collections\n",
    "\n",
    "d = collections.deque(range(10))\n",
    "print('Normal        :', d)\n",
    "\n",
    "d = collections.deque(range(10))\n",
    "d.rotate(2)\n",
    "print('Right rotation:', d)\n",
    "\n",
    "d = collections.deque(range(10))\n",
    "d.rotate(-2)\n",
    "print('Left rotation :', d)"
   ]
  },
  {
   "cell_type": "code",
   "execution_count": 31,
   "metadata": {},
   "outputs": [
    {
     "name": "stdout",
     "output_type": "stream",
     "text": [
      "n = 17\n",
      "D1: deque([17], maxlen=3)\n",
      "D2: deque([17], maxlen=3)\n",
      "n = 72\n",
      "D1: deque([17, 72], maxlen=3)\n",
      "D2: deque([72, 17], maxlen=3)\n",
      "n = 97\n",
      "D1: deque([17, 72, 97], maxlen=3)\n",
      "D2: deque([97, 72, 17], maxlen=3)\n",
      "n = 8\n",
      "D1: deque([72, 97, 8], maxlen=3)\n",
      "D2: deque([8, 97, 72], maxlen=3)\n",
      "n = 32\n",
      "D1: deque([97, 8, 32], maxlen=3)\n",
      "D2: deque([32, 8, 97], maxlen=3)\n"
     ]
    }
   ],
   "source": [
    "# limit queue size\n",
    "import collections\n",
    "import random\n",
    "\n",
    "# Set the random seed so we see the same output each time\n",
    "# the script is run.\n",
    "random.seed(1)\n",
    "\n",
    "d1 = collections.deque(maxlen=3)\n",
    "d2 = collections.deque(maxlen=3)\n",
    "\n",
    "for i in range(5):\n",
    "    n = random.randint(0, 100)\n",
    "    print('n =', n)\n",
    "    d1.append(n)\n",
    "    d2.appendleft(n)\n",
    "    print('D1:', d1)\n",
    "    print('D2:', d2)"
   ]
  },
  {
   "cell_type": "markdown",
   "metadata": {},
   "source": [
    "### OrderedDict \n",
    "- Remember the Order Keys are Added to a Dictionary"
   ]
  },
  {
   "cell_type": "code",
   "execution_count": 32,
   "metadata": {},
   "outputs": [
    {
     "name": "stdout",
     "output_type": "stream",
     "text": [
      "Regular dictionary:\n",
      "a A\n",
      "b B\n",
      "c C\n",
      "\n",
      "OrderedDict:\n",
      "a A\n",
      "b B\n",
      "c C\n"
     ]
    }
   ],
   "source": [
    "import collections\n",
    "\n",
    "print('Regular dictionary:')\n",
    "d = {}\n",
    "d['a'] = 'A'\n",
    "d['b'] = 'B'\n",
    "d['c'] = 'C'\n",
    "\n",
    "for k, v in d.items():\n",
    "    print(k, v)\n",
    "\n",
    "print('\\nOrderedDict:')\n",
    "d = collections.OrderedDict()\n",
    "d['a'] = 'A'\n",
    "d['b'] = 'B'\n",
    "d['c'] = 'C'\n",
    "\n",
    "for k, v in d.items():\n",
    "    print(k, v)"
   ]
  },
  {
   "cell_type": "code",
   "execution_count": 33,
   "metadata": {},
   "outputs": [
    {
     "name": "stdout",
     "output_type": "stream",
     "text": [
      "dict       : True\n",
      "OrderedDict: False\n"
     ]
    }
   ],
   "source": [
    "# Equality\n",
    "import collections\n",
    "\n",
    "print('dict       :', end=' ')\n",
    "d1 = {}\n",
    "d1['a'] = 'A'\n",
    "d1['b'] = 'B'\n",
    "d1['c'] = 'C'\n",
    "\n",
    "d2 = {}\n",
    "d2['c'] = 'C'\n",
    "d2['b'] = 'B'\n",
    "d2['a'] = 'A'\n",
    "\n",
    "print(d1 == d2)\n",
    "\n",
    "print('OrderedDict:', end=' ')\n",
    "\n",
    "d1 = collections.OrderedDict()\n",
    "d1['a'] = 'A'\n",
    "d1['b'] = 'B'\n",
    "d1['c'] = 'C'\n",
    "\n",
    "d2 = collections.OrderedDict()\n",
    "d2['c'] = 'C'\n",
    "d2['b'] = 'B'\n",
    "d2['a'] = 'A'\n",
    "\n",
    "print(d1 == d2)"
   ]
  },
  {
   "cell_type": "code",
   "execution_count": null,
   "metadata": {},
   "outputs": [],
   "source": [
    "# reorder\n",
    "import collections\n",
    "\n",
    "d = collections.OrderedDict(\n",
    "    [('a', 'A'), ('b', 'B'), ('c', 'C')]\n",
    ")\n",
    "\n",
    "print('Before:')\n",
    "for k, v in d.items():\n",
    "    print(k, v)\n",
    "\n",
    "d.move_to_end('b')\n",
    "\n",
    "print('\\nmove_to_end():')\n",
    "for k, v in d.items():\n",
    "    print(k, v)\n",
    "\n",
    "d.move_to_end('b', last=False)\n",
    "\n",
    "print('\\nmove_to_end(last=False):')\n",
    "for k, v in d.items():\n",
    "    print(k, v)"
   ]
  },
  {
   "attachments": {},
   "cell_type": "markdown",
   "metadata": {},
   "source": [
    "### random \n",
    "- Pseudorandom Number Generators\n",
    "- 是用于生成随机数的，我们可以利用它随机生成数字或者选择字符串。\n",
    "\n",
    "生成方法：有随机正态分布，帕累托分布，高斯分布，阝分布，v分布，三角分布，威布尔分布等等各种函数\n",
    "\n",
    "一般计算机的随机数都是伪随机数，以一个真随机数（种子）作为初始条件，然后用一定的算法不停迭代产生随机数\n",
    "\n",
    "使用方法\n",
    "- random.random()\n",
    "- randint(a，b)\n",
    "- random.unifom(a，b)\n",
    "- choice(seq)\n",
    "- random.sample(sequence，k)\n",
    "- random.seed(\\[x\\])\n"
   ]
  },
  {
   "cell_type": "code",
   "execution_count": 38,
   "metadata": {},
   "outputs": [
    {
     "name": "stdout",
     "output_type": "stream",
     "text": [
      "0.836 0.433 0.762 0.002 0.445 \n"
     ]
    }
   ],
   "source": [
    "import random\n",
    "\n",
    "for i in range(5):\n",
    "    print('%04.3f' % random.random(), end=' ')\n",
    "print()"
   ]
  },
  {
   "cell_type": "code",
   "execution_count": 35,
   "metadata": {},
   "outputs": [
    {
     "name": "stdout",
     "output_type": "stream",
     "text": [
      "49.298 89.438 39.591 61.136 76.949 \n"
     ]
    }
   ],
   "source": [
    "import random\n",
    "\n",
    "for i in range(5):\n",
    "    print('{:04.3f}'.format(random.uniform(1, 100)), end=' ')\n",
    "print()"
   ]
  },
  {
   "cell_type": "code",
   "execution_count": 36,
   "metadata": {},
   "outputs": [
    {
     "name": "stdout",
     "output_type": "stream",
     "text": [
      "0.134 0.847 0.764 0.255 0.495 \n"
     ]
    }
   ],
   "source": [
    "# seeding\n",
    "import random\n",
    "\n",
    "random.seed(1)\n",
    "\n",
    "for i in range(5):\n",
    "    print('{:04.3f}'.format(random.random()), end=' ')\n",
    "print()"
   ]
  },
  {
   "cell_type": "code",
   "execution_count": 41,
   "metadata": {},
   "outputs": [
    {
     "name": "stdout",
     "output_type": "stream",
     "text": [
      "Found state.dat, initializing random module\n",
      "0.652 0.789 0.094 \n",
      "\n",
      "After saving state:\n",
      "0.028 0.836 0.433 \n"
     ]
    }
   ],
   "source": [
    "# state\n",
    "import random\n",
    "import os\n",
    "import pickle\n",
    "\n",
    "if os.path.exists('state.dat'):\n",
    "    # Restore the previously saved state\n",
    "    print('Found state.dat, initializing random module')\n",
    "    with open('state.dat', 'rb') as f:\n",
    "        state = pickle.load(f)\n",
    "    random.setstate(state)\n",
    "else:\n",
    "    # Use a well-known start state\n",
    "    print('No state.dat, seeding')\n",
    "    random.seed(1)\n",
    "\n",
    "# Produce random values\n",
    "for i in range(3):\n",
    "    print('{:04.3f}'.format(random.random()), end=' ')\n",
    "print()\n",
    "\n",
    "# Save state for next time\n",
    "with open('state.dat', 'wb') as f:\n",
    "    pickle.dump(random.getstate(), f)\n",
    "\n",
    "# Produce more random values\n",
    "print('\\nAfter saving state:')\n",
    "for i in range(3):\n",
    "    print('{:04.3f}'.format(random.random()), end=' ')\n",
    "print()"
   ]
  },
  {
   "cell_type": "code",
   "execution_count": 42,
   "metadata": {},
   "outputs": [
    {
     "name": "stdout",
     "output_type": "stream",
     "text": [
      "[1, 100]: 98 99 1 \n",
      "[-5, 5]: 2 -1 -2 \n"
     ]
    }
   ],
   "source": [
    "# Random Integers randint\n",
    "\n",
    "import random\n",
    "\n",
    "print('[1, 100]:', end=' ')\n",
    "\n",
    "for i in range(3):\n",
    "    print(random.randint(1, 100), end=' ')\n",
    "\n",
    "print('\\n[-5, 5]:', end=' ')\n",
    "for i in range(3):\n",
    "    print(random.randint(-5, 5), end=' ')\n",
    "print()"
   ]
  },
  {
   "cell_type": "code",
   "execution_count": 43,
   "metadata": {},
   "outputs": [
    {
     "name": "stdout",
     "output_type": "stream",
     "text": [
      "90 15 50 \n"
     ]
    }
   ],
   "source": [
    "# randrange\n",
    "import random\n",
    "\n",
    "for i in range(3):\n",
    "    print(random.randrange(0, 101, 5), end=' ')\n",
    "print()"
   ]
  },
  {
   "cell_type": "code",
   "execution_count": 44,
   "metadata": {},
   "outputs": [
    {
     "name": "stdout",
     "output_type": "stream",
     "text": [
      "Heads: 5059\n",
      "Tails: 4941\n"
     ]
    }
   ],
   "source": [
    "# Picking Random Items\n",
    "import random\n",
    "import itertools\n",
    "\n",
    "outcomes = {\n",
    "    'heads': 0,\n",
    "    'tails': 0,\n",
    "}\n",
    "sides = list(outcomes.keys())\n",
    "\n",
    "for i in range(10000):\n",
    "    outcomes[random.choice(sides)] += 1\n",
    "\n",
    "print('Heads:', outcomes['heads'])\n",
    "print('Tails:', outcomes['tails'])"
   ]
  },
  {
   "cell_type": "code",
   "execution_count": null,
   "metadata": {},
   "outputs": [],
   "source": [
    "# 洗牌 Permutations"
   ]
  },
  {
   "cell_type": "code",
   "execution_count": 45,
   "metadata": {},
   "outputs": [
    {
     "ename": "FileNotFoundError",
     "evalue": "[Errno 2] No such file or directory: '/usr/share/dict/words'",
     "output_type": "error",
     "traceback": [
      "\u001b[1;31m---------------------------------------------------------------------------\u001b[0m",
      "\u001b[1;31mFileNotFoundError\u001b[0m                         Traceback (most recent call last)",
      "\u001b[1;32m<ipython-input-45-e6256d8518be>\u001b[0m in \u001b[0;36m<module>\u001b[1;34m\u001b[0m\n\u001b[0;32m      2\u001b[0m \u001b[1;32mimport\u001b[0m \u001b[0mrandom\u001b[0m\u001b[1;33m\u001b[0m\u001b[1;33m\u001b[0m\u001b[0m\n\u001b[0;32m      3\u001b[0m \u001b[1;33m\u001b[0m\u001b[0m\n\u001b[1;32m----> 4\u001b[1;33m \u001b[1;32mwith\u001b[0m \u001b[0mopen\u001b[0m\u001b[1;33m(\u001b[0m\u001b[1;34m'/usr/share/dict/words'\u001b[0m\u001b[1;33m,\u001b[0m \u001b[1;34m'rt'\u001b[0m\u001b[1;33m)\u001b[0m \u001b[1;32mas\u001b[0m \u001b[0mf\u001b[0m\u001b[1;33m:\u001b[0m\u001b[1;33m\u001b[0m\u001b[1;33m\u001b[0m\u001b[0m\n\u001b[0m\u001b[0;32m      5\u001b[0m     \u001b[0mwords\u001b[0m \u001b[1;33m=\u001b[0m \u001b[0mf\u001b[0m\u001b[1;33m.\u001b[0m\u001b[0mreadlines\u001b[0m\u001b[1;33m(\u001b[0m\u001b[1;33m)\u001b[0m\u001b[1;33m\u001b[0m\u001b[1;33m\u001b[0m\u001b[0m\n\u001b[0;32m      6\u001b[0m \u001b[0mwords\u001b[0m \u001b[1;33m=\u001b[0m \u001b[1;33m[\u001b[0m\u001b[0mw\u001b[0m\u001b[1;33m.\u001b[0m\u001b[0mrstrip\u001b[0m\u001b[1;33m(\u001b[0m\u001b[1;33m)\u001b[0m \u001b[1;32mfor\u001b[0m \u001b[0mw\u001b[0m \u001b[1;32min\u001b[0m \u001b[0mwords\u001b[0m\u001b[1;33m]\u001b[0m\u001b[1;33m\u001b[0m\u001b[1;33m\u001b[0m\u001b[0m\n",
      "\u001b[1;31mFileNotFoundError\u001b[0m: [Errno 2] No such file or directory: '/usr/share/dict/words'"
     ]
    }
   ],
   "source": [
    "# 抽样, 没有这个文件的，大家可以随机写一个，包含多个单词的文件\n",
    "import random\n",
    "\n",
    "with open('/usr/share/dict/words', 'rt') as f:\n",
    "    words = f.readlines()\n",
    "words = [w.rstrip() for w in words]\n",
    "\n",
    "for w in random.sample(words, 5):\n",
    "    print(w)"
   ]
  },
  {
   "cell_type": "code",
   "execution_count": null,
   "metadata": {},
   "outputs": [],
   "source": [
    "# 系统随机\n",
    "import random\n",
    "import time\n",
    "\n",
    "print('Default initializiation:\\n')\n",
    "\n",
    "r1 = random.SystemRandom()\n",
    "r2 = random.SystemRandom()\n",
    "\n",
    "for i in range(3):\n",
    "    print('{:04.3f}  {:04.3f}'.format(r1.random(), r2.random()))\n",
    "\n",
    "print('\\nSame seed:\\n')\n",
    "\n",
    "seed = time.time()\n",
    "r1 = random.SystemRandom(seed)\n",
    "r2 = random.SystemRandom(seed)\n",
    "\n",
    "for i in range(3):\n",
    "    print('{:04.3f}  {:04.3f}'.format(r1.random(), r2.random()))"
   ]
  },
  {
   "attachments": {},
   "cell_type": "markdown",
   "metadata": {},
   "source": [
    "## Glob\n",
    "\n",
    "- glob的应用场景是要寻找一系列（符合特定规则）文件名。\n",
    "- glob模块是最简单的模块之一。用它可以查找符合特定规则的文件路径名。查找文件只用到三个匹配符:\n",
    " - \\* ? \\[\\]\n",
    " - \\*  匹配0个或多个字符；\n",
    " - ？ 匹配单个字符\n",
    " - \\[\\] 匹配指定范围内的字符 如：[0-9]匹配数字。"
   ]
  },
  {
   "cell_type": "code",
   "execution_count": 46,
   "metadata": {},
   "outputs": [
    {
     "name": "stdout",
     "output_type": "stream",
     "text": [
      "Lesson6\\arg1.py\n",
      "Lesson6\\doctest_blankline_fail.py\n",
      "Lesson6\\doctest_simple.py\n",
      "Lesson6\\doctest_simple_with_docs.py\n",
      "Lesson6\\file1.txt\n",
      "Lesson6\\file1.txt.copy\n",
      "Lesson6\\file11.txt\n",
      "Lesson6\\file2.txt\n",
      "Lesson6\\file3.txt\n",
      "Lesson6\\file4.txt\n",
      "Lesson6\\file5.txt\n",
      "Lesson6\\file6.txt\n",
      "Lesson6\\fileA.txt\n",
      "Lesson6\\logging_level.py\n",
      "Lesson6\\logging_module.py\n",
      "Lesson6\\subdir\n",
      "Lesson6\\unittest_expectedfailure.py\n",
      "Lesson6\\unittest_fixtures.py\n",
      "Lesson6\\unittest_outcomes.py\n",
      "Lesson6\\unittest_simple.py\n",
      "Lesson6\\unittest_skip.py\n"
     ]
    }
   ],
   "source": [
    "# 默认无序\n",
    "import glob\n",
    "for name in glob.glob('Lesson6/*'):\n",
    "    print(name)"
   ]
  },
  {
   "cell_type": "code",
   "execution_count": 47,
   "metadata": {},
   "outputs": [
    {
     "name": "stdout",
     "output_type": "stream",
     "text": [
      "Lesson6\\arg1.py\n",
      "Lesson6\\doctest_blankline_fail.py\n",
      "Lesson6\\doctest_simple.py\n",
      "Lesson6\\doctest_simple_with_docs.py\n",
      "Lesson6\\file1.txt\n",
      "Lesson6\\file1.txt.copy\n",
      "Lesson6\\file11.txt\n",
      "Lesson6\\file2.txt\n",
      "Lesson6\\file3.txt\n",
      "Lesson6\\file4.txt\n",
      "Lesson6\\file5.txt\n",
      "Lesson6\\file6.txt\n",
      "Lesson6\\fileA.txt\n",
      "Lesson6\\logging_level.py\n",
      "Lesson6\\logging_module.py\n",
      "Lesson6\\subdir\n",
      "Lesson6\\unittest_expectedfailure.py\n",
      "Lesson6\\unittest_fixtures.py\n",
      "Lesson6\\unittest_outcomes.py\n",
      "Lesson6\\unittest_simple.py\n",
      "Lesson6\\unittest_skip.py\n"
     ]
    }
   ],
   "source": [
    "import glob\n",
    "for name in sorted(glob.glob('Lesson6/*')):\n",
    "    print(name)"
   ]
  },
  {
   "cell_type": "code",
   "execution_count": 48,
   "metadata": {},
   "outputs": [
    {
     "name": "stdout",
     "output_type": "stream",
     "text": [
      "Named explicitly:\n",
      "  Lesson6/subdir\\subfile1.txt\n",
      "  Lesson6/subdir\\subfile2.txt\n",
      "Named with wildcard:\n",
      "  Lesson6\\subdir\\subfile1.txt\n",
      "  Lesson6\\subdir\\subfile2.txt\n"
     ]
    }
   ],
   "source": [
    "# 子文件夹，不会进行递归，需要写出路径\n",
    "import glob\n",
    "\n",
    "print('Named explicitly:')\n",
    "for name in sorted(glob.glob('Lesson6/subdir/*')):\n",
    "    print('  {}'.format(name))\n",
    "\n",
    "print('Named with wildcard:')\n",
    "for name in sorted(glob.glob('Lesson6/*/*')):\n",
    "    print('  {}'.format(name))"
   ]
  },
  {
   "cell_type": "code",
   "execution_count": 49,
   "metadata": {},
   "outputs": [
    {
     "name": "stdout",
     "output_type": "stream",
     "text": [
      "Lesson6\\file1.txt\n",
      "Lesson6\\file2.txt\n",
      "Lesson6\\file3.txt\n",
      "Lesson6\\file4.txt\n",
      "Lesson6\\file5.txt\n",
      "Lesson6\\file6.txt\n",
      "Lesson6\\fileA.txt\n"
     ]
    }
   ],
   "source": [
    "# 单字符\n",
    "import glob\n",
    "\n",
    "for name in sorted(glob.glob('Lesson6/file?.txt')):\n",
    "    print(name)"
   ]
  },
  {
   "cell_type": "code",
   "execution_count": 50,
   "metadata": {},
   "outputs": [
    {
     "name": "stdout",
     "output_type": "stream",
     "text": [
      "Lesson6\\file1.txt\n",
      "Lesson6\\file1.txt.copy\n",
      "Lesson6\\file2.txt\n",
      "Lesson6\\file3.txt\n",
      "Lesson6\\file4.txt\n",
      "Lesson6\\file5.txt\n",
      "Lesson6\\file6.txt\n"
     ]
    }
   ],
   "source": [
    "# 限制字符\n",
    "import glob\n",
    "for name in sorted(glob.glob('Lesson6/file[0-9].*')):\n",
    "    print(name)"
   ]
  },
  {
   "attachments": {},
   "cell_type": "markdown",
   "metadata": {},
   "source": [
    "## shutil\n",
    "- 文件移动，拷贝\n",
    "- 目标拷贝，删除，移动\n",
    "- 压缩文件\n",
    "- 解压文件\n",
    "- 查找文件\n",
    "- 文件系统空间"
   ]
  },
  {
   "cell_type": "code",
   "execution_count": 51,
   "metadata": {},
   "outputs": [
    {
     "name": "stdout",
     "output_type": "stream",
     "text": [
      "BEFORE: ['Lesson6\\\\file1.txt', 'Lesson6\\\\file1.txt.copy', 'Lesson6\\\\file11.txt', 'Lesson6\\\\file2.txt', 'Lesson6\\\\file3.txt', 'Lesson6\\\\file4.txt', 'Lesson6\\\\file5.txt', 'Lesson6\\\\file6.txt', 'Lesson6\\\\fileA.txt']\n"
     ]
    }
   ],
   "source": [
    "# 拷贝文件\n",
    "import glob\n",
    "import shutil\n",
    "\n",
    "print('BEFORE:', glob.glob('Lesson6/file*'))"
   ]
  },
  {
   "cell_type": "code",
   "execution_count": 52,
   "metadata": {},
   "outputs": [
    {
     "data": {
      "text/plain": [
       "'Lesson6/file1.txt.copy'"
      ]
     },
     "execution_count": 52,
     "metadata": {},
     "output_type": "execute_result"
    }
   ],
   "source": [
    "shutil.copyfile('Lesson6/file1.txt', 'Lesson6/file1.txt.copy')"
   ]
  },
  {
   "cell_type": "code",
   "execution_count": 53,
   "metadata": {},
   "outputs": [
    {
     "name": "stdout",
     "output_type": "stream",
     "text": [
      "AFTER: ['Lesson6\\\\file1.txt', 'Lesson6\\\\file1.txt.copy', 'Lesson6\\\\file11.txt', 'Lesson6\\\\file2.txt', 'Lesson6\\\\file3.txt', 'Lesson6\\\\file4.txt', 'Lesson6\\\\file5.txt', 'Lesson6\\\\file6.txt', 'Lesson6\\\\fileA.txt']\n"
     ]
    }
   ],
   "source": [
    "print('AFTER:', glob.glob('Lesson6/file*'))"
   ]
  },
  {
   "cell_type": "markdown",
   "metadata": {},
   "source": [
    "### 目录操作"
   ]
  },
  {
   "cell_type": "code",
   "execution_count": 54,
   "metadata": {},
   "outputs": [
    {
     "name": "stdout",
     "output_type": "stream",
     "text": [
      "BEFORE:\n",
      "['Lesson6\\\\arg1.py',\n",
      " 'Lesson6\\\\doctest_blankline_fail.py',\n",
      " 'Lesson6\\\\doctest_simple.py',\n",
      " 'Lesson6\\\\doctest_simple_with_docs.py',\n",
      " 'Lesson6\\\\file1.txt',\n",
      " 'Lesson6\\\\file1.txt.copy',\n",
      " 'Lesson6\\\\file11.txt',\n",
      " 'Lesson6\\\\file2.txt',\n",
      " 'Lesson6\\\\file3.txt',\n",
      " 'Lesson6\\\\file4.txt',\n",
      " 'Lesson6\\\\file5.txt',\n",
      " 'Lesson6\\\\file6.txt',\n",
      " 'Lesson6\\\\fileA.txt',\n",
      " 'Lesson6\\\\logging_level.py',\n",
      " 'Lesson6\\\\logging_module.py',\n",
      " 'Lesson6\\\\subdir',\n",
      " 'Lesson6\\\\unittest_expectedfailure.py',\n",
      " 'Lesson6\\\\unittest_fixtures.py',\n",
      " 'Lesson6\\\\unittest_outcomes.py',\n",
      " 'Lesson6\\\\unittest_simple.py',\n",
      " 'Lesson6\\\\unittest_skip.py']\n"
     ]
    }
   ],
   "source": [
    "# 目录操作\n",
    "import glob\n",
    "import pprint\n",
    "import shutil\n",
    "\n",
    "print('BEFORE:')\n",
    "pprint.pprint(glob.glob('Lesson6/*'))"
   ]
  },
  {
   "cell_type": "code",
   "execution_count": 55,
   "metadata": {},
   "outputs": [
    {
     "data": {
      "text/plain": [
       "'Lesson6/subdir_copy'"
      ]
     },
     "execution_count": 55,
     "metadata": {},
     "output_type": "execute_result"
    }
   ],
   "source": [
    "shutil.copytree('Lesson6/subdir', 'Lesson6/subdir_copy')"
   ]
  },
  {
   "cell_type": "code",
   "execution_count": 56,
   "metadata": {},
   "outputs": [
    {
     "name": "stdout",
     "output_type": "stream",
     "text": [
      "\n",
      "AFTER:\n",
      "['Lesson6\\\\subdir\\\\subfile1.txt',\n",
      " 'Lesson6\\\\subdir\\\\subfile2.txt',\n",
      " 'Lesson6\\\\subdir_copy\\\\subfile1.txt',\n",
      " 'Lesson6\\\\subdir_copy\\\\subfile2.txt']\n"
     ]
    }
   ],
   "source": [
    "print('\\nAFTER:')\n",
    "pprint.pprint(glob.glob('Lesson6/*/*'))"
   ]
  },
  {
   "cell_type": "code",
   "execution_count": 57,
   "metadata": {},
   "outputs": [],
   "source": [
    "# rm tree\n",
    "shutil.rmtree('Lesson6/subdir_copy')"
   ]
  },
  {
   "cell_type": "code",
   "execution_count": 58,
   "metadata": {
    "scrolled": true
   },
   "outputs": [
    {
     "name": "stdout",
     "output_type": "stream",
     "text": [
      "\n",
      "AFTER:\n",
      "['Lesson6\\\\subdir\\\\subfile1.txt', 'Lesson6\\\\subdir\\\\subfile2.txt']\n"
     ]
    }
   ],
   "source": [
    "print('\\nAFTER:')\n",
    "pprint.pprint(glob.glob('Lesson6/*/*'))"
   ]
  },
  {
   "cell_type": "markdown",
   "metadata": {},
   "source": [
    "### Move"
   ]
  },
  {
   "cell_type": "code",
   "execution_count": 59,
   "metadata": {},
   "outputs": [
    {
     "data": {
      "text/plain": [
       "'Lesson6/subdir_mv_test'"
      ]
     },
     "execution_count": 59,
     "metadata": {},
     "output_type": "execute_result"
    }
   ],
   "source": [
    "# mv\n",
    "shutil.copytree('Lesson6/subdir', 'Lesson6/subdir_mv_test')"
   ]
  },
  {
   "cell_type": "code",
   "execution_count": 60,
   "metadata": {},
   "outputs": [
    {
     "data": {
      "text/plain": [
       "'Lesson6/subdir_mv_out'"
      ]
     },
     "execution_count": 60,
     "metadata": {},
     "output_type": "execute_result"
    }
   ],
   "source": [
    "shutil.move('Lesson6/subdir_mv_test', 'Lesson6/subdir_mv_out')"
   ]
  },
  {
   "cell_type": "code",
   "execution_count": 61,
   "metadata": {},
   "outputs": [
    {
     "name": "stdout",
     "output_type": "stream",
     "text": [
      "\n",
      "AFTER:\n",
      "['Lesson6\\\\subdir\\\\subfile1.txt',\n",
      " 'Lesson6\\\\subdir\\\\subfile2.txt',\n",
      " 'Lesson6\\\\subdir_mv_out\\\\subfile1.txt',\n",
      " 'Lesson6\\\\subdir_mv_out\\\\subfile2.txt']\n"
     ]
    }
   ],
   "source": [
    "print('\\nAFTER:')\n",
    "pprint.pprint(glob.glob('Lesson6/*/*'))"
   ]
  },
  {
   "cell_type": "code",
   "execution_count": 62,
   "metadata": {},
   "outputs": [],
   "source": [
    "shutil.rmtree('Lesson6/subdir_mv_out')"
   ]
  },
  {
   "cell_type": "markdown",
   "metadata": {},
   "source": [
    "### 压缩文件夹"
   ]
  },
  {
   "cell_type": "code",
   "execution_count": null,
   "metadata": {},
   "outputs": [],
   "source": [
    "# pack\n",
    "import shutil\n",
    "\n",
    "for format, description in shutil.get_archive_formats():\n",
    "    print('{:<5}: {}'.format(format, description))"
   ]
  },
  {
   "cell_type": "code",
   "execution_count": null,
   "metadata": {},
   "outputs": [],
   "source": [
    "shutil.make_archive(\n",
    "    'example', 'zip',\n",
    "    root_dir='Lesson6/',\n",
    "    base_dir='subdir'\n",
    ")"
   ]
  },
  {
   "cell_type": "code",
   "execution_count": null,
   "metadata": {},
   "outputs": [],
   "source": [
    "# unpack\n",
    "import shutil\n",
    "\n",
    "for format, exts, description in shutil.get_unpack_formats():\n",
    "    print('{:<5}: {}, names ending in {}'.format(\n",
    "        format, description, exts))"
   ]
  },
  {
   "cell_type": "code",
   "execution_count": null,
   "metadata": {},
   "outputs": [],
   "source": [
    "# 调整zip文件的路径\n",
    "shutil.unpack_archive(\n",
    "        'example.zip',\n",
    "        extract_dir='tmp',\n",
    "    )"
   ]
  },
  {
   "cell_type": "markdown",
   "metadata": {},
   "source": [
    "### 系统空间"
   ]
  },
  {
   "cell_type": "code",
   "execution_count": 63,
   "metadata": {},
   "outputs": [
    {
     "name": "stdout",
     "output_type": "stream",
     "text": [
      "Total: 208.55 GB  194.22 GiB\n",
      "Used : 155.86 GB  145.16 GiB\n",
      "Free :  52.68 GB   49.06 GiB\n"
     ]
    }
   ],
   "source": [
    "import shutil\n",
    "\n",
    "total_b, used_b, free_b = shutil.disk_usage('.')\n",
    "\n",
    "gib = 2 ** 30  # GiB == gibibyte\n",
    "gb = 10 ** 9   # GB == gigabyte\n",
    "\n",
    "print('Total: {:6.2f} GB  {:6.2f} GiB'.format(\n",
    "    total_b / gb, total_b / gib))\n",
    "print('Used : {:6.2f} GB  {:6.2f} GiB'.format(\n",
    "    used_b / gb, used_b / gib))\n",
    "print('Free : {:6.2f} GB  {:6.2f} GiB'.format(\n",
    "    free_b / gb, free_b / gib))"
   ]
  },
  {
   "attachments": {},
   "cell_type": "markdown",
   "metadata": {},
   "source": [
    "## 加密算法Hashlib\n",
    "\n",
    "Python的hashlib提供了常见的摘要算法，如MD5,SHAI等等。它通过一个函数，把任意长度的数据转换为一个长度固定的数据串（通常用\n",
    "16进制的字符串表示）\n",
    "\n",
    "散列算法\n",
    "- md5\n",
    "- shal\n",
    "- sha224\n",
    "- sha256\n",
    "- sha384\n",
    "- sha512\n",
    "\n",
    "![](./res/Lesson6_Hashlib.jpg)"
   ]
  },
  {
   "cell_type": "code",
   "execution_count": 64,
   "metadata": {},
   "outputs": [
    {
     "name": "stdout",
     "output_type": "stream",
     "text": [
      "Guaranteed:\n",
      "blake2b, blake2s, md5, sha1, sha224, sha256, sha384, sha3_224, sha3_256, sha3_384, sha3_512, sha512, shake_128, shake_256\n",
      "\n",
      "Available:\n",
      "blake2b, blake2b512, blake2s, blake2s256, md4, md5, md5-sha1, mdc2, ripemd160, sha1, sha224, sha256, sha3-224, sha3-256, sha3-384, sha3-512, sha384, sha3_224, sha3_256, sha3_384, sha3_512, sha512, sha512-224, sha512-256, shake128, shake256, shake_128, shake_256, sm3, whirlpool\n"
     ]
    }
   ],
   "source": [
    "import hashlib\n",
    "\n",
    "\n",
    "print('Guaranteed:\\n{}\\n'.format(\n",
    "    ', '.join(sorted(hashlib.algorithms_guaranteed))))\n",
    "print('Available:\\n{}'.format(\n",
    "    ', '.join(sorted(hashlib.algorithms_available))))"
   ]
  },
  {
   "cell_type": "code",
   "execution_count": 65,
   "metadata": {},
   "outputs": [],
   "source": [
    "import hashlib\n",
    "\n",
    "lorem = '''China should offer more help to Africa as it develops and \n",
    "effectively synergize its own progress with its efforts in facilitating \n",
    "Africa's development, President Xi Jinping told visiting Namibian President \n",
    "Hage Geingob on Thursday.\n",
    "The goal is to further achieve mutual benefits and common development, \n",
    "particularly to boost the African nations' own capabilities to develop \n",
    "on an independent and sustained basis, Xi said in their talks on Thursday in Beijing.'''"
   ]
  },
  {
   "cell_type": "markdown",
   "metadata": {},
   "source": [
    "### MD5"
   ]
  },
  {
   "cell_type": "code",
   "execution_count": 66,
   "metadata": {},
   "outputs": [
    {
     "name": "stdout",
     "output_type": "stream",
     "text": [
      "0f2c16a0419b82b9c3ab31d8415012d6\n"
     ]
    }
   ],
   "source": [
    "import hashlib\n",
    "\n",
    "h = hashlib.md5()\n",
    "h.update(lorem.encode('utf-8'))\n",
    "print(h.hexdigest())"
   ]
  },
  {
   "cell_type": "markdown",
   "metadata": {},
   "source": [
    "### SHA1"
   ]
  },
  {
   "cell_type": "code",
   "execution_count": 67,
   "metadata": {},
   "outputs": [
    {
     "name": "stdout",
     "output_type": "stream",
     "text": [
      "c1cd2648812e7080e7aa02027ee1aaf91e05e0c7\n"
     ]
    }
   ],
   "source": [
    "import hashlib\n",
    "\n",
    "h = hashlib.sha1()\n",
    "h.update(lorem.encode('utf-8'))\n",
    "print(h.hexdigest())"
   ]
  },
  {
   "cell_type": "markdown",
   "metadata": {},
   "source": [
    "### create by string name"
   ]
  },
  {
   "cell_type": "code",
   "execution_count": 68,
   "metadata": {},
   "outputs": [
    {
     "name": "stdout",
     "output_type": "stream",
     "text": [
      "0f2c16a0419b82b9c3ab31d8415012d6\n"
     ]
    }
   ],
   "source": [
    "h = hashlib.new('md5')\n",
    "h.update(lorem.encode('utf-8'))\n",
    "print(h.hexdigest())"
   ]
  },
  {
   "cell_type": "code",
   "execution_count": 69,
   "metadata": {},
   "outputs": [
    {
     "name": "stdout",
     "output_type": "stream",
     "text": [
      "All at once : 0f2c16a0419b82b9c3ab31d8415012d6\n",
      "Line by line: 0f2c16a0419b82b9c3ab31d8415012d6\n",
      "Same        : True\n"
     ]
    }
   ],
   "source": [
    "# update\n",
    "\n",
    "import hashlib\n",
    "\n",
    "h = hashlib.md5()\n",
    "h.update(lorem.encode('utf-8'))\n",
    "all_at_once = h.hexdigest()\n",
    "\n",
    "\n",
    "def chunkize(size, text):\n",
    "    \"Return parts of the text in size-based increments.\"\n",
    "    start = 0\n",
    "    while start < len(text):\n",
    "        chunk = text[start:start + size]\n",
    "        yield chunk\n",
    "        start += size\n",
    "    return\n",
    "\n",
    "\n",
    "h = hashlib.md5()\n",
    "for chunk in chunkize(64, lorem.encode('utf-8')):\n",
    "    h.update(chunk)\n",
    "line_by_line = h.hexdigest()\n",
    "\n",
    "print('All at once :', all_at_once)\n",
    "print('Line by line:', line_by_line)\n",
    "print('Same        :', (all_at_once == line_by_line))"
   ]
  },
  {
   "attachments": {},
   "cell_type": "markdown",
   "metadata": {},
   "source": [
    "## SYS\n",
    "\n",
    "- sys模块包括一个用于在运行时追踪和更改解释器配置的服务集合，以及用于与当前程序之外的操作环境交互的资源\n",
    "- 编译器配置\n",
    " - 内置版本信息\n",
    "- 运行时环境\n",
    " - 命令行参数\n",
    " - 输入输出流\n",
    " - 返回状态\n",
    "- 内存管理\n",
    " - 引用计数\n",
    "- 追踪程序(Tracing)\n",
    " - 调用栈"
   ]
  },
  {
   "cell_type": "code",
   "execution_count": null,
   "metadata": {},
   "outputs": [],
   "source": [
    "import sys\n",
    "\n",
    "print('Version info:')\n",
    "print()\n",
    "print('sys.version      =', repr(sys.version))\n",
    "print('sys.version_info =', sys.version_info)\n",
    "print('sys.hexversion   =', hex(sys.hexversion))\n",
    "print('sys.api_version  =', sys.api_version)"
   ]
  },
  {
   "cell_type": "code",
   "execution_count": null,
   "metadata": {},
   "outputs": [],
   "source": [
    "import sys\n",
    "\n",
    "print('This interpreter was built for:', sys.platform)"
   ]
  },
  {
   "cell_type": "code",
   "execution_count": null,
   "metadata": {},
   "outputs": [],
   "source": [
    "import sys\n",
    "\n",
    "\n",
    "print('Name:', sys.implementation.name)\n",
    "print('Version:', sys.implementation.version)\n",
    "print('Cache tag:', sys.implementation.cache_tag)"
   ]
  },
  {
   "cell_type": "code",
   "execution_count": null,
   "metadata": {},
   "outputs": [],
   "source": [
    "import sys\n",
    "\n",
    "if sys.flags.bytes_warning:\n",
    "    print('Warning on bytes/str errors')\n",
    "if sys.flags.debug:\n",
    "    print('Debuging')\n",
    "if sys.flags.inspect:\n",
    "    print('Will enter interactive mode after running')\n",
    "if sys.flags.optimize:\n",
    "    print('Optimizing byte-code')\n",
    "if sys.flags.dont_write_bytecode:\n",
    "    print('Not writing byte-code files')\n",
    "if sys.flags.no_site:\n",
    "    print('Not importing \"site\"')\n",
    "if sys.flags.ignore_environment:\n",
    "    print('Ignoring environment')\n",
    "if sys.flags.verbose:\n",
    "    print('Verbose mode')"
   ]
  },
  {
   "cell_type": "markdown",
   "metadata": {},
   "source": [
    "### 运行时环境"
   ]
  },
  {
   "cell_type": "code",
   "execution_count": 70,
   "metadata": {},
   "outputs": [
    {
     "name": "stdout",
     "output_type": "stream",
     "text": [
      "Arguments: ['C:\\\\ProgramData\\\\Anaconda3\\\\lib\\\\site-packages\\\\ipykernel_launcher.py', '-f', 'C:\\\\Users\\\\likun\\\\AppData\\\\Roaming\\\\jupyter\\\\runtime\\\\kernel-891c9016-d2a1-4cf3-9e2d-951b56a36755.json']\n"
     ]
    }
   ],
   "source": [
    "import sys\n",
    "\n",
    "print('Arguments:', sys.argv)"
   ]
  },
  {
   "cell_type": "code",
   "execution_count": null,
   "metadata": {},
   "outputs": [],
   "source": [
    "import sys\n",
    "\n",
    "print('STATUS: Reading from stdin', file=sys.stderr)\n",
    "\n",
    "data = sys.stdin.read()\n",
    "\n",
    "print('STATUS: Writing data to stdout', file=sys.stderr)\n",
    "\n",
    "sys.stdout.write(data)\n",
    "sys.stdout.flush()\n",
    "\n",
    "print('STATUS: Done', file=sys.stderr)"
   ]
  },
  {
   "cell_type": "code",
   "execution_count": null,
   "metadata": {},
   "outputs": [],
   "source": [
    "import sys\n",
    "\n",
    "exit_code = 0\n",
    "sys.exit(exit_code)"
   ]
  },
  {
   "cell_type": "markdown",
   "metadata": {},
   "source": [
    "### 内存管理"
   ]
  },
  {
   "cell_type": "code",
   "execution_count": 72,
   "metadata": {},
   "outputs": [
    {
     "name": "stdout",
     "output_type": "stream",
     "text": [
      "At start         : 2\n",
      "Second reference : 3\n",
      "After del        : 2\n"
     ]
    }
   ],
   "source": [
    "import sys\n",
    "\n",
    "one = []\n",
    "print('At start         :', sys.getrefcount(one))\n",
    "\n",
    "two = one\n",
    "\n",
    "print('Second reference :', sys.getrefcount(one))\n",
    "\n",
    "del two\n",
    "\n",
    "print('After del        :', sys.getrefcount(one))"
   ]
  },
  {
   "cell_type": "code",
   "execution_count": 71,
   "metadata": {},
   "outputs": [
    {
     "name": "stdout",
     "output_type": "stream",
     "text": [
      "      list : 64\n",
      "     tuple : 48\n",
      "      dict : 240\n",
      "       str : 50\n",
      "       str : 55\n",
      "     bytes : 38\n",
      "       int : 28\n",
      "     float : 24\n"
     ]
    }
   ],
   "source": [
    "# 查看不同类型所占字节数\n",
    "import sys\n",
    "\n",
    "objects = [\n",
    "    [], (), {}, 'c', 'string', b'bytes', 1, 2.3\n",
    "]\n",
    "\n",
    "for obj in objects:\n",
    "    print('{:>10} : {}'.format(type(obj).__name__,\n",
    "                               sys.getsizeof(obj)))"
   ]
  },
  {
   "cell_type": "markdown",
   "metadata": {},
   "source": [
    "### 调用栈"
   ]
  },
  {
   "cell_type": "code",
   "execution_count": null,
   "metadata": {},
   "outputs": [],
   "source": [
    "import sys\n",
    "\n",
    "\n",
    "def trace_calls(frame, event, arg):\n",
    "    if event != 'call':\n",
    "        return\n",
    "    co = frame.f_code\n",
    "    func_name = co.co_name\n",
    "    if func_name == 'write':\n",
    "        # Ignore write() calls from printing\n",
    "        return\n",
    "    func_line_no = frame.f_lineno\n",
    "    func_filename = co.co_filename\n",
    "    if not func_filename.endswith('sys_settrace_call.py'):\n",
    "        # Ignore calls not in this module\n",
    "        return\n",
    "    caller = frame.f_back\n",
    "    caller_line_no = caller.f_lineno\n",
    "    caller_filename = caller.f_code.co_filename\n",
    "    print('* Call to', func_name)\n",
    "    print('*  on line {} of {}'.format(\n",
    "        func_line_no, func_filename))\n",
    "    print('*  from line {} of {}'.format(\n",
    "        caller_line_no, caller_filename))\n",
    "    return\n",
    "\n",
    "\n",
    "def b():\n",
    "    print('inside b()\\n')\n",
    "\n",
    "\n",
    "def a():\n",
    "    print('inside a()\\n')\n",
    "    b()\n",
    "\n",
    "\n",
    "sys.settrace(trace_calls)\n",
    "a()"
   ]
  },
  {
   "cell_type": "code",
   "execution_count": null,
   "metadata": {},
   "outputs": [],
   "source": [
    "import functools\n",
    "import sys\n",
    "\n",
    "\n",
    "def trace_lines(frame, event, arg):\n",
    "    if event != 'line':\n",
    "        return\n",
    "    co = frame.f_code\n",
    "    func_name = co.co_name\n",
    "    line_no = frame.f_lineno\n",
    "    print('*  {} line {}'.format(func_name, line_no))\n",
    "\n",
    "\n",
    "def trace_calls(frame, event, arg, to_be_traced):\n",
    "    if event != 'call':\n",
    "        return\n",
    "    co = frame.f_code\n",
    "    func_name = co.co_name\n",
    "    if func_name == 'write':\n",
    "        # Ignore write() calls from printing\n",
    "        return\n",
    "    line_no = frame.f_lineno\n",
    "    filename = co.co_filename\n",
    "    if not filename.endswith('sys_settrace_line.py'):\n",
    "        # Ignore calls not in this module\n",
    "        return\n",
    "    print('* Call to {} on line {} of {}'.format(\n",
    "        func_name, line_no, filename))\n",
    "    if func_name in to_be_traced:\n",
    "        # Trace into this function\n",
    "        return trace_lines\n",
    "    return\n",
    "\n",
    "\n",
    "def c(input):\n",
    "    print('input =', input)\n",
    "    print('Leaving c()')\n",
    "\n",
    "\n",
    "def b(arg):\n",
    "    val = arg * 5\n",
    "    c(val)\n",
    "    print('Leaving b()')\n",
    "\n",
    "\n",
    "def a():\n",
    "    b(2)\n",
    "    print('Leaving a()')\n",
    "\n",
    "\n",
    "tracer = functools.partial(trace_calls, to_be_traced=['b'])\n",
    "sys.settrace(tracer)\n",
    "a()"
   ]
  },
  {
   "attachments": {},
   "cell_type": "markdown",
   "metadata": {},
   "source": [
    "## OS 模块\n",
    "\n",
    "os模块提供了针对特定于平台的模块的包装器，如posix、nt和maco所有平台上可用的函数的API应该是相同的，因此用os模块提供了一些可移植性的接囗。然而，并非所有的功能都可以在每个平台上使用。部分管理功能在Windows中是不可用的。\n",
    "- 查看文件系统\n",
    "- 管理文件系统权限\n",
    "- 创建以及删除目录\n",
    "- 删除以及替换文件\n",
    "- 管理进程环境\n",
    "- 执行外部命令"
   ]
  },
  {
   "cell_type": "code",
   "execution_count": 73,
   "metadata": {},
   "outputs": [
    {
     "name": "stdout",
     "output_type": "stream",
     "text": [
      "['.ipynb_checkpoints', 'Lesson1.ipynb', 'Lesson6', 'Lesson6.ipynb', 'data', 'lesson2.ipynb', 'lesson3.ipynb', 'lesson4.ipynb', 'lesson5.ipynb', 'res', 'state.dat', 'test.ipynb']\n"
     ]
    }
   ],
   "source": [
    "import os\n",
    "import sys\n",
    "\n",
    "# 查看当前目录\n",
    "print(sorted(os.listdir('.')))"
   ]
  },
  {
   "cell_type": "code",
   "execution_count": 74,
   "metadata": {},
   "outputs": [
    {
     "name": "stdout",
     "output_type": "stream",
     "text": [
      ".\n",
      "  .ipynb_checkpoints/\n",
      "  Lesson1.ipynb\n",
      "  Lesson6.ipynb\n",
      "  Lesson6/\n",
      "  data/\n",
      "  lesson2.ipynb\n",
      "  lesson3.ipynb\n",
      "  lesson4.ipynb\n",
      "  lesson5.ipynb\n",
      "  res/\n",
      "  state.dat\n",
      "  test.ipynb\n",
      "\n",
      ".\\.ipynb_checkpoints\n",
      "  Lesson1-checkpoint.ipynb\n",
      "  Lesson6-checkpoint.ipynb\n",
      "  lesson2-checkpoint.ipynb\n",
      "  lesson3-checkpoint.ipynb\n",
      "  lesson4-checkpoint.ipynb\n",
      "  lesson5-checkpoint.ipynb\n",
      "  test-checkpoint.ipynb\n",
      "\n",
      ".\\data\n",
      "  2.txt\n",
      "  a1.txt\n",
      "  example.jpeg\n",
      "  example.txt\n",
      "  example_code.py\n",
      "  example_out.txt\n",
      "  json.txt\n",
      "  pickle.txt\n",
      "  pickle_dict_func.txt\n",
      "  seralize.txt\n",
      "  test.txt\n",
      "\n",
      ".\\Lesson6\n",
      "  arg1.py\n",
      "  doctest_blankline_fail.py\n",
      "  doctest_simple.py\n",
      "  doctest_simple_with_docs.py\n",
      "  file1.txt\n",
      "  file1.txt.copy\n",
      "  file11.txt\n",
      "  file2.txt\n",
      "  file3.txt\n",
      "  file4.txt\n",
      "  file5.txt\n",
      "  file6.txt\n",
      "  fileA.txt\n",
      "  logging_level.py\n",
      "  logging_module.py\n",
      "  subdir/\n",
      "  unittest_expectedfailure.py\n",
      "  unittest_fixtures.py\n",
      "  unittest_outcomes.py\n",
      "  unittest_simple.py\n",
      "  unittest_skip.py\n",
      "\n",
      ".\\Lesson6\\subdir\n",
      "  subfile1.txt\n",
      "  subfile2.txt\n",
      "\n",
      ".\\res\n",
      "  Functional_programming.jpg\n",
      "  Lessen5_exe_print.jpg\n",
      "  Lesson2_map.jpg\n",
      "  Lesson2_zip.jpg\n",
      "  Lesson3_module.jpg\n",
      "  Lesson3_package_eg.jpg\n",
      "  Lesson3_three_module.jpg\n",
      "  Lesson4_iterator.jpg\n",
      "  Lesson6_Hashlib.jpg\n",
      "  def_function.jpg\n",
      "  namespace_LEGB.jpg\n",
      "  openfile.jpg\n",
      "\n"
     ]
    }
   ],
   "source": [
    "#查看所有目录，包括文件和子目录\n",
    "import os\n",
    "import sys\n",
    "\n",
    "root = '.'\n",
    "\n",
    "for dir_name, sub_dirs, files in os.walk(root):\n",
    "    print(dir_name)\n",
    "    # Make the subdirectory names stand out with /\n",
    "    sub_dirs = [n + '/' for n in sub_dirs]\n",
    "    # Mix the directory contents together\n",
    "    contents = sub_dirs + files\n",
    "    contents.sort()\n",
    "    # Show the contents\n",
    "    for c in contents:\n",
    "        print('  {}'.format(c))\n",
    "    print()"
   ]
  },
  {
   "cell_type": "code",
   "execution_count": 75,
   "metadata": {},
   "outputs": [
    {
     "name": "stdout",
     "output_type": "stream",
     "text": [
      ".ipynb_checkpoints dir\n",
      "data dir\n",
      "Lesson1.ipynb file\n",
      "lesson2.ipynb file\n",
      "lesson3.ipynb file\n",
      "lesson4.ipynb file\n",
      "lesson5.ipynb file\n",
      "Lesson6 dir\n",
      "Lesson6.ipynb file\n",
      "res dir\n",
      "state.dat file\n",
      "test.ipynb file\n"
     ]
    }
   ],
   "source": [
    "# 判断文件或者目录\n",
    "import os\n",
    "import sys\n",
    "\n",
    "for entry in os.scandir('.'):\n",
    "    if entry.is_dir():\n",
    "        typ = 'dir'\n",
    "    elif entry.is_file():\n",
    "        typ = 'file'\n",
    "    elif entry.is_symlink():\n",
    "        typ = 'link'\n",
    "    else:\n",
    "        typ = 'unknown'\n",
    "    print('{name} {typ}'.format(\n",
    "        name=entry.name,\n",
    "        typ=typ,\n",
    "    ))"
   ]
  },
  {
   "cell_type": "code",
   "execution_count": 76,
   "metadata": {},
   "outputs": [
    {
     "name": "stdout",
     "output_type": "stream",
     "text": [
      "os.stat(Lesson6):\n",
      "  Size: 4096\n",
      "  Permissions: 0o40777\n",
      "  Owner: 0\n",
      "  Device: 3524748848\n",
      "  Created      : Sun Jun 16 10:53:38 2019\n",
      "  Last modified: Sun Jun 16 13:05:07 2019\n",
      "  Last accessed: Sun Jun 16 13:05:08 2019\n"
     ]
    }
   ],
   "source": [
    "### 文件系统权限\n",
    "import os\n",
    "import sys\n",
    "import time\n",
    "\n",
    "filename = 'Lesson6'\n",
    "\n",
    "stat_info = os.stat(filename)\n",
    "\n",
    "print('os.stat({}):'.format(filename))\n",
    "print('  Size:', stat_info.st_size)\n",
    "print('  Permissions:', oct(stat_info.st_mode))\n",
    "print('  Owner:', stat_info.st_uid)\n",
    "print('  Device:', stat_info.st_dev)\n",
    "print('  Created      :', time.ctime(stat_info.st_ctime))\n",
    "print('  Last modified:', time.ctime(stat_info.st_mtime))\n",
    "print('  Last accessed:', time.ctime(stat_info.st_atime))\n"
   ]
  },
  {
   "cell_type": "code",
   "execution_count": null,
   "metadata": {},
   "outputs": [],
   "source": [
    "# 目录操作\n",
    "import os\n",
    "\n",
    "dir_name = 'os_directories_example'\n",
    "\n",
    "print('Creating', dir_name)\n",
    "os.makedirs(dir_name)\n",
    "\n",
    "file_name = os.path.join(dir_name, 'example.txt')\n",
    "print('Creating', file_name)\n",
    "with open(file_name, 'wt') as f:\n",
    "    f.write('example file')\n",
    "\n",
    "print('Cleaning up')\n",
    "os.unlink(file_name)\n",
    "os.rmdir(dir_name)"
   ]
  },
  {
   "cell_type": "code",
   "execution_count": 77,
   "metadata": {},
   "outputs": [
    {
     "name": "stdout",
     "output_type": "stream",
     "text": [
      "Initial value: None\n",
      "Child process:\n",
      "\n",
      "Changed value: THIS VALUE WAS CHANGED\n",
      "Child process:\n",
      "\n",
      "Removed value: None\n",
      "Child process:\n"
     ]
    },
    {
     "data": {
      "text/plain": [
       "0"
      ]
     },
     "execution_count": 77,
     "metadata": {},
     "output_type": "execute_result"
    }
   ],
   "source": [
    "# 管理进程环境\n",
    "\n",
    "import os\n",
    "\n",
    "print('Initial value:', os.environ.get('TESTVAR', None))\n",
    "print('Child process:')\n",
    "os.system('echo $TESTVAR')\n",
    "\n",
    "os.environ['TESTVAR'] = 'THIS VALUE WAS CHANGED'\n",
    "\n",
    "print()\n",
    "print('Changed value:', os.environ['TESTVAR'])\n",
    "print('Child process:')\n",
    "os.system('echo $TESTVAR')\n",
    "\n",
    "del os.environ['TESTVAR']\n",
    "\n",
    "print()\n",
    "print('Removed value:', os.environ.get('TESTVAR', None))\n",
    "print('Child process:')\n",
    "os.system('echo $TESTVAR')"
   ]
  },
  {
   "cell_type": "code",
   "execution_count": 78,
   "metadata": {},
   "outputs": [
    {
     "name": "stdout",
     "output_type": "stream",
     "text": [
      "Starting: C:\\Users\\likun\\OneDrive\\桌面\\Python\\code\n",
      "Moving up one: ..\n",
      "After move: C:\\Users\\likun\\OneDrive\\桌面\\Python\n"
     ]
    }
   ],
   "source": [
    "import os\n",
    "\n",
    "print('Starting:', os.getcwd())\n",
    "\n",
    "print('Moving up one:', os.pardir)\n",
    "os.chdir(os.pardir)\n",
    "\n",
    "print('After move:', os.getcwd())"
   ]
  },
  {
   "cell_type": "code",
   "execution_count": null,
   "metadata": {},
   "outputs": [],
   "source": [
    "# 执行外部命令\n",
    "\n",
    "import os\n",
    "\n",
    "# Simple command\n",
    "os.system('pwd')"
   ]
  },
  {
   "cell_type": "code",
   "execution_count": null,
   "metadata": {},
   "outputs": [],
   "source": [
    "import os\n",
    "\n",
    "# Command with shell expansion\n",
    "os.system('echo $TMPDIR')"
   ]
  },
  {
   "cell_type": "code",
   "execution_count": null,
   "metadata": {},
   "outputs": [],
   "source": [
    "import os\n",
    "import time\n",
    "\n",
    "print('Calling...')\n",
    "os.system('date; (sleep 3; date) &')\n",
    "\n",
    "print('Sleeping...')\n",
    "time.sleep(5)"
   ]
  },
  {
   "cell_type": "markdown",
   "metadata": {},
   "source": [
    "## argparse \n",
    "Command-Line Option and Argument Parsing\n",
    "\n",
    "用于构建命令行参数和选项处理器工具\n",
    "\n",
    "- 使用方法：\n",
    " - 创建命令行参数解析器\n",
    " - 参数定义\n",
    " - 解析一个命令"
   ]
  },
  {
   "cell_type": "code",
   "execution_count": null,
   "metadata": {},
   "outputs": [],
   "source": [
    "# 创建\n",
    "import argparse\n",
    "parser = argparse.ArgumentParser(\n",
    "    description='This is a sample program',\n",
    ")"
   ]
  },
  {
   "cell_type": "code",
   "execution_count": 79,
   "metadata": {},
   "outputs": [
    {
     "name": "stdout",
     "output_type": "stream",
     "text": [
      "Namespace(a=True, b='val', c=3)\n"
     ]
    }
   ],
   "source": [
    "import argparse\n",
    "\n",
    "parser = argparse.ArgumentParser(description='Short sample app')\n",
    "\n",
    "parser.add_argument('-a', action=\"store_true\", default=False)\n",
    "parser.add_argument('-b', action=\"store\", dest=\"b\")\n",
    "parser.add_argument('-c', action=\"store\", dest=\"c\", type=int)\n",
    "\n",
    "print(parser.parse_args(['-a', '-bval', '-c', '3']))"
   ]
  },
  {
   "cell_type": "code",
   "execution_count": null,
   "metadata": {},
   "outputs": [],
   "source": [
    "import argparse\n",
    "\n",
    "parser = argparse.ArgumentParser(\n",
    "    description='Example with long option names',\n",
    ")\n",
    "\n",
    "parser.add_argument('--noarg', action=\"store_true\",\n",
    "                    default=False)\n",
    "parser.add_argument('--witharg', action=\"store\",\n",
    "                    dest=\"witharg\")\n",
    "parser.add_argument('--witharg2', action=\"store\",\n",
    "                    dest=\"witharg2\", type=int)\n",
    "\n",
    "print(\n",
    "    parser.parse_args(\n",
    "        ['--noarg', '--witharg', 'val', '--witharg2=3']\n",
    "    )\n",
    ")"
   ]
  },
  {
   "cell_type": "code",
   "execution_count": null,
   "metadata": {},
   "outputs": [],
   "source": [
    "# restart kernel\n",
    "%%bash\n",
    "python3 Lesson6/arg1.py -s simple"
   ]
  },
  {
   "cell_type": "markdown",
   "metadata": {},
   "source": [
    "## Logging"
   ]
  },
  {
   "cell_type": "code",
   "execution_count": null,
   "metadata": {},
   "outputs": [],
   "source": [
    "# to file\n",
    "import logging\n",
    "\n",
    "LOG_FILENAME = 'logging_example.out'\n",
    "logging.basicConfig(\n",
    "    filename=LOG_FILENAME,\n",
    "    level=logging.DEBUG,\n",
    ")\n",
    "\n",
    "logging.debug('This message should go to the log file')\n",
    "\n",
    "with open(LOG_FILENAME, 'rt') as f:\n",
    "    body = f.read()\n",
    "\n",
    "print('FILE:')\n",
    "print(body)"
   ]
  },
  {
   "cell_type": "code",
   "execution_count": null,
   "metadata": {},
   "outputs": [],
   "source": [
    "# rotate\n",
    "import glob\n",
    "import logging\n",
    "import logging.handlers\n",
    "\n",
    "LOG_FILENAME = 'logging_rotatingfile_example.out'\n",
    "\n",
    "# Set up a specific logger with our desired output level\n",
    "my_logger = logging.getLogger('MyLogger')\n",
    "my_logger.setLevel(logging.DEBUG)\n",
    "\n",
    "# Add the log message handler to the logger\n",
    "handler = logging.handlers.RotatingFileHandler(\n",
    "    LOG_FILENAME,\n",
    "    maxBytes=20,\n",
    "    backupCount=5,\n",
    ")\n",
    "my_logger.addHandler(handler)\n",
    "\n",
    "# Log some messages\n",
    "for i in range(20):\n",
    "    my_logger.debug('i = %d' % i)\n",
    "\n",
    "# See what files are created\n",
    "logfiles = glob.glob('%s*' % LOG_FILENAME)\n",
    "for filename in sorted(logfiles):\n",
    "    print(filename)"
   ]
  },
  {
   "cell_type": "code",
   "execution_count": null,
   "metadata": {},
   "outputs": [],
   "source": [
    "# verbose level"
   ]
  },
  {
   "cell_type": "code",
   "execution_count": null,
   "metadata": {},
   "outputs": [],
   "source": [
    "%%bash\n",
    "python3 Lesson6/logging_level.py debug"
   ]
  },
  {
   "cell_type": "code",
   "execution_count": null,
   "metadata": {},
   "outputs": [],
   "source": [
    "%%bash\n",
    "python3 Lesson6/logging_module.py"
   ]
  },
  {
   "cell_type": "markdown",
   "metadata": {},
   "source": [
    "## 开发测试"
   ]
  },
  {
   "cell_type": "code",
   "execution_count": null,
   "metadata": {},
   "outputs": [],
   "source": [
    "def my_function(a, b):\n",
    "    \"\"\"\n",
    "    >>> my_function(2, 3)\n",
    "    6\n",
    "    >>> my_function('a', 3)\n",
    "    'aaa'\n",
    "    \"\"\"\n",
    "    return a * b"
   ]
  },
  {
   "cell_type": "code",
   "execution_count": 80,
   "metadata": {},
   "outputs": [
    {
     "name": "stdout",
     "output_type": "stream",
     "text": [
      "Couldn't find program: 'bash'\n"
     ]
    }
   ],
   "source": [
    "%%bash\n",
    "python3 -m doctest -v Lesson6/doctest_simple.py"
   ]
  },
  {
   "cell_type": "code",
   "execution_count": null,
   "metadata": {},
   "outputs": [],
   "source": [
    "%%bash\n",
    "python3 -m doctest -v Lesson6/doctest_simple_with_docs.py"
   ]
  },
  {
   "cell_type": "code",
   "execution_count": null,
   "metadata": {},
   "outputs": [],
   "source": [
    "%%bash\n",
    "python3 -m doctest -v Lesson6/doctest_blankline_fail.py"
   ]
  },
  {
   "cell_type": "markdown",
   "metadata": {},
   "source": [
    "### module test"
   ]
  },
  {
   "cell_type": "code",
   "execution_count": null,
   "metadata": {},
   "outputs": [],
   "source": [
    "def my_function(a, b):\n",
    "    \"\"\"\n",
    "    >>> my_function(2, 3)\n",
    "    6\n",
    "    >>> my_function('a', 3)\n",
    "    'aaa'\n",
    "    \"\"\"\n",
    "    return a * b\n",
    "\n",
    "import doctest\n",
    "doctest.testmod()"
   ]
  },
  {
   "cell_type": "markdown",
   "metadata": {},
   "source": [
    "## UnitTests"
   ]
  },
  {
   "cell_type": "code",
   "execution_count": null,
   "metadata": {},
   "outputs": [],
   "source": [
    "%%bash\n",
    "python3 -m unittest -v Lesson6/unittest_simple.py"
   ]
  },
  {
   "cell_type": "code",
   "execution_count": null,
   "metadata": {},
   "outputs": [],
   "source": [
    "%%bash\n",
    "python3 -m unittest -v Lesson6/unittest_outcomes.py"
   ]
  },
  {
   "cell_type": "code",
   "execution_count": null,
   "metadata": {},
   "outputs": [],
   "source": [
    "%%bash\n",
    "python3 -u -m unittest -v Lesson6/unittest_fixtures.py"
   ]
  },
  {
   "cell_type": "code",
   "execution_count": null,
   "metadata": {},
   "outputs": [],
   "source": [
    "%%bash\n",
    "python3 -m unittest -v Lesson6/unittest_skip.py"
   ]
  },
  {
   "cell_type": "code",
   "execution_count": null,
   "metadata": {},
   "outputs": [],
   "source": [
    "%%bash\n",
    "python3 -m unittest -v Lesson6/unittest_expectedfailure.py"
   ]
  }
 ],
 "metadata": {
  "kernelspec": {
   "display_name": "Python 3",
   "language": "python",
   "name": "python3"
  },
  "language_info": {
   "codemirror_mode": {
    "name": "ipython",
    "version": 3
   },
   "file_extension": ".py",
   "mimetype": "text/x-python",
   "name": "python",
   "nbconvert_exporter": "python",
   "pygments_lexer": "ipython3",
   "version": "3.7.3"
  },
  "toc": {
   "base_numbering": 1,
   "nav_menu": {},
   "number_sections": true,
   "sideBar": true,
   "skip_h1_title": false,
   "title_cell": "Table of Contents",
   "title_sidebar": "Contents",
   "toc_cell": false,
   "toc_position": {
    "height": "calc(100% - 180px)",
    "left": "10px",
    "top": "150px",
    "width": "235.4px"
   },
   "toc_section_display": true,
   "toc_window_display": true
  }
 },
 "nbformat": 4,
 "nbformat_minor": 2
}
