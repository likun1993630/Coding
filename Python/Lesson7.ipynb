{
 "cells": [
  {
   "cell_type": "markdown",
   "metadata": {},
   "source": [
    "# 面向对象 OOP\n",
    "\n",
    "- 面向过程：根据业务逻辑从上到下写垒代码\n",
    "- 函数式：将某功能代码封装到函数中，日后便无需重复编写，仅调用函数即可。\n",
    "- 面向对象：对函数进行分类和封装，让开发“更快更好更强”\n",
    "\n",
    "例子：\n",
    "![](./res/Lesson7_class_object_exe.jpg)\n"
   ]
  },
  {
   "cell_type": "markdown",
   "metadata": {},
   "source": [
    "# 类和对象\n",
    "\n",
    "> 以对象为核心，而对象是程序运行时刻的基本成分\n",
    "\n",
    "![](./res/Lesson7_carclass_exe.jpg)"
   ]
  },
  {
   "cell_type": "markdown",
   "metadata": {},
   "source": [
    "# 类\n",
    "\n",
    "创建一个完整的类\n",
    "\n",
    "创建类\n",
    "```python\n",
    "class ClassName:\n",
    "    #定义属性和方法\n",
    "    <statement-1>\n",
    "    <statement-N>\n",
    "```\n",
    "> ClassName 类名首字母通常大写\n",
    "\n",
    "\n",
    "- 类对象：默认行为，是实例对象的工厂\n",
    " - 执行时产生类对象，并值给class后的变量<className>\n",
    " - 类内的值语句会创建类的属性\n",
    " - 类属性提供对象的状态和行为\n",
    "- 实例对象：程序处理的实际对象\n",
    " - 如何创建实例对象\n",
    " - **每个实例对象继承了属性并且在自己的命名空间**\n",
    " - 方法内self属性值会产生实例自己的属性\n",
    "  - self就是一个实例（准确说是实例的引用变量）"
   ]
  },
  {
   "cell_type": "code",
   "execution_count": null,
   "metadata": {},
   "outputs": [],
   "source": [
    "class Person:\n",
    "    \"\"\"\n",
    "    person defined\n",
    "    \"\"\"\n",
    "    def setname(self, name):\n",
    "        \"\"\"\n",
    "        set person name\n",
    "        \"\"\"\n",
    "        self.name = name\n",
    "\n",
    "    def show(self):\n",
    "        \"\"\"\n",
    "        show person name\n",
    "        \"\"\"\n",
    "        print(self.name)\n",
    "\n",
    "# self 与 实例对应"
   ]
  },
  {
   "cell_type": "markdown",
   "metadata": {},
   "source": [
    "## 类对象"
   ]
  },
  {
   "cell_type": "code",
   "execution_count": null,
   "metadata": {},
   "outputs": [],
   "source": [
    "# 执行时产生类对象，并赋值给class后的变量\n",
    "class A:\n",
    "    \"\"\"\n",
    "    class A here\n",
    "    \"\"\"\n",
    "    pass\n",
    "\n",
    "A"
   ]
  },
  {
   "cell_type": "code",
   "execution_count": null,
   "metadata": {},
   "outputs": [],
   "source": [
    "# 类内的赋值语句会创建类的属性\n",
    "# 类属性提供对象的状态和行为\n",
    "class B:\n",
    "    x = 10\n",
    "    \n",
    "    def getname(self):\n",
    "        print(id(self), type(self))\n",
    "    \n",
    "print(B.x)\n",
    "print(B.getname)"
   ]
  },
  {
   "cell_type": "markdown",
   "metadata": {},
   "source": [
    "## 实例对象"
   ]
  },
  {
   "cell_type": "code",
   "execution_count": null,
   "metadata": {},
   "outputs": [],
   "source": [
    "a = A()\n",
    "print(a)"
   ]
  },
  {
   "cell_type": "code",
   "execution_count": null,
   "metadata": {},
   "outputs": [],
   "source": [
    "b = B()\n",
    "print(id(b))\n",
    "b.getname()"
   ]
  },
  {
   "cell_type": "code",
   "execution_count": null,
   "metadata": {},
   "outputs": [],
   "source": [
    "# 查看对象的属性\n",
    "dir(a)"
   ]
  },
  {
   "cell_type": "code",
   "execution_count": null,
   "metadata": {},
   "outputs": [],
   "source": [
    "print(A.__doc__)"
   ]
  },
  {
   "cell_type": "code",
   "execution_count": null,
   "metadata": {},
   "outputs": [],
   "source": [
    "c = B()"
   ]
  },
  {
   "cell_type": "code",
   "execution_count": null,
   "metadata": {},
   "outputs": [],
   "source": [
    "print(c)"
   ]
  },
  {
   "cell_type": "markdown",
   "metadata": {},
   "source": [
    "# 重载\n",
    "\n",
    "- 方法都是以双下划线开头和结尾的，类似于`__X__`的形式，python通过这种 特殊的命名方式来拦截操作符，以实现重载。当Python的内置操作运用于类对象时，Python会去搜索并调用对象中指定的方法完成操作。\n",
    "- 类可以重载加减运算、打印、函数调用、索引等内置运算，运算符重载使我 们的对象的行为与内置对象的一样。Python在调用操作符时会自动调用这样的方法。"
   ]
  },
  {
   "cell_type": "markdown",
   "metadata": {},
   "source": [
    "## 运算符重载 - 构造函数\n",
    "\n",
    "语法：\n",
    "```python\n",
    "def __init__(self,*args):\n",
    "    pass\n",
    "```\n",
    "- `__init__` 构造函数（constructor）\n",
    " - 具有初始化的作用，也就是当该类被实例化的时候就会被执行\n",
    " - 可以把先要初始化的属性放到这个函数里面"
   ]
  },
  {
   "cell_type": "code",
   "execution_count": null,
   "metadata": {},
   "outputs": [],
   "source": [
    "class Person:\n",
    "    \"\"\"\n",
    "    person defined\n",
    "    __new__\n",
    "    __init__\n",
    "    \"\"\"\n",
    "        \n",
    "    def __init__(self, name, age):\n",
    "        self.name = name\n",
    "        self.age = age\n",
    "        print('constructor is called:',self.name)\n",
    "    \n",
    "    def setname(self, name):\n",
    "        \"\"\"\n",
    "        set person name\n",
    "        \"\"\"\n",
    "        self.name = name\n",
    "\n",
    "    def show(self):\n",
    "        \"\"\"\n",
    "        show person name\n",
    "        \"\"\"\n",
    "        print(self.name)"
   ]
  },
  {
   "cell_type": "code",
   "execution_count": null,
   "metadata": {},
   "outputs": [],
   "source": [
    "# 这里实例化需要两个参数\n",
    "pp = Person()"
   ]
  },
  {
   "cell_type": "code",
   "execution_count": null,
   "metadata": {},
   "outputs": [],
   "source": [
    "p1 = Person(\"joe\", 20)"
   ]
  },
  {
   "cell_type": "code",
   "execution_count": null,
   "metadata": {},
   "outputs": [],
   "source": [
    "p2 = Person(\"kate\", 19)"
   ]
  },
  {
   "cell_type": "code",
   "execution_count": null,
   "metadata": {},
   "outputs": [],
   "source": [
    "p1 == p2"
   ]
  },
  {
   "cell_type": "code",
   "execution_count": null,
   "metadata": {},
   "outputs": [],
   "source": [
    "# 与函数参数一致\n",
    "p3 = Person(age=19, name=\"jack\")"
   ]
  },
  {
   "cell_type": "markdown",
   "metadata": {},
   "source": [
    "## 运算符重载 - 析构函数\n",
    "\n",
    "\n",
    "语法：\n",
    "```python\n",
    "def __del__(self):\n",
    "    <statement>\n",
    "```\n",
    "\n",
    "- `__del__`析构函数\n",
    " - 使用del删除对象时，会调用它本身的析构函数\n",
    " - 当对象在某作用域中调用完毕，会被调用一次\n",
    " - 在跳出其作用域的同时析构函数也会被调用一次，这样可以用来释放内存空间\n",
    " "
   ]
  },
  {
   "cell_type": "code",
   "execution_count": null,
   "metadata": {},
   "outputs": [],
   "source": [
    "class Person:\n",
    "    \"\"\"\n",
    "    person defined\n",
    "    \"\"\"\n",
    "    def __del__(self):\n",
    "        print('destructor is called')\n",
    "\n",
    "    # 默认参数\n",
    "    def __init__(self, name=\"a\", age=20):\n",
    "        self.name = name\n",
    "        self.age = age\n",
    "        print('constructor is called')\n",
    "\n",
    "    def setname(self, name):\n",
    "        \"\"\"\n",
    "        set person name\n",
    "        \"\"\"\n",
    "        self.name = name\n",
    "\n",
    "    def show(self):\n",
    "        \"\"\"\n",
    "        show person name\n",
    "        \"\"\"\n",
    "        print(self.name)"
   ]
  },
  {
   "cell_type": "code",
   "execution_count": 2,
   "metadata": {},
   "outputs": [
    {
     "name": "stdout",
     "output_type": "stream",
     "text": [
      "constructor is called\n"
     ]
    }
   ],
   "source": [
    "p = Person()"
   ]
  },
  {
   "cell_type": "code",
   "execution_count": 3,
   "metadata": {},
   "outputs": [
    {
     "name": "stdout",
     "output_type": "stream",
     "text": [
      "destructor is called\n"
     ]
    }
   ],
   "source": [
    "# 使用del删除对象时，会调用它本身的析构函数\n",
    "del p"
   ]
  },
  {
   "cell_type": "code",
   "execution_count": 4,
   "metadata": {},
   "outputs": [
    {
     "name": "stdout",
     "output_type": "stream",
     "text": [
      "constructor is called\n",
      "destructor is called\n"
     ]
    }
   ],
   "source": [
    "#在跳出其作用域的同时析构函数也会被调用一次，这样可以用来释放内存空间\n",
    "def call_one():\n",
    "    q = Person()\n",
    "    return None\n",
    "\n",
    "call_one()"
   ]
  },
  {
   "cell_type": "code",
   "execution_count": 8,
   "metadata": {},
   "outputs": [
    {
     "name": "stdout",
     "output_type": "stream",
     "text": [
      "constructor is called\n",
      "destructor is called\n",
      "<__main__.Person object at 0x00000185B7A4CDD8>\n",
      "constructor is called\n",
      "a\n"
     ]
    }
   ],
   "source": [
    "## ？？？？？？？？？？\n",
    "p = Person()\n",
    "print(p)\n",
    "p1 = Person()\n",
    "p1.show()"
   ]
  },
  {
   "cell_type": "markdown",
   "metadata": {},
   "source": [
    "## 运算符重载 str / repr\n",
    "\n",
    "`__str__`\n",
    "打印显示 重载\n",
    "```python\n",
    "def __str__(self):\n",
    "    <statement>\n",
    "```\n",
    "- 每当实例转换为打印字符串的时候，`__str__`自动运行\n",
    "\n",
    "\n",
    "`__repr__`\n",
    "\n",
    "\n",
    "> python中str函数通常把对象转换成字符串，即生成对象的可读性好的字符串，一般在输出文本时使用，或者用于合成字符串。str的输出对用户比较友好适合print输出。\n",
    "\n",
    "> pyton中repr函数将一个对象转成类似源代码的字符串，只用于显示。repr的输出对python友好，适合eval函数得到原来的对象。\n"
   ]
  },
  {
   "cell_type": "code",
   "execution_count": 9,
   "metadata": {},
   "outputs": [],
   "source": [
    "class Person:\n",
    "    \"\"\"\n",
    "    person defined\n",
    "    \"\"\"\n",
    "    def __str__(self):\n",
    "        return 'Person name:%s and age:%d' % (self.name, self.age)\n",
    "    \n",
    "    def __repr__(self):\n",
    "        return '%s' % self.age\n",
    "#     def __repr__(self):\n",
    "#         return '1+1'\n",
    "\n",
    "    def __del__(self):\n",
    "        print('destructor is called')\n",
    "\n",
    "    def __init__(self, name=\"a\", age=20):\n",
    "        self.name = name\n",
    "        self.age = age\n",
    "        print('constructor is called')\n",
    "\n",
    "    def setname(self, name):\n",
    "        \"\"\"\n",
    "        set person name\n",
    "        \"\"\"\n",
    "        self.name = name\n",
    "\n",
    "    def show(self):\n",
    "        \"\"\"\n",
    "        show person name\n",
    "        \"\"\"\n",
    "        print(self.name)"
   ]
  },
  {
   "cell_type": "code",
   "execution_count": 10,
   "metadata": {},
   "outputs": [
    {
     "name": "stdout",
     "output_type": "stream",
     "text": [
      "constructor is called\n",
      "destructor is called\n",
      "Person name:a and age:20\n"
     ]
    }
   ],
   "source": [
    "# return str\n",
    "p = Person()\n",
    "print(p)"
   ]
  },
  {
   "cell_type": "code",
   "execution_count": 11,
   "metadata": {},
   "outputs": [
    {
     "data": {
      "text/plain": [
       "20"
      ]
     },
     "execution_count": 11,
     "metadata": {},
     "output_type": "execute_result"
    }
   ],
   "source": [
    "# return repr\n",
    "p"
   ]
  },
  {
   "cell_type": "code",
   "execution_count": 12,
   "metadata": {},
   "outputs": [
    {
     "data": {
      "text/plain": [
       "'20'"
      ]
     },
     "execution_count": 12,
     "metadata": {},
     "output_type": "execute_result"
    }
   ],
   "source": [
    "repr(p)"
   ]
  },
  {
   "cell_type": "code",
   "execution_count": 15,
   "metadata": {},
   "outputs": [
    {
     "data": {
      "text/plain": [
       "20"
      ]
     },
     "execution_count": 15,
     "metadata": {},
     "output_type": "execute_result"
    }
   ],
   "source": [
    "# repr 简单理解就是给机器识别的代码\n",
    "eval(repr(p))"
   ]
  },
  {
   "cell_type": "markdown",
   "metadata": {},
   "source": [
    "## 运算符重载-索引迭代\n",
    "\n",
    "对[]索引进行重载"
   ]
  },
  {
   "cell_type": "code",
   "execution_count": 20,
   "metadata": {},
   "outputs": [
    {
     "name": "stdout",
     "output_type": "stream",
     "text": [
      "S\n"
     ]
    }
   ],
   "source": [
    "class stepper:\n",
    "    def __getitem__(self,i):\n",
    "        return self.data[i]\n",
    "\n",
    "X = stepper()\n",
    "X.data=\"Spam\"\n",
    "\n",
    "print(X[0])"
   ]
  },
  {
   "cell_type": "markdown",
   "metadata": {},
   "source": [
    "## 运算符重载-属性引用"
   ]
  },
  {
   "cell_type": "code",
   "execution_count": 32,
   "metadata": {},
   "outputs": [
    {
     "name": "stdout",
     "output_type": "stream",
     "text": [
      "40\n",
      "AttributeError\n"
     ]
    }
   ],
   "source": [
    "class empty:\n",
    "    def __init__(self): \n",
    "         self.age = 30\n",
    "    \n",
    "    def __getattribute__(self,attrname):\n",
    "        if attrname == \"age\":\n",
    "            return 40\n",
    "        else:\n",
    "            return 'AttributeError'\n",
    "            # raise AttributeError\n",
    "\n",
    "\n",
    "X = empty()\n",
    "print(X.age)        #Print 40\n",
    "print(X.name)       #AttributeError:name"
   ]
  },
  {
   "cell_type": "markdown",
   "metadata": {},
   "source": [
    "# 类的继承\n",
    "\n",
    "类可以继承父类属性\n",
    "\n",
    "语法：\n",
    "`class 类名（父类）`\n",
    "\n",
    "继承：\n",
    "- 子类可以继承父类的所有方法和属性\n",
    "- 可以重载父类的成员函数及属性\n",
    "- 须注意的是子类成员函数若重载父类，会使用子类成员函数\n",
    "- `__init__`重载\n",
    " >在子类中重载了构造函数`__init__`,基类中的`__init__`构造函数将不被执行。所以如果像继续使用基类中的初始化，需要子类专门去调用基类的构造方法。"
   ]
  },
  {
   "cell_type": "code",
   "execution_count": 33,
   "metadata": {},
   "outputs": [],
   "source": [
    "# 子类Chinese继承父类Person的所有属性\n",
    "class Chinese(Person):\n",
    "    pass"
   ]
  },
  {
   "cell_type": "code",
   "execution_count": 34,
   "metadata": {},
   "outputs": [
    {
     "name": "stdout",
     "output_type": "stream",
     "text": [
      "constructor is called\n",
      "a\n"
     ]
    }
   ],
   "source": [
    "c = Chinese()\n",
    "print(c.name)"
   ]
  },
  {
   "cell_type": "code",
   "execution_count": 35,
   "metadata": {},
   "outputs": [
    {
     "name": "stdout",
     "output_type": "stream",
     "text": [
      "a\n",
      "Person name:a and age:20\n"
     ]
    }
   ],
   "source": [
    "c.show()\n",
    "print(c)"
   ]
  },
  {
   "cell_type": "code",
   "execution_count": 36,
   "metadata": {},
   "outputs": [
    {
     "name": "stdout",
     "output_type": "stream",
     "text": [
      "I am a dog!\n",
      "Running\n"
     ]
    }
   ],
   "source": [
    "# 稍微复杂\n",
    "class CAnimal:\n",
    "    def __init__(self,voice='hello'): # voice初始化默认为hello\n",
    "        self.voice = voice\n",
    "    def Say(self):\n",
    "        print(self.voice)\n",
    "    def Run(self):\n",
    "        pass    # 空操作语句（不做任何操作）\n",
    "\n",
    "class CDog(CAnimal):          # 继承类CAnimal\n",
    "    def SetVoice(self,voice): # 子类增加函数SetVoice\n",
    "        self.voice = voice\n",
    "    def Run(self):            # 子类重载函数Run\n",
    "        print('Running')\n",
    "\n",
    "dog = CDog()\n",
    "dog.SetVoice('I am a dog!') \n",
    "dog.Say()\n",
    "dog.Run() "
   ]
  },
  {
   "cell_type": "markdown",
   "metadata": {},
   "source": [
    "## Python中子类初始化基类的构造方法\n",
    "\n",
    "当子类继承了父类，子类重写了父类的`__init__`方法，但是大多数子类不仅要拥有自己的初始化代码，还要拥有父类的初始化代码。此时父类的构造方法在子类中是不会被自动调用的，需要子类专门去调用父类的构造方法。\n",
    "\n",
    "子类调用父类的构造方法两种方法：\n",
    "- `super(CDog, self).__init__(voice='abd')`\n",
    "- `CAnimal.__init__(self,voice='efg')`"
   ]
  },
  {
   "cell_type": "code",
   "execution_count": 9,
   "metadata": {},
   "outputs": [
    {
     "name": "stdout",
     "output_type": "stream",
     "text": [
      "hello\n",
      "hello\n"
     ]
    }
   ],
   "source": [
    "## 子函数不重写构造函数，此时基类的初始化会被子函数继承。\n",
    "class CAnimal:\n",
    "    def __init__(self,voice='hello'): # voice初始化默认为hello\n",
    "        self.voice = voice\n",
    "    def Say(self):\n",
    "        print(self.voice)\n",
    "    def Run(self):\n",
    "        pass    # 空操作语句（不做任何操作）\n",
    "\n",
    "class CDog(CAnimal):          # 继承类CAnimal\n",
    "    def SetVoice(self,voice): # 子类增加函数SetVoice\n",
    "        self.voice = voice\n",
    "    def Run(self):            # 子类重载函数Run\n",
    "        print('Running')\n",
    "\n",
    "dogf = CAnimal()\n",
    "dogf.Say()\n",
    "dofchild = CDog()\n",
    "dofchild.Say()"
   ]
  },
  {
   "cell_type": "code",
   "execution_count": 10,
   "metadata": {},
   "outputs": [
    {
     "ename": "AttributeError",
     "evalue": "'CDog' object has no attribute 'voice'",
     "output_type": "error",
     "traceback": [
      "\u001b[1;31m---------------------------------------------------------------------------\u001b[0m",
      "\u001b[1;31mAttributeError\u001b[0m                            Traceback (most recent call last)",
      "\u001b[1;32m<ipython-input-10-48bde7fd6279>\u001b[0m in \u001b[0;36m<module>\u001b[1;34m\u001b[0m\n\u001b[0;32m     18\u001b[0m \u001b[0mdofchild\u001b[0m \u001b[1;33m=\u001b[0m \u001b[0mCDog\u001b[0m\u001b[1;33m(\u001b[0m\u001b[1;33m)\u001b[0m\u001b[1;33m\u001b[0m\u001b[1;33m\u001b[0m\u001b[0m\n\u001b[0;32m     19\u001b[0m \u001b[1;31m##dofchild.SetVoice('I am a dog!')\u001b[0m\u001b[1;33m\u001b[0m\u001b[1;33m\u001b[0m\u001b[1;33m\u001b[0m\u001b[0m\n\u001b[1;32m---> 20\u001b[1;33m \u001b[0mdofchild\u001b[0m\u001b[1;33m.\u001b[0m\u001b[0mSay\u001b[0m\u001b[1;33m(\u001b[0m\u001b[1;33m)\u001b[0m\u001b[1;33m\u001b[0m\u001b[1;33m\u001b[0m\u001b[0m\n\u001b[0m",
      "\u001b[1;32m<ipython-input-10-48bde7fd6279>\u001b[0m in \u001b[0;36mSay\u001b[1;34m(self)\u001b[0m\n\u001b[0;32m      4\u001b[0m         \u001b[0mself\u001b[0m\u001b[1;33m.\u001b[0m\u001b[0mvoice\u001b[0m \u001b[1;33m=\u001b[0m \u001b[0mvoice\u001b[0m\u001b[1;33m\u001b[0m\u001b[1;33m\u001b[0m\u001b[0m\n\u001b[0;32m      5\u001b[0m     \u001b[1;32mdef\u001b[0m \u001b[0mSay\u001b[0m\u001b[1;33m(\u001b[0m\u001b[0mself\u001b[0m\u001b[1;33m)\u001b[0m\u001b[1;33m:\u001b[0m\u001b[1;33m\u001b[0m\u001b[1;33m\u001b[0m\u001b[0m\n\u001b[1;32m----> 6\u001b[1;33m         \u001b[0mprint\u001b[0m\u001b[1;33m(\u001b[0m\u001b[0mself\u001b[0m\u001b[1;33m.\u001b[0m\u001b[0mvoice\u001b[0m\u001b[1;33m)\u001b[0m\u001b[1;33m\u001b[0m\u001b[1;33m\u001b[0m\u001b[0m\n\u001b[0m\u001b[0;32m      7\u001b[0m     \u001b[1;32mdef\u001b[0m \u001b[0mRun\u001b[0m\u001b[1;33m(\u001b[0m\u001b[0mself\u001b[0m\u001b[1;33m)\u001b[0m\u001b[1;33m:\u001b[0m\u001b[1;33m\u001b[0m\u001b[1;33m\u001b[0m\u001b[0m\n\u001b[0;32m      8\u001b[0m         \u001b[1;32mpass\u001b[0m    \u001b[1;31m# 空操作语句（不做任何操作）\u001b[0m\u001b[1;33m\u001b[0m\u001b[1;33m\u001b[0m\u001b[0m\n",
      "\u001b[1;31mAttributeError\u001b[0m: 'CDog' object has no attribute 'voice'"
     ]
    }
   ],
   "source": [
    "# 子函数重写了构造函数,在子类调用在基类中初始化的属性会出错\n",
    "class CAnimal:\n",
    "    def __init__(self,voice='hello'): # voice初始化默认为hello\n",
    "        self.voice = voice\n",
    "    def Say(self):\n",
    "        print(self.voice)\n",
    "    def Run(self):\n",
    "        pass    # 空操作语句（不做任何操作）\n",
    "\n",
    "class CDog(CAnimal):          # 继承类CAnimal\n",
    "    def __init__(self):\n",
    "        pass\n",
    "    def SetVoice(self,voice): # 子类增加函数SetVoice\n",
    "        self.voice = voice\n",
    "    def Run(self):            # 子类重载函数Run\n",
    "        print('Running')\n",
    "\n",
    "dofchild = CDog()\n",
    "##dofchild.SetVoice('I am a dog!') \n",
    "dofchild.Say()"
   ]
  },
  {
   "cell_type": "code",
   "execution_count": 11,
   "metadata": {},
   "outputs": [
    {
     "name": "stdout",
     "output_type": "stream",
     "text": [
      "efg\n",
      "hello1\n"
     ]
    }
   ],
   "source": [
    "# 调用基类构造函数的两种方式：\n",
    "class CAnimal:\n",
    "    def __init__(self,voice='hello',voice1='hello1'): # voice初始化默认为hello\n",
    "        self.voice = voice\n",
    "        self.voice1 = voice1\n",
    "    def Say(self):\n",
    "        print(self.voice)\n",
    "        print(self.voice1)\n",
    "    def Run(self):\n",
    "        pass    # 空操作语句（不做任何操作）\n",
    "\n",
    "class CDog(CAnimal):          # 继承类CAnimal\n",
    "    def __init__(self):\n",
    "        #super(CDog, self).__init__(voice='abd')\n",
    "        CAnimal.__init__(self,voice='efg')\n",
    "        pass\n",
    "    def SetVoice(self,voice): # 子类增加函数SetVoice\n",
    "        self.voice = voice\n",
    "    def Run(self):            # 子类重载函数Run\n",
    "        print('Running')\n",
    "        \n",
    "dog123 = CDog()\n",
    "dog123.Say()"
   ]
  },
  {
   "cell_type": "markdown",
   "metadata": {},
   "source": [
    "## 多重继承\n",
    "\n",
    "多重继承与类的继承搜索\n",
    "\n",
    "如下图：\n",
    "C1继承了C2和C3\n",
    "![](./res/Lessen7_class_tree.jpg)\n",
    "\n",
    "属性继承搜索\n",
    "- Python的属性搜索是按照继承树从下到上进行的。\n",
    "- 继承树以类对象为中心，向上是其基类，向下是其实例对象。\n",
    "- 当通过实例．属性的形式访问某属性时\n",
    " - 首先查找实例对象自身是否存在该属性\n",
    " - 如果存在，那么直接返回\n",
    " - 如果不存在，那么向上查找，直到找到为止，否则返回异常\n",
    " - 同级基类的优先次序见后面"
   ]
  },
  {
   "cell_type": "code",
   "execution_count": null,
   "metadata": {},
   "outputs": [],
   "source": [
    "class C2: pass\n",
    "class C3: pass\n",
    "class C1(C2, C3): pass"
   ]
  },
  {
   "cell_type": "markdown",
   "metadata": {},
   "source": [
    "# 静态方法和类方法\n",
    "\n",
    "Python中的方法类型：\n",
    "- 实例方法\n",
    " - `def Func(self):...`\n",
    "- 类方法\n",
    "- 静态方法\n",
    "\n",
    "- 类方法是只能由类名调用\n",
    "- 静态方法可以由类名或对象名进行调用\n",
    "\n",
    "- 两种方法的主要区别在于参数。\n",
    " - 实例方法隐含的参数为类实例self\n",
    " - 类方法隐含的参数为类本身cls\n",
    " - 静态方法无隐含参数，主要为了类实例也可以直接调用静态方法\n",
    " - 逻辑上类方法应当只被类调用，实例方法实例调用，静态方法两者都能调用"
   ]
  },
  {
   "cell_type": "code",
   "execution_count": 61,
   "metadata": {},
   "outputs": [],
   "source": [
    "class TestClass():\n",
    "\n",
    "    def callFunc(self):\n",
    "        print('callFunc')\n",
    "\n",
    "    @staticmethod #装饰器\n",
    "    def callStatic():\n",
    "        print('static call')\n",
    "\n",
    "    @classmethod #装饰器\n",
    "    def callClass(cls):\n",
    "        print('class call')"
   ]
  },
  {
   "cell_type": "code",
   "execution_count": 62,
   "metadata": {},
   "outputs": [
    {
     "name": "stdout",
     "output_type": "stream",
     "text": [
      "callFunc\n",
      "static call\n",
      "class call\n"
     ]
    }
   ],
   "source": [
    "c = TestClass()\n",
    "c.callFunc()\n",
    "c.callStatic()\n",
    "c.callClass()"
   ]
  },
  {
   "cell_type": "code",
   "execution_count": 63,
   "metadata": {},
   "outputs": [
    {
     "name": "stdout",
     "output_type": "stream",
     "text": [
      "static call\n",
      "class call\n"
     ]
    }
   ],
   "source": [
    "#TestClass.callFunc()\n",
    "TestClass.callStatic()\n",
    "TestClass.callClass()"
   ]
  },
  {
   "cell_type": "markdown",
   "metadata": {},
   "source": [
    "# 新式类的区别\n",
    "\n",
    "经典类：\n",
    "```python\n",
    "class E:\n",
    "    pass\n",
    "```\n",
    "\n",
    "新式类：\n",
    "```python\n",
    "class E(object):\n",
    "    pass\n",
    "```\n",
    "\n",
    "**在Python2中才有经典类和新式类之分，Python3中两种类都默认解释为新式类**\n",
    "\n",
    "- Python2．x中默认都是经典类只有显式继承了object才是新式类\n",
    "- Python3．x中默认都是新式类不必显式的继承object\n",
    "\n",
    "\n",
    "区别:\n",
    "- 新式类对象可以直接通过`__class__`属性获取自身类型\n",
    "- 继承搜索的顺序发生了改变\n",
    " - 经典类多继承属性搜索顺序：先深入继承树左侧，再返回，开始找右侧；\n",
    " - 新式类多继承属性搜索顺序：**先水平搜索，然后再向上移动**\n",
    "   >` class A(B,C,D):pass` 先搜索A，再是B，然后是C，最后是D\n",
    "  \n",
    "- 新式类增加了`__slots__`内置属性，可以把实例属性的种类锁定到`__slots__`规定的范围之中。\n",
    " > Python允许动态的为对象添加属性（比如给实例化的类的实例对象添加属性），而`__slots__`可以规定什么属性可以被动态的添加\n",
    "- 新式类增加了`__getattribute__`方法"
   ]
  },
  {
   "cell_type": "code",
   "execution_count": 66,
   "metadata": {},
   "outputs": [
    {
     "name": "stdout",
     "output_type": "stream",
     "text": [
      "经典类只在Python2中存在\n",
      "<__main__.E object at 0x00000185B7A6CB70>\n",
      "<class '__main__.E'>\n",
      "<class '__main__.E'>\n",
      "新式类\n",
      "<__main__.E1 object at 0x00000185B7A6CF98>\n",
      "<class '__main__.E1'>\n",
      "<class '__main__.E1'>\n"
     ]
    }
   ],
   "source": [
    "class E:    \n",
    "#经典类  \n",
    "    pass  \n",
    "      \n",
    "class E1(object):    \n",
    "#新式类  \n",
    "    pass  \n",
    "       \n",
    "e = E()  \n",
    "print(\"经典类只在Python2中存在\")  \n",
    "print(e)  \n",
    "print(type(e))  \n",
    "print(e.__class__) \n",
    "  \n",
    "print(\"新式类\")  \n",
    "e1 = E1()  \n",
    "print(e1)\n",
    "print(type(e1))\n",
    "print(e1.__class__)  "
   ]
  },
  {
   "cell_type": "code",
   "execution_count": 67,
   "metadata": {},
   "outputs": [
    {
     "name": "stdout",
     "output_type": "stream",
     "text": [
      "class D\n",
      "class D1\n"
     ]
    }
   ],
   "source": [
    "# 继承搜索顺序\n",
    "class A(object):    \n",
    "    \"\"\" \n",
    "    新式类 \n",
    "    作为所有类的基类 \n",
    "    \"\"\"  \n",
    "    def foo(self):    \n",
    "        print(\"class A\")   \n",
    "          \n",
    "class A1():    \n",
    "    \"\"\" \n",
    "    经典类 \n",
    "    作为所有类的基类 \n",
    "    \"\"\"  \n",
    "    def foo(self):    \n",
    "        print(\"class A1\")    \n",
    "          \n",
    "class C(A):    \n",
    "    pass  \n",
    "      \n",
    "class C1(A1):    \n",
    "    pass  \n",
    "      \n",
    "class D(A):    \n",
    "    def foo(self):    \n",
    "        print(\"class D\")    \n",
    "      \n",
    "class D1(A1):    \n",
    "    def foo(self):    \n",
    "        print(\"class D1\")    \n",
    "          \n",
    "    \n",
    "    \n",
    "class E(C, D):    \n",
    "    pass  \n",
    "      \n",
    "class E1(C1, D1):    \n",
    "    pass  \n",
    "  \n",
    "e = E()  \n",
    "e.foo()  \n",
    "    \n",
    "  \n",
    "e1 = E1()  \n",
    "e1.foo()  "
   ]
  },
  {
   "cell_type": "code",
   "execution_count": 48,
   "metadata": {},
   "outputs": [
    {
     "name": "stdout",
     "output_type": "stream",
     "text": [
      "a\n"
     ]
    }
   ],
   "source": [
    "# 可以动态的给实例对象添加属性\n",
    "class A(object):    \n",
    "    #__slots__ = ('name', 'age')\n",
    "    pass\n",
    "\n",
    "a = A()  \n",
    "\n",
    "a.name1 = \"a\" \n",
    "print(a.name1)"
   ]
  },
  {
   "cell_type": "code",
   "execution_count": 49,
   "metadata": {},
   "outputs": [
    {
     "ename": "AttributeError",
     "evalue": "'A' object has no attribute 'name1'",
     "output_type": "error",
     "traceback": [
      "\u001b[1;31m---------------------------------------------------------------------------\u001b[0m",
      "\u001b[1;31mAttributeError\u001b[0m                            Traceback (most recent call last)",
      "\u001b[1;32m<ipython-input-49-ca8eb9bfaf11>\u001b[0m in \u001b[0;36m<module>\u001b[1;34m\u001b[0m\n\u001b[0;32m      4\u001b[0m \u001b[0ma\u001b[0m \u001b[1;33m=\u001b[0m \u001b[0mA\u001b[0m\u001b[1;33m(\u001b[0m\u001b[1;33m)\u001b[0m\u001b[1;33m\u001b[0m\u001b[1;33m\u001b[0m\u001b[0m\n\u001b[0;32m      5\u001b[0m \u001b[1;33m\u001b[0m\u001b[0m\n\u001b[1;32m----> 6\u001b[1;33m \u001b[0ma\u001b[0m\u001b[1;33m.\u001b[0m\u001b[0mname1\u001b[0m \u001b[1;33m=\u001b[0m \u001b[1;34m\"a\"\u001b[0m\u001b[1;33m\u001b[0m\u001b[1;33m\u001b[0m\u001b[0m\n\u001b[0m",
      "\u001b[1;31mAttributeError\u001b[0m: 'A' object has no attribute 'name1'"
     ]
    }
   ],
   "source": [
    "# 动态添加的属性必须在slots中给出\n",
    "class A(object):    \n",
    "    __slots__ = ('name', 'age')\n",
    "    \n",
    "a = A()  \n",
    "\n",
    "a.name1 = \"a\" "
   ]
  },
  {
   "cell_type": "code",
   "execution_count": 69,
   "metadata": {},
   "outputs": [
    {
     "name": "stdout",
     "output_type": "stream",
     "text": [
      "a\n"
     ]
    }
   ],
   "source": [
    "# 动态添加的属性必须在slots中给出\n",
    "class A(object):    \n",
    "    __slots__ = ('name', 'age', 'name1')\n",
    "    \n",
    "a = A()  \n",
    "\n",
    "a.name1 = \"a\" \n",
    "print(a.name1)"
   ]
  },
  {
   "cell_type": "code",
   "execution_count": 70,
   "metadata": {},
   "outputs": [
    {
     "name": "stdout",
     "output_type": "stream",
     "text": [
      "A.__getattribute__\n"
     ]
    }
   ],
   "source": [
    "# .属性运算符重载 ： __getattribute__\n",
    "class A(object):\n",
    "    # \n",
    "    def __init__(self,test=1):\n",
    "        self.test = test\n",
    "    def __getattribute__(self, *args, **kwargs):    \n",
    "        print(\"A.__getattribute__\")  \n",
    "               \n",
    "a = A()  \n",
    "  \n",
    "a.test"
   ]
  },
  {
   "cell_type": "code",
   "execution_count": 54,
   "metadata": {},
   "outputs": [
    {
     "name": "stdout",
     "output_type": "stream",
     "text": [
      "new\n",
      "<class 'type'>\n",
      "init\n"
     ]
    }
   ],
   "source": [
    "# __new__ 参考 supplement\n",
    "class A(object):\n",
    "    def __init__(self, *args, **kwargs):\n",
    "        print(\"init\")\n",
    "    def __new__(cls, *args, **kwargs):\n",
    "        print(\"new\")\n",
    "        print(type(cls))\n",
    "        return object.__new__(cls, *args, **kwargs)  \n",
    "a=A()"
   ]
  },
  {
   "cell_type": "markdown",
   "metadata": {},
   "source": [
    "# 类的私有属性\n",
    "\n",
    "- 类的私有属性\n",
    " - \\_\\_private_attrs:两个下划线开头，声明该属性为私有，不能在类地外部被使用或直接访问。在类内部的方法中使用时self.\\_\\_private_attrs.\n",
    " - 伪私有变量：在类外调用使用格式`obj._ClassName__private_atrrs`\n",
    " \n",
    "- 类的私有方法\n",
    " - \\_\\_private_method:两个下划线开头，声明该方法为私有方法，不能在类地外部调用。在类的内部调用self.\\_\\_private_methods\n",
    " - 伪私有方法：在类外调用使用格式`obj._ClassName__private_methods`\n",
    "\n",
    "单下划线\n",
    "- 在C++中\"单下划线\" 开始的成员变量叫做保护变量，只有类内和子类能够访问该变量，但是python中没有这个概念，python中如果使用了单下划线开头的命名方式，只是说明作者主观上不想对齐在类外进行访问，实际上，如果有需要，可以像访问其他普通变量一样直接访问该成员变量。\n",
    "- 只是编程习惯上的约定\n",
    "\n",
    "----\n",
    "实例：\n",
    "\n",
    "Account.py\n",
    "```python\n",
    "class Foo:\n",
    "\tvar1 = 0\n",
    "\t_var2 = 1\n",
    "\t__var3 = 2\n",
    "\tdef __init__(self,svar1 = 0, _svar2 = 1, __svar3 = 2):\n",
    "\t\tself.svar1 = svar1\n",
    "\t\tself._svar2 = _svar2\n",
    "\t\tself.__svar3 = __svar3\n",
    "\tdef public_method(self):\n",
    "\t\tprint('This is public method')\n",
    "\tdef __fullprivate_method(self):\n",
    "\t\tprint('This is double underscore leading method')\n",
    "\tdef _halfprivate_method(self):\n",
    "\t\tprint('This is one underscore leading method')\n",
    "```\n",
    "Main.py\n",
    "```python\n",
    "##from Account import Foo\n",
    "##f = Foo()\n",
    "import Account\n",
    "f = Account.Foo()\n",
    "f.public_method()\n",
    "f._halfprivate_method()\n",
    "#f.__fullprivate_method()\n",
    "f._Foo__fullprivate_method()\n",
    "print(f.var1)\n",
    "print(f._var2)\n",
    "#print(f.__var3)\n",
    "print(f._Foo__var3)\n",
    "print(f.svar1)\n",
    "print(f._svar2)\n",
    "#print(f.__svar3)\n",
    "print(f._Foo__svar3)\n",
    "```\n",
    "结果：\n",
    "```\n",
    "This is public method\n",
    "This is one underscore leading method\n",
    "This is double underscore leading method\n",
    "0\n",
    "1\n",
    "2\n",
    "0\n",
    "1\n",
    "2\n",
    "```"
   ]
  },
  {
   "cell_type": "code",
   "execution_count": 55,
   "metadata": {},
   "outputs": [
    {
     "name": "stdout",
     "output_type": "stream",
     "text": [
      "1\n",
      "2\n",
      "2\n",
      "2\n"
     ]
    }
   ],
   "source": [
    "class JustCounter:\n",
    "    __secretCount = 0  # 私有变量\n",
    "    publicCount = 0    # 公开变量\n",
    "\n",
    "    def count(self):\n",
    "        self.__secretCount += 1\n",
    "        self.publicCount += 1\n",
    "        print(self.__secretCount)\n",
    "\n",
    "counter = JustCounter()\n",
    "counter.count()\n",
    "counter.count()\n",
    "print(counter.publicCount)\n",
    "#print(counter.__secretCount)  # 报错，实例不能访问私有变量\n",
    "print(counter._JustCounter__secretCount) # 这样就可以访问了，伪私有变量"
   ]
  },
  {
   "cell_type": "code",
   "execution_count": 73,
   "metadata": {
    "scrolled": true
   },
   "outputs": [
    {
     "name": "stdout",
     "output_type": "stream",
     "text": [
      "{'__module__': '__main__', '_A__func': <function A.__func at 0x00000185B7B912F0>, '__dict__': <attribute '__dict__' of 'A' objects>, '__weakref__': <attribute '__weakref__' of 'A' objects>, '__doc__': None}\n"
     ]
    }
   ],
   "source": [
    "class A(object):\n",
    "    def __func(self):pass\n",
    "    \n",
    "print(A.__dict__)\n",
    "a = A()\n",
    "a._A__func()"
   ]
  },
  {
   "cell_type": "markdown",
   "metadata": {},
   "source": [
    "# 异常处理\n",
    "\n",
    "**异常 - 改变程序中控制流程的事件**\n",
    " - 异常即是一个事件，该事件会在程序执行过程中发生，影响了程序的正常执行。一般情况下，在Python无法正常处理程序时就会发生一个异常。**异常是Python对象**，表示一个错误。当Python脚本发生异常时我们需要捕获处理它，否则程序会终止执行。 \n",
    " \n",
    "\n",
    "**常见异常内置类型**\n",
    "\n",
    "`dir(__builtins__)`：查看异常类\n",
    "\n",
    "| 类名              | 描述                       |\n",
    "|-------------------|----------------------------|\n",
    "| BaseException     | 所有异常的基类             |\n",
    "| Exception         | 常规错误的基类             |\n",
    "| AttributeError    | 对象没有这个属性           |\n",
    "| IndexError        | 序列中没有此索引(index)    |\n",
    "| IOError           | 输入/输出操作失败          |\n",
    "| KeyboardInterrupt | 用户中断执行(通常是输入^C) |\n",
    "| KeyError          | 映射中没有这个键           |\n",
    "| NameError         | 未声明/初始化对象          |\n",
    "| SyntaxErrorPython | 语法错误                   |\n",
    "| TypeError         | 对类型无效的操作           |\n",
    "| ValueError        | 传入无效的参数             |\n",
    "| ZeroDivisionError | 除(或取模)零               |\n",
    "\n",
    "**异常的继承关系**：\n",
    "![](./res/Lesson7_exception_class_tree.jpg)\n",
    "\n",
    "\n",
    "**默认异常处理器**\n",
    " - python有默认异常处理器\n",
    " - 如果自己写的代码没有捕捉这个异常，向上返回到程序顶层，默认的异常处理器\n",
    " - 打印出错误信息，并且包含异常和堆栈的跟踪\n",
    "\n",
    "\n",
    "**异常捕捉**：\n",
    "\n",
    "捕捉异常可以使用 Try Except 处理器，也就是try/except语句。try/except语句用来检测try语句块中的错误，从而让except语句捕获异常信息并处理。如果你不想在异常发生时结束你的程序，只需在try里捕获它。 \n",
    " - 通过except来捕获异常\n",
    " - 捕获特定的异常后，进行异常处理，也就是再运行一段except内自己写的代码。\n",
    "\n",
    "```python\n",
    "try:\n",
    "    #正常的操作\n",
    "   #......................\n",
    "except:\n",
    "    #发生异常，执行这块代码\n",
    "   #......................\n",
    "else:\n",
    "    #如果没有异常执行这块代码\n",
    "finally：\n",
    "    #最后一定会执行\n",
    "```\n",
    "> 多个except：从上到下查找except，知道找到第一个符合的异常类型，然后执行该except内的语句，并放弃后面其他的except的查找。\n",
    "\n",
    " - Except:\n",
    "  - 可以不列出异常名称 例如 except：\n",
    "  - 可以捕获多个异常 例如 except(ex1, ex2, ex3)\n",
    "  - 可以分开捕获多个异常 例如 except ex1,except ex2\n",
    "  - 可以捕获异常并获得额外数据 例如 except ex1 as e(e 为ex1类的实例对象)\\\n",
    " - Else:\n",
    "  - 在没有触发异常的时候执行的代码\n",
    "  - 大多数人并不使用else从句\n",
    "  - 在finally语句之前执行\n",
    " - Finally:\n",
    "  - finally 中的语句不管是否发生异常都会被执行，并且异常在finally中代码执行完成后，会向上传递异常\n",
    "  - finlly用于定义清理动作，无论有一场是否引发或者受到处理，都一定会在离开try-except处理器前执行\n",
    "\n",
    "**引发异常**\n",
    "\n",
    "异常可以通过Python或者程序引发，也能手动触发异常。\n",
    " - 手动触发异常：\n",
    " `raise [Exception[,args[,traceback]]]`\n",
    " \n",
    "\n",
    "**自定义异常**\n",
    "必须从Exception类派生\n",
    "``` Python\n",
    "class UserDefined(Exception):\n",
    "    \"\"\"\n",
    "    用户自定义异常\n",
    "    \"\"\"\n",
    "    pass\n",
    "```\n",
    "```Python\n",
    "try:\n",
    "    raise UserDefinde()\n",
    "except:\n",
    "    print('user defined exception')\n",
    "```\n",
    "\n"
   ]
  },
  {
   "cell_type": "markdown",
   "metadata": {},
   "source": [
    "## 默认异常处理器"
   ]
  },
  {
   "cell_type": "code",
   "execution_count": 74,
   "metadata": {},
   "outputs": [
    {
     "ename": "ZeroDivisionError",
     "evalue": "division by zero",
     "output_type": "error",
     "traceback": [
      "\u001b[1;31m---------------------------------------------------------------------------\u001b[0m",
      "\u001b[1;31mZeroDivisionError\u001b[0m                         Traceback (most recent call last)",
      "\u001b[1;32m<ipython-input-74-9fe3177fe0c7>\u001b[0m in \u001b[0;36m<module>\u001b[1;34m\u001b[0m\n\u001b[0;32m      1\u001b[0m \u001b[0mx\u001b[0m\u001b[1;33m,\u001b[0m \u001b[0my\u001b[0m \u001b[1;33m=\u001b[0m \u001b[1;36m5\u001b[0m\u001b[1;33m,\u001b[0m \u001b[1;36m0\u001b[0m\u001b[1;33m\u001b[0m\u001b[1;33m\u001b[0m\u001b[0m\n\u001b[1;32m----> 2\u001b[1;33m \u001b[0mx\u001b[0m\u001b[1;33m/\u001b[0m\u001b[0my\u001b[0m\u001b[1;33m\u001b[0m\u001b[1;33m\u001b[0m\u001b[0m\n\u001b[0m",
      "\u001b[1;31mZeroDivisionError\u001b[0m: division by zero"
     ]
    }
   ],
   "source": [
    "x, y = 5, 0\n",
    "x/y"
   ]
  },
  {
   "cell_type": "code",
   "execution_count": 77,
   "metadata": {},
   "outputs": [
    {
     "ename": "IndexError",
     "evalue": "string index out of range",
     "output_type": "error",
     "traceback": [
      "\u001b[1;31m---------------------------------------------------------------------------\u001b[0m",
      "\u001b[1;31mIndexError\u001b[0m                                Traceback (most recent call last)",
      "\u001b[1;32m<ipython-input-77-26ac9754efb6>\u001b[0m in \u001b[0;36m<module>\u001b[1;34m\u001b[0m\n\u001b[0;32m      1\u001b[0m \u001b[0ms\u001b[0m \u001b[1;33m=\u001b[0m \u001b[1;34m'hello'\u001b[0m\u001b[1;33m\u001b[0m\u001b[1;33m\u001b[0m\u001b[0m\n\u001b[1;32m----> 2\u001b[1;33m \u001b[0ms\u001b[0m\u001b[1;33m[\u001b[0m\u001b[1;36m100\u001b[0m\u001b[1;33m]\u001b[0m\u001b[1;33m\u001b[0m\u001b[1;33m\u001b[0m\u001b[0m\n\u001b[0m",
      "\u001b[1;31mIndexError\u001b[0m: string index out of range"
     ]
    }
   ],
   "source": [
    "s = 'hello'\n",
    "s[100]"
   ]
  },
  {
   "cell_type": "markdown",
   "metadata": {},
   "source": [
    "## Try Except 处理器"
   ]
  },
  {
   "cell_type": "code",
   "execution_count": 1,
   "metadata": {},
   "outputs": [
    {
     "name": "stdout",
     "output_type": "stream",
     "text": [
      "error\n"
     ]
    }
   ],
   "source": [
    "x, y = 5, 0\n",
    "try:\n",
    "    x/y\n",
    "except ZeroDivisionError:\n",
    "    print('error')"
   ]
  },
  {
   "cell_type": "code",
   "execution_count": 2,
   "metadata": {},
   "outputs": [
    {
     "ename": "IndexError",
     "evalue": "string index out of range",
     "output_type": "error",
     "traceback": [
      "\u001b[1;31m---------------------------------------------------------------------------\u001b[0m",
      "\u001b[1;31mIndexError\u001b[0m                                Traceback (most recent call last)",
      "\u001b[1;32m<ipython-input-2-354a2cd2601c>\u001b[0m in \u001b[0;36m<module>\u001b[1;34m\u001b[0m\n\u001b[0;32m      1\u001b[0m \u001b[0ms\u001b[0m \u001b[1;33m=\u001b[0m \u001b[1;34m'hello'\u001b[0m\u001b[1;33m\u001b[0m\u001b[1;33m\u001b[0m\u001b[0m\n\u001b[0;32m      2\u001b[0m \u001b[1;32mtry\u001b[0m\u001b[1;33m:\u001b[0m\u001b[1;33m\u001b[0m\u001b[1;33m\u001b[0m\u001b[0m\n\u001b[1;32m----> 3\u001b[1;33m     \u001b[0ms\u001b[0m\u001b[1;33m[\u001b[0m\u001b[1;36m100\u001b[0m\u001b[1;33m]\u001b[0m\u001b[1;33m\u001b[0m\u001b[1;33m\u001b[0m\u001b[0m\n\u001b[0m\u001b[0;32m      4\u001b[0m \u001b[1;32mexcept\u001b[0m \u001b[0mZeroDivisionError\u001b[0m\u001b[1;33m:\u001b[0m  \u001b[1;31m# 捕获除0操作？\u001b[0m\u001b[1;33m\u001b[0m\u001b[1;33m\u001b[0m\u001b[0m\n\u001b[0;32m      5\u001b[0m     \u001b[0mprint\u001b[0m\u001b[1;33m(\u001b[0m\u001b[1;34m'error'\u001b[0m\u001b[1;33m)\u001b[0m\u001b[1;33m\u001b[0m\u001b[1;33m\u001b[0m\u001b[0m\n",
      "\u001b[1;31mIndexError\u001b[0m: string index out of range"
     ]
    }
   ],
   "source": [
    "s = 'hello'\n",
    "try:\n",
    "    s[100]\n",
    "except ZeroDivisionError:  # 捕获除0操作？\n",
    "    print('error')"
   ]
  },
  {
   "cell_type": "markdown",
   "metadata": {},
   "source": [
    "## 异常的继承关系"
   ]
  },
  {
   "cell_type": "code",
   "execution_count": 80,
   "metadata": {},
   "outputs": [
    {
     "name": "stdout",
     "output_type": "stream",
     "text": [
      "ZeroDivisionError catched\n"
     ]
    }
   ],
   "source": [
    "try:\n",
    "    1/0\n",
    "except ZeroDivisionError:\n",
    "    print('ZeroDivisionError catched')\n",
    "except ArithmeticError:\n",
    "    print('ArithmeticError catched')"
   ]
  },
  {
   "cell_type": "code",
   "execution_count": 81,
   "metadata": {},
   "outputs": [
    {
     "name": "stdout",
     "output_type": "stream",
     "text": [
      "ArithmeticError catched\n"
     ]
    }
   ],
   "source": [
    "try:\n",
    "    1/0\n",
    "except ArithmeticError:\n",
    "    print('ArithmeticError catched')\n",
    "except ZeroDivisionError:\n",
    "    print('ZeroDivisionError catched')"
   ]
  },
  {
   "cell_type": "markdown",
   "metadata": {},
   "source": [
    "## 触发异常"
   ]
  },
  {
   "cell_type": "code",
   "execution_count": 3,
   "metadata": {},
   "outputs": [
    {
     "ename": "RuntimeError",
     "evalue": "No active exception to reraise",
     "output_type": "error",
     "traceback": [
      "\u001b[1;31m---------------------------------------------------------------------------\u001b[0m",
      "\u001b[1;31mRuntimeError\u001b[0m                              Traceback (most recent call last)",
      "\u001b[1;32m<ipython-input-3-9c9a2cba73bf>\u001b[0m in \u001b[0;36m<module>\u001b[1;34m\u001b[0m\n\u001b[1;32m----> 1\u001b[1;33m \u001b[1;32mraise\u001b[0m\u001b[1;33m\u001b[0m\u001b[1;33m\u001b[0m\u001b[0m\n\u001b[0m",
      "\u001b[1;31mRuntimeError\u001b[0m: No active exception to reraise"
     ]
    }
   ],
   "source": [
    "raise"
   ]
  },
  {
   "cell_type": "code",
   "execution_count": 4,
   "metadata": {},
   "outputs": [
    {
     "ename": "ZeroDivisionError",
     "evalue": "",
     "output_type": "error",
     "traceback": [
      "\u001b[1;31m---------------------------------------------------------------------------\u001b[0m",
      "\u001b[1;31mZeroDivisionError\u001b[0m                         Traceback (most recent call last)",
      "\u001b[1;32m<ipython-input-4-c62fc6984c64>\u001b[0m in \u001b[0;36m<module>\u001b[1;34m\u001b[0m\n\u001b[1;32m----> 1\u001b[1;33m \u001b[1;32mraise\u001b[0m \u001b[0mZeroDivisionError\u001b[0m\u001b[1;33m\u001b[0m\u001b[1;33m\u001b[0m\u001b[0m\n\u001b[0m",
      "\u001b[1;31mZeroDivisionError\u001b[0m: "
     ]
    }
   ],
   "source": [
    "raise ZeroDivisionError"
   ]
  },
  {
   "cell_type": "code",
   "execution_count": 5,
   "metadata": {},
   "outputs": [
    {
     "name": "stdout",
     "output_type": "stream",
     "text": [
      "error\n"
     ]
    }
   ],
   "source": [
    "try:\n",
    "    raise ZeroDivisionError\n",
    "except ZeroDivisionError:\n",
    "    print('error')"
   ]
  },
  {
   "cell_type": "code",
   "execution_count": 6,
   "metadata": {},
   "outputs": [
    {
     "ename": "TypeError",
     "evalue": "catching classes that do not inherit from BaseException is not allowed",
     "output_type": "error",
     "traceback": [
      "\u001b[1;31m---------------------------------------------------------------------------\u001b[0m",
      "\u001b[1;31mTypeError\u001b[0m                                 Traceback (most recent call last)",
      "\u001b[1;32m<ipython-input-6-810e894937d2>\u001b[0m in \u001b[0;36m<module>\u001b[1;34m\u001b[0m\n\u001b[0;32m      2\u001b[0m \u001b[1;32mtry\u001b[0m\u001b[1;33m:\u001b[0m\u001b[1;33m\u001b[0m\u001b[1;33m\u001b[0m\u001b[0m\n\u001b[1;32m----> 3\u001b[1;33m     \u001b[1;32mraise\u001b[0m \u001b[1;34m\"exception\"\u001b[0m\u001b[1;33m\u001b[0m\u001b[1;33m\u001b[0m\u001b[0m\n\u001b[0m\u001b[0;32m      4\u001b[0m \u001b[1;32mexcept\u001b[0m \u001b[1;34m\"exception\"\u001b[0m\u001b[1;33m:\u001b[0m\u001b[1;33m\u001b[0m\u001b[1;33m\u001b[0m\u001b[0m\n",
      "\u001b[1;31mTypeError\u001b[0m: exceptions must derive from BaseException",
      "\nDuring handling of the above exception, another exception occurred:\n",
      "\u001b[1;31mTypeError\u001b[0m                                 Traceback (most recent call last)",
      "\u001b[1;32m<ipython-input-6-810e894937d2>\u001b[0m in \u001b[0;36m<module>\u001b[1;34m\u001b[0m\n\u001b[0;32m      2\u001b[0m \u001b[1;32mtry\u001b[0m\u001b[1;33m:\u001b[0m\u001b[1;33m\u001b[0m\u001b[1;33m\u001b[0m\u001b[0m\n\u001b[0;32m      3\u001b[0m     \u001b[1;32mraise\u001b[0m \u001b[1;34m\"exception\"\u001b[0m\u001b[1;33m\u001b[0m\u001b[1;33m\u001b[0m\u001b[0m\n\u001b[1;32m----> 4\u001b[1;33m \u001b[1;32mexcept\u001b[0m \u001b[1;34m\"exception\"\u001b[0m\u001b[1;33m:\u001b[0m\u001b[1;33m\u001b[0m\u001b[1;33m\u001b[0m\u001b[0m\n\u001b[0m\u001b[0;32m      5\u001b[0m     \u001b[0mprint\u001b[0m\u001b[1;33m(\u001b[0m\u001b[1;34m\"catched\"\u001b[0m\u001b[1;33m)\u001b[0m\u001b[1;33m\u001b[0m\u001b[1;33m\u001b[0m\u001b[0m\n",
      "\u001b[1;31mTypeError\u001b[0m: catching classes that do not inherit from BaseException is not allowed"
     ]
    }
   ],
   "source": [
    "# old code support, exception inherit BaseException\n",
    "try:\n",
    "    raise \"exception\"\n",
    "except \"exception\":\n",
    "    print(\"catched\")"
   ]
  },
  {
   "cell_type": "markdown",
   "metadata": {},
   "source": [
    "## Try/Catch/Else\n",
    "\n"
   ]
  },
  {
   "cell_type": "code",
   "execution_count": null,
   "metadata": {
    "scrolled": true
   },
   "outputs": [],
   "source": [
    "try:\n",
    "    fh = open(\"testfile\", \"w\")\n",
    "    fh.write(\"这是一个测试文件，用于测试异常!!\")\n",
    "except IOError:\n",
    "    print(\"Error: 没有找到文件或读取文件失败\")\n",
    "else:\n",
    "    print(\"内容写入文件成功\")\n",
    "    fh.close()"
   ]
  },
  {
   "cell_type": "markdown",
   "metadata": {},
   "source": [
    "## ELSE"
   ]
  },
  {
   "cell_type": "code",
   "execution_count": null,
   "metadata": {},
   "outputs": [],
   "source": [
    "try:\n",
    "    print('no excpetion here')\n",
    "except Exception:\n",
    "    print('exception')\n",
    "else:\n",
    "    # 这里的代码只会在try语句里没有触发异常时运行,\n",
    "    # 但是这里的异常将 *不会* 被捕获\n",
    "    print('only run when no exception')\n",
    "finally:\n",
    "    print('print anyway')"
   ]
  },
  {
   "cell_type": "markdown",
   "metadata": {},
   "source": [
    "## Finally"
   ]
  },
  {
   "cell_type": "code",
   "execution_count": null,
   "metadata": {},
   "outputs": [],
   "source": [
    "try:\n",
    "    fh = open(\"testfile.notexist\", \"r\")\n",
    "    fh.write(\"这是一个测试文件，用于测试异常!!\")\n",
    "finally:\n",
    "    print(\"Error: 没有找到文件或读取文件失败\")"
   ]
  },
  {
   "cell_type": "code",
   "execution_count": null,
   "metadata": {},
   "outputs": [],
   "source": [
    "try:\n",
    "    fh = open(\"testfile\", \"w\")\n",
    "    fh.write(\"这是一个测试文件，用于测试异常!!\")\n",
    "finally:\n",
    "    print(\"Error: 没有找到文件或读取文件失败\")"
   ]
  },
  {
   "cell_type": "markdown",
   "metadata": {},
   "source": [
    "### finally陷阱"
   ]
  },
  {
   "cell_type": "code",
   "execution_count": null,
   "metadata": {},
   "outputs": [],
   "source": [
    "def func():\n",
    "    try:\n",
    "        1/0\n",
    "    except IndexError as e:\n",
    "        print('index error')\n",
    "    finally:\n",
    "        print('finally missed')\n",
    "        return "
   ]
  },
  {
   "cell_type": "code",
   "execution_count": null,
   "metadata": {},
   "outputs": [],
   "source": [
    "func()\n",
    "\n",
    "# 为什么异常消失了？"
   ]
  },
  {
   "cell_type": "markdown",
   "metadata": {},
   "source": [
    "## 自定义异常"
   ]
  },
  {
   "cell_type": "code",
   "execution_count": null,
   "metadata": {},
   "outputs": [],
   "source": [
    "# 废弃的用法，old-style\n",
    "error = 'this is exception'\n",
    "try:\n",
    "    raise error\n",
    "except error:\n",
    "    print('string exception caught')"
   ]
  },
  {
   "cell_type": "code",
   "execution_count": 83,
   "metadata": {},
   "outputs": [
    {
     "name": "stdout",
     "output_type": "stream",
     "text": [
      "My exception occurred, value: 4\n"
     ]
    }
   ],
   "source": [
    "class MyError(Exception):\n",
    "    def __init__(self, value):\n",
    "        self.value = value\n",
    "    def __str__(self):\n",
    "        return repr(self.value)\n",
    "# using e.value or e\n",
    "try:\n",
    "    raise MyError(2*2)\n",
    "except MyError as e:\n",
    "    print('My exception occurred, value:', e.value)\n",
    "    # print 'My exception occurred, value:', e"
   ]
  },
  {
   "cell_type": "code",
   "execution_count": 84,
   "metadata": {},
   "outputs": [
    {
     "name": "stdout",
     "output_type": "stream",
     "text": [
      "<class '__main__.NamedError1'>\n"
     ]
    }
   ],
   "source": [
    "class GeneralError(Exception): pass\n",
    "class NamedError1(GeneralError): pass\n",
    "class NamedError2(GeneralError): pass\n",
    "\n",
    "try:\n",
    "#     raise GeneralError()\n",
    "    raise NamedError1()\n",
    "#     raise NamedError2()\n",
    "except GeneralError as ex:\n",
    "    print(ex.__class__)"
   ]
  },
  {
   "cell_type": "markdown",
   "metadata": {},
   "source": [
    "# 断言assert语句\n",
    "场景：在没完善一个程序之前，我们不知道程序会在哪里出错，与其让它在运行时崩溃，不如在出现错误条件时就崩溃，这时候就需要assert断言\n",
    "\n",
    "语句：\n",
    "`assert condition`\n",
    "`if not conditon :raise AssertionError()`"
   ]
  },
  {
   "cell_type": "code",
   "execution_count": 85,
   "metadata": {},
   "outputs": [],
   "source": [
    "assert 1==1"
   ]
  },
  {
   "cell_type": "code",
   "execution_count": 86,
   "metadata": {},
   "outputs": [
    {
     "ename": "AssertionError",
     "evalue": "",
     "output_type": "error",
     "traceback": [
      "\u001b[1;31m---------------------------------------------------------------------------\u001b[0m",
      "\u001b[1;31mAssertionError\u001b[0m                            Traceback (most recent call last)",
      "\u001b[1;32m<ipython-input-86-788ee363e0a2>\u001b[0m in \u001b[0;36m<module>\u001b[1;34m\u001b[0m\n\u001b[1;32m----> 1\u001b[1;33m \u001b[1;32massert\u001b[0m \u001b[1;36m1\u001b[0m\u001b[1;33m==\u001b[0m\u001b[1;36m0\u001b[0m\u001b[1;33m\u001b[0m\u001b[1;33m\u001b[0m\u001b[0m\n\u001b[0m",
      "\u001b[1;31mAssertionError\u001b[0m: "
     ]
    }
   ],
   "source": [
    "assert 1==0"
   ]
  },
  {
   "cell_type": "code",
   "execution_count": 87,
   "metadata": {},
   "outputs": [
    {
     "ename": "AssertionError",
     "evalue": "",
     "output_type": "error",
     "traceback": [
      "\u001b[1;31m---------------------------------------------------------------------------\u001b[0m",
      "\u001b[1;31mAssertionError\u001b[0m                            Traceback (most recent call last)",
      "\u001b[1;32m<ipython-input-87-9089f27f66ee>\u001b[0m in \u001b[0;36m<module>\u001b[1;34m\u001b[0m\n\u001b[1;32m----> 1\u001b[1;33m \u001b[1;32massert\u001b[0m \u001b[1;36m3\u001b[0m\u001b[1;33m<\u001b[0m\u001b[1;36m2\u001b[0m\u001b[1;33m\u001b[0m\u001b[1;33m\u001b[0m\u001b[0m\n\u001b[0m",
      "\u001b[1;31mAssertionError\u001b[0m: "
     ]
    }
   ],
   "source": [
    "assert 3<2"
   ]
  },
  {
   "cell_type": "code",
   "execution_count": 88,
   "metadata": {},
   "outputs": [],
   "source": [
    "assert True"
   ]
  },
  {
   "cell_type": "code",
   "execution_count": 89,
   "metadata": {},
   "outputs": [],
   "source": [
    "# 异常参数\n",
    "assert True, 'error...'"
   ]
  },
  {
   "cell_type": "markdown",
   "metadata": {},
   "source": [
    "## With/As"
   ]
  },
  {
   "cell_type": "code",
   "execution_count": null,
   "metadata": {},
   "outputs": [],
   "source": [
    "with open('nothing.txt','w') as f:\n",
    "    f.write('a')\n",
    "    print(2/0)\n",
    "    print('continue')"
   ]
  },
  {
   "cell_type": "markdown",
   "metadata": {},
   "source": [
    "## 环境管理协议"
   ]
  },
  {
   "cell_type": "code",
   "execution_count": 90,
   "metadata": {},
   "outputs": [],
   "source": [
    "class Open:\n",
    "    def __init__(self,filepath):\n",
    "        self.f = filepath\n",
    "\n",
    "    def write(self):\n",
    "        pass\n",
    "\n",
    "    def __enter__(self):\n",
    "        print(\"出现with语句，对象会调用我\")\n",
    "        return self\n",
    "\n",
    "    def __exit__(self, exc_type, exc_val, exc_tb):\n",
    "        print(\"with结束之后，会执行我\")\n",
    "        # return True  #返回值为正，with里面抛出异常时，程序不会退出，会执行with代码块，后面的代码"
   ]
  },
  {
   "cell_type": "code",
   "execution_count": 91,
   "metadata": {},
   "outputs": [
    {
     "name": "stdout",
     "output_type": "stream",
     "text": [
      "出现with语句，对象会调用我\n",
      "with结束之后，会执行我\n"
     ]
    },
    {
     "ename": "ZeroDivisionError",
     "evalue": "division by zero",
     "output_type": "error",
     "traceback": [
      "\u001b[1;31m---------------------------------------------------------------------------\u001b[0m",
      "\u001b[1;31mZeroDivisionError\u001b[0m                         Traceback (most recent call last)",
      "\u001b[1;32m<ipython-input-91-65f6710ed1ae>\u001b[0m in \u001b[0;36m<module>\u001b[1;34m\u001b[0m\n\u001b[0;32m      1\u001b[0m \u001b[1;32mwith\u001b[0m \u001b[0mOpen\u001b[0m\u001b[1;33m(\u001b[0m\u001b[1;34m'1.txt'\u001b[0m\u001b[1;33m)\u001b[0m \u001b[1;32mas\u001b[0m \u001b[0mfp\u001b[0m\u001b[1;33m:\u001b[0m\u001b[1;33m\u001b[0m\u001b[1;33m\u001b[0m\u001b[0m\n\u001b[0;32m      2\u001b[0m     \u001b[0mfp\u001b[0m\u001b[1;33m.\u001b[0m\u001b[0mwrite\u001b[0m\u001b[1;33m(\u001b[0m\u001b[1;33m)\u001b[0m\u001b[1;33m\u001b[0m\u001b[1;33m\u001b[0m\u001b[0m\n\u001b[1;32m----> 3\u001b[1;33m     \u001b[1;36m1\u001b[0m\u001b[1;33m/\u001b[0m\u001b[1;36m0\u001b[0m\u001b[1;33m\u001b[0m\u001b[1;33m\u001b[0m\u001b[0m\n\u001b[0m",
      "\u001b[1;31mZeroDivisionError\u001b[0m: division by zero"
     ]
    }
   ],
   "source": [
    "with Open('1.txt') as fp:\n",
    "    fp.write()\n",
    "    1/0"
   ]
  },
  {
   "cell_type": "markdown",
   "metadata": {},
   "source": [
    "## 异常和相关模块"
   ]
  },
  {
   "cell_type": "code",
   "execution_count": null,
   "metadata": {},
   "outputs": [],
   "source": [
    "import traceback\n",
    "import inspect\n",
    "try:\n",
    "    1/0\n",
    "except:\n",
    "    traceback.print_exc()\n",
    "    print(traceback.format_exc())\n",
    "    # print inspect.stack()"
   ]
  },
  {
   "cell_type": "code",
   "execution_count": 92,
   "metadata": {},
   "outputs": [
    {
     "name": "stdout",
     "output_type": "stream",
     "text": [
      "<class 'ZeroDivisionError'> : division by zero\n"
     ]
    }
   ],
   "source": [
    "import sys\n",
    "try:\n",
    "    1/0\n",
    "except:\n",
    "    tp,val,td = sys.exc_info()\n",
    "    print(tp,\":\",val)"
   ]
  }
 ],
 "metadata": {
  "kernelspec": {
   "display_name": "Python 3",
   "language": "python",
   "name": "python3"
  },
  "language_info": {
   "codemirror_mode": {
    "name": "ipython",
    "version": 3
   },
   "file_extension": ".py",
   "mimetype": "text/x-python",
   "name": "python",
   "nbconvert_exporter": "python",
   "pygments_lexer": "ipython3",
   "version": "3.7.3"
  },
  "toc": {
   "base_numbering": 1,
   "nav_menu": {},
   "number_sections": true,
   "sideBar": true,
   "skip_h1_title": false,
   "title_cell": "Table of Contents",
   "title_sidebar": "Contents",
   "toc_cell": false,
   "toc_position": {},
   "toc_section_display": true,
   "toc_window_display": false
  }
 },
 "nbformat": 4,
 "nbformat_minor": 2
}
